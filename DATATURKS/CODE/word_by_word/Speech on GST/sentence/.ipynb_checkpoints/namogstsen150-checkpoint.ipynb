{
 "cells": [
  {
   "cell_type": "code",
   "execution_count": 2,
   "metadata": {
    "scrolled": true
   },
   "outputs": [
    {
     "name": "stderr",
     "output_type": "stream",
     "text": [
      "Using TensorFlow backend.\n"
     ]
    }
   ],
   "source": [
    "from numpy import array\n",
    "from keras.preprocessing.text import Tokenizer\n",
    "from keras.utils import to_categorical\n",
    "from keras.preprocessing.sequence import pad_sequences\n",
    "from keras.models import Sequential\n",
    "from keras.layers import Dense\n",
    "from keras.layers import LSTM\n",
    "from keras.layers import Embedding"
   ]
  },
  {
   "cell_type": "code",
   "execution_count": 3,
   "metadata": {
    "collapsed": true
   },
   "outputs": [],
   "source": [
    "# generate a sequence from a language model\n",
    "def generate_seq(model, tokenizer, max_length, seed_text, n_words):\n",
    "\tin_text = seed_text\n",
    "\t# generate a fixed number of words\n",
    "\tfor _ in range(n_words):\n",
    "\t\t# encode the text as integer\n",
    "\t\tencoded = tokenizer.texts_to_sequences([in_text])[0]\n",
    "\t\t# pre-pad sequences to a fixed length\n",
    "\t\tencoded = pad_sequences([encoded], maxlen=max_length, padding='pre')\n",
    "\t\t# predict probabilities for each word\n",
    "\t\tyhat = model.predict_classes(encoded, verbose=0)\n",
    "\t\t# map predicted word index to word\n",
    "\t\tout_word = ''\n",
    "\t\tfor word, index in tokenizer.word_index.items():\n",
    "\t\t\tif index == yhat:\n",
    "\t\t\t\tout_word = word\n",
    "\t\t\t\tbreak\n",
    "\t\t# append to input\n",
    "\t\tin_text += ' ' + out_word\n",
    "\treturn in_text"
   ]
  },
  {
   "cell_type": "code",
   "execution_count": 4,
   "metadata": {},
   "outputs": [
    {
     "name": "stdout",
     "output_type": "stream",
     "text": [
      "['New Delhi:  Honourable President, Respected Vice President, Madam Speaker of Lok Sabha, our Former Prime Minister Shri Devegowdaji, Members of the Council of Ministers, all the other members of the House, and the esteemed conglomerate gathered here representing diverse sectors.\\n', '\\n', 'In the process of nation building, we often arrive at a moment which leads us to a path breaking juncture and opens up a plethora of opportunities imploring us to aspire for new dreams. At the stroke of the midnight hour today, together we shall ensure a pioneering future of the nation.\\n', '\\n', 'Within a few moments from now, our nation will embark upon a new economic regime. The entire 1.25 billion citizens of the country are a witness to this historical event. I do not believe that this process of GST is restricted to the scope of economy only. This momentous occasion stands today as a testimony to the concept of Co-operative Federalism in Indian Democracy. This hallmark day was possible due to the relentless efforts put in over decades by several stalwarts under whose guidance various teams developed this GST framework.\\n', '\\n', 'It is overwhelming to see you all spare your valuable time to attend this auspicious occasion. I extend my heartfelt welcome and express my sincere gratitude to all of you for your august presence today.\\n', '\\n', 'This path that we have tread upon, the direction that we have selected, the system that we have developed has not seen the light of the day because of just one team, or one government. This is a shared heritage. The combined efforts of all led us to this accomplishment. And here we are, unified, heralding the red letter day at 12 AM in this Central Hall.\\n', '\\n', \"This is the same place which has been blessed by the footprints of many great national leaders. We are honoured to be sitting in the same sanctum. Let us reminisce the 9th of December, 1946 when this same Central Hall witnessed the first meeting to discuss the country's Constitution. Today we share the same place of pride. The front seats of this hall were ordained by the iconic national heroes like Pandit Jawaharlal Nehru, Maulana Abul Kalam Azad, Sardar Vallabh Bhai Patel, Baba Saheb Bhimrao Ambedkar, Acharya Kripalani, Dr. Rajendra Prasad, Sarojini Naidu.\\n\", '\\n', 'The same House which once on 14 August, 1947, at the stroke of the midnight hour, witnessed the most pious moment of the nation attaining freedom! On 26th November, 1949, this House stands as a testimony to the historical event when the Constitution was accepted by the nation.\\n', '\\n', \"Several years later, this House shall once again go down in the annals of history as there couldn't have been a more anointed venue than this for the launch of one of the biggest strength of Federal structure, the GST Reform.\\n\", '\\n', 'Between many a great debates, agreements and disagreements, chalking a new path, adopting the middle path when they would go astray, was born the Indian Constitution! It was an outcome of deliberations which lasted two years, eleven months and seventeen days when people from every part of the country participated in the brainstorming. In a similar way, GST has been the result of a long drawn premeditated mentation of several years equally supported by State Governments. There have been continuous discussions with Former Ministers and the best brains of the country have helped realise GST.\\n', '\\n', 'When the Constitution was framed, it introduced a framework of equal opportunity and rights for all. Very importantly, GST also intends to bring in economic reforms. It is a great example of Co-operative Federalism which shall facilitate inclusive growth of the nation.\\n', '\\n', 'With the launch of GST, Team India has proven its potential and diligence. This GST Council has developed such systems wherein the underprivileged gets all the promised facilities. The people connected with GST have gone beyond politics and unanimously contributed to ensure welfare of the poor class. Arun ji has acknowledged the contribution of all of them who walked the talk along with the government. My hearty congratulations to all who led this movement towards this milestone!\\n', '\\n', 'All states are slated to gain immensely as they shall now get equal opportunities of development.\\n', '\\n', 'GST is in a way is like our railways with state and Centre playing equal role in its operations. While it receives regional support at the state level, yet it is representative of the \"Indian Railways\". The Central Service officers are deputed all over the states and they align the state with the vision of the Centre.\\n', '\\n', 'GST is the first of its kind system in the country when both Centre and State shall be putting consolidated efforts in the same direction. We shall be proud of this wonderful system for generations to come as GST is a landmark achievement which is bound to take the nation towards exponential growth.\\n', '\\n', 'Today, GST Council had its 18th meeting and GST would be implemented in a short while from now. Incidentally, the Holy book Gita also has 18 chapters and today we are moving forward successfully. It has been a long process. There was hard work as also certain apprehensions. The states had questions in mind. But with diligence and hard work we can accomplish a task.\\n', '\\n', 'Chanakya had said that\\n', ' \\n', 'chanakya\\n', '\\n', \"Chanakya's words summarize the whole GST process. Even if something is very difficult to be achieved, one can obtain it with penance and hard work. Can we imagine, when we became independent there were more than 500 Princely states. If it was not for Sardar Vallabh Bhai Patel to integrate these Princely states, what would have been the political map of India today? Just as Sardar Vallabh Bhai Patel unified India by helping several princely states subsume into a common entity, the GST will bring economic unification. If we take into consideration the 29 states, the 7 Union Territories, the 7 taxes of the Centre and the 8 taxes of the states, and several different taxes for different commodities, the number of taxes sum up to a figure of 500! Today all those taxes will be shred off to have ONE NATION, ONE TAX right from Ganganagar to Itanagar and from Leh to Lakshadweep.\\n\", '\\n', 'Once Albert Einstein, an eminent scientist had said that the most complex thing to understand in this world is Income tax. I was wondering if he was present here then how he would have reacted looking at the plethora of taxes. And we have seen that usually there is not much of a difference in the quantity of production. But when the product goes out, we can see the inequality due to different tax regimes of different states. The same product will have different prices in, say Delhi , Gurugram and Noida which are 25-30 kilometres apart. This is because Haryana , Delhi and Uttar Pradesh have different tax regimes. As a result of these variations, a citizen wonders that - if I go to Gurugram I get the product at one price, if I go to Delhi I get the same product for a different price and if I go to Noida I get it for yet another price.\\n', '\\n', \"There was confusion in everybody's mind. The foreign investors used to be confused about different systems in different states. Today we are moving ahead to get rid of that situation. Arun Ji has vividly explained that once GST is in place, all sorts of taxes like sales tax, VAT etc. will cease to exist. Long wait by vehicles at toll plazas will end. Fuels worth crores of rupees are wasted. And that causes damage to the environment as well. Now we will be free from of all those troubles as the entire country will have a similar tax structure. Sometimes certain items, especially the perishable ones that were supposed to reach their destination in time, were delayed because of the time taken for processing; and it resulted in losses at both ends. Today we are getting rid of all that. The country is moving a step forward towards a modern taxation system. This is a system that is simpler, more transparent. It will help us curbing black money and corruption and reward honesty. It will generate interest and enthusiasm to do business honestly. It will bring in a new culture of governance. We have all lived tax terrorism and inspector raj. Today, due to the transparency of GST, due to technologically proven trial, grey areas are ending. GST has an inherent strength of eliminating the possibility of ordinary businessmen being harassed by the officers. Traders with a turnover up to Rs. 20 lakh are totally exempt from this. Traders with a turnover up to Rs. 75 lakh are also having many exemptions.\\n\", '\\n', 'This is true that few arrangements have been done for this new system but those arrangements are at basic level and the common man will not be burdened with the new system.\\n', '\\n', \"Friends, GST is not limited to the technicalities of the term. In fact, the system is for the welfare of the poor. Even after 70 years of independence, we have not been able to deliver to the poor. It's not that efforts were not made. Every government has made tremendous efforts in this direction. But somewhere the limited resources became a hurdle in the fulfillment of the needs of our country's poor.\\n\", '\\n', 'As we expand horizontally, we need to ensure vertical growth as well. The work in that direction will become easier. And I believe that small traders will definitely cooperate and allow the transfer of the benefits to the poor so that the poor is benefitted.\\n', '\\n', 'Sometimes we are apprehensive about starting anything new, whether it will work out or not. For example when for the first time class 10th and 12th results went online, the system hung. The next day the focus of the news was this very issue. Even today we hear about such issues.\\n', '\\n', 'It is true that everyone is not tech-savvy. However, if any household has a class 10th-12th student, he would definitely know about technology. GST is so simple that a class 12 student can help merchants file returns.\\n', '\\n', \"I request those who have fears to dismiss them. You get your eye check-up done by your regular doctor. He gives you power for your eyes. You get the spectacles made. When you get those spectacles, it takes 2-3 days to get adjusted. The crux of the story is that even then the eyes need to adjust to new spectacles. Similarly, if we try to adjust to the new system we will definitely be able to integrate ourselves with it. It is time to stop the rumour bazaar. It is a time we concentrated on the development and for the betterment of this country. Let the GST be carried forward till the point it has positive impact on the world's economy.\\n\", '\\n', \"GST is a system that ends the imbalances in the country's trade. It also boosts the exports of the country. This system not only provides impetus to already developed states but also provides the opportunity to the backward states to develop. Our states are enriched with natural resources - look at Bihar, eastern UP, West Bengal, the north east, Odisha. They are all brimming with natural resources. When they will get a single tax regime I can see clearly that whatever deficiency is there those will be removed and this art of the country will move ahead. All the states of India will get equal opportunity for development. GST is like our Railways. Railway is run by the Centre and the states together. Yet we look at it as Indian Railways. The officers of central services are posted both at the Centre and in the states yet they work in unison for India. Under GST, for the first time, the central and the state governments will work together towards the same direction. This is an example of - 'Ek Bharat Sreshtha Bharat'. Its impact will be appreciated by the forthcoming generations with a great pride.\\n\", '\\n', 'In 2022, India will celebrate the Diamond Jubilee year of achieving Freedom. We have embarked upon a journey to create a New India. The New India which is the dream of our 1.25 billions Indians!\\n', '\\n', 'Therefore Ladies and Gentlemen, GST shall play a key role in helping us build the India of our dreams. The last verse of Lokmanya Tilak\\'s \"Gita Rahsaya\" ideally encapsulates the essence of the way the GST team has strived to achieve it.\\n', '\\n', 'The verse from the Rigveda continues to inspire us till today. It says\\n', ' \\n', 'rigveda\\n', '\\n', 'It means that we all must have similar resolution, decision and emotion, our hearts should be on the same plane, so that everyone supports and collaborates towards same accomplishments.\\n', '\\n', 'GST is the path breaking legislation for New India. A revolutionary taxation system for the digital India.\\n', '\\n', 'GST is the taxation system of New India; of the Digital India. It is not merely Ease of doing Business. It is demonstrating Way of doing business. GST is not just a tax reform, but it is a landmark step towards economic reforms. Beyond the taxation revamp, it is also paving the way towards social reforms. It is a vouchment for corruption free taxation system. In legal parlance GST may be known as Goods and Services Tax. But the benefits of GST will positively ensure it to be \"Good and Simple Tax\" for the citizens of India. Good because it liberates us from layers of taxation, Simple because it is uniformly implemented pan India. There will be \"one nation, one tax\" and tax system shall be executed in a standard manner in all the states. I am sure that we all will be able to take it forward in a unified manner.\\n', '\\n', '3\\n', 'Comments\\n', 'On this momentous occasion, I wish to acknowledge the role of the Honourable President who anchored the project concomitantly. He has astutely engaged himself at every stage of the designing of this taxation reform and steered the team with his invaluable contribution towards this historical day. His inspiration kept everyone enthused throughout the journey. I am deeply indebted to him for his guidance and his august presence during the launch event of GST. With new vigour and fervour we shall take the nation towards exemplary economic development.\\n', '\\n', 'With these feelings, I once again extend my gratefulness to all who were a part of this initiative and request the Honourable President to guide us further from here.\\n', '\\n']\n"
     ]
    }
   ],
   "source": [
    "import nltk \n",
    "a = open(\"NAMO_gst.txt\",encoding = \"ISO-8859-1\")\n",
    "wtext = a.readlines()  ##all text in the textfile\n",
    "print(wtext)"
   ]
  },
  {
   "cell_type": "code",
   "execution_count": 5,
   "metadata": {},
   "outputs": [
    {
     "name": "stdout",
     "output_type": "stream",
     "text": [
      "['New Delhi:  Honourable President, Respected Vice President, Madam Speaker of Lok Sabha, our Former Prime Minister Shri Devegowdaji, Members of the Council of Ministers, all the other members of the House, and the esteemed conglomerate gathered here representing diverse sectors.\\n', 'In the process of nation building, we often arrive at a moment which leads us to a path breaking juncture and opens up a plethora of opportunities imploring us to aspire for new dreams. At the stroke of the midnight hour today, together we shall ensure a pioneering future of the nation.\\n', 'Within a few moments from now, our nation will embark upon a new economic regime. The entire 1.25 billion citizens of the country are a witness to this historical event. I do not believe that this process of GST is restricted to the scope of economy only. This momentous occasion stands today as a testimony to the concept of Co-operative Federalism in Indian Democracy. This hallmark day was possible due to the relentless efforts put in over decades by several stalwarts under whose guidance various teams developed this GST framework.\\n', 'It is overwhelming to see you all spare your valuable time to attend this auspicious occasion. I extend my heartfelt welcome and express my sincere gratitude to all of you for your august presence today.\\n', 'This path that we have tread upon, the direction that we have selected, the system that we have developed has not seen the light of the day because of just one team, or one government. This is a shared heritage. The combined efforts of all led us to this accomplishment. And here we are, unified, heralding the red letter day at 12 AM in this Central Hall.\\n', \"This is the same place which has been blessed by the footprints of many great national leaders. We are honoured to be sitting in the same sanctum. Let us reminisce the 9th of December, 1946 when this same Central Hall witnessed the first meeting to discuss the country's Constitution. Today we share the same place of pride. The front seats of this hall were ordained by the iconic national heroes like Pandit Jawaharlal Nehru, Maulana Abul Kalam Azad, Sardar Vallabh Bhai Patel, Baba Saheb Bhimrao Ambedkar, Acharya Kripalani, Dr. Rajendra Prasad, Sarojini Naidu.\\n\", 'The same House which once on 14 August, 1947, at the stroke of the midnight hour, witnessed the most pious moment of the nation attaining freedom! On 26th November, 1949, this House stands as a testimony to the historical event when the Constitution was accepted by the nation.\\n', \"Several years later, this House shall once again go down in the annals of history as there couldn't have been a more anointed venue than this for the launch of one of the biggest strength of Federal structure, the GST Reform.\\n\", 'Between many a great debates, agreements and disagreements, chalking a new path, adopting the middle path when they would go astray, was born the Indian Constitution! It was an outcome of deliberations which lasted two years, eleven months and seventeen days when people from every part of the country participated in the brainstorming. In a similar way, GST has been the result of a long drawn premeditated mentation of several years equally supported by State Governments. There have been continuous discussions with Former Ministers and the best brains of the country have helped realise GST.\\n', 'When the Constitution was framed, it introduced a framework of equal opportunity and rights for all. Very importantly, GST also intends to bring in economic reforms. It is a great example of Co-operative Federalism which shall facilitate inclusive growth of the nation.\\n', 'With the launch of GST, Team India has proven its potential and diligence. This GST Council has developed such systems wherein the underprivileged gets all the promised facilities. The people connected with GST have gone beyond politics and unanimously contributed to ensure welfare of the poor class. Arun ji has acknowledged the contribution of all of them who walked the talk along with the government. My hearty congratulations to all who led this movement towards this milestone!\\n', 'All states are slated to gain immensely as they shall now get equal opportunities of development.\\n', 'GST is in a way is like our railways with state and Centre playing equal role in its operations. While it receives regional support at the state level, yet it is representative of the \"Indian Railways\". The Central Service officers are deputed all over the states and they align the state with the vision of the Centre.\\n', 'GST is the first of its kind system in the country when both Centre and State shall be putting consolidated efforts in the same direction. We shall be proud of this wonderful system for generations to come as GST is a landmark achievement which is bound to take the nation towards exponential growth.\\n', 'Today, GST Council had its 18th meeting and GST would be implemented in a short while from now. Incidentally, the Holy book Gita also has 18 chapters and today we are moving forward successfully. It has been a long process. There was hard work as also certain apprehensions. The states had questions in mind. But with diligence and hard work we can accomplish a task.\\n', 'Chanakya had said that\\n', ' \\n', 'chanakya\\n', \"Chanakya's words summarize the whole GST process. Even if something is very difficult to be achieved, one can obtain it with penance and hard work. Can we imagine, when we became independent there were more than 500 Princely states. If it was not for Sardar Vallabh Bhai Patel to integrate these Princely states, what would have been the political map of India today? Just as Sardar Vallabh Bhai Patel unified India by helping several princely states subsume into a common entity, the GST will bring economic unification. If we take into consideration the 29 states, the 7 Union Territories, the 7 taxes of the Centre and the 8 taxes of the states, and several different taxes for different commodities, the number of taxes sum up to a figure of 500! Today all those taxes will be shred off to have ONE NATION, ONE TAX right from Ganganagar to Itanagar and from Leh to Lakshadweep.\\n\", 'Once Albert Einstein, an eminent scientist had said that the most complex thing to understand in this world is Income tax. I was wondering if he was present here then how he would have reacted looking at the plethora of taxes. And we have seen that usually there is not much of a difference in the quantity of production. But when the product goes out, we can see the inequality due to different tax regimes of different states. The same product will have different prices in, say Delhi , Gurugram and Noida which are 25-30 kilometres apart. This is because Haryana , Delhi and Uttar Pradesh have different tax regimes. As a result of these variations, a citizen wonders that - if I go to Gurugram I get the product at one price, if I go to Delhi I get the same product for a different price and if I go to Noida I get it for yet another price.\\n', \"There was confusion in everybody's mind. The foreign investors used to be confused about different systems in different states. Today we are moving ahead to get rid of that situation. Arun Ji has vividly explained that once GST is in place, all sorts of taxes like sales tax, VAT etc. will cease to exist. Long wait by vehicles at toll plazas will end. Fuels worth crores of rupees are wasted. And that causes damage to the environment as well. Now we will be free from of all those troubles as the entire country will have a similar tax structure. Sometimes certain items, especially the perishable ones that were supposed to reach their destination in time, were delayed because of the time taken for processing; and it resulted in losses at both ends. Today we are getting rid of all that. The country is moving a step forward towards a modern taxation system. This is a system that is simpler, more transparent. It will help us curbing black money and corruption and reward honesty. It will generate interest and enthusiasm to do business honestly. It will bring in a new culture of governance. We have all lived tax terrorism and inspector raj. Today, due to the transparency of GST, due to technologically proven trial, grey areas are ending. GST has an inherent strength of eliminating the possibility of ordinary businessmen being harassed by the officers. Traders with a turnover up to Rs. 20 lakh are totally exempt from this. Traders with a turnover up to Rs. 75 lakh are also having many exemptions.\\n\", 'This is true that few arrangements have been done for this new system but those arrangements are at basic level and the common man will not be burdened with the new system.\\n', \"Friends, GST is not limited to the technicalities of the term. In fact, the system is for the welfare of the poor. Even after 70 years of independence, we have not been able to deliver to the poor. It's not that efforts were not made. Every government has made tremendous efforts in this direction. But somewhere the limited resources became a hurdle in the fulfillment of the needs of our country's poor.\\n\", 'As we expand horizontally, we need to ensure vertical growth as well. The work in that direction will become easier. And I believe that small traders will definitely cooperate and allow the transfer of the benefits to the poor so that the poor is benefitted.\\n', 'Sometimes we are apprehensive about starting anything new, whether it will work out or not. For example when for the first time class 10th and 12th results went online, the system hung. The next day the focus of the news was this very issue. Even today we hear about such issues.\\n', 'It is true that everyone is not tech-savvy. However, if any household has a class 10th-12th student, he would definitely know about technology. GST is so simple that a class 12 student can help merchants file returns.\\n', \"I request those who have fears to dismiss them. You get your eye check-up done by your regular doctor. He gives you power for your eyes. You get the spectacles made. When you get those spectacles, it takes 2-3 days to get adjusted. The crux of the story is that even then the eyes need to adjust to new spectacles. Similarly, if we try to adjust to the new system we will definitely be able to integrate ourselves with it. It is time to stop the rumour bazaar. It is a time we concentrated on the development and for the betterment of this country. Let the GST be carried forward till the point it has positive impact on the world's economy.\\n\", \"GST is a system that ends the imbalances in the country's trade. It also boosts the exports of the country. This system not only provides impetus to already developed states but also provides the opportunity to the backward states to develop. Our states are enriched with natural resources - look at Bihar, eastern UP, West Bengal, the north east, Odisha. They are all brimming with natural resources. When they will get a single tax regime I can see clearly that whatever deficiency is there those will be removed and this art of the country will move ahead. All the states of India will get equal opportunity for development. GST is like our Railways. Railway is run by the Centre and the states together. Yet we look at it as Indian Railways. The officers of central services are posted both at the Centre and in the states yet they work in unison for India. Under GST, for the first time, the central and the state governments will work together towards the same direction. This is an example of - 'Ek Bharat Sreshtha Bharat'. Its impact will be appreciated by the forthcoming generations with a great pride.\\n\", 'In 2022, India will celebrate the Diamond Jubilee year of achieving Freedom. We have embarked upon a journey to create a New India. The New India which is the dream of our 1.25 billions Indians!\\n', 'Therefore Ladies and Gentlemen, GST shall play a key role in helping us build the India of our dreams. The last verse of Lokmanya Tilak\\'s \"Gita Rahsaya\" ideally encapsulates the essence of the way the GST team has strived to achieve it.\\n', 'The verse from the Rigveda continues to inspire us till today. It says\\n', ' \\n', 'rigveda\\n', 'It means that we all must have similar resolution, decision and emotion, our hearts should be on the same plane, so that everyone supports and collaborates towards same accomplishments.\\n', 'GST is the path breaking legislation for New India. A revolutionary taxation system for the digital India.\\n', 'GST is the taxation system of New India; of the Digital India. It is not merely Ease of doing Business. It is demonstrating Way of doing business. GST is not just a tax reform, but it is a landmark step towards economic reforms. Beyond the taxation revamp, it is also paving the way towards social reforms. It is a vouchment for corruption free taxation system. In legal parlance GST may be known as Goods and Services Tax. But the benefits of GST will positively ensure it to be \"Good and Simple Tax\" for the citizens of India. Good because it liberates us from layers of taxation, Simple because it is uniformly implemented pan India. There will be \"one nation, one tax\" and tax system shall be executed in a standard manner in all the states. I am sure that we all will be able to take it forward in a unified manner.\\n', '3\\n', 'Comments\\n', 'On this momentous occasion, I wish to acknowledge the role of the Honourable President who anchored the project concomitantly. He has astutely engaged himself at every stage of the designing of this taxation reform and steered the team with his invaluable contribution towards this historical day. His inspiration kept everyone enthused throughout the journey. I am deeply indebted to him for his guidance and his august presence during the launch event of GST. With new vigour and fervour we shall take the nation towards exemplary economic development.\\n', 'With these feelings, I once again extend my gratefulness to all who were a part of this initiative and request the Honourable President to guide us further from here.\\n']\n"
     ]
    }
   ],
   "source": [
    "while '\\n' in wtext:\n",
    "    wtext.remove('\\n')\n",
    "print(wtext)"
   ]
  },
  {
   "cell_type": "code",
   "execution_count": 6,
   "metadata": {
    "scrolled": true
   },
   "outputs": [
    {
     "name": "stdout",
     "output_type": "stream",
     "text": [
      "['New Delhi:  Honourable President, Respected Vice President, Madam Speaker of Lok Sabha, our Former Prime Minister Shri Devegowdaji, Members of the Council of Ministers, all the other members of the House, and the esteemed conglomerate gathered here representing diverse sectors.', 'In the process of nation building, we often arrive at a moment which leads us to a path breaking juncture and opens up a plethora of opportunities imploring us to aspire for new dreams. At the stroke of the midnight hour today, together we shall ensure a pioneering future of the nation.', 'Within a few moments from now, our nation will embark upon a new economic regime. The entire 1.25 billion citizens of the country are a witness to this historical event. I do not believe that this process of GST is restricted to the scope of economy only. This momentous occasion stands today as a testimony to the concept of Co-operative Federalism in Indian Democracy. This hallmark day was possible due to the relentless efforts put in over decades by several stalwarts under whose guidance various teams developed this GST framework.', 'It is overwhelming to see you all spare your valuable time to attend this auspicious occasion. I extend my heartfelt welcome and express my sincere gratitude to all of you for your august presence today.', 'This path that we have tread upon, the direction that we have selected, the system that we have developed has not seen the light of the day because of just one team, or one government. This is a shared heritage. The combined efforts of all led us to this accomplishment. And here we are, unified, heralding the red letter day at 12 AM in this Central Hall.', \"This is the same place which has been blessed by the footprints of many great national leaders. We are honoured to be sitting in the same sanctum. Let us reminisce the 9th of December, 1946 when this same Central Hall witnessed the first meeting to discuss the country's Constitution. Today we share the same place of pride. The front seats of this hall were ordained by the iconic national heroes like Pandit Jawaharlal Nehru, Maulana Abul Kalam Azad, Sardar Vallabh Bhai Patel, Baba Saheb Bhimrao Ambedkar, Acharya Kripalani, Dr. Rajendra Prasad, Sarojini Naidu.\", 'The same House which once on 14 August, 1947, at the stroke of the midnight hour, witnessed the most pious moment of the nation attaining freedom! On 26th November, 1949, this House stands as a testimony to the historical event when the Constitution was accepted by the nation.', \"Several years later, this House shall once again go down in the annals of history as there couldn't have been a more anointed venue than this for the launch of one of the biggest strength of Federal structure, the GST Reform.\", 'Between many a great debates, agreements and disagreements, chalking a new path, adopting the middle path when they would go astray, was born the Indian Constitution! It was an outcome of deliberations which lasted two years, eleven months and seventeen days when people from every part of the country participated in the brainstorming. In a similar way, GST has been the result of a long drawn premeditated mentation of several years equally supported by State Governments. There have been continuous discussions with Former Ministers and the best brains of the country have helped realise GST.', 'When the Constitution was framed, it introduced a framework of equal opportunity and rights for all. Very importantly, GST also intends to bring in economic reforms. It is a great example of Co-operative Federalism which shall facilitate inclusive growth of the nation.', 'With the launch of GST, Team India has proven its potential and diligence. This GST Council has developed such systems wherein the underprivileged gets all the promised facilities. The people connected with GST have gone beyond politics and unanimously contributed to ensure welfare of the poor class. Arun ji has acknowledged the contribution of all of them who walked the talk along with the government. My hearty congratulations to all who led this movement towards this milestone!', 'All states are slated to gain immensely as they shall now get equal opportunities of development.', 'GST is in a way is like our railways with state and Centre playing equal role in its operations. While it receives regional support at the state level, yet it is representative of the \"Indian Railways\". The Central Service officers are deputed all over the states and they align the state with the vision of the Centre.', 'GST is the first of its kind system in the country when both Centre and State shall be putting consolidated efforts in the same direction. We shall be proud of this wonderful system for generations to come as GST is a landmark achievement which is bound to take the nation towards exponential growth.', 'Today, GST Council had its 18th meeting and GST would be implemented in a short while from now. Incidentally, the Holy book Gita also has 18 chapters and today we are moving forward successfully. It has been a long process. There was hard work as also certain apprehensions. The states had questions in mind. But with diligence and hard work we can accomplish a task.', 'Chanakya had said that', ' ', 'chanakya', \"Chanakya's words summarize the whole GST process. Even if something is very difficult to be achieved, one can obtain it with penance and hard work. Can we imagine, when we became independent there were more than 500 Princely states. If it was not for Sardar Vallabh Bhai Patel to integrate these Princely states, what would have been the political map of India today? Just as Sardar Vallabh Bhai Patel unified India by helping several princely states subsume into a common entity, the GST will bring economic unification. If we take into consideration the 29 states, the 7 Union Territories, the 7 taxes of the Centre and the 8 taxes of the states, and several different taxes for different commodities, the number of taxes sum up to a figure of 500! Today all those taxes will be shred off to have ONE NATION, ONE TAX right from Ganganagar to Itanagar and from Leh to Lakshadweep.\", 'Once Albert Einstein, an eminent scientist had said that the most complex thing to understand in this world is Income tax. I was wondering if he was present here then how he would have reacted looking at the plethora of taxes. And we have seen that usually there is not much of a difference in the quantity of production. But when the product goes out, we can see the inequality due to different tax regimes of different states. The same product will have different prices in, say Delhi , Gurugram and Noida which are 25-30 kilometres apart. This is because Haryana , Delhi and Uttar Pradesh have different tax regimes. As a result of these variations, a citizen wonders that - if I go to Gurugram I get the product at one price, if I go to Delhi I get the same product for a different price and if I go to Noida I get it for yet another price.', \"There was confusion in everybody's mind. The foreign investors used to be confused about different systems in different states. Today we are moving ahead to get rid of that situation. Arun Ji has vividly explained that once GST is in place, all sorts of taxes like sales tax, VAT etc. will cease to exist. Long wait by vehicles at toll plazas will end. Fuels worth crores of rupees are wasted. And that causes damage to the environment as well. Now we will be free from of all those troubles as the entire country will have a similar tax structure. Sometimes certain items, especially the perishable ones that were supposed to reach their destination in time, were delayed because of the time taken for processing; and it resulted in losses at both ends. Today we are getting rid of all that. The country is moving a step forward towards a modern taxation system. This is a system that is simpler, more transparent. It will help us curbing black money and corruption and reward honesty. It will generate interest and enthusiasm to do business honestly. It will bring in a new culture of governance. We have all lived tax terrorism and inspector raj. Today, due to the transparency of GST, due to technologically proven trial, grey areas are ending. GST has an inherent strength of eliminating the possibility of ordinary businessmen being harassed by the officers. Traders with a turnover up to Rs. 20 lakh are totally exempt from this. Traders with a turnover up to Rs. 75 lakh are also having many exemptions.\", 'This is true that few arrangements have been done for this new system but those arrangements are at basic level and the common man will not be burdened with the new system.', \"Friends, GST is not limited to the technicalities of the term. In fact, the system is for the welfare of the poor. Even after 70 years of independence, we have not been able to deliver to the poor. It's not that efforts were not made. Every government has made tremendous efforts in this direction. But somewhere the limited resources became a hurdle in the fulfillment of the needs of our country's poor.\", 'As we expand horizontally, we need to ensure vertical growth as well. The work in that direction will become easier. And I believe that small traders will definitely cooperate and allow the transfer of the benefits to the poor so that the poor is benefitted.', 'Sometimes we are apprehensive about starting anything new, whether it will work out or not. For example when for the first time class 10th and 12th results went online, the system hung. The next day the focus of the news was this very issue. Even today we hear about such issues.', 'It is true that everyone is not tech-savvy. However, if any household has a class 10th-12th student, he would definitely know about technology. GST is so simple that a class 12 student can help merchants file returns.', \"I request those who have fears to dismiss them. You get your eye check-up done by your regular doctor. He gives you power for your eyes. You get the spectacles made. When you get those spectacles, it takes 2-3 days to get adjusted. The crux of the story is that even then the eyes need to adjust to new spectacles. Similarly, if we try to adjust to the new system we will definitely be able to integrate ourselves with it. It is time to stop the rumour bazaar. It is a time we concentrated on the development and for the betterment of this country. Let the GST be carried forward till the point it has positive impact on the world's economy.\", \"GST is a system that ends the imbalances in the country's trade. It also boosts the exports of the country. This system not only provides impetus to already developed states but also provides the opportunity to the backward states to develop. Our states are enriched with natural resources - look at Bihar, eastern UP, West Bengal, the north east, Odisha. They are all brimming with natural resources. When they will get a single tax regime I can see clearly that whatever deficiency is there those will be removed and this art of the country will move ahead. All the states of India will get equal opportunity for development. GST is like our Railways. Railway is run by the Centre and the states together. Yet we look at it as Indian Railways. The officers of central services are posted both at the Centre and in the states yet they work in unison for India. Under GST, for the first time, the central and the state governments will work together towards the same direction. This is an example of - 'Ek Bharat Sreshtha Bharat'. Its impact will be appreciated by the forthcoming generations with a great pride.\", 'In 2022, India will celebrate the Diamond Jubilee year of achieving Freedom. We have embarked upon a journey to create a New India. The New India which is the dream of our 1.25 billions Indians!', 'Therefore Ladies and Gentlemen, GST shall play a key role in helping us build the India of our dreams. The last verse of Lokmanya Tilak\\'s \"Gita Rahsaya\" ideally encapsulates the essence of the way the GST team has strived to achieve it.', 'The verse from the Rigveda continues to inspire us till today. It says', ' ', 'rigveda', 'It means that we all must have similar resolution, decision and emotion, our hearts should be on the same plane, so that everyone supports and collaborates towards same accomplishments.', 'GST is the path breaking legislation for New India. A revolutionary taxation system for the digital India.', 'GST is the taxation system of New India; of the Digital India. It is not merely Ease of doing Business. It is demonstrating Way of doing business. GST is not just a tax reform, but it is a landmark step towards economic reforms. Beyond the taxation revamp, it is also paving the way towards social reforms. It is a vouchment for corruption free taxation system. In legal parlance GST may be known as Goods and Services Tax. But the benefits of GST will positively ensure it to be \"Good and Simple Tax\" for the citizens of India. Good because it liberates us from layers of taxation, Simple because it is uniformly implemented pan India. There will be \"one nation, one tax\" and tax system shall be executed in a standard manner in all the states. I am sure that we all will be able to take it forward in a unified manner.', '3', 'Comments', 'On this momentous occasion, I wish to acknowledge the role of the Honourable President who anchored the project concomitantly. He has astutely engaged himself at every stage of the designing of this taxation reform and steered the team with his invaluable contribution towards this historical day. His inspiration kept everyone enthused throughout the journey. I am deeply indebted to him for his guidance and his august presence during the launch event of GST. With new vigour and fervour we shall take the nation towards exemplary economic development.', 'With these feelings, I once again extend my gratefulness to all who were a part of this initiative and request the Honourable President to guide us further from here.']\n"
     ]
    }
   ],
   "source": [
    "for i in wtext:\n",
    "    j=i.strip('\\n')\n",
    "    wtext[wtext.index(i)] = j\n",
    "print(wtext)"
   ]
  },
  {
   "cell_type": "code",
   "execution_count": 7,
   "metadata": {},
   "outputs": [
    {
     "name": "stdout",
     "output_type": "stream",
     "text": [
      " New Delhi:  Honourable President, Respected Vice President, Madam Speaker of Lok Sabha, our Former Prime Minister Shri Devegowdaji, Members of the Council of Ministers, all the other members of the House, and the esteemed conglomerate gathered here representing diverse sectors. In the process of nation building, we often arrive at a moment which leads us to a path breaking juncture and opens up a plethora of opportunities imploring us to aspire for new dreams. At the stroke of the midnight hour today, together we shall ensure a pioneering future of the nation. Within a few moments from now, our nation will embark upon a new economic regime. The entire 1.25 billion citizens of the country are a witness to this historical event. I do not believe that this process of GST is restricted to the scope of economy only. This momentous occasion stands today as a testimony to the concept of Co-operative Federalism in Indian Democracy. This hallmark day was possible due to the relentless efforts put in over decades by several stalwarts under whose guidance various teams developed this GST framework. It is overwhelming to see you all spare your valuable time to attend this auspicious occasion. I extend my heartfelt welcome and express my sincere gratitude to all of you for your august presence today. This path that we have tread upon, the direction that we have selected, the system that we have developed has not seen the light of the day because of just one team, or one government. This is a shared heritage. The combined efforts of all led us to this accomplishment. And here we are, unified, heralding the red letter day at 12 AM in this Central Hall. This is the same place which has been blessed by the footprints of many great national leaders. We are honoured to be sitting in the same sanctum. Let us reminisce the 9th of December, 1946 when this same Central Hall witnessed the first meeting to discuss the country's Constitution. Today we share the same place of pride. The front seats of this hall were ordained by the iconic national heroes like Pandit Jawaharlal Nehru, Maulana Abul Kalam Azad, Sardar Vallabh Bhai Patel, Baba Saheb Bhimrao Ambedkar, Acharya Kripalani, Dr. Rajendra Prasad, Sarojini Naidu. The same House which once on 14 August, 1947, at the stroke of the midnight hour, witnessed the most pious moment of the nation attaining freedom! On 26th November, 1949, this House stands as a testimony to the historical event when the Constitution was accepted by the nation. Several years later, this House shall once again go down in the annals of history as there couldn't have been a more anointed venue than this for the launch of one of the biggest strength of Federal structure, the GST Reform. Between many a great debates, agreements and disagreements, chalking a new path, adopting the middle path when they would go astray, was born the Indian Constitution! It was an outcome of deliberations which lasted two years, eleven months and seventeen days when people from every part of the country participated in the brainstorming. In a similar way, GST has been the result of a long drawn premeditated mentation of several years equally supported by State Governments. There have been continuous discussions with Former Ministers and the best brains of the country have helped realise GST. When the Constitution was framed, it introduced a framework of equal opportunity and rights for all. Very importantly, GST also intends to bring in economic reforms. It is a great example of Co-operative Federalism which shall facilitate inclusive growth of the nation. With the launch of GST, Team India has proven its potential and diligence. This GST Council has developed such systems wherein the underprivileged gets all the promised facilities. The people connected with GST have gone beyond politics and unanimously contributed to ensure welfare of the poor class. Arun ji has acknowledged the contribution of all of them who walked the talk along with the government. My hearty congratulations to all who led this movement towards this milestone! All states are slated to gain immensely as they shall now get equal opportunities of development. GST is in a way is like our railways with state and Centre playing equal role in its operations. While it receives regional support at the state level, yet it is representative of the \"Indian Railways\". The Central Service officers are deputed all over the states and they align the state with the vision of the Centre. GST is the first of its kind system in the country when both Centre and State shall be putting consolidated efforts in the same direction. We shall be proud of this wonderful system for generations to come as GST is a landmark achievement which is bound to take the nation towards exponential growth. Today, GST Council had its 18th meeting and GST would be implemented in a short while from now. Incidentally, the Holy book Gita also has 18 chapters and today we are moving forward successfully. It has been a long process. There was hard work as also certain apprehensions. The states had questions in mind. But with diligence and hard work we can accomplish a task. Chanakya had said that   chanakya Chanakya's words summarize the whole GST process. Even if something is very difficult to be achieved, one can obtain it with penance and hard work. Can we imagine, when we became independent there were more than 500 Princely states. If it was not for Sardar Vallabh Bhai Patel to integrate these Princely states, what would have been the political map of India today? Just as Sardar Vallabh Bhai Patel unified India by helping several princely states subsume into a common entity, the GST will bring economic unification. If we take into consideration the 29 states, the 7 Union Territories, the 7 taxes of the Centre and the 8 taxes of the states, and several different taxes for different commodities, the number of taxes sum up to a figure of 500! Today all those taxes will be shred off to have ONE NATION, ONE TAX right from Ganganagar to Itanagar and from Leh to Lakshadweep. Once Albert Einstein, an eminent scientist had said that the most complex thing to understand in this world is Income tax. I was wondering if he was present here then how he would have reacted looking at the plethora of taxes. And we have seen that usually there is not much of a difference in the quantity of production. But when the product goes out, we can see the inequality due to different tax regimes of different states. The same product will have different prices in, say Delhi , Gurugram and Noida which are 25-30 kilometres apart. This is because Haryana , Delhi and Uttar Pradesh have different tax regimes. As a result of these variations, a citizen wonders that - if I go to Gurugram I get the product at one price, if I go to Delhi I get the same product for a different price and if I go to Noida I get it for yet another price. There was confusion in everybody's mind. The foreign investors used to be confused about different systems in different states. Today we are moving ahead to get rid of that situation. Arun Ji has vividly explained that once GST is in place, all sorts of taxes like sales tax, VAT etc. will cease to exist. Long wait by vehicles at toll plazas will end. Fuels worth crores of rupees are wasted. And that causes damage to the environment as well. Now we will be free from of all those troubles as the entire country will have a similar tax structure. Sometimes certain items, especially the perishable ones that were supposed to reach their destination in time, were delayed because of the time taken for processing; and it resulted in losses at both ends. Today we are getting rid of all that. The country is moving a step forward towards a modern taxation system. This is a system that is simpler, more transparent. It will help us curbing black money and corruption and reward honesty. It will generate interest and enthusiasm to do business honestly. It will bring in a new culture of governance. We have all lived tax terrorism and inspector raj. Today, due to the transparency of GST, due to technologically proven trial, grey areas are ending. GST has an inherent strength of eliminating the possibility of ordinary businessmen being harassed by the officers. Traders with a turnover up to Rs. 20 lakh are totally exempt from this. Traders with a turnover up to Rs. 75 lakh are also having many exemptions. This is true that few arrangements have been done for this new system but those arrangements are at basic level and the common man will not be burdened with the new system. Friends, GST is not limited to the technicalities of the term. In fact, the system is for the welfare of the poor. Even after 70 years of independence, we have not been able to deliver to the poor. It's not that efforts were not made. Every government has made tremendous efforts in this direction. But somewhere the limited resources became a hurdle in the fulfillment of the needs of our country's poor. As we expand horizontally, we need to ensure vertical growth as well. The work in that direction will become easier. And I believe that small traders will definitely cooperate and allow the transfer of the benefits to the poor so that the poor is benefitted. Sometimes we are apprehensive about starting anything new, whether it will work out or not. For example when for the first time class 10th and 12th results went online, the system hung. The next day the focus of the news was this very issue. Even today we hear about such issues. It is true that everyone is not tech-savvy. However, if any household has a class 10th-12th student, he would definitely know about technology. GST is so simple that a class 12 student can help merchants file returns. I request those who have fears to dismiss them. You get your eye check-up done by your regular doctor. He gives you power for your eyes. You get the spectacles made. When you get those spectacles, it takes 2-3 days to get adjusted. The crux of the story is that even then the eyes need to adjust to new spectacles. Similarly, if we try to adjust to the new system we will definitely be able to integrate ourselves with it. It is time to stop the rumour bazaar. It is a time we concentrated on the development and for the betterment of this country. Let the GST be carried forward till the point it has positive impact on the world's economy. GST is a system that ends the imbalances in the country's trade. It also boosts the exports of the country. This system not only provides impetus to already developed states but also provides the opportunity to the backward states to develop. Our states are enriched with natural resources - look at Bihar, eastern UP, West Bengal, the north east, Odisha. They are all brimming with natural resources. When they will get a single tax regime I can see clearly that whatever deficiency is there those will be removed and this art of the country will move ahead. All the states of India will get equal opportunity for development. GST is like our Railways. Railway is run by the Centre and the states together. Yet we look at it as Indian Railways. The officers of central services are posted both at the Centre and in the states yet they work in unison for India. Under GST, for the first time, the central and the state governments will work together towards the same direction. This is an example of - 'Ek Bharat Sreshtha Bharat'. Its impact will be appreciated by the forthcoming generations with a great pride. In 2022, India will celebrate the Diamond Jubilee year of achieving Freedom. We have embarked upon a journey to create a New India. The New India which is the dream of our 1.25 billions Indians! Therefore Ladies and Gentlemen, GST shall play a key role in helping us build the India of our dreams. The last verse of Lokmanya Tilak's \"Gita Rahsaya\" ideally encapsulates the essence of the way the GST team has strived to achieve it. The verse from the Rigveda continues to inspire us till today. It says   rigveda It means that we all must have similar resolution, decision and emotion, our hearts should be on the same plane, so that everyone supports and collaborates towards same accomplishments. GST is the path breaking legislation for New India. A revolutionary taxation system for the digital India. GST is the taxation system of New India; of the Digital India. It is not merely Ease of doing Business. It is demonstrating Way of doing business. GST is not just a tax reform, but it is a landmark step towards economic reforms. Beyond the taxation revamp, it is also paving the way towards social reforms. It is a vouchment for corruption free taxation system. In legal parlance GST may be known as Goods and Services Tax. But the benefits of GST will positively ensure it to be \"Good and Simple Tax\" for the citizens of India. Good because it liberates us from layers of taxation, Simple because it is uniformly implemented pan India. There will be \"one nation, one tax\" and tax system shall be executed in a standard manner in all the states. I am sure that we all will be able to take it forward in a unified manner. 3 Comments On this momentous occasion, I wish to acknowledge the role of the Honourable President who anchored the project concomitantly. He has astutely engaged himself at every stage of the designing of this taxation reform and steered the team with his invaluable contribution towards this historical day. His inspiration kept everyone enthused throughout the journey. I am deeply indebted to him for his guidance and his august presence during the launch event of GST. With new vigour and fervour we shall take the nation towards exemplary economic development. With these feelings, I once again extend my gratefulness to all who were a part of this initiative and request the Honourable President to guide us further from here.\n"
     ]
    }
   ],
   "source": [
    "x = \"\"\n",
    "for i in wtext:\n",
    "    x= x + \" \" + i\n",
    "print(x)"
   ]
  },
  {
   "cell_type": "code",
   "execution_count": 8,
   "metadata": {},
   "outputs": [
    {
     "name": "stdout",
     "output_type": "stream",
     "text": [
      "\n",
      "\n",
      " 2416\n",
      "\n",
      "\n",
      " [23, 81, 111, 82, 285, 286, 82, 287, 288, 2, 289, 290, 38, 163, 291, 292, 293, 294, 164, 2, 1, 112, 2, 165, 15, 1, 295, 164, 2, 1, 83, 5, 1, 296, 297, 298, 84, 299, 300, 301, 7, 1, 85, 2, 36, 302, 10, 303, 304, 26, 4, 166, 46, 305, 39, 3, 4, 65, 167, 306, 5, 307, 55, 4, 168, 2, 169, 308, 39, 3, 309, 14, 23, 170, 26, 1, 171, 2, 1, 172, 173, 29, 113, 10, 40, 86, 4, 310, 311, 2, 1, 36, 312, 4, 174, 313, 37, 87, 38, 36, 13, 314, 114, 4, 23, 66, 175, 1, 176, 177, 115, 315, 178, 2, 1, 41, 18, 4, 316, 3, 8, 116, 117, 21, 179, 27, 180, 12, 8, 85, 2, 11, 6, 317, 3, 1, 318, 2, 181, 182, 8, 183, 118, 184, 29, 28, 4, 185, 3, 1, 319, 2, 186, 187, 188, 7, 88, 320, 8, 321, 67, 31, 322, 89, 3, 1, 323, 68, 324, 7, 189, 325, 32, 69, 326, 190, 327, 191, 328, 329, 90, 8, 11, 192, 9, 6, 330, 3, 119, 56, 15, 331, 70, 332, 49, 3, 333, 8, 334, 118, 21, 193, 91, 335, 336, 5, 337, 91, 338, 339, 3, 15, 2, 56, 14, 70, 120, 194, 29, 8, 65, 12, 10, 16, 340, 114, 1, 71, 12, 10, 16, 341, 1, 22, 12, 10, 16, 90, 24, 27, 195, 1, 342, 2, 1, 67, 72, 2, 121, 42, 92, 196, 42, 122, 8, 6, 4, 343, 344, 1, 345, 68, 2, 15, 197, 39, 3, 8, 346, 5, 84, 10, 18, 123, 347, 1, 348, 349, 67, 26, 198, 124, 7, 8, 73, 125, 8, 6, 1, 33, 126, 46, 24, 47, 350, 32, 1, 351, 2, 127, 93, 199, 352, 10, 18, 353, 3, 17, 354, 7, 1, 33, 355, 200, 39, 356, 1, 357, 2, 358, 359, 34, 8, 33, 73, 125, 201, 1, 94, 202, 3, 360, 1, 128, 95, 29, 10, 361, 1, 33, 126, 2, 203, 1, 362, 363, 2, 8, 125, 57, 364, 32, 1, 365, 199, 366, 96, 367, 368, 369, 370, 371, 372, 373, 129, 130, 131, 132, 374, 375, 376, 377, 378, 379, 380, 381, 382, 383, 384, 1, 33, 83, 46, 74, 58, 385, 120, 386, 26, 1, 171, 2, 1, 172, 173, 201, 1, 204, 387, 166, 2, 1, 36, 388, 205, 58, 389, 390, 391, 8, 83, 184, 28, 4, 185, 3, 1, 116, 117, 34, 1, 95, 31, 392, 32, 1, 36, 69, 97, 393, 8, 83, 40, 74, 206, 75, 394, 7, 1, 395, 2, 396, 28, 48, 397, 16, 47, 4, 133, 398, 399, 207, 8, 14, 1, 134, 2, 42, 2, 1, 400, 208, 2, 401, 209, 1, 11, 135, 402, 127, 4, 93, 403, 404, 5, 405, 406, 4, 23, 65, 407, 1, 408, 65, 34, 59, 76, 75, 409, 31, 410, 1, 88, 95, 9, 31, 98, 411, 2, 412, 46, 413, 414, 97, 415, 416, 5, 417, 210, 34, 211, 37, 136, 212, 2, 1, 41, 418, 7, 1, 419, 7, 4, 137, 77, 11, 24, 47, 1, 213, 2, 4, 138, 420, 421, 422, 2, 69, 97, 423, 424, 32, 60, 214, 48, 16, 47, 425, 426, 19, 163, 165, 5, 1, 427, 428, 2, 1, 41, 16, 429, 430, 11, 34, 1, 95, 31, 431, 9, 432, 4, 192, 2, 99, 139, 5, 433, 14, 15, 140, 434, 11, 50, 435, 3, 141, 7, 66, 142, 9, 6, 4, 93, 143, 2, 186, 187, 188, 46, 40, 436, 437, 144, 2, 1, 36, 19, 1, 134, 2, 11, 92, 25, 24, 215, 78, 438, 5, 216, 8, 11, 112, 24, 90, 217, 218, 439, 1, 440, 441, 15, 1, 442, 443, 1, 211, 444, 19, 11, 16, 445, 219, 446, 5, 447, 448, 3, 86, 220, 2, 1, 61, 100, 221, 222, 24, 449, 1, 223, 2, 15, 2, 224, 79, 450, 1, 451, 452, 19, 1, 122, 91, 453, 454, 3, 15, 79, 197, 8, 455, 43, 8, 456, 15, 20, 18, 457, 3, 458, 459, 28, 59, 40, 87, 35, 99, 169, 2, 101, 11, 6, 7, 4, 77, 6, 96, 38, 102, 19, 60, 5, 62, 460, 99, 145, 7, 78, 461, 225, 9, 462, 463, 464, 26, 1, 60, 226, 103, 9, 6, 465, 2, 1, 88, 102, 1, 73, 466, 146, 18, 467, 15, 189, 1, 20, 5, 59, 468, 1, 60, 19, 1, 469, 2, 1, 62, 11, 6, 1, 94, 2, 78, 470, 22, 7, 1, 41, 34, 147, 62, 5, 60, 40, 17, 471, 472, 68, 7, 1, 33, 71, 10, 40, 17, 473, 2, 8, 474, 22, 14, 227, 3, 475, 28, 11, 6, 4, 228, 476, 46, 6, 477, 3, 104, 1, 36, 43, 478, 144, 29, 11, 112, 105, 78, 479, 202, 5, 11, 76, 17, 229, 7, 4, 480, 225, 37, 87, 481, 1, 482, 483, 230, 50, 24, 484, 485, 5, 29, 10, 18, 148, 106, 486, 9, 24, 47, 4, 138, 85, 48, 31, 149, 51, 28, 50, 231, 487, 1, 20, 105, 488, 7, 232, 52, 19, 216, 5, 149, 51, 10, 63, 489, 4, 490, 233, 105, 234, 12, 233, 491, 492, 493, 1, 494, 11, 85, 107, 44, 495, 6, 140, 496, 3, 17, 497, 42, 63, 498, 9, 19, 499, 5, 149, 51, 63, 10, 500, 34, 10, 235, 501, 48, 57, 133, 207, 236, 150, 20, 44, 9, 31, 27, 14, 129, 130, 131, 132, 3, 237, 151, 150, 20, 502, 76, 16, 47, 1, 503, 504, 2, 25, 29, 121, 28, 129, 130, 131, 132, 123, 25, 32, 238, 69, 150, 20, 505, 239, 4, 240, 506, 1, 11, 13, 141, 66, 507, 44, 10, 104, 239, 508, 1, 509, 20, 1, 241, 510, 511, 1, 241, 53, 2, 1, 62, 5, 1, 512, 53, 2, 1, 20, 5, 69, 45, 53, 14, 45, 513, 1, 514, 2, 53, 515, 55, 3, 4, 516, 2, 236, 29, 15, 64, 53, 13, 17, 517, 518, 3, 16, 42, 36, 42, 30, 519, 37, 520, 3, 521, 5, 37, 522, 3, 523, 74, 524, 525, 98, 526, 527, 105, 234, 12, 1, 204, 528, 529, 3, 530, 7, 8, 531, 6, 532, 30, 21, 31, 533, 44, 80, 31, 534, 84, 242, 535, 80, 76, 16, 536, 537, 26, 1, 168, 2, 53, 5, 10, 16, 195, 12, 538, 48, 6, 27, 539, 2, 4, 540, 7, 1, 541, 2, 542, 52, 34, 1, 108, 543, 243, 10, 63, 119, 1, 544, 89, 3, 45, 30, 244, 2, 45, 20, 1, 33, 108, 13, 16, 45, 545, 7, 546, 81, 245, 5, 246, 46, 18, 115, 547, 548, 549, 8, 6, 72, 550, 81, 5, 551, 552, 16, 45, 30, 244, 28, 4, 213, 2, 151, 553, 4, 554, 555, 12, 44, 21, 75, 3, 245, 21, 35, 1, 108, 26, 42, 152, 44, 21, 75, 3, 81, 21, 35, 1, 33, 108, 14, 4, 45, 152, 5, 44, 21, 75, 3, 246, 21, 35, 9, 14, 103, 556, 152, 48, 31, 557, 7, 558, 232, 1, 559, 560, 561, 3, 17, 562, 109, 45, 218, 7, 45, 20, 29, 10, 18, 148, 247, 3, 35, 248, 2, 12, 563, 221, 222, 24, 564, 565, 12, 74, 11, 6, 7, 126, 15, 566, 2, 53, 96, 567, 30, 568, 569, 13, 570, 3, 571, 138, 572, 32, 573, 26, 574, 575, 13, 576, 577, 578, 579, 2, 580, 18, 581, 5, 12, 582, 583, 3, 1, 584, 28, 249, 87, 10, 13, 17, 250, 37, 2, 15, 64, 585, 28, 1, 176, 41, 13, 16, 4, 137, 30, 209, 251, 231, 586, 587, 1, 588, 589, 12, 57, 590, 3, 591, 592, 593, 7, 49, 57, 594, 72, 2, 1, 49, 595, 14, 596, 5, 9, 597, 7, 598, 26, 147, 252, 29, 10, 18, 599, 248, 2, 15, 12, 1, 41, 6, 148, 4, 253, 106, 43, 4, 600, 54, 22, 8, 6, 4, 22, 12, 6, 601, 133, 602, 9, 13, 254, 39, 603, 604, 605, 5, 255, 5, 606, 607, 9, 13, 608, 609, 5, 610, 3, 179, 153, 611, 9, 13, 141, 7, 4, 23, 612, 2, 613, 10, 16, 15, 614, 30, 615, 5, 616, 617, 29, 89, 3, 1, 618, 2, 11, 89, 3, 619, 215, 620, 621, 622, 18, 623, 11, 24, 98, 624, 208, 2, 625, 1, 626, 2, 627, 628, 629, 630, 32, 1, 146, 154, 19, 4, 256, 55, 3, 257, 631, 258, 18, 632, 633, 37, 8, 154, 19, 4, 256, 55, 3, 257, 634, 258, 18, 50, 635, 127, 636, 8, 6, 259, 12, 174, 260, 16, 47, 261, 14, 8, 23, 22, 52, 64, 260, 18, 26, 637, 226, 5, 1, 240, 638, 13, 27, 17, 639, 19, 1, 23, 22, 640, 11, 6, 27, 262, 3, 1, 641, 2, 1, 642, 7, 643, 1, 22, 6, 14, 1, 220, 2, 1, 61, 107, 644, 645, 97, 2, 646, 10, 16, 27, 47, 155, 3, 647, 3, 1, 61, 648, 27, 12, 68, 57, 27, 156, 136, 122, 24, 156, 649, 68, 7, 8, 71, 52, 650, 1, 262, 157, 235, 4, 651, 7, 1, 652, 2, 1, 653, 2, 38, 128, 61, 28, 10, 654, 655, 10, 263, 3, 86, 656, 144, 28, 249, 1, 51, 7, 12, 71, 13, 657, 658, 5, 21, 180, 12, 659, 154, 13, 158, 660, 5, 661, 1, 662, 2, 1, 264, 3, 1, 61, 159, 12, 1, 61, 6, 663, 251, 10, 18, 664, 109, 665, 666, 23, 667, 9, 13, 51, 243, 196, 27, 14, 143, 34, 14, 1, 94, 49, 100, 265, 5, 266, 668, 669, 670, 1, 22, 671, 1, 672, 67, 1, 673, 2, 1, 674, 31, 8, 140, 675, 107, 29, 10, 676, 109, 217, 677, 9, 6, 259, 12, 160, 6, 27, 678, 679, 680, 44, 681, 682, 24, 4, 100, 265, 266, 267, 80, 76, 158, 683, 109, 684, 11, 6, 159, 161, 12, 4, 100, 198, 267, 63, 254, 685, 686, 687, 21, 268, 64, 79, 16, 688, 3, 689, 224, 56, 35, 70, 690, 691, 55, 261, 32, 70, 692, 693, 80, 694, 56, 695, 14, 70, 269, 56, 35, 1, 162, 156, 34, 56, 35, 64, 162, 9, 696, 697, 270, 210, 3, 35, 698, 1, 699, 2, 1, 700, 6, 12, 107, 242, 1, 269, 263, 3, 271, 3, 23, 162, 701, 44, 10, 702, 3, 271, 3, 1, 23, 22, 10, 13, 158, 17, 155, 3, 237, 703, 19, 9, 9, 6, 49, 3, 704, 1, 705, 706, 9, 6, 4, 49, 10, 707, 58, 1, 101, 5, 14, 1, 708, 2, 8, 41, 200, 1, 11, 17, 709, 106, 272, 1, 710, 9, 24, 711, 273, 58, 1, 712, 181, 11, 6, 4, 22, 12, 252, 1, 713, 7, 1, 128, 714, 9, 50, 715, 1, 716, 2, 1, 41, 8, 22, 27, 182, 274, 717, 3, 718, 90, 20, 52, 50, 274, 1, 139, 3, 1, 719, 20, 3, 720, 38, 20, 18, 721, 19, 275, 157, 276, 26, 722, 723, 55, 724, 725, 1, 726, 727, 728, 59, 18, 15, 729, 19, 275, 157, 34, 59, 13, 35, 4, 730, 30, 175, 21, 63, 119, 731, 12, 732, 733, 6, 48, 64, 13, 17, 734, 5, 8, 735, 2, 1, 41, 13, 736, 247, 15, 1, 20, 2, 25, 13, 35, 99, 139, 14, 101, 11, 6, 96, 38, 102, 737, 6, 738, 32, 1, 62, 5, 1, 20, 113, 103, 10, 276, 26, 9, 28, 88, 102, 1, 146, 2, 73, 277, 18, 739, 147, 26, 1, 62, 5, 7, 1, 20, 103, 59, 51, 7, 740, 14, 25, 190, 11, 14, 1, 94, 49, 1, 73, 5, 1, 60, 214, 13, 51, 113, 43, 1, 33, 71, 8, 6, 98, 143, 2, 741, 742, 743, 744, 78, 273, 13, 17, 745, 32, 1, 746, 227, 19, 4, 93, 203, 7, 747, 25, 13, 748, 1, 749, 750, 751, 2, 752, 205, 10, 16, 753, 114, 4, 278, 3, 754, 4, 23, 25, 1, 23, 25, 46, 6, 1, 755, 2, 38, 177, 115, 756, 757, 758, 759, 5, 760, 11, 40, 761, 4, 762, 145, 7, 238, 39, 763, 1, 25, 2, 38, 170, 1, 764, 279, 2, 765, 766, 230, 767, 768, 769, 1, 770, 2, 1, 77, 1, 11, 92, 24, 771, 3, 772, 9, 1, 279, 37, 1, 280, 773, 3, 774, 39, 272, 29, 9, 775, 280, 9, 776, 12, 10, 15, 777, 16, 137, 778, 779, 5, 780, 38, 781, 782, 17, 58, 1, 33, 783, 159, 12, 160, 784, 5, 785, 43, 33, 786, 11, 6, 1, 65, 167, 787, 14, 23, 25, 4, 788, 54, 22, 14, 1, 281, 25, 11, 6, 1, 54, 22, 2, 23, 25, 2, 1, 281, 25, 9, 6, 27, 789, 790, 2, 282, 153, 9, 6, 791, 77, 2, 282, 153, 11, 6, 27, 121, 4, 30, 135, 52, 9, 6, 4, 228, 253, 43, 66, 142, 219, 1, 54, 792, 9, 6, 50, 793, 1, 77, 43, 794, 142, 9, 6, 4, 795, 14, 255, 250, 54, 22, 7, 796, 797, 11, 798, 17, 799, 28, 800, 5, 277, 30, 52, 1, 264, 2, 11, 13, 801, 86, 9, 3, 17, 283, 5, 161, 30, 14, 1, 178, 2, 25, 283, 72, 9, 802, 39, 37, 803, 2, 54, 161, 72, 9, 6, 804, 229, 805, 25, 48, 13, 17, 42, 36, 42, 30, 5, 30, 22, 40, 17, 806, 7, 4, 807, 284, 7, 15, 1, 20, 21, 124, 808, 12, 10, 15, 13, 17, 155, 3, 104, 9, 106, 7, 4, 123, 284, 270, 809, 58, 8, 183, 118, 21, 810, 3, 811, 1, 145, 2, 1, 111, 82, 79, 812, 1, 813, 814, 80, 24, 815, 816, 817, 26, 136, 818, 2, 1, 819, 2, 8, 54, 135, 5, 820, 1, 92, 19, 110, 821, 223, 43, 8, 116, 67, 110, 822, 823, 160, 824, 825, 1, 278, 21, 124, 826, 827, 3, 828, 14, 110, 191, 5, 110, 120, 194, 829, 1, 134, 117, 2, 11, 19, 23, 830, 5, 831, 10, 40, 104, 1, 36, 43, 832, 66, 101, 19, 151, 833, 21, 74, 206, 193, 91, 834, 3, 15, 79, 57, 4, 212, 2, 8, 835, 5, 268, 1, 111, 82, 3, 836, 39, 837, 37, 84]\n"
     ]
    }
   ],
   "source": [
    "# vector representation \n",
    "tokenizer = Tokenizer()\n",
    "tokenizer.fit_on_texts([x])\n",
    "encoded = tokenizer.texts_to_sequences([x])[0]\n",
    "print(\"\\n\\n\" , len(encoded))\n",
    "print(\"\\n\\n\" , encoded)\n",
    "\n"
   ]
  },
  {
   "cell_type": "code",
   "execution_count": 9,
   "metadata": {},
   "outputs": [
    {
     "name": "stdout",
     "output_type": "stream",
     "text": [
      "Vocabulary Size: 838\n"
     ]
    }
   ],
   "source": [
    "# retrieve vocabulary size\n",
    "vocab_size = len(tokenizer.word_index) + 1\n",
    "print('Vocabulary Size: %d' % vocab_size)"
   ]
  },
  {
   "cell_type": "code",
   "execution_count": 10,
   "metadata": {
    "scrolled": true
   },
   "outputs": [
    {
     "name": "stdout",
     "output_type": "stream",
     "text": [
      "Total Sequences: 2271\n",
      "\n",
      " [23, 81]\n"
     ]
    }
   ],
   "source": [
    "# create line-based sequences\n",
    "sequences = list()\n",
    "for line in x.split('. '):\n",
    "\tencoded = tokenizer.texts_to_sequences([line])[0]\n",
    "\tfor i in range(1, len(encoded)):\n",
    "\t\tsequence = encoded[:i+1]\n",
    "\t\tsequences.append(sequence)\n",
    "print('Total Sequences: %d' % len(sequences))\n",
    "print(\"\\n\",sequences[0])"
   ]
  },
  {
   "cell_type": "code",
   "execution_count": 11,
   "metadata": {},
   "outputs": [
    {
     "name": "stdout",
     "output_type": "stream",
     "text": [
      "Max Sequence Length: 67\n"
     ]
    }
   ],
   "source": [
    "# pad input sequences\n",
    "max_length = max([len(seq) for seq in sequences])\n",
    "sequences = pad_sequences(sequences, maxlen=max_length, padding='pre')\n",
    "print('Max Sequence Length: %d' % max_length)"
   ]
  },
  {
   "cell_type": "code",
   "execution_count": 12,
   "metadata": {
    "collapsed": true
   },
   "outputs": [],
   "source": [
    "# split into input and output elements\n",
    "sequences = array(sequences)\n",
    "X, y = sequences[:,:-1],sequences[:,-1]\n",
    "y = to_categorical(y, num_classes=vocab_size)"
   ]
  },
  {
   "cell_type": "code",
   "execution_count": 13,
   "metadata": {},
   "outputs": [
    {
     "name": "stdout",
     "output_type": "stream",
     "text": [
      "_________________________________________________________________\n",
      "Layer (type)                 Output Shape              Param #   \n",
      "=================================================================\n",
      "embedding_1 (Embedding)      (None, 66, 128)           107264    \n",
      "_________________________________________________________________\n",
      "lstm_1 (LSTM)                (None, 200)               263200    \n",
      "_________________________________________________________________\n",
      "dense_1 (Dense)              (None, 838)               168438    \n",
      "=================================================================\n",
      "Total params: 538,902\n",
      "Trainable params: 538,902\n",
      "Non-trainable params: 0\n",
      "_________________________________________________________________\n",
      "None\n"
     ]
    }
   ],
   "source": [
    "model = Sequential()\n",
    "model.add(Embedding(vocab_size,128, input_length=max_length-1))\n",
    "model.add(LSTM(200, recurrent_dropout = 0.2, dropout = 0.2))\n",
    "model.add(Dense(vocab_size, activation='softmax'))\n",
    "print(model.summary())"
   ]
  },
  {
   "cell_type": "code",
   "execution_count": 14,
   "metadata": {
    "collapsed": true
   },
   "outputs": [],
   "source": [
    "model.compile(loss='categorical_crossentropy', optimizer='adam', metrics=['accuracy'])\n"
   ]
  },
  {
   "cell_type": "code",
   "execution_count": 15,
   "metadata": {},
   "outputs": [
    {
     "name": "stdout",
     "output_type": "stream",
     "text": [
      "Train on 2157 samples, validate on 114 samples\n",
      "Epoch 1/150\n",
      "2157/2157 [==============================] - 17s 8ms/step - loss: 6.2893 - acc: 0.0668 - val_loss: 6.4230 - val_acc: 0.0789\n",
      "Epoch 2/150\n",
      "2157/2157 [==============================] - 11s 5ms/step - loss: 5.8511 - acc: 0.0700 - val_loss: 6.6622 - val_acc: 0.0789\n",
      "Epoch 3/150\n",
      "2157/2157 [==============================] - 11s 5ms/step - loss: 5.7528 - acc: 0.0700 - val_loss: 6.6781 - val_acc: 0.0789\n",
      "Epoch 4/150\n",
      "2157/2157 [==============================] - 13s 6ms/step - loss: 5.6387 - acc: 0.0783 - val_loss: 6.7048 - val_acc: 0.0965\n",
      "Epoch 5/150\n",
      "2157/2157 [==============================] - 11s 5ms/step - loss: 5.4711 - acc: 0.1029 - val_loss: 6.7868 - val_acc: 0.1053\n",
      "Epoch 6/150\n",
      "2157/2157 [==============================] - 11s 5ms/step - loss: 5.2548 - acc: 0.1140 - val_loss: 6.7250 - val_acc: 0.1053\n",
      "Epoch 7/150\n",
      "2157/2157 [==============================] - 12s 5ms/step - loss: 4.9894 - acc: 0.1312 - val_loss: 6.7798 - val_acc: 0.1140\n",
      "Epoch 8/150\n",
      "2157/2157 [==============================] - 13s 6ms/step - loss: 4.7247 - acc: 0.1525 - val_loss: 6.8744 - val_acc: 0.1140\n",
      "Epoch 9/150\n",
      "2157/2157 [==============================] - 12s 6ms/step - loss: 4.4620 - acc: 0.1706 - val_loss: 7.0089 - val_acc: 0.0614\n",
      "Epoch 10/150\n",
      "2157/2157 [==============================] - 12s 6ms/step - loss: 4.2028 - acc: 0.1943 - val_loss: 7.0547 - val_acc: 0.0789\n",
      "Epoch 11/150\n",
      "2157/2157 [==============================] - 12s 6ms/step - loss: 3.9511 - acc: 0.2146 - val_loss: 7.1402 - val_acc: 0.0614\n",
      "Epoch 12/150\n",
      "2157/2157 [==============================] - 12s 6ms/step - loss: 3.7218 - acc: 0.2383 - val_loss: 7.2920 - val_acc: 0.0614\n",
      "Epoch 13/150\n",
      "2157/2157 [==============================] - 12s 6ms/step - loss: 3.5017 - acc: 0.2615 - val_loss: 7.3756 - val_acc: 0.0439\n",
      "Epoch 14/150\n",
      "2157/2157 [==============================] - 13s 6ms/step - loss: 3.2744 - acc: 0.3097 - val_loss: 7.5221 - val_acc: 0.0526\n",
      "Epoch 15/150\n",
      "2157/2157 [==============================] - 13s 6ms/step - loss: 3.0798 - acc: 0.3352 - val_loss: 7.5790 - val_acc: 0.0614\n",
      "Epoch 16/150\n",
      "2157/2157 [==============================] - 13s 6ms/step - loss: 2.8799 - acc: 0.3843 - val_loss: 7.6207 - val_acc: 0.0439\n",
      "Epoch 17/150\n",
      "2157/2157 [==============================] - 13s 6ms/step - loss: 2.6886 - acc: 0.4390 - val_loss: 7.6779 - val_acc: 0.0439\n",
      "Epoch 18/150\n",
      "2157/2157 [==============================] - 12s 6ms/step - loss: 2.5087 - acc: 0.4780 - val_loss: 7.7171 - val_acc: 0.0526\n",
      "Epoch 19/150\n",
      "2157/2157 [==============================] - 12s 6ms/step - loss: 2.3281 - acc: 0.5267 - val_loss: 7.8509 - val_acc: 0.0614\n",
      "Epoch 20/150\n",
      "2157/2157 [==============================] - 12s 6ms/step - loss: 2.1578 - acc: 0.5721 - val_loss: 7.9955 - val_acc: 0.0439\n",
      "Epoch 21/150\n",
      "2157/2157 [==============================] - 12s 6ms/step - loss: 1.9986 - acc: 0.6115 - val_loss: 8.0711 - val_acc: 0.0439\n",
      "Epoch 22/150\n",
      "2157/2157 [==============================] - 12s 6ms/step - loss: 1.8598 - acc: 0.6282 - val_loss: 8.0750 - val_acc: 0.0439\n",
      "Epoch 23/150\n",
      "2157/2157 [==============================] - 12s 6ms/step - loss: 1.7185 - acc: 0.6708 - val_loss: 8.1328 - val_acc: 0.0526\n",
      "Epoch 24/150\n",
      "2157/2157 [==============================] - 12s 6ms/step - loss: 1.5810 - acc: 0.7089 - val_loss: 8.2004 - val_acc: 0.0702\n",
      "Epoch 25/150\n",
      "2157/2157 [==============================] - 12s 6ms/step - loss: 1.4667 - acc: 0.7362 - val_loss: 8.2787 - val_acc: 0.0439\n",
      "Epoch 26/150\n",
      "2157/2157 [==============================] - 12s 6ms/step - loss: 1.3589 - acc: 0.7645 - val_loss: 8.3024 - val_acc: 0.0439\n",
      "Epoch 27/150\n",
      "2157/2157 [==============================] - 13s 6ms/step - loss: 1.2571 - acc: 0.7877 - val_loss: 8.4110 - val_acc: 0.0614\n",
      "Epoch 28/150\n",
      "2157/2157 [==============================] - 13s 6ms/step - loss: 1.1649 - acc: 0.8081 - val_loss: 8.4665 - val_acc: 0.0526\n",
      "Epoch 29/150\n",
      "2157/2157 [==============================] - 12s 6ms/step - loss: 1.0783 - acc: 0.8192 - val_loss: 8.4873 - val_acc: 0.0526\n",
      "Epoch 30/150\n",
      "2157/2157 [==============================] - 13s 6ms/step - loss: 1.0013 - acc: 0.8382 - val_loss: 8.5089 - val_acc: 0.0614\n",
      "Epoch 31/150\n",
      "2157/2157 [==============================] - 12s 5ms/step - loss: 0.9210 - acc: 0.8544 - val_loss: 8.6192 - val_acc: 0.0526\n",
      "Epoch 32/150\n",
      "2157/2157 [==============================] - 12s 5ms/step - loss: 0.8623 - acc: 0.8734 - val_loss: 8.6520 - val_acc: 0.0614\n",
      "Epoch 33/150\n",
      "2157/2157 [==============================] - 12s 6ms/step - loss: 0.8047 - acc: 0.8790 - val_loss: 8.7122 - val_acc: 0.0526\n",
      "Epoch 34/150\n",
      "2157/2157 [==============================] - 12s 6ms/step - loss: 0.7433 - acc: 0.8841 - val_loss: 8.7503 - val_acc: 0.0702\n",
      "Epoch 35/150\n",
      "2157/2157 [==============================] - 12s 6ms/step - loss: 0.6947 - acc: 0.8966 - val_loss: 8.7728 - val_acc: 0.0614\n",
      "Epoch 36/150\n",
      "2157/2157 [==============================] - 12s 6ms/step - loss: 0.6545 - acc: 0.9068 - val_loss: 8.7632 - val_acc: 0.0526\n",
      "Epoch 37/150\n",
      "2157/2157 [==============================] - 12s 5ms/step - loss: 0.6038 - acc: 0.9138 - val_loss: 8.8033 - val_acc: 0.0614\n",
      "Epoch 38/150\n",
      "2157/2157 [==============================] - 12s 5ms/step - loss: 0.5699 - acc: 0.9193 - val_loss: 8.8419 - val_acc: 0.0877\n",
      "Epoch 39/150\n",
      "2157/2157 [==============================] - 12s 5ms/step - loss: 0.5330 - acc: 0.9226 - val_loss: 8.8690 - val_acc: 0.0702\n",
      "Epoch 40/150\n",
      "2157/2157 [==============================] - 12s 5ms/step - loss: 0.5024 - acc: 0.9305 - val_loss: 8.9323 - val_acc: 0.0526\n",
      "Epoch 41/150\n",
      "2157/2157 [==============================] - 12s 5ms/step - loss: 0.4734 - acc: 0.9291 - val_loss: 8.9395 - val_acc: 0.0702\n",
      "Epoch 42/150\n",
      "2157/2157 [==============================] - 12s 6ms/step - loss: 0.4435 - acc: 0.9328 - val_loss: 8.9723 - val_acc: 0.0702\n",
      "Epoch 43/150\n",
      "2157/2157 [==============================] - 13s 6ms/step - loss: 0.4217 - acc: 0.9388 - val_loss: 9.0667 - val_acc: 0.0526\n",
      "Epoch 44/150\n",
      "2157/2157 [==============================] - 12s 6ms/step - loss: 0.4047 - acc: 0.9360 - val_loss: 9.0282 - val_acc: 0.0789\n",
      "Epoch 45/150\n",
      "2157/2157 [==============================] - 13s 6ms/step - loss: 0.3789 - acc: 0.9393 - val_loss: 9.0927 - val_acc: 0.0789\n",
      "Epoch 46/150\n",
      "2157/2157 [==============================] - 14s 6ms/step - loss: 0.3651 - acc: 0.9448 - val_loss: 9.0957 - val_acc: 0.0789\n",
      "Epoch 47/150\n",
      "2157/2157 [==============================] - 13s 6ms/step - loss: 0.3494 - acc: 0.9402 - val_loss: 9.1363 - val_acc: 0.0702\n",
      "Epoch 48/150\n",
      "2157/2157 [==============================] - 16s 7ms/step - loss: 0.3293 - acc: 0.9439 - val_loss: 9.1548 - val_acc: 0.0702\n",
      "Epoch 49/150\n",
      "2157/2157 [==============================] - 19s 9ms/step - loss: 0.3172 - acc: 0.9467 - val_loss: 9.1628 - val_acc: 0.0702\n",
      "Epoch 50/150\n",
      "2157/2157 [==============================] - 16s 8ms/step - loss: 0.3093 - acc: 0.9462 - val_loss: 9.2226 - val_acc: 0.0614\n",
      "Epoch 51/150\n",
      "2157/2157 [==============================] - 16s 8ms/step - loss: 0.2957 - acc: 0.9499 - val_loss: 9.1778 - val_acc: 0.0702\n",
      "Epoch 52/150\n",
      "2157/2157 [==============================] - 16s 7ms/step - loss: 0.2802 - acc: 0.9518 - val_loss: 9.2682 - val_acc: 0.0789\n",
      "Epoch 53/150\n",
      "2157/2157 [==============================] - 16s 8ms/step - loss: 0.2714 - acc: 0.9495 - val_loss: 9.2813 - val_acc: 0.0614\n",
      "Epoch 54/150\n",
      "2157/2157 [==============================] - 17s 8ms/step - loss: 0.2611 - acc: 0.9504 - val_loss: 9.3415 - val_acc: 0.0702\n",
      "Epoch 55/150\n",
      "2157/2157 [==============================] - 16s 7ms/step - loss: 0.2567 - acc: 0.9536 - val_loss: 9.3106 - val_acc: 0.0702\n",
      "Epoch 56/150\n",
      "2157/2157 [==============================] - 16s 7ms/step - loss: 0.2442 - acc: 0.9527 - val_loss: 9.3119 - val_acc: 0.0789\n",
      "Epoch 57/150\n",
      "2157/2157 [==============================] - 17s 8ms/step - loss: 0.2378 - acc: 0.9518 - val_loss: 9.4003 - val_acc: 0.0614\n",
      "Epoch 58/150\n",
      "2157/2157 [==============================] - 15s 7ms/step - loss: 0.2302 - acc: 0.9532 - val_loss: 9.4107 - val_acc: 0.0614\n",
      "Epoch 59/150\n",
      "2157/2157 [==============================] - 13s 6ms/step - loss: 0.2222 - acc: 0.9509 - val_loss: 9.4143 - val_acc: 0.0614\n",
      "Epoch 60/150\n",
      "2157/2157 [==============================] - 13s 6ms/step - loss: 0.2187 - acc: 0.9518 - val_loss: 9.3963 - val_acc: 0.0526\n",
      "Epoch 61/150\n",
      "2157/2157 [==============================] - 14s 6ms/step - loss: 0.2080 - acc: 0.9564 - val_loss: 9.3626 - val_acc: 0.0702\n",
      "Epoch 62/150\n",
      "2157/2157 [==============================] - 13s 6ms/step - loss: 0.2048 - acc: 0.9527 - val_loss: 9.3915 - val_acc: 0.0526\n",
      "Epoch 63/150\n",
      "2157/2157 [==============================] - 13s 6ms/step - loss: 0.2047 - acc: 0.9569 - val_loss: 9.3939 - val_acc: 0.0789\n",
      "Epoch 64/150\n",
      "2157/2157 [==============================] - 14s 7ms/step - loss: 0.1960 - acc: 0.9536 - val_loss: 9.4065 - val_acc: 0.0789\n",
      "Epoch 65/150\n",
      "2157/2157 [==============================] - 14s 6ms/step - loss: 0.1871 - acc: 0.9564 - val_loss: 9.4382 - val_acc: 0.0702\n",
      "Epoch 66/150\n",
      "2157/2157 [==============================] - 14s 6ms/step - loss: 0.1907 - acc: 0.9527 - val_loss: 9.4479 - val_acc: 0.0702\n",
      "Epoch 67/150\n",
      "2157/2157 [==============================] - 14s 6ms/step - loss: 0.1877 - acc: 0.9513 - val_loss: 9.4567 - val_acc: 0.0614\n",
      "Epoch 68/150\n",
      "2157/2157 [==============================] - 13s 6ms/step - loss: 0.1801 - acc: 0.9546 - val_loss: 9.4907 - val_acc: 0.0702\n",
      "Epoch 69/150\n",
      "2157/2157 [==============================] - 13s 6ms/step - loss: 0.1760 - acc: 0.9564 - val_loss: 9.4976 - val_acc: 0.0702\n",
      "Epoch 70/150\n",
      "2157/2157 [==============================] - 14s 6ms/step - loss: 0.1700 - acc: 0.9546 - val_loss: 9.5538 - val_acc: 0.0614\n",
      "Epoch 71/150\n",
      "2157/2157 [==============================] - 13s 6ms/step - loss: 0.1694 - acc: 0.9564 - val_loss: 9.5709 - val_acc: 0.0702\n",
      "Epoch 72/150\n",
      "2157/2157 [==============================] - 13s 6ms/step - loss: 0.1630 - acc: 0.9564 - val_loss: 9.5920 - val_acc: 0.0702\n",
      "Epoch 73/150\n",
      "2157/2157 [==============================] - 13s 6ms/step - loss: 0.1652 - acc: 0.9569 - val_loss: 9.5749 - val_acc: 0.0702\n",
      "Epoch 74/150\n",
      "2157/2157 [==============================] - 13s 6ms/step - loss: 0.1628 - acc: 0.9522 - val_loss: 9.6480 - val_acc: 0.0702\n",
      "Epoch 75/150\n",
      "2157/2157 [==============================] - 12s 6ms/step - loss: 0.1604 - acc: 0.9564 - val_loss: 9.6477 - val_acc: 0.0702\n",
      "Epoch 76/150\n",
      "2157/2157 [==============================] - 13s 6ms/step - loss: 0.1565 - acc: 0.9536 - val_loss: 9.6360 - val_acc: 0.0702\n",
      "Epoch 77/150\n",
      "2157/2157 [==============================] - 13s 6ms/step - loss: 0.1553 - acc: 0.9564 - val_loss: 9.6765 - val_acc: 0.0702\n",
      "Epoch 78/150\n",
      "2157/2157 [==============================] - 13s 6ms/step - loss: 0.1510 - acc: 0.9573 - val_loss: 9.6775 - val_acc: 0.0702\n",
      "Epoch 79/150\n",
      "2157/2157 [==============================] - 13s 6ms/step - loss: 0.1518 - acc: 0.9546 - val_loss: 9.7069 - val_acc: 0.0702\n",
      "Epoch 80/150\n",
      "2157/2157 [==============================] - 13s 6ms/step - loss: 0.1510 - acc: 0.9546 - val_loss: 9.7468 - val_acc: 0.0702\n",
      "Epoch 81/150\n",
      "2157/2157 [==============================] - 13s 6ms/step - loss: 0.1521 - acc: 0.9550 - val_loss: 9.7460 - val_acc: 0.0526\n",
      "Epoch 82/150\n",
      "2157/2157 [==============================] - 13s 6ms/step - loss: 0.1484 - acc: 0.9560 - val_loss: 9.7852 - val_acc: 0.0614\n",
      "Epoch 83/150\n",
      "2157/2157 [==============================] - 13s 6ms/step - loss: 0.1468 - acc: 0.9546 - val_loss: 9.7916 - val_acc: 0.0702\n",
      "Epoch 84/150\n",
      "2157/2157 [==============================] - 13s 6ms/step - loss: 0.1452 - acc: 0.9527 - val_loss: 9.7870 - val_acc: 0.0702\n",
      "Epoch 85/150\n",
      "2157/2157 [==============================] - 13s 6ms/step - loss: 0.1413 - acc: 0.9550 - val_loss: 9.8196 - val_acc: 0.0614\n",
      "Epoch 86/150\n",
      "2157/2157 [==============================] - 12s 6ms/step - loss: 0.1398 - acc: 0.9564 - val_loss: 9.8346 - val_acc: 0.0614\n",
      "Epoch 87/150\n",
      "2157/2157 [==============================] - 12s 6ms/step - loss: 0.1383 - acc: 0.9532 - val_loss: 9.8245 - val_acc: 0.0614\n",
      "Epoch 88/150\n",
      "2157/2157 [==============================] - 13s 6ms/step - loss: 0.1392 - acc: 0.9550 - val_loss: 9.8354 - val_acc: 0.0614\n",
      "Epoch 89/150\n",
      "2157/2157 [==============================] - 13s 6ms/step - loss: 0.1398 - acc: 0.9550 - val_loss: 9.7971 - val_acc: 0.0614\n",
      "Epoch 90/150\n",
      "2157/2157 [==============================] - 13s 6ms/step - loss: 0.1368 - acc: 0.9546 - val_loss: 9.8273 - val_acc: 0.0702\n",
      "Epoch 91/150\n",
      "2157/2157 [==============================] - 13s 6ms/step - loss: 0.1347 - acc: 0.9527 - val_loss: 9.8132 - val_acc: 0.0789\n",
      "Epoch 92/150\n",
      "2157/2157 [==============================] - 13s 6ms/step - loss: 0.1359 - acc: 0.9527 - val_loss: 9.8209 - val_acc: 0.0614\n",
      "Epoch 93/150\n",
      "2157/2157 [==============================] - 13s 6ms/step - loss: 0.1324 - acc: 0.9550 - val_loss: 9.8347 - val_acc: 0.0789\n",
      "Epoch 94/150\n",
      "2157/2157 [==============================] - 13s 6ms/step - loss: 0.1369 - acc: 0.9560 - val_loss: 9.8326 - val_acc: 0.0614\n",
      "Epoch 95/150\n",
      "2157/2157 [==============================] - 13s 6ms/step - loss: 0.1338 - acc: 0.9555 - val_loss: 9.8635 - val_acc: 0.0526\n",
      "Epoch 96/150\n",
      "2157/2157 [==============================] - 13s 6ms/step - loss: 0.1283 - acc: 0.9550 - val_loss: 9.8820 - val_acc: 0.0614\n",
      "Epoch 97/150\n",
      "2157/2157 [==============================] - 13s 6ms/step - loss: 0.1285 - acc: 0.9536 - val_loss: 9.9376 - val_acc: 0.0614\n",
      "Epoch 98/150\n",
      "2157/2157 [==============================] - 13s 6ms/step - loss: 0.1292 - acc: 0.9546 - val_loss: 9.9293 - val_acc: 0.0702\n",
      "Epoch 99/150\n",
      "2157/2157 [==============================] - 13s 6ms/step - loss: 0.1291 - acc: 0.9541 - val_loss: 9.9091 - val_acc: 0.0614\n",
      "Epoch 100/150\n",
      "2157/2157 [==============================] - 13s 6ms/step - loss: 0.1268 - acc: 0.9546 - val_loss: 9.9299 - val_acc: 0.0614\n",
      "Epoch 101/150\n",
      "2157/2157 [==============================] - 13s 6ms/step - loss: 0.1268 - acc: 0.9560 - val_loss: 9.9611 - val_acc: 0.0614\n",
      "Epoch 102/150\n",
      "2157/2157 [==============================] - 13s 6ms/step - loss: 0.1248 - acc: 0.9578 - val_loss: 9.9776 - val_acc: 0.0789\n",
      "Epoch 103/150\n",
      "2157/2157 [==============================] - 13s 6ms/step - loss: 0.1263 - acc: 0.9560 - val_loss: 10.0251 - val_acc: 0.0702\n",
      "Epoch 104/150\n",
      "2157/2157 [==============================] - 13s 6ms/step - loss: 0.1249 - acc: 0.9527 - val_loss: 10.0305 - val_acc: 0.0702\n",
      "Epoch 105/150\n",
      "2157/2157 [==============================] - 13s 6ms/step - loss: 0.1245 - acc: 0.9518 - val_loss: 10.0504 - val_acc: 0.0789\n",
      "Epoch 106/150\n",
      "2157/2157 [==============================] - 13s 6ms/step - loss: 0.1223 - acc: 0.9550 - val_loss: 10.0435 - val_acc: 0.0702\n",
      "Epoch 107/150\n",
      "2157/2157 [==============================] - 13s 6ms/step - loss: 0.1250 - acc: 0.9550 - val_loss: 10.0299 - val_acc: 0.0614\n",
      "Epoch 108/150\n",
      "2157/2157 [==============================] - 13s 6ms/step - loss: 0.1261 - acc: 0.9527 - val_loss: 10.0260 - val_acc: 0.0614\n",
      "Epoch 109/150\n",
      "2157/2157 [==============================] - 13s 6ms/step - loss: 0.1275 - acc: 0.9532 - val_loss: 10.0550 - val_acc: 0.0614\n",
      "Epoch 110/150\n",
      "2157/2157 [==============================] - 13s 6ms/step - loss: 0.1233 - acc: 0.9550 - val_loss: 10.0694 - val_acc: 0.0702\n",
      "Epoch 111/150\n",
      "2157/2157 [==============================] - 12s 6ms/step - loss: 0.1239 - acc: 0.9532 - val_loss: 10.0482 - val_acc: 0.0702\n",
      "Epoch 112/150\n",
      "2157/2157 [==============================] - 12s 6ms/step - loss: 0.1226 - acc: 0.9555 - val_loss: 10.0599 - val_acc: 0.0702\n",
      "Epoch 113/150\n",
      "2157/2157 [==============================] - 12s 6ms/step - loss: 0.1211 - acc: 0.9560 - val_loss: 10.0305 - val_acc: 0.0614\n",
      "Epoch 114/150\n",
      "2157/2157 [==============================] - 12s 6ms/step - loss: 0.1202 - acc: 0.9527 - val_loss: 10.0416 - val_acc: 0.0526\n",
      "Epoch 115/150\n",
      "2157/2157 [==============================] - 13s 6ms/step - loss: 0.1214 - acc: 0.9560 - val_loss: 10.0854 - val_acc: 0.0614\n",
      "Epoch 116/150\n",
      "2157/2157 [==============================] - 12s 6ms/step - loss: 0.1188 - acc: 0.9541 - val_loss: 10.0565 - val_acc: 0.0702\n",
      "Epoch 117/150\n",
      "2157/2157 [==============================] - 12s 6ms/step - loss: 0.1197 - acc: 0.9541 - val_loss: 10.0886 - val_acc: 0.0614\n",
      "Epoch 118/150\n",
      "2157/2157 [==============================] - 12s 6ms/step - loss: 0.1183 - acc: 0.9550 - val_loss: 10.1638 - val_acc: 0.0702\n",
      "Epoch 119/150\n",
      "2157/2157 [==============================] - 12s 6ms/step - loss: 0.1175 - acc: 0.9573 - val_loss: 10.1491 - val_acc: 0.0702\n",
      "Epoch 120/150\n",
      "2157/2157 [==============================] - 12s 6ms/step - loss: 0.1188 - acc: 0.9527 - val_loss: 10.1729 - val_acc: 0.0702\n",
      "Epoch 121/150\n",
      "2157/2157 [==============================] - 13s 6ms/step - loss: 0.1172 - acc: 0.9546 - val_loss: 10.2030 - val_acc: 0.0614\n",
      "Epoch 122/150\n",
      "2157/2157 [==============================] - 13s 6ms/step - loss: 0.1178 - acc: 0.9541 - val_loss: 10.2432 - val_acc: 0.0614\n",
      "Epoch 123/150\n",
      "2157/2157 [==============================] - 12s 6ms/step - loss: 0.1170 - acc: 0.9564 - val_loss: 10.1844 - val_acc: 0.0702\n",
      "Epoch 124/150\n",
      "2157/2157 [==============================] - 13s 6ms/step - loss: 0.1151 - acc: 0.9560 - val_loss: 10.2102 - val_acc: 0.0789\n",
      "Epoch 125/150\n",
      "2157/2157 [==============================] - 13s 6ms/step - loss: 0.1145 - acc: 0.9555 - val_loss: 10.1922 - val_acc: 0.0789\n",
      "Epoch 126/150\n",
      "2157/2157 [==============================] - 13s 6ms/step - loss: 0.1146 - acc: 0.9550 - val_loss: 10.2471 - val_acc: 0.0702\n",
      "Epoch 127/150\n",
      "2157/2157 [==============================] - 13s 6ms/step - loss: 0.1148 - acc: 0.9569 - val_loss: 10.2675 - val_acc: 0.0702\n",
      "Epoch 128/150\n",
      "2157/2157 [==============================] - 13s 6ms/step - loss: 0.1149 - acc: 0.9522 - val_loss: 10.2435 - val_acc: 0.0789\n",
      "Epoch 129/150\n",
      "2157/2157 [==============================] - 13s 6ms/step - loss: 0.1144 - acc: 0.9564 - val_loss: 10.2110 - val_acc: 0.0702\n",
      "Epoch 130/150\n",
      "2157/2157 [==============================] - 13s 6ms/step - loss: 0.1165 - acc: 0.9532 - val_loss: 10.1982 - val_acc: 0.0702\n",
      "Epoch 131/150\n",
      "2157/2157 [==============================] - 13s 6ms/step - loss: 0.1150 - acc: 0.9532 - val_loss: 10.2192 - val_acc: 0.0789\n",
      "Epoch 132/150\n",
      "2157/2157 [==============================] - 13s 6ms/step - loss: 0.1140 - acc: 0.9532 - val_loss: 10.2675 - val_acc: 0.0789\n",
      "Epoch 133/150\n",
      "2157/2157 [==============================] - 13s 6ms/step - loss: 0.1140 - acc: 0.9564 - val_loss: 10.2804 - val_acc: 0.0877\n",
      "Epoch 134/150\n",
      "2157/2157 [==============================] - 13s 6ms/step - loss: 0.1123 - acc: 0.9560 - val_loss: 10.2794 - val_acc: 0.0789\n",
      "Epoch 135/150\n",
      "2157/2157 [==============================] - 13s 6ms/step - loss: 0.1120 - acc: 0.9546 - val_loss: 10.2718 - val_acc: 0.0789\n",
      "Epoch 136/150\n",
      "2157/2157 [==============================] - 13s 6ms/step - loss: 0.1126 - acc: 0.9573 - val_loss: 10.2881 - val_acc: 0.0789\n",
      "Epoch 137/150\n",
      "2157/2157 [==============================] - 13s 6ms/step - loss: 0.1115 - acc: 0.9583 - val_loss: 10.3525 - val_acc: 0.0702\n",
      "Epoch 138/150\n",
      "2157/2157 [==============================] - 12s 6ms/step - loss: 0.1150 - acc: 0.9564 - val_loss: 10.3515 - val_acc: 0.0789\n",
      "Epoch 139/150\n",
      "2157/2157 [==============================] - 12s 6ms/step - loss: 0.1139 - acc: 0.9541 - val_loss: 10.3238 - val_acc: 0.0702\n",
      "Epoch 140/150\n",
      "2157/2157 [==============================] - 13s 6ms/step - loss: 0.1127 - acc: 0.9550 - val_loss: 10.3229 - val_acc: 0.0702\n",
      "Epoch 141/150\n",
      "2157/2157 [==============================] - 13s 6ms/step - loss: 0.1118 - acc: 0.9546 - val_loss: 10.3472 - val_acc: 0.0702\n",
      "Epoch 142/150\n",
      "2157/2157 [==============================] - 13s 6ms/step - loss: 0.1116 - acc: 0.9550 - val_loss: 10.4716 - val_acc: 0.0526\n",
      "Epoch 143/150\n",
      "2157/2157 [==============================] - 13s 6ms/step - loss: 0.1152 - acc: 0.9518 - val_loss: 10.3691 - val_acc: 0.0614\n",
      "Epoch 144/150\n",
      "2157/2157 [==============================] - 13s 6ms/step - loss: 0.1134 - acc: 0.9546 - val_loss: 10.3291 - val_acc: 0.0702\n",
      "Epoch 145/150\n",
      "2157/2157 [==============================] - 13s 6ms/step - loss: 0.1125 - acc: 0.9569 - val_loss: 10.3601 - val_acc: 0.0614\n",
      "Epoch 146/150\n",
      "2157/2157 [==============================] - 11s 5ms/step - loss: 0.1115 - acc: 0.9546 - val_loss: 10.3686 - val_acc: 0.0702\n",
      "Epoch 147/150\n",
      "2157/2157 [==============================] - 12s 5ms/step - loss: 0.1113 - acc: 0.9564 - val_loss: 10.3781 - val_acc: 0.0702\n",
      "Epoch 148/150\n",
      "2157/2157 [==============================] - 13s 6ms/step - loss: 0.1123 - acc: 0.9550 - val_loss: 10.3666 - val_acc: 0.0702\n",
      "Epoch 149/150\n",
      "2157/2157 [==============================] - 13s 6ms/step - loss: 0.1112 - acc: 0.9555 - val_loss: 10.3568 - val_acc: 0.0702\n",
      "Epoch 150/150\n",
      "2157/2157 [==============================] - 13s 6ms/step - loss: 0.1104 - acc: 0.9587 - val_loss: 10.3998 - val_acc: 0.0702\n"
     ]
    }
   ],
   "source": [
    "history=model.fit(X, y, validation_split=0.05,epochs=150, verbose=1, shuffle = True)"
   ]
  },
  {
   "cell_type": "code",
   "execution_count": 16,
   "metadata": {},
   "outputs": [
    {
     "name": "stdout",
     "output_type": "stream",
     "text": [
      "dict_keys(['loss', 'val_loss', 'val_acc', 'acc'])\n"
     ]
    }
   ],
   "source": [
    "import matplotlib.pyplot as plt\n",
    "import numpy\n",
    "\n",
    "print(history.history.keys())"
   ]
  },
  {
   "cell_type": "code",
   "execution_count": 17,
   "metadata": {},
   "outputs": [],
   "source": [
    "# summarize history for accuracy\n",
    "plt.plot(history.history['acc'])\n",
    "plt.plot(history.history['val_acc'])\n",
    "plt.title('model accuracy')\n",
    "plt.ylabel('accuracy')\n",
    "plt.xlabel('epoch')\n",
    "plt.legend(['train', 'test'], loc='upper left')\n",
    "plt.show()"
   ]
  },
  {
   "cell_type": "code",
   "execution_count": 18,
   "metadata": {
    "collapsed": true
   },
   "outputs": [],
   "source": [
    "# summarize history for loss\n",
    "plt.plot(history.history['loss'])\n",
    "plt.plot(history.history['val_loss'])\n",
    "plt.title('model loss')\n",
    "plt.ylabel('loss')\n",
    "plt.xlabel('epoch')\n",
    "plt.legend(['train', 'test'], loc='upper left')\n",
    "plt.show()"
   ]
  },
  {
   "cell_type": "code",
   "execution_count": 19,
   "metadata": {},
   "outputs": [
    {
     "name": "stdout",
     "output_type": "stream",
     "text": [
      "national hearty congratulations to\n"
     ]
    }
   ],
   "source": [
    "print(generate_seq(model, tokenizer, max_length-1, 'national', 3))"
   ]
  },
  {
   "cell_type": "code",
   "execution_count": 20,
   "metadata": {},
   "outputs": [
    {
     "name": "stdout",
     "output_type": "stream",
     "text": [
      "United Nations when the constitution was framed\n"
     ]
    }
   ],
   "source": [
    "print(generate_seq(model, tokenizer, max_length-1, 'United Nations', 5))"
   ]
  },
  {
   "cell_type": "code",
   "execution_count": 21,
   "metadata": {},
   "outputs": [
    {
     "name": "stdout",
     "output_type": "stream",
     "text": [
      "power and hard work we can accomplish\n"
     ]
    }
   ],
   "source": [
    "print(generate_seq(model, tokenizer, max_length-1, 'power and', 5))"
   ]
  },
  {
   "cell_type": "code",
   "execution_count": 22,
   "metadata": {},
   "outputs": [
    {
     "name": "stdout",
     "output_type": "stream",
     "text": [
      "People are president respected vice president madam speaker of lok sabha our former prime minister shri devegowdaji members of the council of ministers all the other members of the house and the esteemed conglomerate gathered here representing diverse sectors here representing diverse sectors here representing diverse sectors here representing diverse sectors here\n"
     ]
    }
   ],
   "source": [
    "print(generate_seq(model, tokenizer, max_length-1, 'People are', 50))"
   ]
  },
  {
   "cell_type": "code",
   "execution_count": 23,
   "metadata": {},
   "outputs": [
    {
     "name": "stdout",
     "output_type": "stream",
     "text": [
      "Our National seats of this hall were ordained by the iconic national heroes like pandit jawaharlal nehru maulana abul kalam azad sardar vallabh bhai patel baba saheb bhimrao ambedkar acharya kripalani dr kripalani dr kripalani dr kripalani dr kripalani dr kripalani dr dr dr dr dr dr dr dr dr few inherent inherent inherent inherent inherent inherent inherent inherent inherent inherent inherent acharya wait few benefits hard ji hard ji hard ji hard ji hard ji hard ji hard ji hard ji hard ji hard ji hard ji ji few benefits hard ji ji few wait few holy inherent inherent inherent inherent\n"
     ]
    }
   ],
   "source": [
    "print(generate_seq(model, tokenizer, max_length-1, 'Our National', 100))"
   ]
  },
  {
   "cell_type": "code",
   "execution_count": 24,
   "metadata": {},
   "outputs": [
    {
     "name": "stdout",
     "output_type": "stream",
     "text": [
      "Saved model to disk\n"
     ]
    }
   ],
   "source": [
    "# serialize model to JSON\n",
    "model_json = model.to_json()\n",
    "with open(\"modelnamogstsen150.json\", \"w\") as json_file:\n",
    "    json_file.write(model_json)\n",
    "# serialize weights to HDF5\n",
    "model.save_weights(\"modelnamogstsen150.h5\")\n",
    "print(\"Saved model to disk\")"
   ]
  },
  {
   "cell_type": "code",
   "execution_count": 25,
   "metadata": {},
   "outputs": [
    {
     "name": "stdout",
     "output_type": "stream",
     "text": [
      "Loaded model from disk\n"
     ]
    }
   ],
   "source": [
    "# load json and create model\n",
    "from keras.models import model_from_json\n",
    "\n",
    "json_file = open('modelnamogstsen150.json', 'r')\n",
    "loaded_model_json = json_file.read()\n",
    "json_file.close()\n",
    "loaded_model = model_from_json(loaded_model_json)\n",
    "# load weights into new model\n",
    "loaded_model.load_weights(\"modelnamogstsen150.h5\")\n",
    "print(\"Loaded model from disk\")"
   ]
  },
  {
   "cell_type": "code",
   "execution_count": 26,
   "metadata": {
    "collapsed": true
   },
   "outputs": [],
   "source": [
    "# evaluate loaded model on test data\n",
    "loaded_model.compile(loss='binary_crossentropy', optimizer='rmsprop', metrics=['accuracy'])\n"
   ]
  },
  {
   "cell_type": "code",
   "execution_count": 27,
   "metadata": {},
   "outputs": [
    {
     "name": "stdout",
     "output_type": "stream",
     "text": [
      "People are president respected vice president madam speaker of lok sabha our former prime minister shri devegowdaji members of the council of ministers all the other members of the house and the esteemed conglomerate gathered here representing diverse sectors here representing diverse sectors here representing diverse sectors here representing diverse sectors here\n"
     ]
    }
   ],
   "source": [
    "print(generate_seq(loaded_model, tokenizer, max_length-1, 'People are', 50))"
   ]
  },
  {
   "cell_type": "code",
   "execution_count": null,
   "metadata": {
    "collapsed": true
   },
   "outputs": [],
   "source": []
  }
 ],
 "metadata": {
  "anaconda-cloud": {},
  "kernelspec": {
   "display_name": "Python 3",
   "language": "python",
   "name": "python3"
  },
  "language_info": {
   "codemirror_mode": {
    "name": "ipython",
    "version": 3
   },
   "file_extension": ".py",
   "mimetype": "text/x-python",
   "name": "python",
   "nbconvert_exporter": "python",
   "pygments_lexer": "ipython3",
   "version": "3.5.2"
  }
 },
 "nbformat": 4,
 "nbformat_minor": 2
}
