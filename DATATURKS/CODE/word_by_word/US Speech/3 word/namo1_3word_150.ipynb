{
 "cells": [
  {
   "cell_type": "code",
   "execution_count": 1,
   "metadata": {
    "scrolled": true
   },
   "outputs": [
    {
     "name": "stderr",
     "output_type": "stream",
     "text": [
      "Using TensorFlow backend.\n"
     ]
    }
   ],
   "source": [
    "from numpy import array\n",
    "from keras.preprocessing.text import Tokenizer\n",
    "from keras.utils import to_categorical\n",
    "from keras.preprocessing.sequence import pad_sequences\n",
    "from keras.models import Sequential\n",
    "from keras.layers import Dense\n",
    "from keras.layers import LSTM\n",
    "from keras.layers import Embedding\n"
   ]
  },
  {
   "cell_type": "code",
   "execution_count": 2,
   "metadata": {
    "collapsed": true
   },
   "outputs": [],
   "source": [
    "# generate a sequence from a language model\n",
    "def generate_seq(model, tokenizer, max_length, seed_text, n_words):\n",
    "\tin_text = seed_text\n",
    "\t# generate a fixed number of words\n",
    "\tfor _ in range(n_words):\n",
    "\t\t# encode the text as integer\n",
    "\t\tencoded = tokenizer.texts_to_sequences([in_text])[0]\n",
    "\t\t# pre-pad sequences to a fixed length\n",
    "\t\tencoded = pad_sequences([encoded], maxlen=max_length, padding='pre')\n",
    "\t\t# predict probabilities for each word\n",
    "\t\tyhat = model.predict_classes(encoded, verbose=0)\n",
    "\t\t# map predicted word index to word\n",
    "\t\tout_word = ''\n",
    "\t\tfor word, index in tokenizer.word_index.items():\n",
    "\t\t\tif index == yhat:\n",
    "\t\t\t\tout_word = word\n",
    "\t\t\t\tbreak\n",
    "\t\t# append to input\n",
    "\t\tin_text += ' ' + out_word\n",
    "\treturn in_text"
   ]
  },
  {
   "cell_type": "code",
   "execution_count": 3,
   "metadata": {
    "scrolled": true
   },
   "outputs": [
    {
     "name": "stdout",
     "output_type": "stream",
     "text": [
      "['Excellencies,\\n', '\\n', 'Mahatma Gandhi had once said, â\\x80\\x9cOne must care about the world one will not seeâ\\x80\\x9d. Indeed, humanity has progressed when it has collectively risen to its obligation to the world and responsibility to the future.\\n', '\\n', 'Seventy years after the end of a tragic war and birth of a new hope for our age, we are meeting to chart a course for our humanity and our planet. I consider this a very important summit and thank UN Secretary General for organizing it.\\n', '\\n', 'Just as our vision behind the Agenda 2030 is lofty, our goals are comprehensive. It gives priority to the problems that have endured through the past decades. And, it reflects our evolving understanding of the social, economic and environmental linkages that define our lives.\\n', '\\n', 'We live in an age of unprecedented prosperity, but also unspeakable deprivation around the world.\\n', '\\n', 'I am pleased that elimination of poverty in all forms everywhere is at the top of our goals. Addressing the needs of 1.3 billion poor people in the world is not merely a question of their survival and dignity or our moral responsibility. It is a vital necessity for ensuring peaceful, sustainable and just world.\\n', '\\n', 'A great Indian thinker, Pandit Deen Dayal Upadhyay, placed the welfare of the poorest at the centre of his thoughts. This is what we also see in the 2030 Agenda. It is a happy coincidence that we are beginning the celebration of Pandit Deen Dayal Upadhyayâ\\x80\\x99s 100th anniversary today.\\n', '\\n', 'The goals recognize that economic growth, industrialization, infrastructure, and access to energy provide the foundations of development.\\n', '\\n', 'We welcome the prominence given to environmental goals, especially climate change and sustainable consumption. The distinct goal on ocean ecosystem reflects the unique character of its challenges and opportunities. Equally important, it focuses our attention on the future of the island states.\\n', '\\n', 'I speak about Blue Revolution, which includes the prosperity, sustainable use of marine wealth and blue skies.\\n', '\\n', 'Today, much of Indiaâ\\x80\\x99s development agenda is mirrored in the Sustainable Development Goals.\\n', '\\n', 'Since Independence, we have pursued the dream of eliminating poverty from India. We have chosen the path of removing poverty by empowering the poor. We have placed priority on education and skill development.\\n', '\\n', \"Our attack on poverty today includes expanded conventional schemes of development, but we have also launched a new era of inclusion and empowerment, turning distant dreams into immediate possibilities: new bank accounts for 180 million; direct transfer of benefits; funds to the unbanked; insurance within the reach of all; and, pension for everyone's sunset years.\\n\", '\\n', 'The world speaks of private sector and public sector. In India, we have defined a new personal sector of individual enterprise, micro enterprises and micro finance, drawing also on the strength of digital and mobile applications.\\n', '\\n', 'We are focusing on the basics: housing, power, water and sanitation for all â\\x80\\x93 important not just for welfare, but also human dignity. These are goals with a definite date, not just a mirage of hope. Our development is intrinsically linked to empowerment of women and it begins with a massive programme on educating the girl child that has become every familyâ\\x80\\x99s mission.\\n', '\\n', 'We are making our farms more productive and better connected to markets; and, farmers less vulnerable to the whims of nature.\\n', '\\n', 'We are reviving our manufacturing, improving our services sector, investing on an unprecedented scale in infrastructure; and, making our cities smart, sustainable and engines of progress.\\n', '\\n', 'We are committed to a sustainable path to prosperity. It comes from the natural instinct of our tradition and culture. But, it is also rooted firmly in our commitment to the future.\\n', '\\n', 'We represent a culture that calls our planet Mother Earth.\\n', '\\n', 'As our ancient text say: \"Keep pure! For the Earth is our mother! And we are her children!\"\\n', '\\n', 'Our national plans are ambitious and purposeful: new capacity of 175 GW of renewable energy over the next seven years; energy efficiency; a tax on coal; a huge afforestation programme; reforming our transportation; and, cleaning up our cities and rivers. The energy intensity of our growth will continue to decline.\\n', '\\n', 'Sustainable development of one-sixth of humanity will be of great consequence to the world and our beautiful planet. It will be a world of fewer challenges and greater hope; and, more confident of its success.\\n', '\\n', 'Our success will give us more resources to share with our friends. As Indiaâ\\x80\\x99s ancient saying goes, the wise look at the world as one family.\\n', '\\n', 'Today, India is fulfilling its responsibilities as development partners in Asia and Africa and with small island states from the Pacific to the Atlantic.\\n', '\\n', 'Nations have a national responsibility for sustainable development. They also need policy space.\\n', '\\n', 'However, we are here today in the United Nations because we all believe that international partnership must be at the centre of our efforts, whether it is development or combating climate change.\\n', '\\n', 'And, the principle of common but differentiated responsibilities is the bedrock of our collective enterprise.\\n', '\\n', 'When we speak only of climate change, there is a perception of our desire to secure the comforts of our lifestyle. When we speak of climate justice, we demonstrate our sensitivity and resolve to secure the future of the poor from the perils of natural disasters.\\n', '\\n', 'In addressing climate change, it is important to focus on solutions that can help us reach our goals. We should forge a global public partnership to harness technology, innovation and finance to put affordable clean and renewable energy within the reach of all.\\n', '\\n', 'Equally, we must look for changes in our lifestyles that would make us less dependent on energy and more sustainable in our consumption.\\n', '\\n', 'It is equally critical to launch a global education programme that prepares our next generation to protect and conserve Nature.\\n', '\\n', 'I hope that the Developed World will fulfil its financing commitments for development and climate change, without in any way putting both under the same head!\\n', '\\n', 'I also hope that the Technology Facilitation Mechanism will turn technology and innovation into an effective instrument for global public good, not just private returns.\\n', '\\n', 'As we see now, distance is no insulation from challenges. And, they can rise from the shadows of conflict and privations from distant lands.\\n', '\\n', 'So, we must transform international partnerships on the strength of solidarity with fellow human beings and also our enlightened self-interest.\\n', '\\n', 'And, we must also reform the United Nations, including its Security Council, so that it carries greater credibility and legitimacy and will be more representative and effective in achieving our goals.\\n', '\\n', 'There is no cause greater than shaping a world, in which every life that enters it can look to a future of security, opportunity and dignity; and, where we leave our environment in better shape for the next generation. And, no cause that is more challenging.\\n', '\\n', 'At 70, we are called to rise to that challenge, with our wisdom, experience, generosity, compassion, skills and technology.\\n', '\\n', 'I am confident that we can.\\n', '\\n', 'In the end, let me express my hope for everyoneâ\\x80\\x99s well with a few lines from our ancient texts:\\n', '\\n', 'May all be happy, may all be healthy, may all see welfare, may no one have any sorrow.\\n', '\\n', 'Thank you.\\n']\n"
     ]
    }
   ],
   "source": [
    "import nltk \n",
    "a = open(\"NAMO1.txt\",encoding = \"ISO-8859-1\")\n",
    "wtext = a.readlines()  ##all text in the textfile\n",
    "print(wtext)"
   ]
  },
  {
   "cell_type": "code",
   "execution_count": 4,
   "metadata": {},
   "outputs": [
    {
     "name": "stdout",
     "output_type": "stream",
     "text": [
      "['Excellencies,\\n', 'Mahatma Gandhi had once said, â\\x80\\x9cOne must care about the world one will not seeâ\\x80\\x9d. Indeed, humanity has progressed when it has collectively risen to its obligation to the world and responsibility to the future.\\n', 'Seventy years after the end of a tragic war and birth of a new hope for our age, we are meeting to chart a course for our humanity and our planet. I consider this a very important summit and thank UN Secretary General for organizing it.\\n', 'Just as our vision behind the Agenda 2030 is lofty, our goals are comprehensive. It gives priority to the problems that have endured through the past decades. And, it reflects our evolving understanding of the social, economic and environmental linkages that define our lives.\\n', 'We live in an age of unprecedented prosperity, but also unspeakable deprivation around the world.\\n', 'I am pleased that elimination of poverty in all forms everywhere is at the top of our goals. Addressing the needs of 1.3 billion poor people in the world is not merely a question of their survival and dignity or our moral responsibility. It is a vital necessity for ensuring peaceful, sustainable and just world.\\n', 'A great Indian thinker, Pandit Deen Dayal Upadhyay, placed the welfare of the poorest at the centre of his thoughts. This is what we also see in the 2030 Agenda. It is a happy coincidence that we are beginning the celebration of Pandit Deen Dayal Upadhyayâ\\x80\\x99s 100th anniversary today.\\n', 'The goals recognize that economic growth, industrialization, infrastructure, and access to energy provide the foundations of development.\\n', 'We welcome the prominence given to environmental goals, especially climate change and sustainable consumption. The distinct goal on ocean ecosystem reflects the unique character of its challenges and opportunities. Equally important, it focuses our attention on the future of the island states.\\n', 'I speak about Blue Revolution, which includes the prosperity, sustainable use of marine wealth and blue skies.\\n', 'Today, much of Indiaâ\\x80\\x99s development agenda is mirrored in the Sustainable Development Goals.\\n', 'Since Independence, we have pursued the dream of eliminating poverty from India. We have chosen the path of removing poverty by empowering the poor. We have placed priority on education and skill development.\\n', \"Our attack on poverty today includes expanded conventional schemes of development, but we have also launched a new era of inclusion and empowerment, turning distant dreams into immediate possibilities: new bank accounts for 180 million; direct transfer of benefits; funds to the unbanked; insurance within the reach of all; and, pension for everyone's sunset years.\\n\", 'The world speaks of private sector and public sector. In India, we have defined a new personal sector of individual enterprise, micro enterprises and micro finance, drawing also on the strength of digital and mobile applications.\\n', 'We are focusing on the basics: housing, power, water and sanitation for all â\\x80\\x93 important not just for welfare, but also human dignity. These are goals with a definite date, not just a mirage of hope. Our development is intrinsically linked to empowerment of women and it begins with a massive programme on educating the girl child that has become every familyâ\\x80\\x99s mission.\\n', 'We are making our farms more productive and better connected to markets; and, farmers less vulnerable to the whims of nature.\\n', 'We are reviving our manufacturing, improving our services sector, investing on an unprecedented scale in infrastructure; and, making our cities smart, sustainable and engines of progress.\\n', 'We are committed to a sustainable path to prosperity. It comes from the natural instinct of our tradition and culture. But, it is also rooted firmly in our commitment to the future.\\n', 'We represent a culture that calls our planet Mother Earth.\\n', 'As our ancient text say: \"Keep pure! For the Earth is our mother! And we are her children!\"\\n', 'Our national plans are ambitious and purposeful: new capacity of 175 GW of renewable energy over the next seven years; energy efficiency; a tax on coal; a huge afforestation programme; reforming our transportation; and, cleaning up our cities and rivers. The energy intensity of our growth will continue to decline.\\n', 'Sustainable development of one-sixth of humanity will be of great consequence to the world and our beautiful planet. It will be a world of fewer challenges and greater hope; and, more confident of its success.\\n', 'Our success will give us more resources to share with our friends. As Indiaâ\\x80\\x99s ancient saying goes, the wise look at the world as one family.\\n', 'Today, India is fulfilling its responsibilities as development partners in Asia and Africa and with small island states from the Pacific to the Atlantic.\\n', 'Nations have a national responsibility for sustainable development. They also need policy space.\\n', 'However, we are here today in the United Nations because we all believe that international partnership must be at the centre of our efforts, whether it is development or combating climate change.\\n', 'And, the principle of common but differentiated responsibilities is the bedrock of our collective enterprise.\\n', 'When we speak only of climate change, there is a perception of our desire to secure the comforts of our lifestyle. When we speak of climate justice, we demonstrate our sensitivity and resolve to secure the future of the poor from the perils of natural disasters.\\n', 'In addressing climate change, it is important to focus on solutions that can help us reach our goals. We should forge a global public partnership to harness technology, innovation and finance to put affordable clean and renewable energy within the reach of all.\\n', 'Equally, we must look for changes in our lifestyles that would make us less dependent on energy and more sustainable in our consumption.\\n', 'It is equally critical to launch a global education programme that prepares our next generation to protect and conserve Nature.\\n', 'I hope that the Developed World will fulfil its financing commitments for development and climate change, without in any way putting both under the same head!\\n', 'I also hope that the Technology Facilitation Mechanism will turn technology and innovation into an effective instrument for global public good, not just private returns.\\n', 'As we see now, distance is no insulation from challenges. And, they can rise from the shadows of conflict and privations from distant lands.\\n', 'So, we must transform international partnerships on the strength of solidarity with fellow human beings and also our enlightened self-interest.\\n', 'And, we must also reform the United Nations, including its Security Council, so that it carries greater credibility and legitimacy and will be more representative and effective in achieving our goals.\\n', 'There is no cause greater than shaping a world, in which every life that enters it can look to a future of security, opportunity and dignity; and, where we leave our environment in better shape for the next generation. And, no cause that is more challenging.\\n', 'At 70, we are called to rise to that challenge, with our wisdom, experience, generosity, compassion, skills and technology.\\n', 'I am confident that we can.\\n', 'In the end, let me express my hope for everyoneâ\\x80\\x99s well with a few lines from our ancient texts:\\n', 'May all be happy, may all be healthy, may all see welfare, may no one have any sorrow.\\n', 'Thank you.\\n']\n"
     ]
    }
   ],
   "source": [
    "while '\\n' in wtext:\n",
    "    wtext.remove('\\n')\n",
    "print(wtext)"
   ]
  },
  {
   "cell_type": "code",
   "execution_count": 5,
   "metadata": {
    "scrolled": false
   },
   "outputs": [
    {
     "name": "stdout",
     "output_type": "stream",
     "text": [
      "['Excellencies,', 'Mahatma Gandhi had once said, â\\x80\\x9cOne must care about the world one will not seeâ\\x80\\x9d. Indeed, humanity has progressed when it has collectively risen to its obligation to the world and responsibility to the future.', 'Seventy years after the end of a tragic war and birth of a new hope for our age, we are meeting to chart a course for our humanity and our planet. I consider this a very important summit and thank UN Secretary General for organizing it.', 'Just as our vision behind the Agenda 2030 is lofty, our goals are comprehensive. It gives priority to the problems that have endured through the past decades. And, it reflects our evolving understanding of the social, economic and environmental linkages that define our lives.', 'We live in an age of unprecedented prosperity, but also unspeakable deprivation around the world.', 'I am pleased that elimination of poverty in all forms everywhere is at the top of our goals. Addressing the needs of 1.3 billion poor people in the world is not merely a question of their survival and dignity or our moral responsibility. It is a vital necessity for ensuring peaceful, sustainable and just world.', 'A great Indian thinker, Pandit Deen Dayal Upadhyay, placed the welfare of the poorest at the centre of his thoughts. This is what we also see in the 2030 Agenda. It is a happy coincidence that we are beginning the celebration of Pandit Deen Dayal Upadhyayâ\\x80\\x99s 100th anniversary today.', 'The goals recognize that economic growth, industrialization, infrastructure, and access to energy provide the foundations of development.', 'We welcome the prominence given to environmental goals, especially climate change and sustainable consumption. The distinct goal on ocean ecosystem reflects the unique character of its challenges and opportunities. Equally important, it focuses our attention on the future of the island states.', 'I speak about Blue Revolution, which includes the prosperity, sustainable use of marine wealth and blue skies.', 'Today, much of Indiaâ\\x80\\x99s development agenda is mirrored in the Sustainable Development Goals.', 'Since Independence, we have pursued the dream of eliminating poverty from India. We have chosen the path of removing poverty by empowering the poor. We have placed priority on education and skill development.', \"Our attack on poverty today includes expanded conventional schemes of development, but we have also launched a new era of inclusion and empowerment, turning distant dreams into immediate possibilities: new bank accounts for 180 million; direct transfer of benefits; funds to the unbanked; insurance within the reach of all; and, pension for everyone's sunset years.\", 'The world speaks of private sector and public sector. In India, we have defined a new personal sector of individual enterprise, micro enterprises and micro finance, drawing also on the strength of digital and mobile applications.', 'We are focusing on the basics: housing, power, water and sanitation for all â\\x80\\x93 important not just for welfare, but also human dignity. These are goals with a definite date, not just a mirage of hope. Our development is intrinsically linked to empowerment of women and it begins with a massive programme on educating the girl child that has become every familyâ\\x80\\x99s mission.', 'We are making our farms more productive and better connected to markets; and, farmers less vulnerable to the whims of nature.', 'We are reviving our manufacturing, improving our services sector, investing on an unprecedented scale in infrastructure; and, making our cities smart, sustainable and engines of progress.', 'We are committed to a sustainable path to prosperity. It comes from the natural instinct of our tradition and culture. But, it is also rooted firmly in our commitment to the future.', 'We represent a culture that calls our planet Mother Earth.', 'As our ancient text say: \"Keep pure! For the Earth is our mother! And we are her children!\"', 'Our national plans are ambitious and purposeful: new capacity of 175 GW of renewable energy over the next seven years; energy efficiency; a tax on coal; a huge afforestation programme; reforming our transportation; and, cleaning up our cities and rivers. The energy intensity of our growth will continue to decline.', 'Sustainable development of one-sixth of humanity will be of great consequence to the world and our beautiful planet. It will be a world of fewer challenges and greater hope; and, more confident of its success.', 'Our success will give us more resources to share with our friends. As Indiaâ\\x80\\x99s ancient saying goes, the wise look at the world as one family.', 'Today, India is fulfilling its responsibilities as development partners in Asia and Africa and with small island states from the Pacific to the Atlantic.', 'Nations have a national responsibility for sustainable development. They also need policy space.', 'However, we are here today in the United Nations because we all believe that international partnership must be at the centre of our efforts, whether it is development or combating climate change.', 'And, the principle of common but differentiated responsibilities is the bedrock of our collective enterprise.', 'When we speak only of climate change, there is a perception of our desire to secure the comforts of our lifestyle. When we speak of climate justice, we demonstrate our sensitivity and resolve to secure the future of the poor from the perils of natural disasters.', 'In addressing climate change, it is important to focus on solutions that can help us reach our goals. We should forge a global public partnership to harness technology, innovation and finance to put affordable clean and renewable energy within the reach of all.', 'Equally, we must look for changes in our lifestyles that would make us less dependent on energy and more sustainable in our consumption.', 'It is equally critical to launch a global education programme that prepares our next generation to protect and conserve Nature.', 'I hope that the Developed World will fulfil its financing commitments for development and climate change, without in any way putting both under the same head!', 'I also hope that the Technology Facilitation Mechanism will turn technology and innovation into an effective instrument for global public good, not just private returns.', 'As we see now, distance is no insulation from challenges. And, they can rise from the shadows of conflict and privations from distant lands.', 'So, we must transform international partnerships on the strength of solidarity with fellow human beings and also our enlightened self-interest.', 'And, we must also reform the United Nations, including its Security Council, so that it carries greater credibility and legitimacy and will be more representative and effective in achieving our goals.', 'There is no cause greater than shaping a world, in which every life that enters it can look to a future of security, opportunity and dignity; and, where we leave our environment in better shape for the next generation. And, no cause that is more challenging.', 'At 70, we are called to rise to that challenge, with our wisdom, experience, generosity, compassion, skills and technology.', 'I am confident that we can.', 'In the end, let me express my hope for everyoneâ\\x80\\x99s well with a few lines from our ancient texts:', 'May all be happy, may all be healthy, may all see welfare, may no one have any sorrow.', 'Thank you.']\n"
     ]
    }
   ],
   "source": [
    "for i in wtext:\n",
    "    j=i.strip('\\n')\n",
    "    wtext[wtext.index(i)] = j\n",
    "print(wtext)"
   ]
  },
  {
   "cell_type": "code",
   "execution_count": 6,
   "metadata": {},
   "outputs": [
    {
     "name": "stdout",
     "output_type": "stream",
     "text": [
      " Excellencies, Mahatma Gandhi had once said, âOne must care about the world one will not seeâ. Indeed, humanity has progressed when it has collectively risen to its obligation to the world and responsibility to the future. Seventy years after the end of a tragic war and birth of a new hope for our age, we are meeting to chart a course for our humanity and our planet. I consider this a very important summit and thank UN Secretary General for organizing it. Just as our vision behind the Agenda 2030 is lofty, our goals are comprehensive. It gives priority to the problems that have endured through the past decades. And, it reflects our evolving understanding of the social, economic and environmental linkages that define our lives. We live in an age of unprecedented prosperity, but also unspeakable deprivation around the world. I am pleased that elimination of poverty in all forms everywhere is at the top of our goals. Addressing the needs of 1.3 billion poor people in the world is not merely a question of their survival and dignity or our moral responsibility. It is a vital necessity for ensuring peaceful, sustainable and just world. A great Indian thinker, Pandit Deen Dayal Upadhyay, placed the welfare of the poorest at the centre of his thoughts. This is what we also see in the 2030 Agenda. It is a happy coincidence that we are beginning the celebration of Pandit Deen Dayal Upadhyayâs 100th anniversary today. The goals recognize that economic growth, industrialization, infrastructure, and access to energy provide the foundations of development. We welcome the prominence given to environmental goals, especially climate change and sustainable consumption. The distinct goal on ocean ecosystem reflects the unique character of its challenges and opportunities. Equally important, it focuses our attention on the future of the island states. I speak about Blue Revolution, which includes the prosperity, sustainable use of marine wealth and blue skies. Today, much of Indiaâs development agenda is mirrored in the Sustainable Development Goals. Since Independence, we have pursued the dream of eliminating poverty from India. We have chosen the path of removing poverty by empowering the poor. We have placed priority on education and skill development. Our attack on poverty today includes expanded conventional schemes of development, but we have also launched a new era of inclusion and empowerment, turning distant dreams into immediate possibilities: new bank accounts for 180 million; direct transfer of benefits; funds to the unbanked; insurance within the reach of all; and, pension for everyone's sunset years. The world speaks of private sector and public sector. In India, we have defined a new personal sector of individual enterprise, micro enterprises and micro finance, drawing also on the strength of digital and mobile applications. We are focusing on the basics: housing, power, water and sanitation for all â important not just for welfare, but also human dignity. These are goals with a definite date, not just a mirage of hope. Our development is intrinsically linked to empowerment of women and it begins with a massive programme on educating the girl child that has become every familyâs mission. We are making our farms more productive and better connected to markets; and, farmers less vulnerable to the whims of nature. We are reviving our manufacturing, improving our services sector, investing on an unprecedented scale in infrastructure; and, making our cities smart, sustainable and engines of progress. We are committed to a sustainable path to prosperity. It comes from the natural instinct of our tradition and culture. But, it is also rooted firmly in our commitment to the future. We represent a culture that calls our planet Mother Earth. As our ancient text say: \"Keep pure! For the Earth is our mother! And we are her children!\" Our national plans are ambitious and purposeful: new capacity of 175 GW of renewable energy over the next seven years; energy efficiency; a tax on coal; a huge afforestation programme; reforming our transportation; and, cleaning up our cities and rivers. The energy intensity of our growth will continue to decline. Sustainable development of one-sixth of humanity will be of great consequence to the world and our beautiful planet. It will be a world of fewer challenges and greater hope; and, more confident of its success. Our success will give us more resources to share with our friends. As Indiaâs ancient saying goes, the wise look at the world as one family. Today, India is fulfilling its responsibilities as development partners in Asia and Africa and with small island states from the Pacific to the Atlantic. Nations have a national responsibility for sustainable development. They also need policy space. However, we are here today in the United Nations because we all believe that international partnership must be at the centre of our efforts, whether it is development or combating climate change. And, the principle of common but differentiated responsibilities is the bedrock of our collective enterprise. When we speak only of climate change, there is a perception of our desire to secure the comforts of our lifestyle. When we speak of climate justice, we demonstrate our sensitivity and resolve to secure the future of the poor from the perils of natural disasters. In addressing climate change, it is important to focus on solutions that can help us reach our goals. We should forge a global public partnership to harness technology, innovation and finance to put affordable clean and renewable energy within the reach of all. Equally, we must look for changes in our lifestyles that would make us less dependent on energy and more sustainable in our consumption. It is equally critical to launch a global education programme that prepares our next generation to protect and conserve Nature. I hope that the Developed World will fulfil its financing commitments for development and climate change, without in any way putting both under the same head! I also hope that the Technology Facilitation Mechanism will turn technology and innovation into an effective instrument for global public good, not just private returns. As we see now, distance is no insulation from challenges. And, they can rise from the shadows of conflict and privations from distant lands. So, we must transform international partnerships on the strength of solidarity with fellow human beings and also our enlightened self-interest. And, we must also reform the United Nations, including its Security Council, so that it carries greater credibility and legitimacy and will be more representative and effective in achieving our goals. There is no cause greater than shaping a world, in which every life that enters it can look to a future of security, opportunity and dignity; and, where we leave our environment in better shape for the next generation. And, no cause that is more challenging. At 70, we are called to rise to that challenge, with our wisdom, experience, generosity, compassion, skills and technology. I am confident that we can. In the end, let me express my hope for everyoneâs well with a few lines from our ancient texts: May all be happy, may all be healthy, may all see welfare, may no one have any sorrow. Thank you.\n"
     ]
    }
   ],
   "source": [
    "x = \"\"\n",
    "for i in wtext:\n",
    "    x= x + \" \" + i\n",
    "print(x)"
   ]
  },
  {
   "cell_type": "code",
   "execution_count": 7,
   "metadata": {},
   "outputs": [
    {
     "name": "stdout",
     "output_type": "stream",
     "text": [
      "\n",
      "\n",
      " 1194\n",
      "\n",
      "\n",
      " [148, 149, 150, 151, 152, 153, 154, 33, 155, 77, 1, 15, 42, 19, 34, 156, 157, 50, 51, 158, 52, 11, 51, 159, 160, 6, 25, 161, 6, 1, 15, 2, 53, 6, 1, 35, 162, 54, 163, 1, 78, 3, 7, 164, 165, 2, 166, 3, 7, 36, 26, 12, 4, 79, 5, 13, 167, 6, 168, 7, 169, 12, 4, 50, 2, 4, 55, 27, 170, 80, 7, 171, 43, 172, 2, 81, 173, 174, 175, 12, 176, 11, 37, 28, 4, 177, 178, 1, 56, 82, 8, 179, 4, 20, 13, 180, 11, 181, 83, 6, 1, 182, 9, 21, 183, 184, 1, 185, 186, 2, 11, 84, 4, 187, 188, 3, 1, 189, 85, 2, 86, 190, 9, 191, 4, 192, 5, 193, 10, 57, 79, 3, 87, 58, 38, 17, 194, 195, 196, 1, 15, 27, 88, 197, 9, 198, 3, 44, 10, 22, 199, 200, 8, 39, 1, 201, 3, 4, 20, 89, 1, 202, 3, 203, 204, 205, 59, 206, 10, 1, 15, 8, 34, 207, 7, 208, 3, 209, 210, 2, 60, 90, 4, 211, 53, 11, 8, 7, 212, 213, 12, 214, 215, 18, 2, 37, 15, 7, 91, 216, 217, 92, 93, 94, 218, 95, 1, 61, 3, 1, 219, 39, 1, 96, 3, 220, 221, 80, 8, 222, 5, 17, 62, 10, 1, 82, 56, 11, 8, 7, 97, 223, 9, 5, 13, 224, 1, 225, 3, 92, 93, 94, 226, 227, 228, 40, 1, 20, 229, 9, 85, 98, 230, 99, 2, 231, 6, 29, 232, 1, 233, 3, 16, 5, 234, 1, 235, 236, 6, 86, 20, 237, 30, 41, 2, 18, 100, 1, 238, 239, 14, 240, 241, 84, 1, 242, 243, 3, 25, 63, 2, 244, 64, 43, 11, 245, 4, 246, 14, 1, 35, 3, 1, 101, 102, 27, 65, 77, 103, 247, 104, 105, 1, 58, 18, 248, 3, 249, 250, 2, 103, 251, 40, 252, 3, 106, 16, 56, 8, 253, 10, 1, 18, 16, 20, 254, 255, 5, 21, 256, 1, 257, 3, 258, 44, 23, 66, 5, 21, 259, 1, 107, 3, 260, 44, 261, 262, 1, 59, 5, 21, 95, 83, 14, 108, 2, 263, 16, 4, 264, 14, 44, 40, 105, 265, 266, 267, 3, 16, 38, 5, 21, 17, 268, 7, 36, 269, 3, 270, 2, 109, 271, 110, 272, 111, 273, 274, 36, 275, 276, 12, 277, 278, 279, 280, 3, 281, 282, 6, 1, 283, 284, 112, 1, 67, 3, 22, 2, 285, 12, 286, 287, 54, 1, 15, 288, 3, 113, 45, 2, 68, 45, 10, 66, 5, 21, 289, 7, 36, 290, 45, 3, 291, 114, 115, 292, 2, 115, 116, 293, 17, 14, 1, 117, 3, 294, 2, 295, 296, 5, 13, 297, 14, 1, 298, 299, 300, 301, 2, 302, 12, 22, 303, 43, 34, 37, 12, 61, 38, 17, 118, 60, 304, 13, 20, 24, 7, 305, 306, 34, 37, 7, 307, 3, 26, 4, 16, 8, 308, 309, 6, 109, 3, 310, 2, 11, 311, 24, 7, 312, 69, 14, 313, 1, 314, 315, 9, 51, 316, 119, 317, 318, 5, 13, 120, 4, 319, 31, 320, 2, 121, 321, 6, 322, 2, 323, 122, 324, 6, 1, 325, 3, 123, 5, 13, 326, 4, 327, 328, 4, 329, 45, 330, 14, 57, 87, 331, 10, 99, 2, 120, 4, 124, 332, 18, 2, 333, 3, 334, 5, 13, 335, 6, 7, 18, 107, 6, 58, 11, 336, 23, 1, 125, 337, 3, 4, 338, 2, 126, 38, 11, 8, 17, 339, 340, 10, 4, 341, 6, 1, 35, 5, 342, 7, 126, 9, 343, 4, 55, 127, 128, 28, 4, 70, 344, 345, 346, 347, 12, 1, 128, 8, 4, 127, 2, 5, 13, 348, 349, 4, 129, 350, 13, 351, 2, 352, 36, 353, 3, 354, 355, 3, 130, 29, 356, 1, 71, 357, 54, 29, 358, 7, 359, 14, 360, 7, 361, 362, 69, 363, 4, 364, 2, 365, 366, 4, 124, 2, 367, 1, 29, 368, 3, 4, 98, 19, 369, 6, 370, 18, 16, 3, 42, 371, 3, 50, 19, 32, 3, 91, 372, 6, 1, 15, 2, 4, 373, 55, 11, 19, 32, 7, 15, 3, 374, 63, 2, 72, 26, 2, 31, 131, 3, 25, 132, 4, 132, 19, 375, 73, 31, 376, 6, 377, 24, 4, 378, 28, 106, 70, 379, 380, 1, 381, 74, 39, 1, 15, 28, 42, 382, 40, 66, 8, 383, 25, 133, 28, 16, 384, 10, 385, 2, 386, 2, 24, 387, 101, 102, 23, 1, 388, 6, 1, 389, 75, 21, 7, 129, 53, 12, 18, 16, 134, 17, 390, 391, 392, 393, 5, 13, 394, 40, 10, 1, 135, 75, 395, 5, 22, 396, 9, 136, 137, 33, 32, 39, 1, 96, 3, 4, 397, 398, 11, 8, 16, 90, 399, 30, 41, 2, 1, 400, 3, 401, 38, 402, 133, 8, 1, 403, 3, 4, 404, 114, 52, 5, 65, 405, 3, 30, 41, 138, 8, 7, 406, 3, 4, 407, 6, 139, 1, 408, 3, 4, 409, 52, 5, 65, 3, 30, 410, 5, 411, 4, 412, 2, 413, 6, 139, 1, 35, 3, 1, 59, 23, 1, 414, 3, 125, 415, 10, 89, 30, 41, 11, 8, 43, 6, 416, 14, 417, 9, 46, 418, 73, 67, 4, 20, 5, 419, 420, 7, 76, 68, 137, 6, 421, 47, 140, 2, 116, 6, 422, 423, 424, 2, 130, 29, 112, 1, 67, 3, 22, 64, 5, 33, 74, 12, 425, 10, 4, 426, 9, 427, 428, 73, 122, 429, 14, 29, 2, 31, 18, 10, 4, 100, 11, 8, 64, 430, 6, 431, 7, 76, 108, 69, 9, 432, 4, 71, 141, 6, 433, 2, 434, 123, 27, 26, 9, 1, 435, 15, 19, 436, 25, 437, 438, 12, 16, 2, 30, 41, 439, 10, 142, 440, 441, 442, 443, 1, 444, 445, 27, 17, 26, 9, 1, 47, 446, 447, 19, 448, 47, 2, 140, 111, 57, 143, 449, 12, 76, 68, 450, 34, 37, 113, 451, 28, 5, 62, 452, 453, 8, 48, 454, 23, 63, 2, 134, 46, 144, 23, 1, 455, 3, 456, 2, 457, 23, 110, 458, 145, 5, 33, 459, 136, 460, 14, 1, 117, 3, 461, 24, 462, 118, 463, 2, 17, 4, 464, 465, 466, 2, 5, 33, 17, 467, 1, 135, 75, 468, 25, 146, 469, 145, 9, 11, 470, 72, 471, 2, 472, 2, 19, 32, 31, 473, 2, 143, 10, 474, 4, 20, 138, 8, 48, 147, 72, 475, 476, 7, 15, 10, 104, 119, 477, 9, 478, 11, 46, 74, 6, 7, 35, 3, 146, 479, 2, 60, 2, 480, 5, 481, 4, 482, 10, 121, 483, 12, 1, 71, 141, 2, 48, 147, 9, 8, 31, 484, 39, 485, 5, 13, 486, 6, 144, 6, 9, 487, 24, 4, 488, 489, 490, 491, 492, 2, 47, 27, 88, 131, 9, 5, 46, 10, 1, 78, 493, 494, 495, 496, 26, 12, 497, 498, 24, 7, 499, 500, 23, 4, 70, 501, 49, 22, 32, 97, 49, 22, 32, 502, 49, 22, 62, 61, 49, 48, 42, 21, 142, 503, 81, 504]\n"
     ]
    }
   ],
   "source": [
    "# vector representation \n",
    "tokenizer = Tokenizer()\n",
    "tokenizer.fit_on_texts([x])\n",
    "encoded = tokenizer.texts_to_sequences([x])[0]\n",
    "print(\"\\n\\n\" , len(encoded))\n",
    "print(\"\\n\\n\" , encoded)\n",
    "\n"
   ]
  },
  {
   "cell_type": "code",
   "execution_count": 8,
   "metadata": {},
   "outputs": [
    {
     "name": "stdout",
     "output_type": "stream",
     "text": [
      "Vocabulary Size: 505\n"
     ]
    }
   ],
   "source": [
    "# retrieve vocabulary size\n",
    "vocab_size = len(tokenizer.word_index) + 1\n",
    "print('Vocabulary Size: %d' % vocab_size)"
   ]
  },
  {
   "cell_type": "code",
   "execution_count": 9,
   "metadata": {
    "scrolled": true
   },
   "outputs": [
    {
     "name": "stdout",
     "output_type": "stream",
     "text": [
      "Total Sequences: 1192\n",
      "\n",
      " [[148, 149, 150], [149, 150, 151], [150, 151, 152], [151, 152, 153], [152, 153, 154], [153, 154, 33], [154, 33, 155], [33, 155, 77], [155, 77, 1], [77, 1, 15], [1, 15, 42], [15, 42, 19], [42, 19, 34], [19, 34, 156], [34, 156, 157], [156, 157, 50], [157, 50, 51], [50, 51, 158], [51, 158, 52], [158, 52, 11], [52, 11, 51], [11, 51, 159], [51, 159, 160], [159, 160, 6], [160, 6, 25], [6, 25, 161], [25, 161, 6], [161, 6, 1], [6, 1, 15], [1, 15, 2], [15, 2, 53], [2, 53, 6], [53, 6, 1], [6, 1, 35], [1, 35, 162], [35, 162, 54], [162, 54, 163], [54, 163, 1], [163, 1, 78], [1, 78, 3], [78, 3, 7], [3, 7, 164], [7, 164, 165], [164, 165, 2], [165, 2, 166], [2, 166, 3], [166, 3, 7], [3, 7, 36], [7, 36, 26], [36, 26, 12], [26, 12, 4], [12, 4, 79], [4, 79, 5], [79, 5, 13], [5, 13, 167], [13, 167, 6], [167, 6, 168], [6, 168, 7], [168, 7, 169], [7, 169, 12], [169, 12, 4], [12, 4, 50], [4, 50, 2], [50, 2, 4], [2, 4, 55], [4, 55, 27], [55, 27, 170], [27, 170, 80], [170, 80, 7], [80, 7, 171], [7, 171, 43], [171, 43, 172], [43, 172, 2], [172, 2, 81], [2, 81, 173], [81, 173, 174], [173, 174, 175], [174, 175, 12], [175, 12, 176], [12, 176, 11], [176, 11, 37], [11, 37, 28], [37, 28, 4], [28, 4, 177], [4, 177, 178], [177, 178, 1], [178, 1, 56], [1, 56, 82], [56, 82, 8], [82, 8, 179], [8, 179, 4], [179, 4, 20], [4, 20, 13], [20, 13, 180], [13, 180, 11], [180, 11, 181], [11, 181, 83], [181, 83, 6], [83, 6, 1], [6, 1, 182], [1, 182, 9], [182, 9, 21], [9, 21, 183], [21, 183, 184], [183, 184, 1], [184, 1, 185], [1, 185, 186], [185, 186, 2], [186, 2, 11], [2, 11, 84], [11, 84, 4], [84, 4, 187], [4, 187, 188], [187, 188, 3], [188, 3, 1], [3, 1, 189], [1, 189, 85], [189, 85, 2], [85, 2, 86], [2, 86, 190], [86, 190, 9], [190, 9, 191], [9, 191, 4], [191, 4, 192], [4, 192, 5], [192, 5, 193], [5, 193, 10], [193, 10, 57], [10, 57, 79], [57, 79, 3], [79, 3, 87], [3, 87, 58], [87, 58, 38], [58, 38, 17], [38, 17, 194], [17, 194, 195], [194, 195, 196], [195, 196, 1], [196, 1, 15], [1, 15, 27], [15, 27, 88], [27, 88, 197], [88, 197, 9], [197, 9, 198], [9, 198, 3], [198, 3, 44], [3, 44, 10], [44, 10, 22], [10, 22, 199], [22, 199, 200], [199, 200, 8], [200, 8, 39], [8, 39, 1], [39, 1, 201], [1, 201, 3], [201, 3, 4], [3, 4, 20], [4, 20, 89], [20, 89, 1], [89, 1, 202], [1, 202, 3], [202, 3, 203], [3, 203, 204], [203, 204, 205], [204, 205, 59], [205, 59, 206], [59, 206, 10], [206, 10, 1], [10, 1, 15], [1, 15, 8], [15, 8, 34], [8, 34, 207], [34, 207, 7], [207, 7, 208], [7, 208, 3], [208, 3, 209], [3, 209, 210], [209, 210, 2], [210, 2, 60], [2, 60, 90], [60, 90, 4], [90, 4, 211], [4, 211, 53], [211, 53, 11], [53, 11, 8], [11, 8, 7], [8, 7, 212], [7, 212, 213], [212, 213, 12], [213, 12, 214], [12, 214, 215], [214, 215, 18], [215, 18, 2], [18, 2, 37], [2, 37, 15], [37, 15, 7], [15, 7, 91], [7, 91, 216], [91, 216, 217], [216, 217, 92], [217, 92, 93], [92, 93, 94], [93, 94, 218], [94, 218, 95], [218, 95, 1], [95, 1, 61], [1, 61, 3], [61, 3, 1], [3, 1, 219], [1, 219, 39], [219, 39, 1], [39, 1, 96], [1, 96, 3], [96, 3, 220], [3, 220, 221], [220, 221, 80], [221, 80, 8], [80, 8, 222], [8, 222, 5], [222, 5, 17], [5, 17, 62], [17, 62, 10], [62, 10, 1], [10, 1, 82], [1, 82, 56], [82, 56, 11], [56, 11, 8], [11, 8, 7], [8, 7, 97], [7, 97, 223], [97, 223, 9], [223, 9, 5], [9, 5, 13], [5, 13, 224], [13, 224, 1], [224, 1, 225], [1, 225, 3], [225, 3, 92], [3, 92, 93], [92, 93, 94], [93, 94, 226], [94, 226, 227], [226, 227, 228], [227, 228, 40], [228, 40, 1], [40, 1, 20], [1, 20, 229], [20, 229, 9], [229, 9, 85], [9, 85, 98], [85, 98, 230], [98, 230, 99], [230, 99, 2], [99, 2, 231], [2, 231, 6], [231, 6, 29], [6, 29, 232], [29, 232, 1], [232, 1, 233], [1, 233, 3], [233, 3, 16], [3, 16, 5], [16, 5, 234], [5, 234, 1], [234, 1, 235], [1, 235, 236], [235, 236, 6], [236, 6, 86], [6, 86, 20], [86, 20, 237], [20, 237, 30], [237, 30, 41], [30, 41, 2], [41, 2, 18], [2, 18, 100], [18, 100, 1], [100, 1, 238], [1, 238, 239], [238, 239, 14], [239, 14, 240], [14, 240, 241], [240, 241, 84], [241, 84, 1], [84, 1, 242], [1, 242, 243], [242, 243, 3], [243, 3, 25], [3, 25, 63], [25, 63, 2], [63, 2, 244], [2, 244, 64], [244, 64, 43], [64, 43, 11], [43, 11, 245], [11, 245, 4], [245, 4, 246], [4, 246, 14], [246, 14, 1], [14, 1, 35], [1, 35, 3], [35, 3, 1], [3, 1, 101], [1, 101, 102], [101, 102, 27], [102, 27, 65], [27, 65, 77], [65, 77, 103], [77, 103, 247], [103, 247, 104], [247, 104, 105], [104, 105, 1], [105, 1, 58], [1, 58, 18], [58, 18, 248], [18, 248, 3], [248, 3, 249], [3, 249, 250], [249, 250, 2], [250, 2, 103], [2, 103, 251], [103, 251, 40], [251, 40, 252], [40, 252, 3], [252, 3, 106], [3, 106, 16], [106, 16, 56], [16, 56, 8], [56, 8, 253], [8, 253, 10], [253, 10, 1], [10, 1, 18], [1, 18, 16], [18, 16, 20], [16, 20, 254], [20, 254, 255], [254, 255, 5], [255, 5, 21], [5, 21, 256], [21, 256, 1], [256, 1, 257], [1, 257, 3], [257, 3, 258], [3, 258, 44], [258, 44, 23], [44, 23, 66], [23, 66, 5], [66, 5, 21], [5, 21, 259], [21, 259, 1], [259, 1, 107], [1, 107, 3], [107, 3, 260], [3, 260, 44], [260, 44, 261], [44, 261, 262], [261, 262, 1], [262, 1, 59], [1, 59, 5], [59, 5, 21], [5, 21, 95], [21, 95, 83], [95, 83, 14], [83, 14, 108], [14, 108, 2], [108, 2, 263], [2, 263, 16], [263, 16, 4], [16, 4, 264], [4, 264, 14], [264, 14, 44], [14, 44, 40], [44, 40, 105], [40, 105, 265], [105, 265, 266], [265, 266, 267], [266, 267, 3], [267, 3, 16], [3, 16, 38], [16, 38, 5], [38, 5, 21], [5, 21, 17], [21, 17, 268], [17, 268, 7], [268, 7, 36], [7, 36, 269], [36, 269, 3], [269, 3, 270], [3, 270, 2], [270, 2, 109], [2, 109, 271], [109, 271, 110], [271, 110, 272], [110, 272, 111], [272, 111, 273], [111, 273, 274], [273, 274, 36], [274, 36, 275], [36, 275, 276], [275, 276, 12], [276, 12, 277], [12, 277, 278], [277, 278, 279], [278, 279, 280], [279, 280, 3], [280, 3, 281], [3, 281, 282], [281, 282, 6], [282, 6, 1], [6, 1, 283], [1, 283, 284], [283, 284, 112], [284, 112, 1], [112, 1, 67], [1, 67, 3], [67, 3, 22], [3, 22, 2], [22, 2, 285], [2, 285, 12], [285, 12, 286], [12, 286, 287], [286, 287, 54], [287, 54, 1], [54, 1, 15], [1, 15, 288], [15, 288, 3], [288, 3, 113], [3, 113, 45], [113, 45, 2], [45, 2, 68], [2, 68, 45], [68, 45, 10], [45, 10, 66], [10, 66, 5], [66, 5, 21], [5, 21, 289], [21, 289, 7], [289, 7, 36], [7, 36, 290], [36, 290, 45], [290, 45, 3], [45, 3, 291], [3, 291, 114], [291, 114, 115], [114, 115, 292], [115, 292, 2], [292, 2, 115], [2, 115, 116], [115, 116, 293], [116, 293, 17], [293, 17, 14], [17, 14, 1], [14, 1, 117], [1, 117, 3], [117, 3, 294], [3, 294, 2], [294, 2, 295], [2, 295, 296], [295, 296, 5], [296, 5, 13], [5, 13, 297], [13, 297, 14], [297, 14, 1], [14, 1, 298], [1, 298, 299], [298, 299, 300], [299, 300, 301], [300, 301, 2], [301, 2, 302], [2, 302, 12], [302, 12, 22], [12, 22, 303], [22, 303, 43], [303, 43, 34], [43, 34, 37], [34, 37, 12], [37, 12, 61], [12, 61, 38], [61, 38, 17], [38, 17, 118], [17, 118, 60], [118, 60, 304], [60, 304, 13], [304, 13, 20], [13, 20, 24], [20, 24, 7], [24, 7, 305], [7, 305, 306], [305, 306, 34], [306, 34, 37], [34, 37, 7], [37, 7, 307], [7, 307, 3], [307, 3, 26], [3, 26, 4], [26, 4, 16], [4, 16, 8], [16, 8, 308], [8, 308, 309], [308, 309, 6], [309, 6, 109], [6, 109, 3], [109, 3, 310], [3, 310, 2], [310, 2, 11], [2, 11, 311], [11, 311, 24], [311, 24, 7], [24, 7, 312], [7, 312, 69], [312, 69, 14], [69, 14, 313], [14, 313, 1], [313, 1, 314], [1, 314, 315], [314, 315, 9], [315, 9, 51], [9, 51, 316], [51, 316, 119], [316, 119, 317], [119, 317, 318], [317, 318, 5], [318, 5, 13], [5, 13, 120], [13, 120, 4], [120, 4, 319], [4, 319, 31], [319, 31, 320], [31, 320, 2], [320, 2, 121], [2, 121, 321], [121, 321, 6], [321, 6, 322], [6, 322, 2], [322, 2, 323], [2, 323, 122], [323, 122, 324], [122, 324, 6], [324, 6, 1], [6, 1, 325], [1, 325, 3], [325, 3, 123], [3, 123, 5], [123, 5, 13], [5, 13, 326], [13, 326, 4], [326, 4, 327], [4, 327, 328], [327, 328, 4], [328, 4, 329], [4, 329, 45], [329, 45, 330], [45, 330, 14], [330, 14, 57], [14, 57, 87], [57, 87, 331], [87, 331, 10], [331, 10, 99], [10, 99, 2], [99, 2, 120], [2, 120, 4], [120, 4, 124], [4, 124, 332], [124, 332, 18], [332, 18, 2], [18, 2, 333], [2, 333, 3], [333, 3, 334], [3, 334, 5], [334, 5, 13], [5, 13, 335], [13, 335, 6], [335, 6, 7], [6, 7, 18], [7, 18, 107], [18, 107, 6], [107, 6, 58], [6, 58, 11], [58, 11, 336], [11, 336, 23], [336, 23, 1], [23, 1, 125], [1, 125, 337], [125, 337, 3], [337, 3, 4], [3, 4, 338], [4, 338, 2], [338, 2, 126], [2, 126, 38], [126, 38, 11], [38, 11, 8], [11, 8, 17], [8, 17, 339], [17, 339, 340], [339, 340, 10], [340, 10, 4], [10, 4, 341], [4, 341, 6], [341, 6, 1], [6, 1, 35], [1, 35, 5], [35, 5, 342], [5, 342, 7], [342, 7, 126], [7, 126, 9], [126, 9, 343], [9, 343, 4], [343, 4, 55], [4, 55, 127], [55, 127, 128], [127, 128, 28], [128, 28, 4], [28, 4, 70], [4, 70, 344], [70, 344, 345], [344, 345, 346], [345, 346, 347], [346, 347, 12], [347, 12, 1], [12, 1, 128], [1, 128, 8], [128, 8, 4], [8, 4, 127], [4, 127, 2], [127, 2, 5], [2, 5, 13], [5, 13, 348], [13, 348, 349], [348, 349, 4], [349, 4, 129], [4, 129, 350], [129, 350, 13], [350, 13, 351], [13, 351, 2], [351, 2, 352], [2, 352, 36], [352, 36, 353], [36, 353, 3], [353, 3, 354], [3, 354, 355], [354, 355, 3], [355, 3, 130], [3, 130, 29], [130, 29, 356], [29, 356, 1], [356, 1, 71], [1, 71, 357], [71, 357, 54], [357, 54, 29], [54, 29, 358], [29, 358, 7], [358, 7, 359], [7, 359, 14], [359, 14, 360], [14, 360, 7], [360, 7, 361], [7, 361, 362], [361, 362, 69], [362, 69, 363], [69, 363, 4], [363, 4, 364], [4, 364, 2], [364, 2, 365], [2, 365, 366], [365, 366, 4], [366, 4, 124], [4, 124, 2], [124, 2, 367], [2, 367, 1], [367, 1, 29], [1, 29, 368], [29, 368, 3], [368, 3, 4], [3, 4, 98], [4, 98, 19], [98, 19, 369], [19, 369, 6], [369, 6, 370], [6, 370, 18], [370, 18, 16], [18, 16, 3], [16, 3, 42], [3, 42, 371], [42, 371, 3], [371, 3, 50], [3, 50, 19], [50, 19, 32], [19, 32, 3], [32, 3, 91], [3, 91, 372], [91, 372, 6], [372, 6, 1], [6, 1, 15], [1, 15, 2], [15, 2, 4], [2, 4, 373], [4, 373, 55], [373, 55, 11], [55, 11, 19], [11, 19, 32], [19, 32, 7], [32, 7, 15], [7, 15, 3], [15, 3, 374], [3, 374, 63], [374, 63, 2], [63, 2, 72], [2, 72, 26], [72, 26, 2], [26, 2, 31], [2, 31, 131], [31, 131, 3], [131, 3, 25], [3, 25, 132], [25, 132, 4], [132, 4, 132], [4, 132, 19], [132, 19, 375], [19, 375, 73], [375, 73, 31], [73, 31, 376], [31, 376, 6], [376, 6, 377], [6, 377, 24], [377, 24, 4], [24, 4, 378], [4, 378, 28], [378, 28, 106], [28, 106, 70], [106, 70, 379], [70, 379, 380], [379, 380, 1], [380, 1, 381], [1, 381, 74], [381, 74, 39], [74, 39, 1], [39, 1, 15], [1, 15, 28], [15, 28, 42], [28, 42, 382], [42, 382, 40], [382, 40, 66], [40, 66, 8], [66, 8, 383], [8, 383, 25], [383, 25, 133], [25, 133, 28], [133, 28, 16], [28, 16, 384], [16, 384, 10], [384, 10, 385], [10, 385, 2], [385, 2, 386], [2, 386, 2], [386, 2, 24], [2, 24, 387], [24, 387, 101], [387, 101, 102], [101, 102, 23], [102, 23, 1], [23, 1, 388], [1, 388, 6], [388, 6, 1], [6, 1, 389], [1, 389, 75], [389, 75, 21], [75, 21, 7], [21, 7, 129], [7, 129, 53], [129, 53, 12], [53, 12, 18], [12, 18, 16], [18, 16, 134], [16, 134, 17], [134, 17, 390], [17, 390, 391], [390, 391, 392], [391, 392, 393], [392, 393, 5], [393, 5, 13], [5, 13, 394], [13, 394, 40], [394, 40, 10], [40, 10, 1], [10, 1, 135], [1, 135, 75], [135, 75, 395], [75, 395, 5], [395, 5, 22], [5, 22, 396], [22, 396, 9], [396, 9, 136], [9, 136, 137], [136, 137, 33], [137, 33, 32], [33, 32, 39], [32, 39, 1], [39, 1, 96], [1, 96, 3], [96, 3, 4], [3, 4, 397], [4, 397, 398], [397, 398, 11], [398, 11, 8], [11, 8, 16], [8, 16, 90], [16, 90, 399], [90, 399, 30], [399, 30, 41], [30, 41, 2], [41, 2, 1], [2, 1, 400], [1, 400, 3], [400, 3, 401], [3, 401, 38], [401, 38, 402], [38, 402, 133], [402, 133, 8], [133, 8, 1], [8, 1, 403], [1, 403, 3], [403, 3, 4], [3, 4, 404], [4, 404, 114], [404, 114, 52], [114, 52, 5], [52, 5, 65], [5, 65, 405], [65, 405, 3], [405, 3, 30], [3, 30, 41], [30, 41, 138], [41, 138, 8], [138, 8, 7], [8, 7, 406], [7, 406, 3], [406, 3, 4], [3, 4, 407], [4, 407, 6], [407, 6, 139], [6, 139, 1], [139, 1, 408], [1, 408, 3], [408, 3, 4], [3, 4, 409], [4, 409, 52], [409, 52, 5], [52, 5, 65], [5, 65, 3], [65, 3, 30], [3, 30, 410], [30, 410, 5], [410, 5, 411], [5, 411, 4], [411, 4, 412], [4, 412, 2], [412, 2, 413], [2, 413, 6], [413, 6, 139], [6, 139, 1], [139, 1, 35], [1, 35, 3], [35, 3, 1], [3, 1, 59], [1, 59, 23], [59, 23, 1], [23, 1, 414], [1, 414, 3], [414, 3, 125], [3, 125, 415], [125, 415, 10], [415, 10, 89], [10, 89, 30], [89, 30, 41], [30, 41, 11], [41, 11, 8], [11, 8, 43], [8, 43, 6], [43, 6, 416], [6, 416, 14], [416, 14, 417], [14, 417, 9], [417, 9, 46], [9, 46, 418], [46, 418, 73], [418, 73, 67], [73, 67, 4], [67, 4, 20], [4, 20, 5], [20, 5, 419], [5, 419, 420], [419, 420, 7], [420, 7, 76], [7, 76, 68], [76, 68, 137], [68, 137, 6], [137, 6, 421], [6, 421, 47], [421, 47, 140], [47, 140, 2], [140, 2, 116], [2, 116, 6], [116, 6, 422], [6, 422, 423], [422, 423, 424], [423, 424, 2], [424, 2, 130], [2, 130, 29], [130, 29, 112], [29, 112, 1], [112, 1, 67], [1, 67, 3], [67, 3, 22], [3, 22, 64], [22, 64, 5], [64, 5, 33], [5, 33, 74], [33, 74, 12], [74, 12, 425], [12, 425, 10], [425, 10, 4], [10, 4, 426], [4, 426, 9], [426, 9, 427], [9, 427, 428], [427, 428, 73], [428, 73, 122], [73, 122, 429], [122, 429, 14], [429, 14, 29], [14, 29, 2], [29, 2, 31], [2, 31, 18], [31, 18, 10], [18, 10, 4], [10, 4, 100], [4, 100, 11], [100, 11, 8], [11, 8, 64], [8, 64, 430], [64, 430, 6], [430, 6, 431], [6, 431, 7], [431, 7, 76], [7, 76, 108], [76, 108, 69], [108, 69, 9], [69, 9, 432], [9, 432, 4], [432, 4, 71], [4, 71, 141], [71, 141, 6], [141, 6, 433], [6, 433, 2], [433, 2, 434], [2, 434, 123], [434, 123, 27], [123, 27, 26], [27, 26, 9], [26, 9, 1], [9, 1, 435], [1, 435, 15], [435, 15, 19], [15, 19, 436], [19, 436, 25], [436, 25, 437], [25, 437, 438], [437, 438, 12], [438, 12, 16], [12, 16, 2], [16, 2, 30], [2, 30, 41], [30, 41, 439], [41, 439, 10], [439, 10, 142], [10, 142, 440], [142, 440, 441], [440, 441, 442], [441, 442, 443], [442, 443, 1], [443, 1, 444], [1, 444, 445], [444, 445, 27], [445, 27, 17], [27, 17, 26], [17, 26, 9], [26, 9, 1], [9, 1, 47], [1, 47, 446], [47, 446, 447], [446, 447, 19], [447, 19, 448], [19, 448, 47], [448, 47, 2], [47, 2, 140], [2, 140, 111], [140, 111, 57], [111, 57, 143], [57, 143, 449], [143, 449, 12], [449, 12, 76], [12, 76, 68], [76, 68, 450], [68, 450, 34], [450, 34, 37], [34, 37, 113], [37, 113, 451], [113, 451, 28], [451, 28, 5], [28, 5, 62], [5, 62, 452], [62, 452, 453], [452, 453, 8], [453, 8, 48], [8, 48, 454], [48, 454, 23], [454, 23, 63], [23, 63, 2], [63, 2, 134], [2, 134, 46], [134, 46, 144], [46, 144, 23], [144, 23, 1], [23, 1, 455], [1, 455, 3], [455, 3, 456], [3, 456, 2], [456, 2, 457], [2, 457, 23], [457, 23, 110], [23, 110, 458], [110, 458, 145], [458, 145, 5], [145, 5, 33], [5, 33, 459], [33, 459, 136], [459, 136, 460], [136, 460, 14], [460, 14, 1], [14, 1, 117], [1, 117, 3], [117, 3, 461], [3, 461, 24], [461, 24, 462], [24, 462, 118], [462, 118, 463], [118, 463, 2], [463, 2, 17], [2, 17, 4], [17, 4, 464], [4, 464, 465], [464, 465, 466], [465, 466, 2], [466, 2, 5], [2, 5, 33], [5, 33, 17], [33, 17, 467], [17, 467, 1], [467, 1, 135], [1, 135, 75], [135, 75, 468], [75, 468, 25], [468, 25, 146], [25, 146, 469], [146, 469, 145], [469, 145, 9], [145, 9, 11], [9, 11, 470], [11, 470, 72], [470, 72, 471], [72, 471, 2], [471, 2, 472], [2, 472, 2], [472, 2, 19], [2, 19, 32], [19, 32, 31], [32, 31, 473], [31, 473, 2], [473, 2, 143], [2, 143, 10], [143, 10, 474], [10, 474, 4], [474, 4, 20], [4, 20, 138], [20, 138, 8], [138, 8, 48], [8, 48, 147], [48, 147, 72], [147, 72, 475], [72, 475, 476], [475, 476, 7], [476, 7, 15], [7, 15, 10], [15, 10, 104], [10, 104, 119], [104, 119, 477], [119, 477, 9], [477, 9, 478], [9, 478, 11], [478, 11, 46], [11, 46, 74], [46, 74, 6], [74, 6, 7], [6, 7, 35], [7, 35, 3], [35, 3, 146], [3, 146, 479], [146, 479, 2], [479, 2, 60], [2, 60, 2], [60, 2, 480], [2, 480, 5], [480, 5, 481], [5, 481, 4], [481, 4, 482], [4, 482, 10], [482, 10, 121], [10, 121, 483], [121, 483, 12], [483, 12, 1], [12, 1, 71], [1, 71, 141], [71, 141, 2], [141, 2, 48], [2, 48, 147], [48, 147, 9], [147, 9, 8], [9, 8, 31], [8, 31, 484], [31, 484, 39], [484, 39, 485], [39, 485, 5], [485, 5, 13], [5, 13, 486], [13, 486, 6], [486, 6, 144], [6, 144, 6], [144, 6, 9], [6, 9, 487], [9, 487, 24], [487, 24, 4], [24, 4, 488], [4, 488, 489], [488, 489, 490], [489, 490, 491], [490, 491, 492], [491, 492, 2], [492, 2, 47], [2, 47, 27], [47, 27, 88], [27, 88, 131], [88, 131, 9], [131, 9, 5], [9, 5, 46], [5, 46, 10], [46, 10, 1], [10, 1, 78], [1, 78, 493], [78, 493, 494], [493, 494, 495], [494, 495, 496], [495, 496, 26], [496, 26, 12], [26, 12, 497], [12, 497, 498], [497, 498, 24], [498, 24, 7], [24, 7, 499], [7, 499, 500], [499, 500, 23], [500, 23, 4], [23, 4, 70], [4, 70, 501], [70, 501, 49], [501, 49, 22], [49, 22, 32], [22, 32, 97], [32, 97, 49], [97, 49, 22], [49, 22, 32], [22, 32, 502], [32, 502, 49], [502, 49, 22], [49, 22, 62], [22, 62, 61], [62, 61, 49], [61, 49, 48], [49, 48, 42], [48, 42, 21], [42, 21, 142], [21, 142, 503], [142, 503, 81], [503, 81, 504]]\n"
     ]
    }
   ],
   "source": [
    "sequences = list()\n",
    "for i in range(2, len(encoded)):\n",
    "\tsequence = encoded[i-2:i+1]\n",
    "\tsequences.append(sequence)\n",
    "print('Total Sequences: %d' % len(sequences))\n",
    "print(\"\\n\",sequences)"
   ]
  },
  {
   "cell_type": "code",
   "execution_count": 10,
   "metadata": {},
   "outputs": [
    {
     "name": "stdout",
     "output_type": "stream",
     "text": [
      "3\n",
      "<class 'list'>\n",
      "Max Sequence Length: 3\n"
     ]
    }
   ],
   "source": [
    "# pad sequences\n",
    "max_length = max([len(seq) for seq in sequences])\n",
    "print(max_length)\n",
    "print(type(sequences))\n",
    "\n",
    "import numpy as np\n",
    "sequences = pad_sequences(sequences, maxlen=max_length,padding='pre')\n",
    "\n",
    "print('Max Sequence Length: %d' % max_length)"
   ]
  },
  {
   "cell_type": "code",
   "execution_count": 11,
   "metadata": {
    "collapsed": true
   },
   "outputs": [],
   "source": [
    "# split into input and output elements\n",
    "sequences = array(sequences)\n",
    "X, y = sequences[:,:-1],sequences[:,-1]\n",
    "y = to_categorical(y, num_classes=vocab_size)"
   ]
  },
  {
   "cell_type": "code",
   "execution_count": 12,
   "metadata": {},
   "outputs": [
    {
     "name": "stdout",
     "output_type": "stream",
     "text": [
      "_________________________________________________________________\n",
      "Layer (type)                 Output Shape              Param #   \n",
      "=================================================================\n",
      "embedding_1 (Embedding)      (None, 2, 128)            64640     \n",
      "_________________________________________________________________\n",
      "lstm_1 (LSTM)                (None, 200)               263200    \n",
      "_________________________________________________________________\n",
      "dense_1 (Dense)              (None, 505)               101505    \n",
      "=================================================================\n",
      "Total params: 429,345\n",
      "Trainable params: 429,345\n",
      "Non-trainable params: 0\n",
      "_________________________________________________________________\n",
      "None\n"
     ]
    }
   ],
   "source": [
    "model = Sequential()\n",
    "model.add(Embedding(vocab_size,128, input_length=max_length-1))\n",
    "model.add(LSTM(200))\n",
    "model.add(Dense(vocab_size, activation='softmax'))\n",
    "print(model.summary())"
   ]
  },
  {
   "cell_type": "code",
   "execution_count": 13,
   "metadata": {},
   "outputs": [],
   "source": [
    "model.compile(loss='categorical_crossentropy', optimizer='adam', metrics=['accuracy'])\n"
   ]
  },
  {
   "cell_type": "code",
   "execution_count": 14,
   "metadata": {},
   "outputs": [
    {
     "name": "stdout",
     "output_type": "stream",
     "text": [
      "Train on 1132 samples, validate on 60 samples\n",
      "Epoch 1/150\n",
      "1132/1132 [==============================] - 5s 5ms/step - loss: 6.2106 - acc: 0.0468 - val_loss: 6.2144 - val_acc: 0.0167\n",
      "Epoch 2/150\n",
      "1132/1132 [==============================] - 1s 1ms/step - loss: 5.9887 - acc: 0.0610 - val_loss: 6.3801 - val_acc: 0.0167\n",
      "Epoch 3/150\n",
      "1132/1132 [==============================] - 1s 885us/step - loss: 5.4411 - acc: 0.0557 - val_loss: 6.5170 - val_acc: 0.0167\n",
      "Epoch 4/150\n",
      "1132/1132 [==============================] - 1s 728us/step - loss: 5.2508 - acc: 0.0769 - val_loss: 6.7256 - val_acc: 0.0167\n",
      "Epoch 5/150\n",
      "1132/1132 [==============================] - 1s 654us/step - loss: 5.1039 - acc: 0.0892 - val_loss: 6.9080 - val_acc: 0.0167\n",
      "Epoch 6/150\n",
      "1132/1132 [==============================] - 1s 665us/step - loss: 4.9501 - acc: 0.0936 - val_loss: 6.8912 - val_acc: 0.0333\n",
      "Epoch 7/150\n",
      "1132/1132 [==============================] - 1s 688us/step - loss: 4.7776 - acc: 0.1237 - val_loss: 6.6894 - val_acc: 0.0500\n",
      "Epoch 8/150\n",
      "1132/1132 [==============================] - 1s 720us/step - loss: 4.5790 - acc: 0.1590 - val_loss: 6.6517 - val_acc: 0.0500\n",
      "Epoch 9/150\n",
      "1132/1132 [==============================] - 1s 703us/step - loss: 4.3397 - acc: 0.1908 - val_loss: 6.5938 - val_acc: 0.0500\n",
      "Epoch 10/150\n",
      "1132/1132 [==============================] - 1s 689us/step - loss: 4.1085 - acc: 0.2058 - val_loss: 6.6558 - val_acc: 0.0500\n",
      "Epoch 11/150\n",
      "1132/1132 [==============================] - 1s 697us/step - loss: 3.8709 - acc: 0.2279 - val_loss: 6.6656 - val_acc: 0.0667\n",
      "Epoch 12/150\n",
      "1132/1132 [==============================] - 1s 727us/step - loss: 3.6324 - acc: 0.2500 - val_loss: 6.7755 - val_acc: 0.0667\n",
      "Epoch 13/150\n",
      "1132/1132 [==============================] - 1s 692us/step - loss: 3.3805 - acc: 0.2862 - val_loss: 6.8980 - val_acc: 0.0500\n",
      "Epoch 14/150\n",
      "1132/1132 [==============================] - 1s 687us/step - loss: 3.1333 - acc: 0.3110 - val_loss: 7.0686 - val_acc: 0.0500\n",
      "Epoch 15/150\n",
      "1132/1132 [==============================] - 1s 698us/step - loss: 2.8727 - acc: 0.3472 - val_loss: 7.2232 - val_acc: 0.0333\n",
      "Epoch 16/150\n",
      "1132/1132 [==============================] - 1s 727us/step - loss: 2.6234 - acc: 0.3958 - val_loss: 7.3356 - val_acc: 0.0333\n",
      "Epoch 17/150\n",
      "1132/1132 [==============================] - 1s 693us/step - loss: 2.3775 - acc: 0.4452 - val_loss: 7.4735 - val_acc: 0.0167\n",
      "Epoch 18/150\n",
      "1132/1132 [==============================] - 1s 694us/step - loss: 2.1366 - acc: 0.5044 - val_loss: 7.6532 - val_acc: 0.0167\n",
      "Epoch 19/150\n",
      "1132/1132 [==============================] - 1s 693us/step - loss: 1.9230 - acc: 0.5406 - val_loss: 7.7846 - val_acc: 0.0333\n",
      "Epoch 20/150\n",
      "1132/1132 [==============================] - 1s 721us/step - loss: 1.7180 - acc: 0.6175 - val_loss: 7.9802 - val_acc: 0.0167\n",
      "Epoch 21/150\n",
      "1132/1132 [==============================] - 1s 697us/step - loss: 1.5341 - acc: 0.6519 - val_loss: 8.1443 - val_acc: 0.0333\n",
      "Epoch 22/150\n",
      "1132/1132 [==============================] - 1s 697us/step - loss: 1.3809 - acc: 0.6802 - val_loss: 8.2213 - val_acc: 0.0167\n",
      "Epoch 23/150\n",
      "1132/1132 [==============================] - 1s 708us/step - loss: 1.2330 - acc: 0.7253 - val_loss: 8.3323 - val_acc: 0.0333\n",
      "Epoch 24/150\n",
      "1132/1132 [==============================] - 1s 695us/step - loss: 1.1115 - acc: 0.7553 - val_loss: 8.5140 - val_acc: 0.0167\n",
      "Epoch 25/150\n",
      "1132/1132 [==============================] - 1s 721us/step - loss: 1.0055 - acc: 0.7845 - val_loss: 8.6031 - val_acc: 0.0333\n",
      "Epoch 26/150\n",
      "1132/1132 [==============================] - 1s 698us/step - loss: 0.9089 - acc: 0.8048 - val_loss: 8.6870 - val_acc: 0.0167\n",
      "Epoch 27/150\n",
      "1132/1132 [==============================] - 1s 728us/step - loss: 0.8266 - acc: 0.8260 - val_loss: 8.8248 - val_acc: 0.0167\n",
      "Epoch 28/150\n",
      "1132/1132 [==============================] - 1s 720us/step - loss: 0.7562 - acc: 0.8463 - val_loss: 8.9396 - val_acc: 0.0167\n",
      "Epoch 29/150\n",
      "1132/1132 [==============================] - 1s 697us/step - loss: 0.6944 - acc: 0.8498 - val_loss: 9.0024 - val_acc: 0.0167\n",
      "Epoch 30/150\n",
      "1132/1132 [==============================] - 1s 712us/step - loss: 0.6412 - acc: 0.8604 - val_loss: 9.0849 - val_acc: 0.0167\n",
      "Epoch 31/150\n",
      "1132/1132 [==============================] - 1s 713us/step - loss: 0.5912 - acc: 0.8666 - val_loss: 9.1812 - val_acc: 0.0167\n",
      "Epoch 32/150\n",
      "1132/1132 [==============================] - 1s 716us/step - loss: 0.5502 - acc: 0.8578 - val_loss: 9.2929 - val_acc: 0.0167\n",
      "Epoch 33/150\n",
      "1132/1132 [==============================] - 1s 699us/step - loss: 0.5170 - acc: 0.8746 - val_loss: 9.3341 - val_acc: 0.0167\n",
      "Epoch 34/150\n",
      "1132/1132 [==============================] - 1s 720us/step - loss: 0.4846 - acc: 0.8728 - val_loss: 9.4017 - val_acc: 0.0167\n",
      "Epoch 35/150\n",
      "1132/1132 [==============================] - 1s 717us/step - loss: 0.4559 - acc: 0.8772 - val_loss: 9.4784 - val_acc: 0.0167\n",
      "Epoch 36/150\n",
      "1132/1132 [==============================] - 1s 713us/step - loss: 0.4285 - acc: 0.8781 - val_loss: 9.5117 - val_acc: 0.0167\n",
      "Epoch 37/150\n",
      "1132/1132 [==============================] - 1s 700us/step - loss: 0.4133 - acc: 0.8772 - val_loss: 9.5803 - val_acc: 0.0167\n",
      "Epoch 38/150\n",
      "1132/1132 [==============================] - 1s 743us/step - loss: 0.3942 - acc: 0.8754 - val_loss: 9.6085 - val_acc: 0.0167\n",
      "Epoch 39/150\n",
      "1132/1132 [==============================] - 1s 720us/step - loss: 0.3801 - acc: 0.8763 - val_loss: 9.6886 - val_acc: 0.0167\n",
      "Epoch 40/150\n",
      "1132/1132 [==============================] - 1s 712us/step - loss: 0.3614 - acc: 0.8790 - val_loss: 9.7097 - val_acc: 0.0167\n",
      "Epoch 41/150\n",
      "1132/1132 [==============================] - 1s 745us/step - loss: 0.3513 - acc: 0.8772 - val_loss: 9.7810 - val_acc: 0.0167\n",
      "Epoch 42/150\n",
      "1132/1132 [==============================] - 1s 743us/step - loss: 0.3398 - acc: 0.8719 - val_loss: 9.8165 - val_acc: 0.0167\n",
      "Epoch 43/150\n",
      "1132/1132 [==============================] - 1s 745us/step - loss: 0.3318 - acc: 0.8790 - val_loss: 9.8398 - val_acc: 0.0167\n",
      "Epoch 44/150\n",
      "1132/1132 [==============================] - 1s 721us/step - loss: 0.3238 - acc: 0.8754 - val_loss: 9.9098 - val_acc: 0.0167\n",
      "Epoch 45/150\n",
      "1132/1132 [==============================] - 1s 739us/step - loss: 0.3118 - acc: 0.8737 - val_loss: 9.9253 - val_acc: 0.0167\n",
      "Epoch 46/150\n",
      "1132/1132 [==============================] - 1s 736us/step - loss: 0.3101 - acc: 0.8746 - val_loss: 9.9535 - val_acc: 0.0167\n",
      "Epoch 47/150\n",
      "1132/1132 [==============================] - 1s 829us/step - loss: 0.2964 - acc: 0.8807 - val_loss: 10.0346 - val_acc: 0.0167\n",
      "Epoch 48/150\n",
      "1132/1132 [==============================] - 1s 713us/step - loss: 0.2951 - acc: 0.8746 - val_loss: 10.0315 - val_acc: 0.0167\n",
      "Epoch 49/150\n",
      "1132/1132 [==============================] - 1s 717us/step - loss: 0.2941 - acc: 0.8754 - val_loss: 10.0481 - val_acc: 0.0167\n",
      "Epoch 50/150\n",
      "1132/1132 [==============================] - 1s 731us/step - loss: 0.2840 - acc: 0.8799 - val_loss: 10.0780 - val_acc: 0.0167\n",
      "Epoch 51/150\n",
      "1132/1132 [==============================] - 1s 737us/step - loss: 0.2773 - acc: 0.8746 - val_loss: 10.1082 - val_acc: 0.0167\n",
      "Epoch 52/150\n",
      "1132/1132 [==============================] - 1s 725us/step - loss: 0.2760 - acc: 0.8710 - val_loss: 10.1325 - val_acc: 0.0167\n",
      "Epoch 53/150\n",
      "1132/1132 [==============================] - 1s 797us/step - loss: 0.2698 - acc: 0.8746 - val_loss: 10.1914 - val_acc: 0.0167\n",
      "Epoch 54/150\n",
      "1132/1132 [==============================] - 1s 830us/step - loss: 0.2689 - acc: 0.8763 - val_loss: 10.1867 - val_acc: 0.0167\n",
      "Epoch 55/150\n",
      "1132/1132 [==============================] - 1s 748us/step - loss: 0.2673 - acc: 0.8781 - val_loss: 10.2022 - val_acc: 0.0167\n",
      "Epoch 56/150\n",
      "1132/1132 [==============================] - 1s 804us/step - loss: 0.2648 - acc: 0.8728 - val_loss: 10.2578 - val_acc: 0.0167\n",
      "Epoch 57/150\n",
      "1132/1132 [==============================] - 1s 677us/step - loss: 0.2595 - acc: 0.8825 - val_loss: 10.2787 - val_acc: 0.0167\n",
      "Epoch 58/150\n",
      "1132/1132 [==============================] - 1s 697us/step - loss: 0.2560 - acc: 0.8754 - val_loss: 10.2951 - val_acc: 0.0167\n",
      "Epoch 59/150\n",
      "1132/1132 [==============================] - 1s 700us/step - loss: 0.2588 - acc: 0.8772 - val_loss: 10.2976 - val_acc: 0.0167\n",
      "Epoch 60/150\n",
      "1132/1132 [==============================] - 1s 699us/step - loss: 0.2522 - acc: 0.8799 - val_loss: 10.3344 - val_acc: 0.0167\n",
      "Epoch 61/150\n",
      "1132/1132 [==============================] - 1s 691us/step - loss: 0.2513 - acc: 0.8737 - val_loss: 10.3517 - val_acc: 0.0167\n",
      "Epoch 62/150\n",
      "1132/1132 [==============================] - 1s 763us/step - loss: 0.2508 - acc: 0.8754 - val_loss: 10.3857 - val_acc: 0.0167\n",
      "Epoch 63/150\n",
      "1132/1132 [==============================] - 1s 741us/step - loss: 0.2524 - acc: 0.8807 - val_loss: 10.3735 - val_acc: 0.0167\n",
      "Epoch 64/150\n",
      "1132/1132 [==============================] - 1s 730us/step - loss: 0.2507 - acc: 0.8719 - val_loss: 10.3998 - val_acc: 0.0167\n",
      "Epoch 65/150\n",
      "1132/1132 [==============================] - 1s 720us/step - loss: 0.2494 - acc: 0.8737 - val_loss: 10.4062 - val_acc: 0.0167\n",
      "Epoch 66/150\n",
      "1132/1132 [==============================] - 1s 750us/step - loss: 0.2466 - acc: 0.8754 - val_loss: 10.4399 - val_acc: 0.0167\n",
      "Epoch 67/150\n",
      "1132/1132 [==============================] - 1s 696us/step - loss: 0.2442 - acc: 0.8728 - val_loss: 10.4557 - val_acc: 0.0167\n",
      "Epoch 68/150\n",
      "1132/1132 [==============================] - 1s 751us/step - loss: 0.2434 - acc: 0.8834 - val_loss: 10.4674 - val_acc: 0.0167\n",
      "Epoch 69/150\n",
      "1132/1132 [==============================] - 1s 743us/step - loss: 0.2411 - acc: 0.8719 - val_loss: 10.4768 - val_acc: 0.0167\n",
      "Epoch 70/150\n",
      "1132/1132 [==============================] - 1s 754us/step - loss: 0.2424 - acc: 0.8790 - val_loss: 10.4996 - val_acc: 0.0167\n",
      "Epoch 71/150\n",
      "1132/1132 [==============================] - 1s 720us/step - loss: 0.2366 - acc: 0.8834 - val_loss: 10.5073 - val_acc: 0.0167\n",
      "Epoch 72/150\n",
      "1132/1132 [==============================] - 1s 719us/step - loss: 0.2427 - acc: 0.8719 - val_loss: 10.5458 - val_acc: 0.0167\n",
      "Epoch 73/150\n",
      "1132/1132 [==============================] - 1s 734us/step - loss: 0.2410 - acc: 0.8728 - val_loss: 10.5419 - val_acc: 0.0167\n",
      "Epoch 74/150\n",
      "1132/1132 [==============================] - 1s 750us/step - loss: 0.2360 - acc: 0.8719 - val_loss: 10.5634 - val_acc: 0.0167\n",
      "Epoch 75/150\n",
      "1132/1132 [==============================] - 1s 781us/step - loss: 0.2351 - acc: 0.8790 - val_loss: 10.5838 - val_acc: 0.0167\n",
      "Epoch 76/150\n",
      "1132/1132 [==============================] - 1s 767us/step - loss: 0.2336 - acc: 0.8816 - val_loss: 10.5843 - val_acc: 0.0167\n",
      "Epoch 77/150\n",
      "1132/1132 [==============================] - 1s 732us/step - loss: 0.2341 - acc: 0.8728 - val_loss: 10.5956 - val_acc: 0.0167\n",
      "Epoch 78/150\n",
      "1132/1132 [==============================] - 1s 724us/step - loss: 0.2395 - acc: 0.8746 - val_loss: 10.6031 - val_acc: 0.0167\n",
      "Epoch 79/150\n",
      "1132/1132 [==============================] - 1s 776us/step - loss: 0.2359 - acc: 0.8763 - val_loss: 10.6378 - val_acc: 0.0167\n",
      "Epoch 80/150\n",
      "1132/1132 [==============================] - 1s 767us/step - loss: 0.2364 - acc: 0.8763 - val_loss: 10.6338 - val_acc: 0.0167\n",
      "Epoch 81/150\n",
      "1132/1132 [==============================] - 1s 732us/step - loss: 0.2303 - acc: 0.8728 - val_loss: 10.6677 - val_acc: 0.0167\n",
      "Epoch 82/150\n",
      "1132/1132 [==============================] - 1s 736us/step - loss: 0.2319 - acc: 0.8737 - val_loss: 10.6746 - val_acc: 0.0167\n",
      "Epoch 83/150\n",
      "1132/1132 [==============================] - 1s 741us/step - loss: 0.2318 - acc: 0.8693 - val_loss: 10.6632 - val_acc: 0.0167\n",
      "Epoch 84/150\n",
      "1132/1132 [==============================] - 1s 732us/step - loss: 0.2304 - acc: 0.8719 - val_loss: 10.6762 - val_acc: 0.0167\n",
      "Epoch 85/150\n",
      "1132/1132 [==============================] - 1s 789us/step - loss: 0.2284 - acc: 0.8746 - val_loss: 10.6911 - val_acc: 0.0167\n",
      "Epoch 86/150\n",
      "1132/1132 [==============================] - 1s 766us/step - loss: 0.2294 - acc: 0.8790 - val_loss: 10.6949 - val_acc: 0.0167\n",
      "Epoch 87/150\n",
      "1132/1132 [==============================] - 1s 813us/step - loss: 0.2304 - acc: 0.8772 - val_loss: 10.7159 - val_acc: 0.0167\n",
      "Epoch 88/150\n",
      "1132/1132 [==============================] - 1s 764us/step - loss: 0.2317 - acc: 0.8737 - val_loss: 10.7385 - val_acc: 0.0167\n",
      "Epoch 89/150\n",
      "1132/1132 [==============================] - 1s 801us/step - loss: 0.2263 - acc: 0.8825 - val_loss: 10.7526 - val_acc: 0.0167\n",
      "Epoch 90/150\n",
      "1132/1132 [==============================] - 1s 771us/step - loss: 0.2252 - acc: 0.8754 - val_loss: 10.7618 - val_acc: 0.0167\n",
      "Epoch 91/150\n",
      "1132/1132 [==============================] - 1s 764us/step - loss: 0.2251 - acc: 0.8754 - val_loss: 10.7533 - val_acc: 0.0167\n",
      "Epoch 92/150\n",
      "1132/1132 [==============================] - 1s 758us/step - loss: 0.2291 - acc: 0.8763 - val_loss: 10.7642 - val_acc: 0.0167\n",
      "Epoch 93/150\n",
      "1132/1132 [==============================] - 1s 784us/step - loss: 0.2249 - acc: 0.8728 - val_loss: 10.7777 - val_acc: 0.0167\n",
      "Epoch 94/150\n",
      "1132/1132 [==============================] - 1s 699us/step - loss: 0.2269 - acc: 0.8754 - val_loss: 10.7902 - val_acc: 0.0167\n",
      "Epoch 95/150\n",
      "1132/1132 [==============================] - 1s 751us/step - loss: 0.2264 - acc: 0.8763 - val_loss: 10.8022 - val_acc: 0.0167\n",
      "Epoch 96/150\n",
      "1132/1132 [==============================] - 1s 867us/step - loss: 0.2253 - acc: 0.8834 - val_loss: 10.8240 - val_acc: 0.0167\n",
      "Epoch 97/150\n",
      "1132/1132 [==============================] - 1s 834us/step - loss: 0.2256 - acc: 0.8869 - val_loss: 10.8239 - val_acc: 0.0167\n",
      "Epoch 98/150\n",
      "1132/1132 [==============================] - 1s 814us/step - loss: 0.2224 - acc: 0.8807 - val_loss: 10.8398 - val_acc: 0.0167\n",
      "Epoch 99/150\n",
      "1132/1132 [==============================] - 1s 786us/step - loss: 0.2219 - acc: 0.8746 - val_loss: 10.8324 - val_acc: 0.0167\n",
      "Epoch 100/150\n",
      "1132/1132 [==============================] - 1s 743us/step - loss: 0.2245 - acc: 0.8719 - val_loss: 10.8439 - val_acc: 0.0167\n",
      "Epoch 101/150\n",
      "1132/1132 [==============================] - 1s 811us/step - loss: 0.2229 - acc: 0.8799 - val_loss: 10.8548 - val_acc: 0.0167\n",
      "Epoch 102/150\n",
      "1132/1132 [==============================] - 1s 792us/step - loss: 0.2263 - acc: 0.8693 - val_loss: 10.8739 - val_acc: 0.0167\n",
      "Epoch 103/150\n",
      "1132/1132 [==============================] - 1s 747us/step - loss: 0.2232 - acc: 0.8790 - val_loss: 10.8681 - val_acc: 0.0167\n",
      "Epoch 104/150\n",
      "1132/1132 [==============================] - 1s 788us/step - loss: 0.2271 - acc: 0.8772 - val_loss: 10.8755 - val_acc: 0.0167\n",
      "Epoch 105/150\n",
      "1132/1132 [==============================] - 1s 734us/step - loss: 0.2230 - acc: 0.8799 - val_loss: 10.8949 - val_acc: 0.0167\n",
      "Epoch 106/150\n",
      "1132/1132 [==============================] - 1s 747us/step - loss: 0.2218 - acc: 0.8781 - val_loss: 10.8971 - val_acc: 0.0167\n",
      "Epoch 107/150\n",
      "1132/1132 [==============================] - 1s 772us/step - loss: 0.2235 - acc: 0.8701 - val_loss: 10.8998 - val_acc: 0.0167\n",
      "Epoch 108/150\n",
      "1132/1132 [==============================] - 1s 733us/step - loss: 0.2214 - acc: 0.8763 - val_loss: 10.9200 - val_acc: 0.0167\n",
      "Epoch 109/150\n",
      "1132/1132 [==============================] - 1s 735us/step - loss: 0.2164 - acc: 0.8781 - val_loss: 10.9089 - val_acc: 0.0167\n",
      "Epoch 110/150\n",
      "1132/1132 [==============================] - 1s 717us/step - loss: 0.2179 - acc: 0.8754 - val_loss: 10.9249 - val_acc: 0.0167\n",
      "Epoch 111/150\n",
      "1132/1132 [==============================] - 1s 701us/step - loss: 0.2210 - acc: 0.8746 - val_loss: 10.9533 - val_acc: 0.0167\n",
      "Epoch 112/150\n",
      "1132/1132 [==============================] - 1s 804us/step - loss: 0.2169 - acc: 0.8737 - val_loss: 10.9771 - val_acc: 0.0167\n",
      "Epoch 113/150\n",
      "1132/1132 [==============================] - 1s 790us/step - loss: 0.2154 - acc: 0.8781 - val_loss: 10.9656 - val_acc: 0.0167\n",
      "Epoch 114/150\n",
      "1132/1132 [==============================] - 1s 713us/step - loss: 0.2191 - acc: 0.8746 - val_loss: 10.9590 - val_acc: 0.0167\n",
      "Epoch 115/150\n",
      "1132/1132 [==============================] - 1s 768us/step - loss: 0.2182 - acc: 0.8763 - val_loss: 11.0129 - val_acc: 0.0167\n",
      "Epoch 116/150\n",
      "1132/1132 [==============================] - 1s 777us/step - loss: 0.2184 - acc: 0.8631 - val_loss: 10.9844 - val_acc: 0.0167\n",
      "Epoch 117/150\n",
      "1132/1132 [==============================] - 1s 726us/step - loss: 0.2192 - acc: 0.8737 - val_loss: 11.0119 - val_acc: 0.0167\n",
      "Epoch 118/150\n",
      "1132/1132 [==============================] - 1s 749us/step - loss: 0.2179 - acc: 0.8790 - val_loss: 11.0032 - val_acc: 0.0167\n",
      "Epoch 119/150\n",
      "1132/1132 [==============================] - 1s 740us/step - loss: 0.2170 - acc: 0.8754 - val_loss: 11.0116 - val_acc: 0.0167\n",
      "Epoch 120/150\n",
      "1132/1132 [==============================] - 1s 766us/step - loss: 0.2153 - acc: 0.8807 - val_loss: 11.0311 - val_acc: 0.0167\n",
      "Epoch 121/150\n",
      "1132/1132 [==============================] - 1s 751us/step - loss: 0.2257 - acc: 0.8701 - val_loss: 11.0275 - val_acc: 0.0167\n",
      "Epoch 122/150\n",
      "1132/1132 [==============================] - 1s 712us/step - loss: 0.2198 - acc: 0.8807 - val_loss: 11.0200 - val_acc: 0.0167\n",
      "Epoch 123/150\n",
      "1132/1132 [==============================] - 1s 746us/step - loss: 0.2162 - acc: 0.8746 - val_loss: 11.0046 - val_acc: 0.0167\n",
      "Epoch 124/150\n",
      "1132/1132 [==============================] - 1s 775us/step - loss: 0.2160 - acc: 0.8807 - val_loss: 11.0350 - val_acc: 0.0167\n",
      "Epoch 125/150\n",
      "1132/1132 [==============================] - 1s 780us/step - loss: 0.2193 - acc: 0.8737 - val_loss: 11.0420 - val_acc: 0.0167\n",
      "Epoch 126/150\n",
      "1132/1132 [==============================] - 1s 733us/step - loss: 0.2147 - acc: 0.8790 - val_loss: 11.0662 - val_acc: 0.0167\n",
      "Epoch 127/150\n",
      "1132/1132 [==============================] - 1s 720us/step - loss: 0.2140 - acc: 0.8746 - val_loss: 11.0678 - val_acc: 0.0167\n",
      "Epoch 128/150\n",
      "1132/1132 [==============================] - 1s 738us/step - loss: 0.2169 - acc: 0.8746 - val_loss: 11.0792 - val_acc: 0.0167\n",
      "Epoch 129/150\n",
      "1132/1132 [==============================] - 1s 749us/step - loss: 0.2205 - acc: 0.8719 - val_loss: 11.0965 - val_acc: 0.0167\n",
      "Epoch 130/150\n",
      "1132/1132 [==============================] - 1s 725us/step - loss: 0.2193 - acc: 0.8772 - val_loss: 11.0903 - val_acc: 0.0167\n",
      "Epoch 131/150\n",
      "1132/1132 [==============================] - 1s 774us/step - loss: 0.2167 - acc: 0.8728 - val_loss: 11.0957 - val_acc: 0.0167\n",
      "Epoch 132/150\n",
      "1132/1132 [==============================] - 1s 703us/step - loss: 0.2170 - acc: 0.8728 - val_loss: 11.1029 - val_acc: 0.0167\n",
      "Epoch 133/150\n",
      "1132/1132 [==============================] - 1s 828us/step - loss: 0.2163 - acc: 0.8799 - val_loss: 11.1184 - val_acc: 0.0167\n",
      "Epoch 134/150\n",
      "1132/1132 [==============================] - 1s 800us/step - loss: 0.2163 - acc: 0.8781 - val_loss: 11.1122 - val_acc: 0.0167\n",
      "Epoch 135/150\n",
      "1132/1132 [==============================] - 1s 771us/step - loss: 0.2155 - acc: 0.8781 - val_loss: 11.1030 - val_acc: 0.0167\n",
      "Epoch 136/150\n",
      "1132/1132 [==============================] - 1s 780us/step - loss: 0.2145 - acc: 0.8799 - val_loss: 11.1257 - val_acc: 0.0167\n",
      "Epoch 137/150\n",
      "1132/1132 [==============================] - 1s 751us/step - loss: 0.2141 - acc: 0.8790 - val_loss: 11.1480 - val_acc: 0.0167\n",
      "Epoch 138/150\n",
      "1132/1132 [==============================] - 1s 720us/step - loss: 0.2166 - acc: 0.8737 - val_loss: 11.1406 - val_acc: 0.0167\n",
      "Epoch 139/150\n",
      "1132/1132 [==============================] - 1s 751us/step - loss: 0.2163 - acc: 0.8737 - val_loss: 11.1763 - val_acc: 0.0167\n",
      "Epoch 140/150\n",
      "1132/1132 [==============================] - 1s 720us/step - loss: 0.2132 - acc: 0.8816 - val_loss: 11.1390 - val_acc: 0.0167\n",
      "Epoch 141/150\n",
      "1132/1132 [==============================] - 1s 743us/step - loss: 0.2183 - acc: 0.8728 - val_loss: 11.1802 - val_acc: 0.0167\n",
      "Epoch 142/150\n",
      "1132/1132 [==============================] - 1s 759us/step - loss: 0.2200 - acc: 0.8754 - val_loss: 11.1548 - val_acc: 0.0167\n",
      "Epoch 143/150\n",
      "1132/1132 [==============================] - 1s 748us/step - loss: 0.2176 - acc: 0.8710 - val_loss: 11.1660 - val_acc: 0.0167\n",
      "Epoch 144/150\n",
      "1132/1132 [==============================] - 1s 719us/step - loss: 0.2147 - acc: 0.8737 - val_loss: 11.1602 - val_acc: 0.0167\n",
      "Epoch 145/150\n",
      "1132/1132 [==============================] - 1s 766us/step - loss: 0.2113 - acc: 0.8799 - val_loss: 11.1668 - val_acc: 0.0167\n",
      "Epoch 146/150\n",
      "1132/1132 [==============================] - 1s 777us/step - loss: 0.2131 - acc: 0.8728 - val_loss: 11.1676 - val_acc: 0.0167\n",
      "Epoch 147/150\n",
      "1132/1132 [==============================] - 1s 851us/step - loss: 0.2111 - acc: 0.8737 - val_loss: 11.1835 - val_acc: 0.0167\n",
      "Epoch 148/150\n",
      "1132/1132 [==============================] - 1s 972us/step - loss: 0.2141 - acc: 0.8754 - val_loss: 11.2105 - val_acc: 0.0167\n",
      "Epoch 149/150\n",
      "1132/1132 [==============================] - 1s 766us/step - loss: 0.2107 - acc: 0.8852 - val_loss: 11.1748 - val_acc: 0.0167\n",
      "Epoch 150/150\n",
      "1132/1132 [==============================] - 1s 787us/step - loss: 0.2152 - acc: 0.8728 - val_loss: 11.2066 - val_acc: 0.0167\n"
     ]
    }
   ],
   "source": [
    "history=model.fit(X, y, validation_split=0.05,epochs=150, verbose=1, shuffle = True)"
   ]
  },
  {
   "cell_type": "code",
   "execution_count": 15,
   "metadata": {},
   "outputs": [
    {
     "name": "stdout",
     "output_type": "stream",
     "text": [
      "dict_keys(['acc', 'loss', 'val_acc', 'val_loss'])\n"
     ]
    }
   ],
   "source": [
    "import matplotlib.pyplot as plt\n",
    "import numpy\n",
    "\n",
    "print(history.history.keys())"
   ]
  },
  {
   "cell_type": "code",
   "execution_count": 16,
   "metadata": {
    "collapsed": true
   },
   "outputs": [],
   "source": [
    "# summarize history for accuracy\n",
    "plt.plot(history.history['acc'])\n",
    "plt.plot(history.history['val_acc'])\n",
    "plt.title('model accuracy')\n",
    "plt.ylabel('accuracy')\n",
    "plt.xlabel('epoch')\n",
    "plt.legend(['train', 'test'], loc='upper left')\n",
    "plt.show()"
   ]
  },
  {
   "cell_type": "code",
   "execution_count": 17,
   "metadata": {
    "collapsed": true
   },
   "outputs": [],
   "source": [
    "# summarize history for loss\n",
    "plt.plot(history.history['loss'])\n",
    "plt.plot(history.history['val_loss'])\n",
    "plt.title('model loss')\n",
    "plt.ylabel('loss')\n",
    "plt.xlabel('epoch')\n",
    "plt.legend(['train', 'test'], loc='upper left')\n",
    "plt.show()"
   ]
  },
  {
   "cell_type": "code",
   "execution_count": 15,
   "metadata": {},
   "outputs": [
    {
     "name": "stdout",
     "output_type": "stream",
     "text": [
      "people in the end\n"
     ]
    }
   ],
   "source": [
    "print(generate_seq(model, tokenizer, max_length-1, 'people', 3))"
   ]
  },
  {
   "cell_type": "code",
   "execution_count": 16,
   "metadata": {},
   "outputs": [
    {
     "name": "stdout",
     "output_type": "stream",
     "text": [
      "countries have the national responsibility for sustainable\n"
     ]
    }
   ],
   "source": [
    "print(generate_seq(model, tokenizer, max_length-1, 'countries have', 5))"
   ]
  },
  {
   "cell_type": "code",
   "execution_count": 17,
   "metadata": {},
   "outputs": [
    {
     "name": "stdout",
     "output_type": "stream",
     "text": [
      "as if one family today india is\n"
     ]
    }
   ],
   "source": [
    "print(generate_seq(model, tokenizer, max_length-1, 'as if', 5))"
   ]
  },
  {
   "cell_type": "code",
   "execution_count": 18,
   "metadata": {},
   "outputs": [
    {
     "name": "stdout",
     "output_type": "stream",
     "text": [
      "People are the world and our planet mother earth as our ancient texts may all be happy may all be happy may all be happy may all be happy may all be happy may all be happy may all be happy may all be happy may all be happy may all be\n"
     ]
    }
   ],
   "source": [
    "print(generate_seq(model, tokenizer, max_length-1, 'People are', 50))"
   ]
  },
  {
   "cell_type": "code",
   "execution_count": 19,
   "metadata": {},
   "outputs": [
    {
     "name": "stdout",
     "output_type": "stream",
     "text": [
      "harry to the future of the island states i speak about blue revolution which includes the prosperity sustainable use of marine wealth and blue skies today much of indiaâs development agenda is mirrored in the end let me express my hope for everyoneâs well with a massive programme on educating the\n"
     ]
    }
   ],
   "source": [
    "print(generate_seq(model, tokenizer, max_length-1, 'harry', 50))"
   ]
  },
  {
   "cell_type": "code",
   "execution_count": 22,
   "metadata": {},
   "outputs": [
    {
     "name": "stdout",
     "output_type": "stream",
     "text": [
      "Saved model to disk\n"
     ]
    }
   ],
   "source": [
    "# serialize model to JSON\n",
    "model_json = model.to_json()\n",
    "with open(\"modelnamo3word150.json\", \"w\") as json_file:\n",
    "    json_file.write(model_json)\n",
    "# serialize weights to HDF5\n",
    "model.save_weights(\"modelnamo3word150.h5\")\n",
    "print(\"Saved model to disk\")"
   ]
  },
  {
   "cell_type": "code",
   "execution_count": 23,
   "metadata": {},
   "outputs": [
    {
     "name": "stdout",
     "output_type": "stream",
     "text": [
      "Loaded model from disk\n"
     ]
    }
   ],
   "source": [
    "# load json and create model\n",
    "from keras.models import model_from_json\n",
    "json_file = open('modelnamo3word150.json', 'r')\n",
    "loaded_model_json = json_file.read()\n",
    "json_file.close()\n",
    "loaded_model = model_from_json(loaded_model_json)\n",
    "# load weights into new model\n",
    "loaded_model.load_weights(\"modelnamo3word150.h5\")\n",
    "print(\"Loaded model from disk\")"
   ]
  },
  {
   "cell_type": "code",
   "execution_count": 24,
   "metadata": {
    "collapsed": true
   },
   "outputs": [],
   "source": [
    "# evaluate loaded model on test data\n",
    "loaded_model.compile(loss='binary_crossentropy', optimizer='rmsprop', metrics=['accuracy'])"
   ]
  },
  {
   "cell_type": "code",
   "execution_count": 26,
   "metadata": {},
   "outputs": [
    {
     "name": "stdout",
     "output_type": "stream",
     "text": [
      "United Nations including its security council so that it carries greater credibility and legitimacy and will be more representative and effective in achieving our goals are comprehensive it gives priority to the future of the island states i speak about blue revolution which includes the prosperity sustainable use of marine wealth and blue skies today much of indiaâs development agenda is mirrored in the end let me express my hope for everyoneâs well with a massive programme on educating the girl child that has become every familyâs mission we are reviving our manufacturing improving our services sector investing on an unprecedented scale\n"
     ]
    }
   ],
   "source": [
    "print(generate_seq(model, tokenizer, max_length-1, 'United Nations', 100))"
   ]
  },
  {
   "cell_type": "code",
   "execution_count": null,
   "metadata": {
    "collapsed": true
   },
   "outputs": [],
   "source": []
  }
 ],
 "metadata": {
  "anaconda-cloud": {},
  "kernelspec": {
   "display_name": "Python 3",
   "language": "python",
   "name": "python3"
  },
  "language_info": {
   "codemirror_mode": {
    "name": "ipython",
    "version": 3
   },
   "file_extension": ".py",
   "mimetype": "text/x-python",
   "name": "python",
   "nbconvert_exporter": "python",
   "pygments_lexer": "ipython3",
   "version": "3.5.2"
  }
 },
 "nbformat": 4,
 "nbformat_minor": 2
}
