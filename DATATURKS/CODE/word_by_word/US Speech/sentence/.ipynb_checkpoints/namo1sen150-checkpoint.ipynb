{
 "cells": [
  {
   "cell_type": "code",
   "execution_count": 1,
   "metadata": {
    "scrolled": true
   },
   "outputs": [
    {
     "name": "stderr",
     "output_type": "stream",
     "text": [
      "Using TensorFlow backend.\n"
     ]
    }
   ],
   "source": [
    "from numpy import array\n",
    "from keras.preprocessing.text import Tokenizer\n",
    "from keras.utils import to_categorical\n",
    "from keras.preprocessing.sequence import pad_sequences\n",
    "from keras.models import Sequential\n",
    "from keras.layers import Dense\n",
    "from keras.layers import LSTM\n",
    "from keras.layers import Embedding\n"
   ]
  },
  {
   "cell_type": "code",
   "execution_count": 2,
   "metadata": {
    "collapsed": true
   },
   "outputs": [],
   "source": [
    "# generate a sequence from a language model\n",
    "def generate_seq(model, tokenizer, max_length, seed_text, n_words):\n",
    "\tin_text = seed_text\n",
    "\t# generate a fixed number of words\n",
    "\tfor _ in range(n_words):\n",
    "\t\t# encode the text as integer\n",
    "\t\tencoded = tokenizer.texts_to_sequences([in_text])[0]\n",
    "\t\t# pre-pad sequences to a fixed length\n",
    "\t\tencoded = pad_sequences([encoded], maxlen=max_length, padding='pre')\n",
    "\t\t# predict probabilities for each word\n",
    "\t\tyhat = model.predict_classes(encoded, verbose=0)\n",
    "\t\t# map predicted word index to word\n",
    "\t\tout_word = ''\n",
    "\t\tfor word, index in tokenizer.word_index.items():\n",
    "\t\t\tif index == yhat:\n",
    "\t\t\t\tout_word = word\n",
    "\t\t\t\tbreak\n",
    "\t\t# append to input\n",
    "\t\tin_text += ' ' + out_word\n",
    "\treturn in_text"
   ]
  },
  {
   "cell_type": "code",
   "execution_count": 3,
   "metadata": {},
   "outputs": [
    {
     "name": "stdout",
     "output_type": "stream",
     "text": [
      "['Excellencies,\\n', '\\n', 'Mahatma Gandhi had once said, â\\x80\\x9cOne must care about the world one will not seeâ\\x80\\x9d. Indeed, humanity has progressed when it has collectively risen to its obligation to the world and responsibility to the future.\\n', '\\n', 'Seventy years after the end of a tragic war and birth of a new hope for our age, we are meeting to chart a course for our humanity and our planet. I consider this a very important summit and thank UN Secretary General for organizing it.\\n', '\\n', 'Just as our vision behind the Agenda 2030 is lofty, our goals are comprehensive. It gives priority to the problems that have endured through the past decades. And, it reflects our evolving understanding of the social, economic and environmental linkages that define our lives.\\n', '\\n', 'We live in an age of unprecedented prosperity, but also unspeakable deprivation around the world.\\n', '\\n', 'I am pleased that elimination of poverty in all forms everywhere is at the top of our goals. Addressing the needs of 1.3 billion poor people in the world is not merely a question of their survival and dignity or our moral responsibility. It is a vital necessity for ensuring peaceful, sustainable and just world.\\n', '\\n', 'A great Indian thinker, Pandit Deen Dayal Upadhyay, placed the welfare of the poorest at the centre of his thoughts. This is what we also see in the 2030 Agenda. It is a happy coincidence that we are beginning the celebration of Pandit Deen Dayal Upadhyayâ\\x80\\x99s 100th anniversary today.\\n', '\\n', 'The goals recognize that economic growth, industrialization, infrastructure, and access to energy provide the foundations of development.\\n', '\\n', 'We welcome the prominence given to environmental goals, especially climate change and sustainable consumption. The distinct goal on ocean ecosystem reflects the unique character of its challenges and opportunities. Equally important, it focuses our attention on the future of the island states.\\n', '\\n', 'I speak about Blue Revolution, which includes the prosperity, sustainable use of marine wealth and blue skies.\\n', '\\n', 'Today, much of Indiaâ\\x80\\x99s development agenda is mirrored in the Sustainable Development Goals.\\n', '\\n', 'Since Independence, we have pursued the dream of eliminating poverty from India. We have chosen the path of removing poverty by empowering the poor. We have placed priority on education and skill development.\\n', '\\n', \"Our attack on poverty today includes expanded conventional schemes of development, but we have also launched a new era of inclusion and empowerment, turning distant dreams into immediate possibilities: new bank accounts for 180 million; direct transfer of benefits; funds to the unbanked; insurance within the reach of all; and, pension for everyone's sunset years.\\n\", '\\n', 'The world speaks of private sector and public sector. In India, we have defined a new personal sector of individual enterprise, micro enterprises and micro finance, drawing also on the strength of digital and mobile applications.\\n', '\\n', 'We are focusing on the basics: housing, power, water and sanitation for all â\\x80\\x93 important not just for welfare, but also human dignity. These are goals with a definite date, not just a mirage of hope. Our development is intrinsically linked to empowerment of women and it begins with a massive programme on educating the girl child that has become every familyâ\\x80\\x99s mission.\\n', '\\n', 'We are making our farms more productive and better connected to markets; and, farmers less vulnerable to the whims of nature.\\n', '\\n', 'We are reviving our manufacturing, improving our services sector, investing on an unprecedented scale in infrastructure; and, making our cities smart, sustainable and engines of progress.\\n', '\\n', 'We are committed to a sustainable path to prosperity. It comes from the natural instinct of our tradition and culture. But, it is also rooted firmly in our commitment to the future.\\n', '\\n', 'We represent a culture that calls our planet Mother Earth.\\n', '\\n', 'As our ancient text say: \"Keep pure! For the Earth is our mother! And we are her children!\"\\n', '\\n', 'Our national plans are ambitious and purposeful: new capacity of 175 GW of renewable energy over the next seven years; energy efficiency; a tax on coal; a huge afforestation programme; reforming our transportation; and, cleaning up our cities and rivers. The energy intensity of our growth will continue to decline.\\n', '\\n', 'Sustainable development of one-sixth of humanity will be of great consequence to the world and our beautiful planet. It will be a world of fewer challenges and greater hope; and, more confident of its success.\\n', '\\n', 'Our success will give us more resources to share with our friends. As Indiaâ\\x80\\x99s ancient saying goes, the wise look at the world as one family.\\n', '\\n', 'Today, India is fulfilling its responsibilities as development partners in Asia and Africa and with small island states from the Pacific to the Atlantic.\\n', '\\n', 'Nations have a national responsibility for sustainable development. They also need policy space.\\n', '\\n', 'However, we are here today in the United Nations because we all believe that international partnership must be at the centre of our efforts, whether it is development or combating climate change.\\n', '\\n', 'And, the principle of common but differentiated responsibilities is the bedrock of our collective enterprise.\\n', '\\n', 'When we speak only of climate change, there is a perception of our desire to secure the comforts of our lifestyle. When we speak of climate justice, we demonstrate our sensitivity and resolve to secure the future of the poor from the perils of natural disasters.\\n', '\\n', 'In addressing climate change, it is important to focus on solutions that can help us reach our goals. We should forge a global public partnership to harness technology, innovation and finance to put affordable clean and renewable energy within the reach of all.\\n', '\\n', 'Equally, we must look for changes in our lifestyles that would make us less dependent on energy and more sustainable in our consumption.\\n', '\\n', 'It is equally critical to launch a global education programme that prepares our next generation to protect and conserve Nature.\\n', '\\n', 'I hope that the Developed World will fulfil its financing commitments for development and climate change, without in any way putting both under the same head!\\n', '\\n', 'I also hope that the Technology Facilitation Mechanism will turn technology and innovation into an effective instrument for global public good, not just private returns.\\n', '\\n', 'As we see now, distance is no insulation from challenges. And, they can rise from the shadows of conflict and privations from distant lands.\\n', '\\n', 'So, we must transform international partnerships on the strength of solidarity with fellow human beings and also our enlightened self-interest.\\n', '\\n', 'And, we must also reform the United Nations, including its Security Council, so that it carries greater credibility and legitimacy and will be more representative and effective in achieving our goals.\\n', '\\n', 'There is no cause greater than shaping a world, in which every life that enters it can look to a future of security, opportunity and dignity; and, where we leave our environment in better shape for the next generation. And, no cause that is more challenging.\\n', '\\n', 'At 70, we are called to rise to that challenge, with our wisdom, experience, generosity, compassion, skills and technology.\\n', '\\n', 'I am confident that we can.\\n', '\\n', 'In the end, let me express my hope for everyoneâ\\x80\\x99s well with a few lines from our ancient texts:\\n', '\\n', 'May all be happy, may all be healthy, may all see welfare, may no one have any sorrow.\\n', '\\n', 'Thank you.\\n']\n"
     ]
    }
   ],
   "source": [
    "import nltk \n",
    "a = open(\"NAMO1.txt\",encoding = \"ISO-8859-1\")\n",
    "wtext = a.readlines()  ##all text in the textfile\n",
    "print(wtext)"
   ]
  },
  {
   "cell_type": "code",
   "execution_count": 4,
   "metadata": {},
   "outputs": [
    {
     "name": "stdout",
     "output_type": "stream",
     "text": [
      "['Excellencies,\\n', 'Mahatma Gandhi had once said, â\\x80\\x9cOne must care about the world one will not seeâ\\x80\\x9d. Indeed, humanity has progressed when it has collectively risen to its obligation to the world and responsibility to the future.\\n', 'Seventy years after the end of a tragic war and birth of a new hope for our age, we are meeting to chart a course for our humanity and our planet. I consider this a very important summit and thank UN Secretary General for organizing it.\\n', 'Just as our vision behind the Agenda 2030 is lofty, our goals are comprehensive. It gives priority to the problems that have endured through the past decades. And, it reflects our evolving understanding of the social, economic and environmental linkages that define our lives.\\n', 'We live in an age of unprecedented prosperity, but also unspeakable deprivation around the world.\\n', 'I am pleased that elimination of poverty in all forms everywhere is at the top of our goals. Addressing the needs of 1.3 billion poor people in the world is not merely a question of their survival and dignity or our moral responsibility. It is a vital necessity for ensuring peaceful, sustainable and just world.\\n', 'A great Indian thinker, Pandit Deen Dayal Upadhyay, placed the welfare of the poorest at the centre of his thoughts. This is what we also see in the 2030 Agenda. It is a happy coincidence that we are beginning the celebration of Pandit Deen Dayal Upadhyayâ\\x80\\x99s 100th anniversary today.\\n', 'The goals recognize that economic growth, industrialization, infrastructure, and access to energy provide the foundations of development.\\n', 'We welcome the prominence given to environmental goals, especially climate change and sustainable consumption. The distinct goal on ocean ecosystem reflects the unique character of its challenges and opportunities. Equally important, it focuses our attention on the future of the island states.\\n', 'I speak about Blue Revolution, which includes the prosperity, sustainable use of marine wealth and blue skies.\\n', 'Today, much of Indiaâ\\x80\\x99s development agenda is mirrored in the Sustainable Development Goals.\\n', 'Since Independence, we have pursued the dream of eliminating poverty from India. We have chosen the path of removing poverty by empowering the poor. We have placed priority on education and skill development.\\n', \"Our attack on poverty today includes expanded conventional schemes of development, but we have also launched a new era of inclusion and empowerment, turning distant dreams into immediate possibilities: new bank accounts for 180 million; direct transfer of benefits; funds to the unbanked; insurance within the reach of all; and, pension for everyone's sunset years.\\n\", 'The world speaks of private sector and public sector. In India, we have defined a new personal sector of individual enterprise, micro enterprises and micro finance, drawing also on the strength of digital and mobile applications.\\n', 'We are focusing on the basics: housing, power, water and sanitation for all â\\x80\\x93 important not just for welfare, but also human dignity. These are goals with a definite date, not just a mirage of hope. Our development is intrinsically linked to empowerment of women and it begins with a massive programme on educating the girl child that has become every familyâ\\x80\\x99s mission.\\n', 'We are making our farms more productive and better connected to markets; and, farmers less vulnerable to the whims of nature.\\n', 'We are reviving our manufacturing, improving our services sector, investing on an unprecedented scale in infrastructure; and, making our cities smart, sustainable and engines of progress.\\n', 'We are committed to a sustainable path to prosperity. It comes from the natural instinct of our tradition and culture. But, it is also rooted firmly in our commitment to the future.\\n', 'We represent a culture that calls our planet Mother Earth.\\n', 'As our ancient text say: \"Keep pure! For the Earth is our mother! And we are her children!\"\\n', 'Our national plans are ambitious and purposeful: new capacity of 175 GW of renewable energy over the next seven years; energy efficiency; a tax on coal; a huge afforestation programme; reforming our transportation; and, cleaning up our cities and rivers. The energy intensity of our growth will continue to decline.\\n', 'Sustainable development of one-sixth of humanity will be of great consequence to the world and our beautiful planet. It will be a world of fewer challenges and greater hope; and, more confident of its success.\\n', 'Our success will give us more resources to share with our friends. As Indiaâ\\x80\\x99s ancient saying goes, the wise look at the world as one family.\\n', 'Today, India is fulfilling its responsibilities as development partners in Asia and Africa and with small island states from the Pacific to the Atlantic.\\n', 'Nations have a national responsibility for sustainable development. They also need policy space.\\n', 'However, we are here today in the United Nations because we all believe that international partnership must be at the centre of our efforts, whether it is development or combating climate change.\\n', 'And, the principle of common but differentiated responsibilities is the bedrock of our collective enterprise.\\n', 'When we speak only of climate change, there is a perception of our desire to secure the comforts of our lifestyle. When we speak of climate justice, we demonstrate our sensitivity and resolve to secure the future of the poor from the perils of natural disasters.\\n', 'In addressing climate change, it is important to focus on solutions that can help us reach our goals. We should forge a global public partnership to harness technology, innovation and finance to put affordable clean and renewable energy within the reach of all.\\n', 'Equally, we must look for changes in our lifestyles that would make us less dependent on energy and more sustainable in our consumption.\\n', 'It is equally critical to launch a global education programme that prepares our next generation to protect and conserve Nature.\\n', 'I hope that the Developed World will fulfil its financing commitments for development and climate change, without in any way putting both under the same head!\\n', 'I also hope that the Technology Facilitation Mechanism will turn technology and innovation into an effective instrument for global public good, not just private returns.\\n', 'As we see now, distance is no insulation from challenges. And, they can rise from the shadows of conflict and privations from distant lands.\\n', 'So, we must transform international partnerships on the strength of solidarity with fellow human beings and also our enlightened self-interest.\\n', 'And, we must also reform the United Nations, including its Security Council, so that it carries greater credibility and legitimacy and will be more representative and effective in achieving our goals.\\n', 'There is no cause greater than shaping a world, in which every life that enters it can look to a future of security, opportunity and dignity; and, where we leave our environment in better shape for the next generation. And, no cause that is more challenging.\\n', 'At 70, we are called to rise to that challenge, with our wisdom, experience, generosity, compassion, skills and technology.\\n', 'I am confident that we can.\\n', 'In the end, let me express my hope for everyoneâ\\x80\\x99s well with a few lines from our ancient texts:\\n', 'May all be happy, may all be healthy, may all see welfare, may no one have any sorrow.\\n', 'Thank you.\\n']\n"
     ]
    }
   ],
   "source": [
    "while '\\n' in wtext:\n",
    "    wtext.remove('\\n')\n",
    "print(wtext)"
   ]
  },
  {
   "cell_type": "code",
   "execution_count": 5,
   "metadata": {
    "scrolled": true
   },
   "outputs": [
    {
     "name": "stdout",
     "output_type": "stream",
     "text": [
      "['Excellencies,', 'Mahatma Gandhi had once said, â\\x80\\x9cOne must care about the world one will not seeâ\\x80\\x9d. Indeed, humanity has progressed when it has collectively risen to its obligation to the world and responsibility to the future.', 'Seventy years after the end of a tragic war and birth of a new hope for our age, we are meeting to chart a course for our humanity and our planet. I consider this a very important summit and thank UN Secretary General for organizing it.', 'Just as our vision behind the Agenda 2030 is lofty, our goals are comprehensive. It gives priority to the problems that have endured through the past decades. And, it reflects our evolving understanding of the social, economic and environmental linkages that define our lives.', 'We live in an age of unprecedented prosperity, but also unspeakable deprivation around the world.', 'I am pleased that elimination of poverty in all forms everywhere is at the top of our goals. Addressing the needs of 1.3 billion poor people in the world is not merely a question of their survival and dignity or our moral responsibility. It is a vital necessity for ensuring peaceful, sustainable and just world.', 'A great Indian thinker, Pandit Deen Dayal Upadhyay, placed the welfare of the poorest at the centre of his thoughts. This is what we also see in the 2030 Agenda. It is a happy coincidence that we are beginning the celebration of Pandit Deen Dayal Upadhyayâ\\x80\\x99s 100th anniversary today.', 'The goals recognize that economic growth, industrialization, infrastructure, and access to energy provide the foundations of development.', 'We welcome the prominence given to environmental goals, especially climate change and sustainable consumption. The distinct goal on ocean ecosystem reflects the unique character of its challenges and opportunities. Equally important, it focuses our attention on the future of the island states.', 'I speak about Blue Revolution, which includes the prosperity, sustainable use of marine wealth and blue skies.', 'Today, much of Indiaâ\\x80\\x99s development agenda is mirrored in the Sustainable Development Goals.', 'Since Independence, we have pursued the dream of eliminating poverty from India. We have chosen the path of removing poverty by empowering the poor. We have placed priority on education and skill development.', \"Our attack on poverty today includes expanded conventional schemes of development, but we have also launched a new era of inclusion and empowerment, turning distant dreams into immediate possibilities: new bank accounts for 180 million; direct transfer of benefits; funds to the unbanked; insurance within the reach of all; and, pension for everyone's sunset years.\", 'The world speaks of private sector and public sector. In India, we have defined a new personal sector of individual enterprise, micro enterprises and micro finance, drawing also on the strength of digital and mobile applications.', 'We are focusing on the basics: housing, power, water and sanitation for all â\\x80\\x93 important not just for welfare, but also human dignity. These are goals with a definite date, not just a mirage of hope. Our development is intrinsically linked to empowerment of women and it begins with a massive programme on educating the girl child that has become every familyâ\\x80\\x99s mission.', 'We are making our farms more productive and better connected to markets; and, farmers less vulnerable to the whims of nature.', 'We are reviving our manufacturing, improving our services sector, investing on an unprecedented scale in infrastructure; and, making our cities smart, sustainable and engines of progress.', 'We are committed to a sustainable path to prosperity. It comes from the natural instinct of our tradition and culture. But, it is also rooted firmly in our commitment to the future.', 'We represent a culture that calls our planet Mother Earth.', 'As our ancient text say: \"Keep pure! For the Earth is our mother! And we are her children!\"', 'Our national plans are ambitious and purposeful: new capacity of 175 GW of renewable energy over the next seven years; energy efficiency; a tax on coal; a huge afforestation programme; reforming our transportation; and, cleaning up our cities and rivers. The energy intensity of our growth will continue to decline.', 'Sustainable development of one-sixth of humanity will be of great consequence to the world and our beautiful planet. It will be a world of fewer challenges and greater hope; and, more confident of its success.', 'Our success will give us more resources to share with our friends. As Indiaâ\\x80\\x99s ancient saying goes, the wise look at the world as one family.', 'Today, India is fulfilling its responsibilities as development partners in Asia and Africa and with small island states from the Pacific to the Atlantic.', 'Nations have a national responsibility for sustainable development. They also need policy space.', 'However, we are here today in the United Nations because we all believe that international partnership must be at the centre of our efforts, whether it is development or combating climate change.', 'And, the principle of common but differentiated responsibilities is the bedrock of our collective enterprise.', 'When we speak only of climate change, there is a perception of our desire to secure the comforts of our lifestyle. When we speak of climate justice, we demonstrate our sensitivity and resolve to secure the future of the poor from the perils of natural disasters.', 'In addressing climate change, it is important to focus on solutions that can help us reach our goals. We should forge a global public partnership to harness technology, innovation and finance to put affordable clean and renewable energy within the reach of all.', 'Equally, we must look for changes in our lifestyles that would make us less dependent on energy and more sustainable in our consumption.', 'It is equally critical to launch a global education programme that prepares our next generation to protect and conserve Nature.', 'I hope that the Developed World will fulfil its financing commitments for development and climate change, without in any way putting both under the same head!', 'I also hope that the Technology Facilitation Mechanism will turn technology and innovation into an effective instrument for global public good, not just private returns.', 'As we see now, distance is no insulation from challenges. And, they can rise from the shadows of conflict and privations from distant lands.', 'So, we must transform international partnerships on the strength of solidarity with fellow human beings and also our enlightened self-interest.', 'And, we must also reform the United Nations, including its Security Council, so that it carries greater credibility and legitimacy and will be more representative and effective in achieving our goals.', 'There is no cause greater than shaping a world, in which every life that enters it can look to a future of security, opportunity and dignity; and, where we leave our environment in better shape for the next generation. And, no cause that is more challenging.', 'At 70, we are called to rise to that challenge, with our wisdom, experience, generosity, compassion, skills and technology.', 'I am confident that we can.', 'In the end, let me express my hope for everyoneâ\\x80\\x99s well with a few lines from our ancient texts:', 'May all be happy, may all be healthy, may all see welfare, may no one have any sorrow.', 'Thank you.']\n"
     ]
    }
   ],
   "source": [
    "for i in wtext:\n",
    "    j=i.strip('\\n')\n",
    "    wtext[wtext.index(i)] = j\n",
    "print(wtext)"
   ]
  },
  {
   "cell_type": "code",
   "execution_count": 6,
   "metadata": {},
   "outputs": [
    {
     "name": "stdout",
     "output_type": "stream",
     "text": [
      " Excellencies, Mahatma Gandhi had once said, âOne must care about the world one will not seeâ. Indeed, humanity has progressed when it has collectively risen to its obligation to the world and responsibility to the future. Seventy years after the end of a tragic war and birth of a new hope for our age, we are meeting to chart a course for our humanity and our planet. I consider this a very important summit and thank UN Secretary General for organizing it. Just as our vision behind the Agenda 2030 is lofty, our goals are comprehensive. It gives priority to the problems that have endured through the past decades. And, it reflects our evolving understanding of the social, economic and environmental linkages that define our lives. We live in an age of unprecedented prosperity, but also unspeakable deprivation around the world. I am pleased that elimination of poverty in all forms everywhere is at the top of our goals. Addressing the needs of 1.3 billion poor people in the world is not merely a question of their survival and dignity or our moral responsibility. It is a vital necessity for ensuring peaceful, sustainable and just world. A great Indian thinker, Pandit Deen Dayal Upadhyay, placed the welfare of the poorest at the centre of his thoughts. This is what we also see in the 2030 Agenda. It is a happy coincidence that we are beginning the celebration of Pandit Deen Dayal Upadhyayâs 100th anniversary today. The goals recognize that economic growth, industrialization, infrastructure, and access to energy provide the foundations of development. We welcome the prominence given to environmental goals, especially climate change and sustainable consumption. The distinct goal on ocean ecosystem reflects the unique character of its challenges and opportunities. Equally important, it focuses our attention on the future of the island states. I speak about Blue Revolution, which includes the prosperity, sustainable use of marine wealth and blue skies. Today, much of Indiaâs development agenda is mirrored in the Sustainable Development Goals. Since Independence, we have pursued the dream of eliminating poverty from India. We have chosen the path of removing poverty by empowering the poor. We have placed priority on education and skill development. Our attack on poverty today includes expanded conventional schemes of development, but we have also launched a new era of inclusion and empowerment, turning distant dreams into immediate possibilities: new bank accounts for 180 million; direct transfer of benefits; funds to the unbanked; insurance within the reach of all; and, pension for everyone's sunset years. The world speaks of private sector and public sector. In India, we have defined a new personal sector of individual enterprise, micro enterprises and micro finance, drawing also on the strength of digital and mobile applications. We are focusing on the basics: housing, power, water and sanitation for all â important not just for welfare, but also human dignity. These are goals with a definite date, not just a mirage of hope. Our development is intrinsically linked to empowerment of women and it begins with a massive programme on educating the girl child that has become every familyâs mission. We are making our farms more productive and better connected to markets; and, farmers less vulnerable to the whims of nature. We are reviving our manufacturing, improving our services sector, investing on an unprecedented scale in infrastructure; and, making our cities smart, sustainable and engines of progress. We are committed to a sustainable path to prosperity. It comes from the natural instinct of our tradition and culture. But, it is also rooted firmly in our commitment to the future. We represent a culture that calls our planet Mother Earth. As our ancient text say: \"Keep pure! For the Earth is our mother! And we are her children!\" Our national plans are ambitious and purposeful: new capacity of 175 GW of renewable energy over the next seven years; energy efficiency; a tax on coal; a huge afforestation programme; reforming our transportation; and, cleaning up our cities and rivers. The energy intensity of our growth will continue to decline. Sustainable development of one-sixth of humanity will be of great consequence to the world and our beautiful planet. It will be a world of fewer challenges and greater hope; and, more confident of its success. Our success will give us more resources to share with our friends. As Indiaâs ancient saying goes, the wise look at the world as one family. Today, India is fulfilling its responsibilities as development partners in Asia and Africa and with small island states from the Pacific to the Atlantic. Nations have a national responsibility for sustainable development. They also need policy space. However, we are here today in the United Nations because we all believe that international partnership must be at the centre of our efforts, whether it is development or combating climate change. And, the principle of common but differentiated responsibilities is the bedrock of our collective enterprise. When we speak only of climate change, there is a perception of our desire to secure the comforts of our lifestyle. When we speak of climate justice, we demonstrate our sensitivity and resolve to secure the future of the poor from the perils of natural disasters. In addressing climate change, it is important to focus on solutions that can help us reach our goals. We should forge a global public partnership to harness technology, innovation and finance to put affordable clean and renewable energy within the reach of all. Equally, we must look for changes in our lifestyles that would make us less dependent on energy and more sustainable in our consumption. It is equally critical to launch a global education programme that prepares our next generation to protect and conserve Nature. I hope that the Developed World will fulfil its financing commitments for development and climate change, without in any way putting both under the same head! I also hope that the Technology Facilitation Mechanism will turn technology and innovation into an effective instrument for global public good, not just private returns. As we see now, distance is no insulation from challenges. And, they can rise from the shadows of conflict and privations from distant lands. So, we must transform international partnerships on the strength of solidarity with fellow human beings and also our enlightened self-interest. And, we must also reform the United Nations, including its Security Council, so that it carries greater credibility and legitimacy and will be more representative and effective in achieving our goals. There is no cause greater than shaping a world, in which every life that enters it can look to a future of security, opportunity and dignity; and, where we leave our environment in better shape for the next generation. And, no cause that is more challenging. At 70, we are called to rise to that challenge, with our wisdom, experience, generosity, compassion, skills and technology. I am confident that we can. In the end, let me express my hope for everyoneâs well with a few lines from our ancient texts: May all be happy, may all be healthy, may all see welfare, may no one have any sorrow. Thank you.\n"
     ]
    }
   ],
   "source": [
    "x = \"\"\n",
    "for i in wtext:\n",
    "    x= x + \" \" + i\n",
    "print(x)"
   ]
  },
  {
   "cell_type": "code",
   "execution_count": 7,
   "metadata": {},
   "outputs": [
    {
     "name": "stdout",
     "output_type": "stream",
     "text": [
      "\n",
      "\n",
      " 1194\n",
      "\n",
      "\n",
      " [148, 149, 150, 151, 152, 153, 154, 33, 155, 77, 1, 15, 42, 19, 34, 156, 157, 50, 51, 158, 52, 11, 51, 159, 160, 6, 25, 161, 6, 1, 15, 2, 53, 6, 1, 35, 162, 54, 163, 1, 78, 3, 7, 164, 165, 2, 166, 3, 7, 36, 26, 12, 4, 79, 5, 13, 167, 6, 168, 7, 169, 12, 4, 50, 2, 4, 55, 27, 170, 80, 7, 171, 43, 172, 2, 81, 173, 174, 175, 12, 176, 11, 37, 28, 4, 177, 178, 1, 56, 82, 8, 179, 4, 20, 13, 180, 11, 181, 83, 6, 1, 182, 9, 21, 183, 184, 1, 185, 186, 2, 11, 84, 4, 187, 188, 3, 1, 189, 85, 2, 86, 190, 9, 191, 4, 192, 5, 193, 10, 57, 79, 3, 87, 58, 38, 17, 194, 195, 196, 1, 15, 27, 88, 197, 9, 198, 3, 44, 10, 22, 199, 200, 8, 39, 1, 201, 3, 4, 20, 89, 1, 202, 3, 203, 204, 205, 59, 206, 10, 1, 15, 8, 34, 207, 7, 208, 3, 209, 210, 2, 60, 90, 4, 211, 53, 11, 8, 7, 212, 213, 12, 214, 215, 18, 2, 37, 15, 7, 91, 216, 217, 92, 93, 94, 218, 95, 1, 61, 3, 1, 219, 39, 1, 96, 3, 220, 221, 80, 8, 222, 5, 17, 62, 10, 1, 82, 56, 11, 8, 7, 97, 223, 9, 5, 13, 224, 1, 225, 3, 92, 93, 94, 226, 227, 228, 40, 1, 20, 229, 9, 85, 98, 230, 99, 2, 231, 6, 29, 232, 1, 233, 3, 16, 5, 234, 1, 235, 236, 6, 86, 20, 237, 30, 41, 2, 18, 100, 1, 238, 239, 14, 240, 241, 84, 1, 242, 243, 3, 25, 63, 2, 244, 64, 43, 11, 245, 4, 246, 14, 1, 35, 3, 1, 101, 102, 27, 65, 77, 103, 247, 104, 105, 1, 58, 18, 248, 3, 249, 250, 2, 103, 251, 40, 252, 3, 106, 16, 56, 8, 253, 10, 1, 18, 16, 20, 254, 255, 5, 21, 256, 1, 257, 3, 258, 44, 23, 66, 5, 21, 259, 1, 107, 3, 260, 44, 261, 262, 1, 59, 5, 21, 95, 83, 14, 108, 2, 263, 16, 4, 264, 14, 44, 40, 105, 265, 266, 267, 3, 16, 38, 5, 21, 17, 268, 7, 36, 269, 3, 270, 2, 109, 271, 110, 272, 111, 273, 274, 36, 275, 276, 12, 277, 278, 279, 280, 3, 281, 282, 6, 1, 283, 284, 112, 1, 67, 3, 22, 2, 285, 12, 286, 287, 54, 1, 15, 288, 3, 113, 45, 2, 68, 45, 10, 66, 5, 21, 289, 7, 36, 290, 45, 3, 291, 114, 115, 292, 2, 115, 116, 293, 17, 14, 1, 117, 3, 294, 2, 295, 296, 5, 13, 297, 14, 1, 298, 299, 300, 301, 2, 302, 12, 22, 303, 43, 34, 37, 12, 61, 38, 17, 118, 60, 304, 13, 20, 24, 7, 305, 306, 34, 37, 7, 307, 3, 26, 4, 16, 8, 308, 309, 6, 109, 3, 310, 2, 11, 311, 24, 7, 312, 69, 14, 313, 1, 314, 315, 9, 51, 316, 119, 317, 318, 5, 13, 120, 4, 319, 31, 320, 2, 121, 321, 6, 322, 2, 323, 122, 324, 6, 1, 325, 3, 123, 5, 13, 326, 4, 327, 328, 4, 329, 45, 330, 14, 57, 87, 331, 10, 99, 2, 120, 4, 124, 332, 18, 2, 333, 3, 334, 5, 13, 335, 6, 7, 18, 107, 6, 58, 11, 336, 23, 1, 125, 337, 3, 4, 338, 2, 126, 38, 11, 8, 17, 339, 340, 10, 4, 341, 6, 1, 35, 5, 342, 7, 126, 9, 343, 4, 55, 127, 128, 28, 4, 70, 344, 345, 346, 347, 12, 1, 128, 8, 4, 127, 2, 5, 13, 348, 349, 4, 129, 350, 13, 351, 2, 352, 36, 353, 3, 354, 355, 3, 130, 29, 356, 1, 71, 357, 54, 29, 358, 7, 359, 14, 360, 7, 361, 362, 69, 363, 4, 364, 2, 365, 366, 4, 124, 2, 367, 1, 29, 368, 3, 4, 98, 19, 369, 6, 370, 18, 16, 3, 42, 371, 3, 50, 19, 32, 3, 91, 372, 6, 1, 15, 2, 4, 373, 55, 11, 19, 32, 7, 15, 3, 374, 63, 2, 72, 26, 2, 31, 131, 3, 25, 132, 4, 132, 19, 375, 73, 31, 376, 6, 377, 24, 4, 378, 28, 106, 70, 379, 380, 1, 381, 74, 39, 1, 15, 28, 42, 382, 40, 66, 8, 383, 25, 133, 28, 16, 384, 10, 385, 2, 386, 2, 24, 387, 101, 102, 23, 1, 388, 6, 1, 389, 75, 21, 7, 129, 53, 12, 18, 16, 134, 17, 390, 391, 392, 393, 5, 13, 394, 40, 10, 1, 135, 75, 395, 5, 22, 396, 9, 136, 137, 33, 32, 39, 1, 96, 3, 4, 397, 398, 11, 8, 16, 90, 399, 30, 41, 2, 1, 400, 3, 401, 38, 402, 133, 8, 1, 403, 3, 4, 404, 114, 52, 5, 65, 405, 3, 30, 41, 138, 8, 7, 406, 3, 4, 407, 6, 139, 1, 408, 3, 4, 409, 52, 5, 65, 3, 30, 410, 5, 411, 4, 412, 2, 413, 6, 139, 1, 35, 3, 1, 59, 23, 1, 414, 3, 125, 415, 10, 89, 30, 41, 11, 8, 43, 6, 416, 14, 417, 9, 46, 418, 73, 67, 4, 20, 5, 419, 420, 7, 76, 68, 137, 6, 421, 47, 140, 2, 116, 6, 422, 423, 424, 2, 130, 29, 112, 1, 67, 3, 22, 64, 5, 33, 74, 12, 425, 10, 4, 426, 9, 427, 428, 73, 122, 429, 14, 29, 2, 31, 18, 10, 4, 100, 11, 8, 64, 430, 6, 431, 7, 76, 108, 69, 9, 432, 4, 71, 141, 6, 433, 2, 434, 123, 27, 26, 9, 1, 435, 15, 19, 436, 25, 437, 438, 12, 16, 2, 30, 41, 439, 10, 142, 440, 441, 442, 443, 1, 444, 445, 27, 17, 26, 9, 1, 47, 446, 447, 19, 448, 47, 2, 140, 111, 57, 143, 449, 12, 76, 68, 450, 34, 37, 113, 451, 28, 5, 62, 452, 453, 8, 48, 454, 23, 63, 2, 134, 46, 144, 23, 1, 455, 3, 456, 2, 457, 23, 110, 458, 145, 5, 33, 459, 136, 460, 14, 1, 117, 3, 461, 24, 462, 118, 463, 2, 17, 4, 464, 465, 466, 2, 5, 33, 17, 467, 1, 135, 75, 468, 25, 146, 469, 145, 9, 11, 470, 72, 471, 2, 472, 2, 19, 32, 31, 473, 2, 143, 10, 474, 4, 20, 138, 8, 48, 147, 72, 475, 476, 7, 15, 10, 104, 119, 477, 9, 478, 11, 46, 74, 6, 7, 35, 3, 146, 479, 2, 60, 2, 480, 5, 481, 4, 482, 10, 121, 483, 12, 1, 71, 141, 2, 48, 147, 9, 8, 31, 484, 39, 485, 5, 13, 486, 6, 144, 6, 9, 487, 24, 4, 488, 489, 490, 491, 492, 2, 47, 27, 88, 131, 9, 5, 46, 10, 1, 78, 493, 494, 495, 496, 26, 12, 497, 498, 24, 7, 499, 500, 23, 4, 70, 501, 49, 22, 32, 97, 49, 22, 32, 502, 49, 22, 62, 61, 49, 48, 42, 21, 142, 503, 81, 504]\n"
     ]
    }
   ],
   "source": [
    "# vector representation \n",
    "tokenizer = Tokenizer()\n",
    "tokenizer.fit_on_texts([x])\n",
    "encoded = tokenizer.texts_to_sequences([x])[0]\n",
    "print(\"\\n\\n\" , len(encoded))\n",
    "print(\"\\n\\n\" , encoded)\n",
    "\n"
   ]
  },
  {
   "cell_type": "code",
   "execution_count": 8,
   "metadata": {},
   "outputs": [
    {
     "name": "stdout",
     "output_type": "stream",
     "text": [
      "Vocabulary Size: 505\n"
     ]
    }
   ],
   "source": [
    "# retrieve vocabulary size\n",
    "vocab_size = len(tokenizer.word_index) + 1\n",
    "print('Vocabulary Size: %d' % vocab_size)"
   ]
  },
  {
   "cell_type": "code",
   "execution_count": 9,
   "metadata": {
    "scrolled": true
   },
   "outputs": [
    {
     "name": "stdout",
     "output_type": "stream",
     "text": [
      "Total Sequences: 1131\n",
      "\n",
      " [148, 149]\n"
     ]
    }
   ],
   "source": [
    "# create line-based sequences\n",
    "sequences = list()\n",
    "for line in x.split('. '):\n",
    "\tencoded = tokenizer.texts_to_sequences([line])[0]\n",
    "\tfor i in range(1, len(encoded)):\n",
    "\t\tsequence = encoded[:i+1]\n",
    "\t\tsequences.append(sequence)\n",
    "print('Total Sequences: %d' % len(sequences))\n",
    "print(\"\\n\",sequences[0])"
   ]
  },
  {
   "cell_type": "code",
   "execution_count": 10,
   "metadata": {},
   "outputs": [
    {
     "name": "stdout",
     "output_type": "stream",
     "text": [
      "Max Sequence Length: 58\n"
     ]
    }
   ],
   "source": [
    "# pad input sequences\n",
    "max_length = max([len(seq) for seq in sequences])\n",
    "sequences = pad_sequences(sequences, maxlen=max_length, padding='pre')\n",
    "print('Max Sequence Length: %d' % max_length)"
   ]
  },
  {
   "cell_type": "code",
   "execution_count": 11,
   "metadata": {
    "collapsed": true
   },
   "outputs": [],
   "source": [
    "# split into input and output elements\n",
    "sequences = array(sequences)\n",
    "X, y = sequences[:,:-1],sequences[:,-1]\n",
    "y = to_categorical(y, num_classes=vocab_size)"
   ]
  },
  {
   "cell_type": "code",
   "execution_count": 12,
   "metadata": {},
   "outputs": [
    {
     "name": "stdout",
     "output_type": "stream",
     "text": [
      "_________________________________________________________________\n",
      "Layer (type)                 Output Shape              Param #   \n",
      "=================================================================\n",
      "embedding_1 (Embedding)      (None, 57, 128)           64640     \n",
      "_________________________________________________________________\n",
      "lstm_1 (LSTM)                (None, 200)               263200    \n",
      "_________________________________________________________________\n",
      "dense_1 (Dense)              (None, 505)               101505    \n",
      "=================================================================\n",
      "Total params: 429,345\n",
      "Trainable params: 429,345\n",
      "Non-trainable params: 0\n",
      "_________________________________________________________________\n",
      "None\n"
     ]
    }
   ],
   "source": [
    "model = Sequential()\n",
    "model.add(Embedding(vocab_size,128, input_length=max_length-1))\n",
    "model.add(LSTM(200, recurrent_dropout = 0.2, dropout = 0.2))\n",
    "model.add(Dense(vocab_size, activation='softmax'))\n",
    "print(model.summary())"
   ]
  },
  {
   "cell_type": "code",
   "execution_count": 13,
   "metadata": {
    "collapsed": true
   },
   "outputs": [],
   "source": [
    "model.compile(loss='categorical_crossentropy', optimizer='adam', metrics=['accuracy'])\n"
   ]
  },
  {
   "cell_type": "code",
   "execution_count": 14,
   "metadata": {},
   "outputs": [
    {
     "name": "stdout",
     "output_type": "stream",
     "text": [
      "Train on 1074 samples, validate on 57 samples\n",
      "Epoch 1/150\n",
      "1074/1074 [==============================] - 8s 7ms/step - loss: 5.9714 - acc: 0.0447 - val_loss: 6.3106 - val_acc: 0.0175\n",
      "Epoch 2/150\n",
      "1074/1074 [==============================] - 5s 5ms/step - loss: 5.5617 - acc: 0.0568 - val_loss: 6.6462 - val_acc: 0.0175\n",
      "Epoch 3/150\n",
      "1074/1074 [==============================] - 5s 5ms/step - loss: 5.4821 - acc: 0.0559 - val_loss: 6.8046 - val_acc: 0.0000e+00\n",
      "Epoch 4/150\n",
      "1074/1074 [==============================] - 5s 5ms/step - loss: 5.4486 - acc: 0.0549 - val_loss: 6.8678 - val_acc: 0.0175\n",
      "Epoch 5/150\n",
      "1074/1074 [==============================] - 5s 5ms/step - loss: 5.4011 - acc: 0.0568 - val_loss: 6.9779 - val_acc: 0.0175\n",
      "Epoch 6/150\n",
      "1074/1074 [==============================] - 5s 5ms/step - loss: 5.3179 - acc: 0.0819 - val_loss: 7.0751 - val_acc: 0.0175\n",
      "Epoch 7/150\n",
      "1074/1074 [==============================] - 5s 5ms/step - loss: 5.1714 - acc: 0.1080 - val_loss: 7.1367 - val_acc: 0.0175\n",
      "Epoch 8/150\n",
      "1074/1074 [==============================] - 5s 5ms/step - loss: 4.9905 - acc: 0.1164 - val_loss: 7.2240 - val_acc: 0.0351\n",
      "Epoch 9/150\n",
      "1074/1074 [==============================] - 5s 5ms/step - loss: 4.7524 - acc: 0.1415 - val_loss: 7.3067 - val_acc: 0.0351\n",
      "Epoch 10/150\n",
      "1074/1074 [==============================] - 5s 5ms/step - loss: 4.4989 - acc: 0.1574 - val_loss: 7.4945 - val_acc: 0.0351\n",
      "Epoch 11/150\n",
      "1074/1074 [==============================] - 5s 5ms/step - loss: 4.2488 - acc: 0.1881 - val_loss: 7.7461 - val_acc: 0.0526\n",
      "Epoch 12/150\n",
      "1074/1074 [==============================] - 5s 5ms/step - loss: 3.9863 - acc: 0.2169 - val_loss: 7.8220 - val_acc: 0.0526\n",
      "Epoch 13/150\n",
      "1074/1074 [==============================] - 5s 5ms/step - loss: 3.7248 - acc: 0.2393 - val_loss: 8.0276 - val_acc: 0.0175\n",
      "Epoch 14/150\n",
      "1074/1074 [==============================] - 5s 5ms/step - loss: 3.4884 - acc: 0.2709 - val_loss: 8.1326 - val_acc: 0.0351\n",
      "Epoch 15/150\n",
      "1074/1074 [==============================] - 6s 5ms/step - loss: 3.2688 - acc: 0.2998 - val_loss: 8.1674 - val_acc: 0.0351\n",
      "Epoch 16/150\n",
      "1074/1074 [==============================] - 5s 5ms/step - loss: 3.0350 - acc: 0.3426 - val_loss: 8.1917 - val_acc: 0.0351\n",
      "Epoch 17/150\n",
      "1074/1074 [==============================] - 5s 5ms/step - loss: 2.8371 - acc: 0.3696 - val_loss: 8.5173 - val_acc: 0.0175\n",
      "Epoch 18/150\n",
      "1074/1074 [==============================] - 5s 5ms/step - loss: 2.6354 - acc: 0.4264 - val_loss: 8.6232 - val_acc: 0.0351\n",
      "Epoch 19/150\n",
      "1074/1074 [==============================] - 5s 5ms/step - loss: 2.4480 - acc: 0.4609 - val_loss: 8.5743 - val_acc: 0.0526\n",
      "Epoch 20/150\n",
      "1074/1074 [==============================] - 5s 5ms/step - loss: 2.2705 - acc: 0.5233 - val_loss: 8.7479 - val_acc: 0.0175\n",
      "Epoch 21/150\n",
      "1074/1074 [==============================] - 5s 5ms/step - loss: 2.0816 - acc: 0.5689 - val_loss: 8.6450 - val_acc: 0.0175\n",
      "Epoch 22/150\n",
      "1074/1074 [==============================] - 5s 5ms/step - loss: 1.9347 - acc: 0.6285 - val_loss: 8.8195 - val_acc: 0.0351\n",
      "Epoch 23/150\n",
      "1074/1074 [==============================] - 5s 5ms/step - loss: 1.7907 - acc: 0.6639 - val_loss: 8.8773 - val_acc: 0.0175\n",
      "Epoch 24/150\n",
      "1074/1074 [==============================] - 5s 5ms/step - loss: 1.6491 - acc: 0.7104 - val_loss: 9.0067 - val_acc: 0.0351\n",
      "Epoch 25/150\n",
      "1074/1074 [==============================] - 5s 5ms/step - loss: 1.5158 - acc: 0.7570 - val_loss: 9.0386 - val_acc: 0.0526\n",
      "Epoch 26/150\n",
      "1074/1074 [==============================] - 5s 5ms/step - loss: 1.3949 - acc: 0.7775 - val_loss: 9.1179 - val_acc: 0.0526\n",
      "Epoch 27/150\n",
      "1074/1074 [==============================] - 5s 5ms/step - loss: 1.2943 - acc: 0.7970 - val_loss: 9.1584 - val_acc: 0.0351\n",
      "Epoch 28/150\n",
      "1074/1074 [==============================] - 5s 5ms/step - loss: 1.1823 - acc: 0.8305 - val_loss: 9.2590 - val_acc: 0.0526\n",
      "Epoch 29/150\n",
      "1074/1074 [==============================] - 5s 5ms/step - loss: 1.0863 - acc: 0.8659 - val_loss: 9.3148 - val_acc: 0.0351\n",
      "Epoch 30/150\n",
      "1074/1074 [==============================] - 5s 5ms/step - loss: 1.0122 - acc: 0.8687 - val_loss: 9.4351 - val_acc: 0.0175\n",
      "Epoch 31/150\n",
      "1074/1074 [==============================] - 5s 5ms/step - loss: 0.9231 - acc: 0.8836 - val_loss: 9.4985 - val_acc: 0.0351\n",
      "Epoch 32/150\n",
      "1074/1074 [==============================] - 5s 5ms/step - loss: 0.8601 - acc: 0.9022 - val_loss: 9.5176 - val_acc: 0.0526\n",
      "Epoch 33/150\n",
      "1074/1074 [==============================] - 5s 5ms/step - loss: 0.7913 - acc: 0.9041 - val_loss: 9.5953 - val_acc: 0.0351\n",
      "Epoch 34/150\n",
      "1074/1074 [==============================] - 5s 5ms/step - loss: 0.7337 - acc: 0.9153 - val_loss: 9.5950 - val_acc: 0.0526\n",
      "Epoch 35/150\n",
      "1074/1074 [==============================] - 5s 5ms/step - loss: 0.6778 - acc: 0.9292 - val_loss: 9.6297 - val_acc: 0.0351\n",
      "Epoch 36/150\n",
      "1074/1074 [==============================] - 5s 5ms/step - loss: 0.6263 - acc: 0.9367 - val_loss: 9.6651 - val_acc: 0.0526\n",
      "Epoch 37/150\n",
      "1074/1074 [==============================] - 5s 5ms/step - loss: 0.5865 - acc: 0.9367 - val_loss: 9.7043 - val_acc: 0.0702\n",
      "Epoch 38/150\n",
      "1074/1074 [==============================] - 5s 5ms/step - loss: 0.5457 - acc: 0.9423 - val_loss: 9.8518 - val_acc: 0.0175\n",
      "Epoch 39/150\n",
      "1074/1074 [==============================] - 6s 5ms/step - loss: 0.5086 - acc: 0.9432 - val_loss: 9.8228 - val_acc: 0.0351\n",
      "Epoch 40/150\n",
      "1074/1074 [==============================] - 6s 5ms/step - loss: 0.4838 - acc: 0.9460 - val_loss: 9.8278 - val_acc: 0.0526\n",
      "Epoch 41/150\n",
      "1074/1074 [==============================] - 6s 5ms/step - loss: 0.4451 - acc: 0.9497 - val_loss: 9.8174 - val_acc: 0.0351\n",
      "Epoch 42/150\n",
      "1074/1074 [==============================] - 5s 5ms/step - loss: 0.4219 - acc: 0.9497 - val_loss: 9.8658 - val_acc: 0.0175\n",
      "Epoch 43/150\n",
      "1074/1074 [==============================] - 6s 5ms/step - loss: 0.3996 - acc: 0.9525 - val_loss: 9.9951 - val_acc: 0.0351\n",
      "Epoch 44/150\n",
      "1074/1074 [==============================] - 6s 5ms/step - loss: 0.3743 - acc: 0.9553 - val_loss: 9.9716 - val_acc: 0.0175\n",
      "Epoch 45/150\n",
      "1074/1074 [==============================] - 5s 5ms/step - loss: 0.3555 - acc: 0.9534 - val_loss: 10.0527 - val_acc: 0.0175\n",
      "Epoch 46/150\n",
      "1074/1074 [==============================] - 6s 5ms/step - loss: 0.3345 - acc: 0.9553 - val_loss: 10.0613 - val_acc: 0.0175\n",
      "Epoch 47/150\n",
      "1074/1074 [==============================] - 6s 5ms/step - loss: 0.3194 - acc: 0.9572 - val_loss: 10.0885 - val_acc: 0.0175\n",
      "Epoch 48/150\n",
      "1074/1074 [==============================] - 6s 5ms/step - loss: 0.2987 - acc: 0.9600 - val_loss: 10.1065 - val_acc: 0.0351\n",
      "Epoch 49/150\n",
      "1074/1074 [==============================] - 6s 5ms/step - loss: 0.2890 - acc: 0.9600 - val_loss: 10.1685 - val_acc: 0.0351\n",
      "Epoch 50/150\n",
      "1074/1074 [==============================] - 6s 5ms/step - loss: 0.2772 - acc: 0.9572 - val_loss: 10.1575 - val_acc: 0.0175\n",
      "Epoch 51/150\n",
      "1074/1074 [==============================] - 6s 6ms/step - loss: 0.2660 - acc: 0.9590 - val_loss: 10.2197 - val_acc: 0.0175\n",
      "Epoch 52/150\n",
      "1074/1074 [==============================] - 6s 5ms/step - loss: 0.2549 - acc: 0.9609 - val_loss: 10.1805 - val_acc: 0.0175\n",
      "Epoch 53/150\n",
      "1074/1074 [==============================] - 6s 5ms/step - loss: 0.2379 - acc: 0.9600 - val_loss: 10.2038 - val_acc: 0.0351\n",
      "Epoch 54/150\n",
      "1074/1074 [==============================] - 6s 5ms/step - loss: 0.2292 - acc: 0.9665 - val_loss: 10.2865 - val_acc: 0.0175\n",
      "Epoch 55/150\n",
      "1074/1074 [==============================] - 6s 5ms/step - loss: 0.2267 - acc: 0.9581 - val_loss: 10.2775 - val_acc: 0.0351\n",
      "Epoch 56/150\n",
      "1074/1074 [==============================] - 5s 5ms/step - loss: 0.2156 - acc: 0.9600 - val_loss: 10.2607 - val_acc: 0.0175\n",
      "Epoch 57/150\n",
      "1074/1074 [==============================] - 5s 5ms/step - loss: 0.2061 - acc: 0.9628 - val_loss: 10.2683 - val_acc: 0.0175\n",
      "Epoch 58/150\n",
      "1074/1074 [==============================] - 5s 5ms/step - loss: 0.2019 - acc: 0.9618 - val_loss: 10.2960 - val_acc: 0.0175\n",
      "Epoch 59/150\n",
      "1074/1074 [==============================] - 5s 5ms/step - loss: 0.1928 - acc: 0.9637 - val_loss: 10.3127 - val_acc: 0.0175\n",
      "Epoch 60/150\n",
      "1074/1074 [==============================] - 5s 5ms/step - loss: 0.1885 - acc: 0.9609 - val_loss: 10.3890 - val_acc: 0.0351\n",
      "Epoch 61/150\n",
      "1074/1074 [==============================] - 5s 5ms/step - loss: 0.1856 - acc: 0.9609 - val_loss: 10.3870 - val_acc: 0.0351\n",
      "Epoch 62/150\n",
      "1074/1074 [==============================] - 5s 5ms/step - loss: 0.1815 - acc: 0.9637 - val_loss: 10.3407 - val_acc: 0.0351\n",
      "Epoch 63/150\n",
      "1074/1074 [==============================] - 5s 5ms/step - loss: 0.1740 - acc: 0.9618 - val_loss: 10.3609 - val_acc: 0.0351\n",
      "Epoch 64/150\n",
      "1074/1074 [==============================] - 6s 5ms/step - loss: 0.1677 - acc: 0.9637 - val_loss: 10.3347 - val_acc: 0.0175\n",
      "Epoch 65/150\n",
      "1074/1074 [==============================] - 6s 5ms/step - loss: 0.1635 - acc: 0.9655 - val_loss: 10.4745 - val_acc: 0.0175\n",
      "Epoch 66/150\n",
      "1074/1074 [==============================] - 6s 5ms/step - loss: 0.1605 - acc: 0.9646 - val_loss: 10.3715 - val_acc: 0.0175\n",
      "Epoch 67/150\n",
      "1074/1074 [==============================] - 5s 5ms/step - loss: 0.1545 - acc: 0.9655 - val_loss: 10.4687 - val_acc: 0.0175\n",
      "Epoch 68/150\n",
      "1074/1074 [==============================] - 5s 5ms/step - loss: 0.1501 - acc: 0.9618 - val_loss: 10.4494 - val_acc: 0.0175\n",
      "Epoch 69/150\n",
      "1074/1074 [==============================] - 6s 5ms/step - loss: 0.1483 - acc: 0.9646 - val_loss: 10.4611 - val_acc: 0.0351\n",
      "Epoch 70/150\n",
      "1074/1074 [==============================] - 5s 5ms/step - loss: 0.1447 - acc: 0.9628 - val_loss: 10.5062 - val_acc: 0.0351\n",
      "Epoch 71/150\n",
      "1074/1074 [==============================] - 5s 5ms/step - loss: 0.1444 - acc: 0.9637 - val_loss: 10.5255 - val_acc: 0.0351\n",
      "Epoch 72/150\n",
      "1074/1074 [==============================] - 6s 5ms/step - loss: 0.1418 - acc: 0.9655 - val_loss: 10.5292 - val_acc: 0.0351\n",
      "Epoch 73/150\n",
      "1074/1074 [==============================] - 5s 5ms/step - loss: 0.1370 - acc: 0.9590 - val_loss: 10.5854 - val_acc: 0.0175\n",
      "Epoch 74/150\n",
      "1074/1074 [==============================] - 6s 5ms/step - loss: 0.1359 - acc: 0.9646 - val_loss: 10.5291 - val_acc: 0.0175\n",
      "Epoch 75/150\n",
      "1074/1074 [==============================] - 5s 5ms/step - loss: 0.1331 - acc: 0.9628 - val_loss: 10.6082 - val_acc: 0.0175\n",
      "Epoch 76/150\n",
      "1074/1074 [==============================] - 5s 5ms/step - loss: 0.1295 - acc: 0.9618 - val_loss: 10.6283 - val_acc: 0.0175\n",
      "Epoch 77/150\n",
      "1074/1074 [==============================] - 5s 5ms/step - loss: 0.1292 - acc: 0.9665 - val_loss: 10.6335 - val_acc: 0.0000e+00\n",
      "Epoch 78/150\n",
      "1074/1074 [==============================] - 5s 5ms/step - loss: 0.1267 - acc: 0.9655 - val_loss: 10.6522 - val_acc: 0.0000e+00\n",
      "Epoch 79/150\n",
      "1074/1074 [==============================] - 5s 5ms/step - loss: 0.1248 - acc: 0.9600 - val_loss: 10.6522 - val_acc: 0.0000e+00\n",
      "Epoch 80/150\n",
      "1074/1074 [==============================] - 5s 5ms/step - loss: 0.1225 - acc: 0.9618 - val_loss: 10.6692 - val_acc: 0.0351\n",
      "Epoch 81/150\n",
      "1074/1074 [==============================] - 5s 5ms/step - loss: 0.1210 - acc: 0.9655 - val_loss: 10.7498 - val_acc: 0.0175\n",
      "Epoch 82/150\n",
      "1074/1074 [==============================] - 5s 5ms/step - loss: 0.1252 - acc: 0.9618 - val_loss: 10.6681 - val_acc: 0.0175\n",
      "Epoch 83/150\n",
      "1074/1074 [==============================] - 5s 5ms/step - loss: 0.1195 - acc: 0.9609 - val_loss: 10.6572 - val_acc: 0.0175\n",
      "Epoch 84/150\n",
      "1074/1074 [==============================] - 5s 5ms/step - loss: 0.1160 - acc: 0.9618 - val_loss: 10.6948 - val_acc: 0.0175\n",
      "Epoch 85/150\n",
      "1074/1074 [==============================] - 5s 5ms/step - loss: 0.1142 - acc: 0.9655 - val_loss: 10.7506 - val_acc: 0.0175\n",
      "Epoch 86/150\n",
      "1074/1074 [==============================] - 5s 5ms/step - loss: 0.1134 - acc: 0.9618 - val_loss: 10.7638 - val_acc: 0.0351\n",
      "Epoch 87/150\n",
      "1074/1074 [==============================] - 5s 5ms/step - loss: 0.1138 - acc: 0.9609 - val_loss: 10.7439 - val_acc: 0.0351\n",
      "Epoch 88/150\n",
      "1074/1074 [==============================] - 5s 5ms/step - loss: 0.1117 - acc: 0.9646 - val_loss: 10.7794 - val_acc: 0.0000e+00\n",
      "Epoch 89/150\n",
      "1074/1074 [==============================] - 5s 5ms/step - loss: 0.1072 - acc: 0.9655 - val_loss: 10.8175 - val_acc: 0.0175\n",
      "Epoch 90/150\n",
      "1074/1074 [==============================] - 6s 6ms/step - loss: 0.1087 - acc: 0.9637 - val_loss: 10.8421 - val_acc: 0.0000e+00\n",
      "Epoch 91/150\n",
      "1074/1074 [==============================] - 6s 5ms/step - loss: 0.1070 - acc: 0.9637 - val_loss: 10.8230 - val_acc: 0.0175\n",
      "Epoch 92/150\n",
      "1074/1074 [==============================] - 6s 5ms/step - loss: 0.1071 - acc: 0.9618 - val_loss: 10.8463 - val_acc: 0.0351\n",
      "Epoch 93/150\n",
      "1074/1074 [==============================] - 6s 5ms/step - loss: 0.1051 - acc: 0.9665 - val_loss: 10.7817 - val_acc: 0.0175\n",
      "Epoch 94/150\n",
      "1074/1074 [==============================] - 6s 5ms/step - loss: 0.1033 - acc: 0.9637 - val_loss: 10.7979 - val_acc: 0.0351\n",
      "Epoch 95/150\n",
      "1074/1074 [==============================] - 6s 5ms/step - loss: 0.1002 - acc: 0.9646 - val_loss: 10.8577 - val_acc: 0.0175\n",
      "Epoch 96/150\n",
      "1074/1074 [==============================] - 6s 5ms/step - loss: 0.1009 - acc: 0.9646 - val_loss: 10.8749 - val_acc: 0.0175\n",
      "Epoch 97/150\n",
      "1074/1074 [==============================] - 5s 5ms/step - loss: 0.0996 - acc: 0.9618 - val_loss: 10.8361 - val_acc: 0.0175\n",
      "Epoch 98/150\n",
      "1074/1074 [==============================] - 6s 5ms/step - loss: 0.0985 - acc: 0.9655 - val_loss: 10.8896 - val_acc: 0.0526\n",
      "Epoch 99/150\n",
      "1074/1074 [==============================] - 6s 5ms/step - loss: 0.0977 - acc: 0.9637 - val_loss: 10.8963 - val_acc: 0.0351\n",
      "Epoch 100/150\n",
      "1074/1074 [==============================] - 5s 5ms/step - loss: 0.0953 - acc: 0.9600 - val_loss: 10.9198 - val_acc: 0.0351\n",
      "Epoch 101/150\n",
      "1074/1074 [==============================] - 6s 5ms/step - loss: 0.0967 - acc: 0.9637 - val_loss: 10.8974 - val_acc: 0.0351\n",
      "Epoch 102/150\n",
      "1074/1074 [==============================] - 6s 5ms/step - loss: 0.0988 - acc: 0.9637 - val_loss: 10.9180 - val_acc: 0.0351\n",
      "Epoch 103/150\n",
      "1074/1074 [==============================] - 6s 5ms/step - loss: 0.0972 - acc: 0.9572 - val_loss: 10.9444 - val_acc: 0.0175\n",
      "Epoch 104/150\n",
      "1074/1074 [==============================] - 6s 5ms/step - loss: 0.0940 - acc: 0.9637 - val_loss: 10.9406 - val_acc: 0.0175\n",
      "Epoch 105/150\n",
      "1074/1074 [==============================] - 6s 5ms/step - loss: 0.0958 - acc: 0.9628 - val_loss: 10.8957 - val_acc: 0.0175\n",
      "Epoch 106/150\n",
      "1074/1074 [==============================] - 6s 5ms/step - loss: 0.0933 - acc: 0.9674 - val_loss: 10.9648 - val_acc: 0.0175\n",
      "Epoch 107/150\n",
      "1074/1074 [==============================] - 6s 5ms/step - loss: 0.0921 - acc: 0.9646 - val_loss: 10.9751 - val_acc: 0.0175\n",
      "Epoch 108/150\n",
      "1074/1074 [==============================] - 6s 5ms/step - loss: 0.0936 - acc: 0.9628 - val_loss: 11.0375 - val_acc: 0.0175\n",
      "Epoch 109/150\n",
      "1074/1074 [==============================] - 5s 5ms/step - loss: 0.0932 - acc: 0.9628 - val_loss: 10.9896 - val_acc: 0.0351\n",
      "Epoch 110/150\n",
      "1074/1074 [==============================] - 6s 5ms/step - loss: 0.0928 - acc: 0.9637 - val_loss: 10.9577 - val_acc: 0.0351\n",
      "Epoch 111/150\n",
      "1074/1074 [==============================] - 6s 5ms/step - loss: 0.0906 - acc: 0.9665 - val_loss: 11.0124 - val_acc: 0.0175\n",
      "Epoch 112/150\n",
      "1074/1074 [==============================] - 5s 5ms/step - loss: 0.0906 - acc: 0.9655 - val_loss: 10.9968 - val_acc: 0.0175\n",
      "Epoch 113/150\n",
      "1074/1074 [==============================] - 6s 5ms/step - loss: 0.0899 - acc: 0.9637 - val_loss: 11.0179 - val_acc: 0.0351\n",
      "Epoch 114/150\n",
      "1074/1074 [==============================] - 5s 5ms/step - loss: 0.0904 - acc: 0.9628 - val_loss: 10.9981 - val_acc: 0.0351\n",
      "Epoch 115/150\n",
      "1074/1074 [==============================] - 5s 5ms/step - loss: 0.0898 - acc: 0.9637 - val_loss: 11.0275 - val_acc: 0.0351\n",
      "Epoch 116/150\n",
      "1074/1074 [==============================] - 5s 5ms/step - loss: 0.0880 - acc: 0.9665 - val_loss: 11.0140 - val_acc: 0.0351\n",
      "Epoch 117/150\n",
      "1074/1074 [==============================] - 5s 5ms/step - loss: 0.0909 - acc: 0.9590 - val_loss: 10.9666 - val_acc: 0.0175\n",
      "Epoch 118/150\n",
      "1074/1074 [==============================] - 5s 5ms/step - loss: 0.0850 - acc: 0.9655 - val_loss: 11.0036 - val_acc: 0.0175\n",
      "Epoch 119/150\n",
      "1074/1074 [==============================] - 6s 5ms/step - loss: 0.0855 - acc: 0.9665 - val_loss: 11.0300 - val_acc: 0.0351\n",
      "Epoch 120/150\n",
      "1074/1074 [==============================] - 5s 5ms/step - loss: 0.0872 - acc: 0.9637 - val_loss: 11.0331 - val_acc: 0.0175\n",
      "Epoch 121/150\n",
      "1074/1074 [==============================] - 5s 5ms/step - loss: 0.0860 - acc: 0.9609 - val_loss: 11.0239 - val_acc: 0.0351\n",
      "Epoch 122/150\n",
      "1074/1074 [==============================] - 6s 5ms/step - loss: 0.0883 - acc: 0.9646 - val_loss: 11.0563 - val_acc: 0.0526\n",
      "Epoch 123/150\n",
      "1074/1074 [==============================] - 5s 5ms/step - loss: 0.0872 - acc: 0.9637 - val_loss: 11.0575 - val_acc: 0.0175\n",
      "Epoch 124/150\n",
      "1074/1074 [==============================] - 5s 5ms/step - loss: 0.0867 - acc: 0.9618 - val_loss: 11.0234 - val_acc: 0.0175\n",
      "Epoch 125/150\n",
      "1074/1074 [==============================] - 5s 5ms/step - loss: 0.0853 - acc: 0.9637 - val_loss: 11.0057 - val_acc: 0.0175\n",
      "Epoch 126/150\n",
      "1074/1074 [==============================] - 5s 5ms/step - loss: 0.0860 - acc: 0.9646 - val_loss: 11.0081 - val_acc: 0.0175\n",
      "Epoch 127/150\n",
      "1074/1074 [==============================] - 5s 5ms/step - loss: 0.0843 - acc: 0.9618 - val_loss: 11.0280 - val_acc: 0.0175\n",
      "Epoch 128/150\n",
      "1074/1074 [==============================] - 6s 5ms/step - loss: 0.0886 - acc: 0.9628 - val_loss: 11.0802 - val_acc: 0.0351\n",
      "Epoch 129/150\n",
      "1074/1074 [==============================] - 6s 6ms/step - loss: 0.0828 - acc: 0.9655 - val_loss: 11.0173 - val_acc: 0.0526\n",
      "Epoch 130/150\n",
      "1074/1074 [==============================] - 6s 6ms/step - loss: 0.0868 - acc: 0.9609 - val_loss: 11.0881 - val_acc: 0.0526\n",
      "Epoch 131/150\n",
      "1074/1074 [==============================] - 6s 5ms/step - loss: 0.0817 - acc: 0.9655 - val_loss: 11.0779 - val_acc: 0.0175\n",
      "Epoch 132/150\n",
      "1074/1074 [==============================] - 5s 5ms/step - loss: 0.0848 - acc: 0.9646 - val_loss: 11.0876 - val_acc: 0.0351\n",
      "Epoch 133/150\n",
      "1074/1074 [==============================] - 5s 5ms/step - loss: 0.0839 - acc: 0.9674 - val_loss: 11.1420 - val_acc: 0.0175\n",
      "Epoch 134/150\n",
      "1074/1074 [==============================] - 5s 5ms/step - loss: 0.0816 - acc: 0.9637 - val_loss: 11.1203 - val_acc: 0.0351\n",
      "Epoch 135/150\n",
      "1074/1074 [==============================] - 5s 5ms/step - loss: 0.0817 - acc: 0.9628 - val_loss: 11.1291 - val_acc: 0.0351\n",
      "Epoch 136/150\n",
      "1074/1074 [==============================] - 5s 5ms/step - loss: 0.0845 - acc: 0.9637 - val_loss: 11.1705 - val_acc: 0.0526\n",
      "Epoch 137/150\n",
      "1074/1074 [==============================] - 5s 5ms/step - loss: 0.0814 - acc: 0.9637 - val_loss: 11.1264 - val_acc: 0.0175\n",
      "Epoch 138/150\n",
      "1074/1074 [==============================] - 5s 5ms/step - loss: 0.0782 - acc: 0.9637 - val_loss: 11.1442 - val_acc: 0.0351\n",
      "Epoch 139/150\n",
      "1074/1074 [==============================] - 5s 5ms/step - loss: 0.0800 - acc: 0.9637 - val_loss: 11.1561 - val_acc: 0.0351\n",
      "Epoch 140/150\n",
      "1074/1074 [==============================] - 5s 5ms/step - loss: 0.0799 - acc: 0.9646 - val_loss: 11.1543 - val_acc: 0.0526\n",
      "Epoch 141/150\n",
      "1074/1074 [==============================] - 5s 5ms/step - loss: 0.0799 - acc: 0.9646 - val_loss: 11.1000 - val_acc: 0.0526\n",
      "Epoch 142/150\n",
      "1074/1074 [==============================] - 5s 5ms/step - loss: 0.0811 - acc: 0.9646 - val_loss: 11.0145 - val_acc: 0.0526\n",
      "Epoch 143/150\n",
      "1074/1074 [==============================] - 5s 5ms/step - loss: 0.0807 - acc: 0.9655 - val_loss: 11.0683 - val_acc: 0.0526\n",
      "Epoch 144/150\n",
      "1074/1074 [==============================] - 5s 5ms/step - loss: 0.0796 - acc: 0.9674 - val_loss: 11.0964 - val_acc: 0.0526\n",
      "Epoch 145/150\n",
      "1074/1074 [==============================] - 5s 5ms/step - loss: 0.0805 - acc: 0.9609 - val_loss: 11.1551 - val_acc: 0.0175\n",
      "Epoch 146/150\n",
      "1074/1074 [==============================] - 5s 5ms/step - loss: 0.0793 - acc: 0.9646 - val_loss: 11.1953 - val_acc: 0.0175\n",
      "Epoch 147/150\n",
      "1074/1074 [==============================] - 6s 5ms/step - loss: 0.0784 - acc: 0.9674 - val_loss: 11.1336 - val_acc: 0.0351\n",
      "Epoch 148/150\n",
      "1074/1074 [==============================] - 5s 5ms/step - loss: 0.0804 - acc: 0.9628 - val_loss: 11.1982 - val_acc: 0.0351\n",
      "Epoch 149/150\n",
      "1074/1074 [==============================] - 5s 5ms/step - loss: 0.0767 - acc: 0.9646 - val_loss: 11.1872 - val_acc: 0.0351\n",
      "Epoch 150/150\n",
      "1074/1074 [==============================] - 5s 5ms/step - loss: 0.0776 - acc: 0.9628 - val_loss: 11.1968 - val_acc: 0.0351\n"
     ]
    }
   ],
   "source": [
    "history=model.fit(X, y, validation_split=0.05,epochs=150, verbose=1, shuffle = True)"
   ]
  },
  {
   "cell_type": "code",
   "execution_count": 15,
   "metadata": {},
   "outputs": [
    {
     "name": "stdout",
     "output_type": "stream",
     "text": [
      "dict_keys(['loss', 'val_acc', 'val_loss', 'acc'])\n"
     ]
    }
   ],
   "source": [
    "import matplotlib.pyplot as plt\n",
    "import numpy\n",
    "\n",
    "print(history.history.keys())"
   ]
  },
  {
   "cell_type": "code",
   "execution_count": 18,
   "metadata": {
    "collapsed": true
   },
   "outputs": [],
   "source": [
    "# summarize history for accuracy\n",
    "plt.plot(history.history['acc'])\n",
    "plt.plot(history.history['val_acc'])\n",
    "plt.title('model accuracy')\n",
    "plt.ylabel('accuracy')\n",
    "plt.xlabel('epoch')\n",
    "plt.legend(['train', 'test'], loc='upper left')\n",
    "plt.show()"
   ]
  },
  {
   "cell_type": "code",
   "execution_count": 17,
   "metadata": {
    "collapsed": true
   },
   "outputs": [],
   "source": [
    "# summarize history for loss\n",
    "plt.plot(history.history['loss'])\n",
    "plt.plot(history.history['val_loss'])\n",
    "plt.title('model loss')\n",
    "plt.ylabel('loss')\n",
    "plt.xlabel('epoch')\n",
    "plt.legend(['train', 'test'], loc='upper left')\n",
    "plt.show()"
   ]
  },
  {
   "cell_type": "code",
   "execution_count": 19,
   "metadata": {},
   "outputs": [
    {
     "name": "stdout",
     "output_type": "stream",
     "text": [
      "national success will give\n"
     ]
    }
   ],
   "source": [
    "print(generate_seq(model, tokenizer, max_length-1, 'national', 3))"
   ]
  },
  {
   "cell_type": "code",
   "execution_count": 20,
   "metadata": {},
   "outputs": [
    {
     "name": "stdout",
     "output_type": "stream",
     "text": [
      "United Nations see now distance is no\n"
     ]
    }
   ],
   "source": [
    "print(generate_seq(model, tokenizer, max_length-1, 'United Nations', 5))"
   ]
  },
  {
   "cell_type": "code",
   "execution_count": 21,
   "metadata": {},
   "outputs": [
    {
     "name": "stdout",
     "output_type": "stream",
     "text": [
      "power and it reflects our evolving understanding\n"
     ]
    }
   ],
   "source": [
    "print(generate_seq(model, tokenizer, max_length-1, 'power and', 5))"
   ]
  },
  {
   "cell_type": "code",
   "execution_count": 22,
   "metadata": {},
   "outputs": [
    {
     "name": "stdout",
     "output_type": "stream",
     "text": [
      "People are ancient text say keep pure for the earth is our mother and we are her children our national plans are ambitious and purposeful new capacity of 175 gw of renewable energy over the next seven years energy efficiency a tax on coal a huge afforestation programme reforming our transportation and\n"
     ]
    }
   ],
   "source": [
    "print(generate_seq(model, tokenizer, max_length-1, 'People are', 50))"
   ]
  },
  {
   "cell_type": "code",
   "execution_count": 24,
   "metadata": {},
   "outputs": [
    {
     "name": "stdout",
     "output_type": "stream",
     "text": [
      "Our National text say keep pure for the earth is our mother and we are her children our national plans are ambitious and purposeful new capacity of 175 gw of renewable energy over the next seven years energy efficiency a tax on coal a huge afforestation programme reforming our transportation and cleaning up our cities and rivers rivers rivers rivers rivers sunset years energy efficiency a tax on coal a huge afforestation programme reforming our transportation and cleaning up our cities and rivers rivers rivers sunset years energy efficiency a tax on coal a huge afforestation programme reforming our transportation and cleaning\n"
     ]
    }
   ],
   "source": [
    "print(generate_seq(model, tokenizer, max_length-1, 'Our National', 100))"
   ]
  },
  {
   "cell_type": "code",
   "execution_count": 26,
   "metadata": {},
   "outputs": [
    {
     "name": "stdout",
     "output_type": "stream",
     "text": [
      "Saved model to disk\n"
     ]
    }
   ],
   "source": [
    "# serialize model to JSON\n",
    "model_json = model.to_json()\n",
    "with open(\"modelnamosen150.json\", \"w\") as json_file:\n",
    "    json_file.write(model_json)\n",
    "# serialize weights to HDF5\n",
    "model.save_weights(\"modelnamosen150.h5\")\n",
    "print(\"Saved model to disk\")"
   ]
  },
  {
   "cell_type": "code",
   "execution_count": 27,
   "metadata": {},
   "outputs": [
    {
     "name": "stdout",
     "output_type": "stream",
     "text": [
      "Loaded model from disk\n"
     ]
    }
   ],
   "source": [
    "# load json and create model\n",
    "from keras.models import model_from_json\n",
    "\n",
    "json_file = open('modelnamosen150.json', 'r')\n",
    "loaded_model_json = json_file.read()\n",
    "json_file.close()\n",
    "loaded_model = model_from_json(loaded_model_json)\n",
    "# load weights into new model\n",
    "loaded_model.load_weights(\"modelnamosen150.h5\")\n",
    "print(\"Loaded model from disk\")"
   ]
  },
  {
   "cell_type": "code",
   "execution_count": 23,
   "metadata": {
    "collapsed": true
   },
   "outputs": [],
   "source": [
    "# evaluate loaded model on test data\n",
    "loaded_model.compile(loss='binary_crossentropy', optimizer='rmsprop', metrics=['accuracy'])\n"
   ]
  },
  {
   "cell_type": "code",
   "execution_count": 24,
   "metadata": {},
   "outputs": [
    {
     "name": "stdout",
     "output_type": "stream",
     "text": [
      "People are focusing of the world of our world and and and and to to the world of our next and planet technology and technology and technology and technology and technology and technology and technology and technology and technology and technology and technology and technology and technology and technology and technology and\n"
     ]
    }
   ],
   "source": [
    "print(generate_seq(loaded_model, tokenizer, max_length-1, 'People are', 50))"
   ]
  },
  {
   "cell_type": "code",
   "execution_count": null,
   "metadata": {
    "collapsed": true
   },
   "outputs": [],
   "source": []
  }
 ],
 "metadata": {
  "anaconda-cloud": {},
  "kernelspec": {
   "display_name": "Python 3",
   "language": "python",
   "name": "python3"
  },
  "language_info": {
   "codemirror_mode": {
    "name": "ipython",
    "version": 3
   },
   "file_extension": ".py",
   "mimetype": "text/x-python",
   "name": "python",
   "nbconvert_exporter": "python",
   "pygments_lexer": "ipython3",
   "version": "3.5.2"
  }
 },
 "nbformat": 4,
 "nbformat_minor": 2
}
