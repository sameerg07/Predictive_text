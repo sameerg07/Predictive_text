{
 "cells": [
  {
   "cell_type": "code",
   "execution_count": 25,
   "metadata": {
    "scrolled": true
   },
   "outputs": [],
   "source": [
    "from numpy import array\n",
    "from keras.preprocessing.text import Tokenizer\n",
    "from keras.utils import to_categorical\n",
    "from keras.preprocessing.sequence import pad_sequences\n",
    "from keras.models import Sequential\n",
    "from keras.layers import Dense\n",
    "from keras.layers import LSTM\n",
    "from keras.layers import Embedding\n"
   ]
  },
  {
   "cell_type": "code",
   "execution_count": 26,
   "metadata": {
    "collapsed": true
   },
   "outputs": [],
   "source": [
    "# generate a sequence from a language model\n",
    "def generate_seq(model, tokenizer, max_length, seed_text, n_words):\n",
    "\tin_text = seed_text\n",
    "\t# generate a fixed number of words\n",
    "\tfor _ in range(n_words):\n",
    "\t\t# encode the text as integer\n",
    "\t\tencoded = tokenizer.texts_to_sequences([in_text])[0]\n",
    "\t\t# pre-pad sequences to a fixed length\n",
    "\t\tencoded = pad_sequences([encoded], maxlen=max_length, padding='pre')\n",
    "\t\t# predict probabilities for each word\n",
    "\t\tyhat = model.predict_classes(encoded, verbose=0)\n",
    "\t\t# map predicted word index to word\n",
    "\t\tout_word = ''\n",
    "\t\tfor word, index in tokenizer.word_index.items():\n",
    "\t\t\tif index == yhat:\n",
    "\t\t\t\tout_word = word\n",
    "\t\t\t\tbreak\n",
    "\t\t# append to input\n",
    "\t\tin_text += ' ' + out_word\n",
    "\treturn in_text"
   ]
  },
  {
   "cell_type": "code",
   "execution_count": 27,
   "metadata": {
    "scrolled": true
   },
   "outputs": [
    {
     "name": "stdout",
     "output_type": "stream",
     "text": [
      "['New Delhi:  Honourable President, Respected Vice President, Madam Speaker of Lok Sabha, our Former Prime Minister Shri Devegowdaji, Members of the Council of Ministers, all the other members of the House, and the esteemed conglomerate gathered here representing diverse sectors.\\n', '\\n', 'In the process of nation building, we often arrive at a moment which leads us to a path breaking juncture and opens up a plethora of opportunities imploring us to aspire for new dreams. At the stroke of the midnight hour today, together we shall ensure a pioneering future of the nation.\\n', '\\n', 'Within a few moments from now, our nation will embark upon a new economic regime. The entire 1.25 billion citizens of the country are a witness to this historical event. I do not believe that this process of GST is restricted to the scope of economy only. This momentous occasion stands today as a testimony to the concept of Co-operative Federalism in Indian Democracy. This hallmark day was possible due to the relentless efforts put in over decades by several stalwarts under whose guidance various teams developed this GST framework.\\n', '\\n', 'It is overwhelming to see you all spare your valuable time to attend this auspicious occasion. I extend my heartfelt welcome and express my sincere gratitude to all of you for your august presence today.\\n', '\\n', 'This path that we have tread upon, the direction that we have selected, the system that we have developed has not seen the light of the day because of just one team, or one government. This is a shared heritage. The combined efforts of all led us to this accomplishment. And here we are, unified, heralding the red letter day at 12 AM in this Central Hall.\\n', '\\n', \"This is the same place which has been blessed by the footprints of many great national leaders. We are honoured to be sitting in the same sanctum. Let us reminisce the 9th of December, 1946 when this same Central Hall witnessed the first meeting to discuss the country's Constitution. Today we share the same place of pride. The front seats of this hall were ordained by the iconic national heroes like Pandit Jawaharlal Nehru, Maulana Abul Kalam Azad, Sardar Vallabh Bhai Patel, Baba Saheb Bhimrao Ambedkar, Acharya Kripalani, Dr. Rajendra Prasad, Sarojini Naidu.\\n\", '\\n', 'The same House which once on 14 August, 1947, at the stroke of the midnight hour, witnessed the most pious moment of the nation attaining freedom! On 26th November, 1949, this House stands as a testimony to the historical event when the Constitution was accepted by the nation.\\n', '\\n', \"Several years later, this House shall once again go down in the annals of history as there couldn't have been a more anointed venue than this for the launch of one of the biggest strength of Federal structure, the GST Reform.\\n\", '\\n', 'Between many a great debates, agreements and disagreements, chalking a new path, adopting the middle path when they would go astray, was born the Indian Constitution! It was an outcome of deliberations which lasted two years, eleven months and seventeen days when people from every part of the country participated in the brainstorming. In a similar way, GST has been the result of a long drawn premeditated mentation of several years equally supported by State Governments. There have been continuous discussions with Former Ministers and the best brains of the country have helped realise GST.\\n', '\\n', 'When the Constitution was framed, it introduced a framework of equal opportunity and rights for all. Very importantly, GST also intends to bring in economic reforms. It is a great example of Co-operative Federalism which shall facilitate inclusive growth of the nation.\\n', '\\n', 'With the launch of GST, Team India has proven its potential and diligence. This GST Council has developed such systems wherein the underprivileged gets all the promised facilities. The people connected with GST have gone beyond politics and unanimously contributed to ensure welfare of the poor class. Arun ji has acknowledged the contribution of all of them who walked the talk along with the government. My hearty congratulations to all who led this movement towards this milestone!\\n', '\\n', 'All states are slated to gain immensely as they shall now get equal opportunities of development.\\n', '\\n', 'GST is in a way is like our railways with state and Centre playing equal role in its operations. While it receives regional support at the state level, yet it is representative of the \"Indian Railways\". The Central Service officers are deputed all over the states and they align the state with the vision of the Centre.\\n', '\\n', 'GST is the first of its kind system in the country when both Centre and State shall be putting consolidated efforts in the same direction. We shall be proud of this wonderful system for generations to come as GST is a landmark achievement which is bound to take the nation towards exponential growth.\\n', '\\n', 'Today, GST Council had its 18th meeting and GST would be implemented in a short while from now. Incidentally, the Holy book Gita also has 18 chapters and today we are moving forward successfully. It has been a long process. There was hard work as also certain apprehensions. The states had questions in mind. But with diligence and hard work we can accomplish a task.\\n', '\\n', 'Chanakya had said that\\n', ' \\n', 'chanakya\\n', '\\n', \"Chanakya's words summarize the whole GST process. Even if something is very difficult to be achieved, one can obtain it with penance and hard work. Can we imagine, when we became independent there were more than 500 Princely states. If it was not for Sardar Vallabh Bhai Patel to integrate these Princely states, what would have been the political map of India today? Just as Sardar Vallabh Bhai Patel unified India by helping several princely states subsume into a common entity, the GST will bring economic unification. If we take into consideration the 29 states, the 7 Union Territories, the 7 taxes of the Centre and the 8 taxes of the states, and several different taxes for different commodities, the number of taxes sum up to a figure of 500! Today all those taxes will be shred off to have ONE NATION, ONE TAX right from Ganganagar to Itanagar and from Leh to Lakshadweep.\\n\", '\\n', 'Once Albert Einstein, an eminent scientist had said that the most complex thing to understand in this world is Income tax. I was wondering if he was present here then how he would have reacted looking at the plethora of taxes. And we have seen that usually there is not much of a difference in the quantity of production. But when the product goes out, we can see the inequality due to different tax regimes of different states. The same product will have different prices in, say Delhi , Gurugram and Noida which are 25-30 kilometres apart. This is because Haryana , Delhi and Uttar Pradesh have different tax regimes. As a result of these variations, a citizen wonders that - if I go to Gurugram I get the product at one price, if I go to Delhi I get the same product for a different price and if I go to Noida I get it for yet another price.\\n', '\\n', \"There was confusion in everybody's mind. The foreign investors used to be confused about different systems in different states. Today we are moving ahead to get rid of that situation. Arun Ji has vividly explained that once GST is in place, all sorts of taxes like sales tax, VAT etc. will cease to exist. Long wait by vehicles at toll plazas will end. Fuels worth crores of rupees are wasted. And that causes damage to the environment as well. Now we will be free from of all those troubles as the entire country will have a similar tax structure. Sometimes certain items, especially the perishable ones that were supposed to reach their destination in time, were delayed because of the time taken for processing; and it resulted in losses at both ends. Today we are getting rid of all that. The country is moving a step forward towards a modern taxation system. This is a system that is simpler, more transparent. It will help us curbing black money and corruption and reward honesty. It will generate interest and enthusiasm to do business honestly. It will bring in a new culture of governance. We have all lived tax terrorism and inspector raj. Today, due to the transparency of GST, due to technologically proven trial, grey areas are ending. GST has an inherent strength of eliminating the possibility of ordinary businessmen being harassed by the officers. Traders with a turnover up to Rs. 20 lakh are totally exempt from this. Traders with a turnover up to Rs. 75 lakh are also having many exemptions.\\n\", '\\n', 'This is true that few arrangements have been done for this new system but those arrangements are at basic level and the common man will not be burdened with the new system.\\n', '\\n', \"Friends, GST is not limited to the technicalities of the term. In fact, the system is for the welfare of the poor. Even after 70 years of independence, we have not been able to deliver to the poor. It's not that efforts were not made. Every government has made tremendous efforts in this direction. But somewhere the limited resources became a hurdle in the fulfillment of the needs of our country's poor.\\n\", '\\n', 'As we expand horizontally, we need to ensure vertical growth as well. The work in that direction will become easier. And I believe that small traders will definitely cooperate and allow the transfer of the benefits to the poor so that the poor is benefitted.\\n', '\\n', 'Sometimes we are apprehensive about starting anything new, whether it will work out or not. For example when for the first time class 10th and 12th results went online, the system hung. The next day the focus of the news was this very issue. Even today we hear about such issues.\\n', '\\n', 'It is true that everyone is not tech-savvy. However, if any household has a class 10th-12th student, he would definitely know about technology. GST is so simple that a class 12 student can help merchants file returns.\\n', '\\n', \"I request those who have fears to dismiss them. You get your eye check-up done by your regular doctor. He gives you power for your eyes. You get the spectacles made. When you get those spectacles, it takes 2-3 days to get adjusted. The crux of the story is that even then the eyes need to adjust to new spectacles. Similarly, if we try to adjust to the new system we will definitely be able to integrate ourselves with it. It is time to stop the rumour bazaar. It is a time we concentrated on the development and for the betterment of this country. Let the GST be carried forward till the point it has positive impact on the world's economy.\\n\", '\\n', \"GST is a system that ends the imbalances in the country's trade. It also boosts the exports of the country. This system not only provides impetus to already developed states but also provides the opportunity to the backward states to develop. Our states are enriched with natural resources - look at Bihar, eastern UP, West Bengal, the north east, Odisha. They are all brimming with natural resources. When they will get a single tax regime I can see clearly that whatever deficiency is there those will be removed and this art of the country will move ahead. All the states of India will get equal opportunity for development. GST is like our Railways. Railway is run by the Centre and the states together. Yet we look at it as Indian Railways. The officers of central services are posted both at the Centre and in the states yet they work in unison for India. Under GST, for the first time, the central and the state governments will work together towards the same direction. This is an example of - 'Ek Bharat Sreshtha Bharat'. Its impact will be appreciated by the forthcoming generations with a great pride.\\n\", '\\n', 'In 2022, India will celebrate the Diamond Jubilee year of achieving Freedom. We have embarked upon a journey to create a New India. The New India which is the dream of our 1.25 billions Indians!\\n', '\\n', 'Therefore Ladies and Gentlemen, GST shall play a key role in helping us build the India of our dreams. The last verse of Lokmanya Tilak\\'s \"Gita Rahsaya\" ideally encapsulates the essence of the way the GST team has strived to achieve it.\\n', '\\n', 'The verse from the Rigveda continues to inspire us till today. It says\\n', ' \\n', 'rigveda\\n', '\\n', 'It means that we all must have similar resolution, decision and emotion, our hearts should be on the same plane, so that everyone supports and collaborates towards same accomplishments.\\n', '\\n', 'GST is the path breaking legislation for New India. A revolutionary taxation system for the digital India.\\n', '\\n', 'GST is the taxation system of New India; of the Digital India. It is not merely Ease of doing Business. It is demonstrating Way of doing business. GST is not just a tax reform, but it is a landmark step towards economic reforms. Beyond the taxation revamp, it is also paving the way towards social reforms. It is a vouchment for corruption free taxation system. In legal parlance GST may be known as Goods and Services Tax. But the benefits of GST will positively ensure it to be \"Good and Simple Tax\" for the citizens of India. Good because it liberates us from layers of taxation, Simple because it is uniformly implemented pan India. There will be \"one nation, one tax\" and tax system shall be executed in a standard manner in all the states. I am sure that we all will be able to take it forward in a unified manner.\\n', '\\n', '3\\n', 'Comments\\n', 'On this momentous occasion, I wish to acknowledge the role of the Honourable President who anchored the project concomitantly. He has astutely engaged himself at every stage of the designing of this taxation reform and steered the team with his invaluable contribution towards this historical day. His inspiration kept everyone enthused throughout the journey. I am deeply indebted to him for his guidance and his august presence during the launch event of GST. With new vigour and fervour we shall take the nation towards exemplary economic development.\\n', '\\n', 'With these feelings, I once again extend my gratefulness to all who were a part of this initiative and request the Honourable President to guide us further from here.\\n', '\\n']\n"
     ]
    }
   ],
   "source": [
    "import nltk \n",
    "a = open(\"NAMO_gst.txt\",encoding = \"ISO-8859-1\")\n",
    "wtext = a.readlines()  ##all text in the textfile\n",
    "print(wtext)"
   ]
  },
  {
   "cell_type": "code",
   "execution_count": 28,
   "metadata": {},
   "outputs": [
    {
     "name": "stdout",
     "output_type": "stream",
     "text": [
      "['New Delhi:  Honourable President, Respected Vice President, Madam Speaker of Lok Sabha, our Former Prime Minister Shri Devegowdaji, Members of the Council of Ministers, all the other members of the House, and the esteemed conglomerate gathered here representing diverse sectors.\\n', 'In the process of nation building, we often arrive at a moment which leads us to a path breaking juncture and opens up a plethora of opportunities imploring us to aspire for new dreams. At the stroke of the midnight hour today, together we shall ensure a pioneering future of the nation.\\n', 'Within a few moments from now, our nation will embark upon a new economic regime. The entire 1.25 billion citizens of the country are a witness to this historical event. I do not believe that this process of GST is restricted to the scope of economy only. This momentous occasion stands today as a testimony to the concept of Co-operative Federalism in Indian Democracy. This hallmark day was possible due to the relentless efforts put in over decades by several stalwarts under whose guidance various teams developed this GST framework.\\n', 'It is overwhelming to see you all spare your valuable time to attend this auspicious occasion. I extend my heartfelt welcome and express my sincere gratitude to all of you for your august presence today.\\n', 'This path that we have tread upon, the direction that we have selected, the system that we have developed has not seen the light of the day because of just one team, or one government. This is a shared heritage. The combined efforts of all led us to this accomplishment. And here we are, unified, heralding the red letter day at 12 AM in this Central Hall.\\n', \"This is the same place which has been blessed by the footprints of many great national leaders. We are honoured to be sitting in the same sanctum. Let us reminisce the 9th of December, 1946 when this same Central Hall witnessed the first meeting to discuss the country's Constitution. Today we share the same place of pride. The front seats of this hall were ordained by the iconic national heroes like Pandit Jawaharlal Nehru, Maulana Abul Kalam Azad, Sardar Vallabh Bhai Patel, Baba Saheb Bhimrao Ambedkar, Acharya Kripalani, Dr. Rajendra Prasad, Sarojini Naidu.\\n\", 'The same House which once on 14 August, 1947, at the stroke of the midnight hour, witnessed the most pious moment of the nation attaining freedom! On 26th November, 1949, this House stands as a testimony to the historical event when the Constitution was accepted by the nation.\\n', \"Several years later, this House shall once again go down in the annals of history as there couldn't have been a more anointed venue than this for the launch of one of the biggest strength of Federal structure, the GST Reform.\\n\", 'Between many a great debates, agreements and disagreements, chalking a new path, adopting the middle path when they would go astray, was born the Indian Constitution! It was an outcome of deliberations which lasted two years, eleven months and seventeen days when people from every part of the country participated in the brainstorming. In a similar way, GST has been the result of a long drawn premeditated mentation of several years equally supported by State Governments. There have been continuous discussions with Former Ministers and the best brains of the country have helped realise GST.\\n', 'When the Constitution was framed, it introduced a framework of equal opportunity and rights for all. Very importantly, GST also intends to bring in economic reforms. It is a great example of Co-operative Federalism which shall facilitate inclusive growth of the nation.\\n', 'With the launch of GST, Team India has proven its potential and diligence. This GST Council has developed such systems wherein the underprivileged gets all the promised facilities. The people connected with GST have gone beyond politics and unanimously contributed to ensure welfare of the poor class. Arun ji has acknowledged the contribution of all of them who walked the talk along with the government. My hearty congratulations to all who led this movement towards this milestone!\\n', 'All states are slated to gain immensely as they shall now get equal opportunities of development.\\n', 'GST is in a way is like our railways with state and Centre playing equal role in its operations. While it receives regional support at the state level, yet it is representative of the \"Indian Railways\". The Central Service officers are deputed all over the states and they align the state with the vision of the Centre.\\n', 'GST is the first of its kind system in the country when both Centre and State shall be putting consolidated efforts in the same direction. We shall be proud of this wonderful system for generations to come as GST is a landmark achievement which is bound to take the nation towards exponential growth.\\n', 'Today, GST Council had its 18th meeting and GST would be implemented in a short while from now. Incidentally, the Holy book Gita also has 18 chapters and today we are moving forward successfully. It has been a long process. There was hard work as also certain apprehensions. The states had questions in mind. But with diligence and hard work we can accomplish a task.\\n', 'Chanakya had said that\\n', ' \\n', 'chanakya\\n', \"Chanakya's words summarize the whole GST process. Even if something is very difficult to be achieved, one can obtain it with penance and hard work. Can we imagine, when we became independent there were more than 500 Princely states. If it was not for Sardar Vallabh Bhai Patel to integrate these Princely states, what would have been the political map of India today? Just as Sardar Vallabh Bhai Patel unified India by helping several princely states subsume into a common entity, the GST will bring economic unification. If we take into consideration the 29 states, the 7 Union Territories, the 7 taxes of the Centre and the 8 taxes of the states, and several different taxes for different commodities, the number of taxes sum up to a figure of 500! Today all those taxes will be shred off to have ONE NATION, ONE TAX right from Ganganagar to Itanagar and from Leh to Lakshadweep.\\n\", 'Once Albert Einstein, an eminent scientist had said that the most complex thing to understand in this world is Income tax. I was wondering if he was present here then how he would have reacted looking at the plethora of taxes. And we have seen that usually there is not much of a difference in the quantity of production. But when the product goes out, we can see the inequality due to different tax regimes of different states. The same product will have different prices in, say Delhi , Gurugram and Noida which are 25-30 kilometres apart. This is because Haryana , Delhi and Uttar Pradesh have different tax regimes. As a result of these variations, a citizen wonders that - if I go to Gurugram I get the product at one price, if I go to Delhi I get the same product for a different price and if I go to Noida I get it for yet another price.\\n', \"There was confusion in everybody's mind. The foreign investors used to be confused about different systems in different states. Today we are moving ahead to get rid of that situation. Arun Ji has vividly explained that once GST is in place, all sorts of taxes like sales tax, VAT etc. will cease to exist. Long wait by vehicles at toll plazas will end. Fuels worth crores of rupees are wasted. And that causes damage to the environment as well. Now we will be free from of all those troubles as the entire country will have a similar tax structure. Sometimes certain items, especially the perishable ones that were supposed to reach their destination in time, were delayed because of the time taken for processing; and it resulted in losses at both ends. Today we are getting rid of all that. The country is moving a step forward towards a modern taxation system. This is a system that is simpler, more transparent. It will help us curbing black money and corruption and reward honesty. It will generate interest and enthusiasm to do business honestly. It will bring in a new culture of governance. We have all lived tax terrorism and inspector raj. Today, due to the transparency of GST, due to technologically proven trial, grey areas are ending. GST has an inherent strength of eliminating the possibility of ordinary businessmen being harassed by the officers. Traders with a turnover up to Rs. 20 lakh are totally exempt from this. Traders with a turnover up to Rs. 75 lakh are also having many exemptions.\\n\", 'This is true that few arrangements have been done for this new system but those arrangements are at basic level and the common man will not be burdened with the new system.\\n', \"Friends, GST is not limited to the technicalities of the term. In fact, the system is for the welfare of the poor. Even after 70 years of independence, we have not been able to deliver to the poor. It's not that efforts were not made. Every government has made tremendous efforts in this direction. But somewhere the limited resources became a hurdle in the fulfillment of the needs of our country's poor.\\n\", 'As we expand horizontally, we need to ensure vertical growth as well. The work in that direction will become easier. And I believe that small traders will definitely cooperate and allow the transfer of the benefits to the poor so that the poor is benefitted.\\n', 'Sometimes we are apprehensive about starting anything new, whether it will work out or not. For example when for the first time class 10th and 12th results went online, the system hung. The next day the focus of the news was this very issue. Even today we hear about such issues.\\n', 'It is true that everyone is not tech-savvy. However, if any household has a class 10th-12th student, he would definitely know about technology. GST is so simple that a class 12 student can help merchants file returns.\\n', \"I request those who have fears to dismiss them. You get your eye check-up done by your regular doctor. He gives you power for your eyes. You get the spectacles made. When you get those spectacles, it takes 2-3 days to get adjusted. The crux of the story is that even then the eyes need to adjust to new spectacles. Similarly, if we try to adjust to the new system we will definitely be able to integrate ourselves with it. It is time to stop the rumour bazaar. It is a time we concentrated on the development and for the betterment of this country. Let the GST be carried forward till the point it has positive impact on the world's economy.\\n\", \"GST is a system that ends the imbalances in the country's trade. It also boosts the exports of the country. This system not only provides impetus to already developed states but also provides the opportunity to the backward states to develop. Our states are enriched with natural resources - look at Bihar, eastern UP, West Bengal, the north east, Odisha. They are all brimming with natural resources. When they will get a single tax regime I can see clearly that whatever deficiency is there those will be removed and this art of the country will move ahead. All the states of India will get equal opportunity for development. GST is like our Railways. Railway is run by the Centre and the states together. Yet we look at it as Indian Railways. The officers of central services are posted both at the Centre and in the states yet they work in unison for India. Under GST, for the first time, the central and the state governments will work together towards the same direction. This is an example of - 'Ek Bharat Sreshtha Bharat'. Its impact will be appreciated by the forthcoming generations with a great pride.\\n\", 'In 2022, India will celebrate the Diamond Jubilee year of achieving Freedom. We have embarked upon a journey to create a New India. The New India which is the dream of our 1.25 billions Indians!\\n', 'Therefore Ladies and Gentlemen, GST shall play a key role in helping us build the India of our dreams. The last verse of Lokmanya Tilak\\'s \"Gita Rahsaya\" ideally encapsulates the essence of the way the GST team has strived to achieve it.\\n', 'The verse from the Rigveda continues to inspire us till today. It says\\n', ' \\n', 'rigveda\\n', 'It means that we all must have similar resolution, decision and emotion, our hearts should be on the same plane, so that everyone supports and collaborates towards same accomplishments.\\n', 'GST is the path breaking legislation for New India. A revolutionary taxation system for the digital India.\\n', 'GST is the taxation system of New India; of the Digital India. It is not merely Ease of doing Business. It is demonstrating Way of doing business. GST is not just a tax reform, but it is a landmark step towards economic reforms. Beyond the taxation revamp, it is also paving the way towards social reforms. It is a vouchment for corruption free taxation system. In legal parlance GST may be known as Goods and Services Tax. But the benefits of GST will positively ensure it to be \"Good and Simple Tax\" for the citizens of India. Good because it liberates us from layers of taxation, Simple because it is uniformly implemented pan India. There will be \"one nation, one tax\" and tax system shall be executed in a standard manner in all the states. I am sure that we all will be able to take it forward in a unified manner.\\n', '3\\n', 'Comments\\n', 'On this momentous occasion, I wish to acknowledge the role of the Honourable President who anchored the project concomitantly. He has astutely engaged himself at every stage of the designing of this taxation reform and steered the team with his invaluable contribution towards this historical day. His inspiration kept everyone enthused throughout the journey. I am deeply indebted to him for his guidance and his august presence during the launch event of GST. With new vigour and fervour we shall take the nation towards exemplary economic development.\\n', 'With these feelings, I once again extend my gratefulness to all who were a part of this initiative and request the Honourable President to guide us further from here.\\n']\n"
     ]
    }
   ],
   "source": [
    "while '\\n' in wtext:\n",
    "    wtext.remove('\\n')\n",
    "print(wtext)"
   ]
  },
  {
   "cell_type": "code",
   "execution_count": 29,
   "metadata": {
    "scrolled": false
   },
   "outputs": [
    {
     "name": "stdout",
     "output_type": "stream",
     "text": [
      "['New Delhi:  Honourable President, Respected Vice President, Madam Speaker of Lok Sabha, our Former Prime Minister Shri Devegowdaji, Members of the Council of Ministers, all the other members of the House, and the esteemed conglomerate gathered here representing diverse sectors.', 'In the process of nation building, we often arrive at a moment which leads us to a path breaking juncture and opens up a plethora of opportunities imploring us to aspire for new dreams. At the stroke of the midnight hour today, together we shall ensure a pioneering future of the nation.', 'Within a few moments from now, our nation will embark upon a new economic regime. The entire 1.25 billion citizens of the country are a witness to this historical event. I do not believe that this process of GST is restricted to the scope of economy only. This momentous occasion stands today as a testimony to the concept of Co-operative Federalism in Indian Democracy. This hallmark day was possible due to the relentless efforts put in over decades by several stalwarts under whose guidance various teams developed this GST framework.', 'It is overwhelming to see you all spare your valuable time to attend this auspicious occasion. I extend my heartfelt welcome and express my sincere gratitude to all of you for your august presence today.', 'This path that we have tread upon, the direction that we have selected, the system that we have developed has not seen the light of the day because of just one team, or one government. This is a shared heritage. The combined efforts of all led us to this accomplishment. And here we are, unified, heralding the red letter day at 12 AM in this Central Hall.', \"This is the same place which has been blessed by the footprints of many great national leaders. We are honoured to be sitting in the same sanctum. Let us reminisce the 9th of December, 1946 when this same Central Hall witnessed the first meeting to discuss the country's Constitution. Today we share the same place of pride. The front seats of this hall were ordained by the iconic national heroes like Pandit Jawaharlal Nehru, Maulana Abul Kalam Azad, Sardar Vallabh Bhai Patel, Baba Saheb Bhimrao Ambedkar, Acharya Kripalani, Dr. Rajendra Prasad, Sarojini Naidu.\", 'The same House which once on 14 August, 1947, at the stroke of the midnight hour, witnessed the most pious moment of the nation attaining freedom! On 26th November, 1949, this House stands as a testimony to the historical event when the Constitution was accepted by the nation.', \"Several years later, this House shall once again go down in the annals of history as there couldn't have been a more anointed venue than this for the launch of one of the biggest strength of Federal structure, the GST Reform.\", 'Between many a great debates, agreements and disagreements, chalking a new path, adopting the middle path when they would go astray, was born the Indian Constitution! It was an outcome of deliberations which lasted two years, eleven months and seventeen days when people from every part of the country participated in the brainstorming. In a similar way, GST has been the result of a long drawn premeditated mentation of several years equally supported by State Governments. There have been continuous discussions with Former Ministers and the best brains of the country have helped realise GST.', 'When the Constitution was framed, it introduced a framework of equal opportunity and rights for all. Very importantly, GST also intends to bring in economic reforms. It is a great example of Co-operative Federalism which shall facilitate inclusive growth of the nation.', 'With the launch of GST, Team India has proven its potential and diligence. This GST Council has developed such systems wherein the underprivileged gets all the promised facilities. The people connected with GST have gone beyond politics and unanimously contributed to ensure welfare of the poor class. Arun ji has acknowledged the contribution of all of them who walked the talk along with the government. My hearty congratulations to all who led this movement towards this milestone!', 'All states are slated to gain immensely as they shall now get equal opportunities of development.', 'GST is in a way is like our railways with state and Centre playing equal role in its operations. While it receives regional support at the state level, yet it is representative of the \"Indian Railways\". The Central Service officers are deputed all over the states and they align the state with the vision of the Centre.', 'GST is the first of its kind system in the country when both Centre and State shall be putting consolidated efforts in the same direction. We shall be proud of this wonderful system for generations to come as GST is a landmark achievement which is bound to take the nation towards exponential growth.', 'Today, GST Council had its 18th meeting and GST would be implemented in a short while from now. Incidentally, the Holy book Gita also has 18 chapters and today we are moving forward successfully. It has been a long process. There was hard work as also certain apprehensions. The states had questions in mind. But with diligence and hard work we can accomplish a task.', 'Chanakya had said that', ' ', 'chanakya', \"Chanakya's words summarize the whole GST process. Even if something is very difficult to be achieved, one can obtain it with penance and hard work. Can we imagine, when we became independent there were more than 500 Princely states. If it was not for Sardar Vallabh Bhai Patel to integrate these Princely states, what would have been the political map of India today? Just as Sardar Vallabh Bhai Patel unified India by helping several princely states subsume into a common entity, the GST will bring economic unification. If we take into consideration the 29 states, the 7 Union Territories, the 7 taxes of the Centre and the 8 taxes of the states, and several different taxes for different commodities, the number of taxes sum up to a figure of 500! Today all those taxes will be shred off to have ONE NATION, ONE TAX right from Ganganagar to Itanagar and from Leh to Lakshadweep.\", 'Once Albert Einstein, an eminent scientist had said that the most complex thing to understand in this world is Income tax. I was wondering if he was present here then how he would have reacted looking at the plethora of taxes. And we have seen that usually there is not much of a difference in the quantity of production. But when the product goes out, we can see the inequality due to different tax regimes of different states. The same product will have different prices in, say Delhi , Gurugram and Noida which are 25-30 kilometres apart. This is because Haryana , Delhi and Uttar Pradesh have different tax regimes. As a result of these variations, a citizen wonders that - if I go to Gurugram I get the product at one price, if I go to Delhi I get the same product for a different price and if I go to Noida I get it for yet another price.', \"There was confusion in everybody's mind. The foreign investors used to be confused about different systems in different states. Today we are moving ahead to get rid of that situation. Arun Ji has vividly explained that once GST is in place, all sorts of taxes like sales tax, VAT etc. will cease to exist. Long wait by vehicles at toll plazas will end. Fuels worth crores of rupees are wasted. And that causes damage to the environment as well. Now we will be free from of all those troubles as the entire country will have a similar tax structure. Sometimes certain items, especially the perishable ones that were supposed to reach their destination in time, were delayed because of the time taken for processing; and it resulted in losses at both ends. Today we are getting rid of all that. The country is moving a step forward towards a modern taxation system. This is a system that is simpler, more transparent. It will help us curbing black money and corruption and reward honesty. It will generate interest and enthusiasm to do business honestly. It will bring in a new culture of governance. We have all lived tax terrorism and inspector raj. Today, due to the transparency of GST, due to technologically proven trial, grey areas are ending. GST has an inherent strength of eliminating the possibility of ordinary businessmen being harassed by the officers. Traders with a turnover up to Rs. 20 lakh are totally exempt from this. Traders with a turnover up to Rs. 75 lakh are also having many exemptions.\", 'This is true that few arrangements have been done for this new system but those arrangements are at basic level and the common man will not be burdened with the new system.', \"Friends, GST is not limited to the technicalities of the term. In fact, the system is for the welfare of the poor. Even after 70 years of independence, we have not been able to deliver to the poor. It's not that efforts were not made. Every government has made tremendous efforts in this direction. But somewhere the limited resources became a hurdle in the fulfillment of the needs of our country's poor.\", 'As we expand horizontally, we need to ensure vertical growth as well. The work in that direction will become easier. And I believe that small traders will definitely cooperate and allow the transfer of the benefits to the poor so that the poor is benefitted.', 'Sometimes we are apprehensive about starting anything new, whether it will work out or not. For example when for the first time class 10th and 12th results went online, the system hung. The next day the focus of the news was this very issue. Even today we hear about such issues.', 'It is true that everyone is not tech-savvy. However, if any household has a class 10th-12th student, he would definitely know about technology. GST is so simple that a class 12 student can help merchants file returns.', \"I request those who have fears to dismiss them. You get your eye check-up done by your regular doctor. He gives you power for your eyes. You get the spectacles made. When you get those spectacles, it takes 2-3 days to get adjusted. The crux of the story is that even then the eyes need to adjust to new spectacles. Similarly, if we try to adjust to the new system we will definitely be able to integrate ourselves with it. It is time to stop the rumour bazaar. It is a time we concentrated on the development and for the betterment of this country. Let the GST be carried forward till the point it has positive impact on the world's economy.\", \"GST is a system that ends the imbalances in the country's trade. It also boosts the exports of the country. This system not only provides impetus to already developed states but also provides the opportunity to the backward states to develop. Our states are enriched with natural resources - look at Bihar, eastern UP, West Bengal, the north east, Odisha. They are all brimming with natural resources. When they will get a single tax regime I can see clearly that whatever deficiency is there those will be removed and this art of the country will move ahead. All the states of India will get equal opportunity for development. GST is like our Railways. Railway is run by the Centre and the states together. Yet we look at it as Indian Railways. The officers of central services are posted both at the Centre and in the states yet they work in unison for India. Under GST, for the first time, the central and the state governments will work together towards the same direction. This is an example of - 'Ek Bharat Sreshtha Bharat'. Its impact will be appreciated by the forthcoming generations with a great pride.\", 'In 2022, India will celebrate the Diamond Jubilee year of achieving Freedom. We have embarked upon a journey to create a New India. The New India which is the dream of our 1.25 billions Indians!', 'Therefore Ladies and Gentlemen, GST shall play a key role in helping us build the India of our dreams. The last verse of Lokmanya Tilak\\'s \"Gita Rahsaya\" ideally encapsulates the essence of the way the GST team has strived to achieve it.', 'The verse from the Rigveda continues to inspire us till today. It says', ' ', 'rigveda', 'It means that we all must have similar resolution, decision and emotion, our hearts should be on the same plane, so that everyone supports and collaborates towards same accomplishments.', 'GST is the path breaking legislation for New India. A revolutionary taxation system for the digital India.', 'GST is the taxation system of New India; of the Digital India. It is not merely Ease of doing Business. It is demonstrating Way of doing business. GST is not just a tax reform, but it is a landmark step towards economic reforms. Beyond the taxation revamp, it is also paving the way towards social reforms. It is a vouchment for corruption free taxation system. In legal parlance GST may be known as Goods and Services Tax. But the benefits of GST will positively ensure it to be \"Good and Simple Tax\" for the citizens of India. Good because it liberates us from layers of taxation, Simple because it is uniformly implemented pan India. There will be \"one nation, one tax\" and tax system shall be executed in a standard manner in all the states. I am sure that we all will be able to take it forward in a unified manner.', '3', 'Comments', 'On this momentous occasion, I wish to acknowledge the role of the Honourable President who anchored the project concomitantly. He has astutely engaged himself at every stage of the designing of this taxation reform and steered the team with his invaluable contribution towards this historical day. His inspiration kept everyone enthused throughout the journey. I am deeply indebted to him for his guidance and his august presence during the launch event of GST. With new vigour and fervour we shall take the nation towards exemplary economic development.', 'With these feelings, I once again extend my gratefulness to all who were a part of this initiative and request the Honourable President to guide us further from here.']\n"
     ]
    }
   ],
   "source": [
    "for i in wtext:\n",
    "    j=i.strip('\\n')\n",
    "    wtext[wtext.index(i)] = j\n",
    "print(wtext)"
   ]
  },
  {
   "cell_type": "code",
   "execution_count": 30,
   "metadata": {},
   "outputs": [
    {
     "name": "stdout",
     "output_type": "stream",
     "text": [
      " New Delhi:  Honourable President, Respected Vice President, Madam Speaker of Lok Sabha, our Former Prime Minister Shri Devegowdaji, Members of the Council of Ministers, all the other members of the House, and the esteemed conglomerate gathered here representing diverse sectors. In the process of nation building, we often arrive at a moment which leads us to a path breaking juncture and opens up a plethora of opportunities imploring us to aspire for new dreams. At the stroke of the midnight hour today, together we shall ensure a pioneering future of the nation. Within a few moments from now, our nation will embark upon a new economic regime. The entire 1.25 billion citizens of the country are a witness to this historical event. I do not believe that this process of GST is restricted to the scope of economy only. This momentous occasion stands today as a testimony to the concept of Co-operative Federalism in Indian Democracy. This hallmark day was possible due to the relentless efforts put in over decades by several stalwarts under whose guidance various teams developed this GST framework. It is overwhelming to see you all spare your valuable time to attend this auspicious occasion. I extend my heartfelt welcome and express my sincere gratitude to all of you for your august presence today. This path that we have tread upon, the direction that we have selected, the system that we have developed has not seen the light of the day because of just one team, or one government. This is a shared heritage. The combined efforts of all led us to this accomplishment. And here we are, unified, heralding the red letter day at 12 AM in this Central Hall. This is the same place which has been blessed by the footprints of many great national leaders. We are honoured to be sitting in the same sanctum. Let us reminisce the 9th of December, 1946 when this same Central Hall witnessed the first meeting to discuss the country's Constitution. Today we share the same place of pride. The front seats of this hall were ordained by the iconic national heroes like Pandit Jawaharlal Nehru, Maulana Abul Kalam Azad, Sardar Vallabh Bhai Patel, Baba Saheb Bhimrao Ambedkar, Acharya Kripalani, Dr. Rajendra Prasad, Sarojini Naidu. The same House which once on 14 August, 1947, at the stroke of the midnight hour, witnessed the most pious moment of the nation attaining freedom! On 26th November, 1949, this House stands as a testimony to the historical event when the Constitution was accepted by the nation. Several years later, this House shall once again go down in the annals of history as there couldn't have been a more anointed venue than this for the launch of one of the biggest strength of Federal structure, the GST Reform. Between many a great debates, agreements and disagreements, chalking a new path, adopting the middle path when they would go astray, was born the Indian Constitution! It was an outcome of deliberations which lasted two years, eleven months and seventeen days when people from every part of the country participated in the brainstorming. In a similar way, GST has been the result of a long drawn premeditated mentation of several years equally supported by State Governments. There have been continuous discussions with Former Ministers and the best brains of the country have helped realise GST. When the Constitution was framed, it introduced a framework of equal opportunity and rights for all. Very importantly, GST also intends to bring in economic reforms. It is a great example of Co-operative Federalism which shall facilitate inclusive growth of the nation. With the launch of GST, Team India has proven its potential and diligence. This GST Council has developed such systems wherein the underprivileged gets all the promised facilities. The people connected with GST have gone beyond politics and unanimously contributed to ensure welfare of the poor class. Arun ji has acknowledged the contribution of all of them who walked the talk along with the government. My hearty congratulations to all who led this movement towards this milestone! All states are slated to gain immensely as they shall now get equal opportunities of development. GST is in a way is like our railways with state and Centre playing equal role in its operations. While it receives regional support at the state level, yet it is representative of the \"Indian Railways\". The Central Service officers are deputed all over the states and they align the state with the vision of the Centre. GST is the first of its kind system in the country when both Centre and State shall be putting consolidated efforts in the same direction. We shall be proud of this wonderful system for generations to come as GST is a landmark achievement which is bound to take the nation towards exponential growth. Today, GST Council had its 18th meeting and GST would be implemented in a short while from now. Incidentally, the Holy book Gita also has 18 chapters and today we are moving forward successfully. It has been a long process. There was hard work as also certain apprehensions. The states had questions in mind. But with diligence and hard work we can accomplish a task. Chanakya had said that   chanakya Chanakya's words summarize the whole GST process. Even if something is very difficult to be achieved, one can obtain it with penance and hard work. Can we imagine, when we became independent there were more than 500 Princely states. If it was not for Sardar Vallabh Bhai Patel to integrate these Princely states, what would have been the political map of India today? Just as Sardar Vallabh Bhai Patel unified India by helping several princely states subsume into a common entity, the GST will bring economic unification. If we take into consideration the 29 states, the 7 Union Territories, the 7 taxes of the Centre and the 8 taxes of the states, and several different taxes for different commodities, the number of taxes sum up to a figure of 500! Today all those taxes will be shred off to have ONE NATION, ONE TAX right from Ganganagar to Itanagar and from Leh to Lakshadweep. Once Albert Einstein, an eminent scientist had said that the most complex thing to understand in this world is Income tax. I was wondering if he was present here then how he would have reacted looking at the plethora of taxes. And we have seen that usually there is not much of a difference in the quantity of production. But when the product goes out, we can see the inequality due to different tax regimes of different states. The same product will have different prices in, say Delhi , Gurugram and Noida which are 25-30 kilometres apart. This is because Haryana , Delhi and Uttar Pradesh have different tax regimes. As a result of these variations, a citizen wonders that - if I go to Gurugram I get the product at one price, if I go to Delhi I get the same product for a different price and if I go to Noida I get it for yet another price. There was confusion in everybody's mind. The foreign investors used to be confused about different systems in different states. Today we are moving ahead to get rid of that situation. Arun Ji has vividly explained that once GST is in place, all sorts of taxes like sales tax, VAT etc. will cease to exist. Long wait by vehicles at toll plazas will end. Fuels worth crores of rupees are wasted. And that causes damage to the environment as well. Now we will be free from of all those troubles as the entire country will have a similar tax structure. Sometimes certain items, especially the perishable ones that were supposed to reach their destination in time, were delayed because of the time taken for processing; and it resulted in losses at both ends. Today we are getting rid of all that. The country is moving a step forward towards a modern taxation system. This is a system that is simpler, more transparent. It will help us curbing black money and corruption and reward honesty. It will generate interest and enthusiasm to do business honestly. It will bring in a new culture of governance. We have all lived tax terrorism and inspector raj. Today, due to the transparency of GST, due to technologically proven trial, grey areas are ending. GST has an inherent strength of eliminating the possibility of ordinary businessmen being harassed by the officers. Traders with a turnover up to Rs. 20 lakh are totally exempt from this. Traders with a turnover up to Rs. 75 lakh are also having many exemptions. This is true that few arrangements have been done for this new system but those arrangements are at basic level and the common man will not be burdened with the new system. Friends, GST is not limited to the technicalities of the term. In fact, the system is for the welfare of the poor. Even after 70 years of independence, we have not been able to deliver to the poor. It's not that efforts were not made. Every government has made tremendous efforts in this direction. But somewhere the limited resources became a hurdle in the fulfillment of the needs of our country's poor. As we expand horizontally, we need to ensure vertical growth as well. The work in that direction will become easier. And I believe that small traders will definitely cooperate and allow the transfer of the benefits to the poor so that the poor is benefitted. Sometimes we are apprehensive about starting anything new, whether it will work out or not. For example when for the first time class 10th and 12th results went online, the system hung. The next day the focus of the news was this very issue. Even today we hear about such issues. It is true that everyone is not tech-savvy. However, if any household has a class 10th-12th student, he would definitely know about technology. GST is so simple that a class 12 student can help merchants file returns. I request those who have fears to dismiss them. You get your eye check-up done by your regular doctor. He gives you power for your eyes. You get the spectacles made. When you get those spectacles, it takes 2-3 days to get adjusted. The crux of the story is that even then the eyes need to adjust to new spectacles. Similarly, if we try to adjust to the new system we will definitely be able to integrate ourselves with it. It is time to stop the rumour bazaar. It is a time we concentrated on the development and for the betterment of this country. Let the GST be carried forward till the point it has positive impact on the world's economy. GST is a system that ends the imbalances in the country's trade. It also boosts the exports of the country. This system not only provides impetus to already developed states but also provides the opportunity to the backward states to develop. Our states are enriched with natural resources - look at Bihar, eastern UP, West Bengal, the north east, Odisha. They are all brimming with natural resources. When they will get a single tax regime I can see clearly that whatever deficiency is there those will be removed and this art of the country will move ahead. All the states of India will get equal opportunity for development. GST is like our Railways. Railway is run by the Centre and the states together. Yet we look at it as Indian Railways. The officers of central services are posted both at the Centre and in the states yet they work in unison for India. Under GST, for the first time, the central and the state governments will work together towards the same direction. This is an example of - 'Ek Bharat Sreshtha Bharat'. Its impact will be appreciated by the forthcoming generations with a great pride. In 2022, India will celebrate the Diamond Jubilee year of achieving Freedom. We have embarked upon a journey to create a New India. The New India which is the dream of our 1.25 billions Indians! Therefore Ladies and Gentlemen, GST shall play a key role in helping us build the India of our dreams. The last verse of Lokmanya Tilak's \"Gita Rahsaya\" ideally encapsulates the essence of the way the GST team has strived to achieve it. The verse from the Rigveda continues to inspire us till today. It says   rigveda It means that we all must have similar resolution, decision and emotion, our hearts should be on the same plane, so that everyone supports and collaborates towards same accomplishments. GST is the path breaking legislation for New India. A revolutionary taxation system for the digital India. GST is the taxation system of New India; of the Digital India. It is not merely Ease of doing Business. It is demonstrating Way of doing business. GST is not just a tax reform, but it is a landmark step towards economic reforms. Beyond the taxation revamp, it is also paving the way towards social reforms. It is a vouchment for corruption free taxation system. In legal parlance GST may be known as Goods and Services Tax. But the benefits of GST will positively ensure it to be \"Good and Simple Tax\" for the citizens of India. Good because it liberates us from layers of taxation, Simple because it is uniformly implemented pan India. There will be \"one nation, one tax\" and tax system shall be executed in a standard manner in all the states. I am sure that we all will be able to take it forward in a unified manner. 3 Comments On this momentous occasion, I wish to acknowledge the role of the Honourable President who anchored the project concomitantly. He has astutely engaged himself at every stage of the designing of this taxation reform and steered the team with his invaluable contribution towards this historical day. His inspiration kept everyone enthused throughout the journey. I am deeply indebted to him for his guidance and his august presence during the launch event of GST. With new vigour and fervour we shall take the nation towards exemplary economic development. With these feelings, I once again extend my gratefulness to all who were a part of this initiative and request the Honourable President to guide us further from here.\n"
     ]
    }
   ],
   "source": [
    "x = \"\"\n",
    "for i in wtext:\n",
    "    x= x + \" \" + i\n",
    "print(x)"
   ]
  },
  {
   "cell_type": "code",
   "execution_count": 31,
   "metadata": {},
   "outputs": [
    {
     "name": "stdout",
     "output_type": "stream",
     "text": [
      "\n",
      "\n",
      " 2416\n",
      "\n",
      "\n",
      " [23, 81, 111, 82, 285, 286, 82, 287, 288, 2, 289, 290, 38, 163, 291, 292, 293, 294, 164, 2, 1, 112, 2, 165, 15, 1, 295, 164, 2, 1, 83, 5, 1, 296, 297, 298, 84, 299, 300, 301, 7, 1, 85, 2, 36, 302, 10, 303, 304, 26, 4, 166, 46, 305, 39, 3, 4, 65, 167, 306, 5, 307, 55, 4, 168, 2, 169, 308, 39, 3, 309, 14, 23, 170, 26, 1, 171, 2, 1, 172, 173, 29, 113, 10, 40, 86, 4, 310, 311, 2, 1, 36, 312, 4, 174, 313, 37, 87, 38, 36, 13, 314, 114, 4, 23, 66, 175, 1, 176, 177, 115, 315, 178, 2, 1, 41, 18, 4, 316, 3, 8, 116, 117, 21, 179, 27, 180, 12, 8, 85, 2, 11, 6, 317, 3, 1, 318, 2, 181, 182, 8, 183, 118, 184, 29, 28, 4, 185, 3, 1, 319, 2, 186, 187, 188, 7, 88, 320, 8, 321, 67, 31, 322, 89, 3, 1, 323, 68, 324, 7, 189, 325, 32, 69, 326, 190, 327, 191, 328, 329, 90, 8, 11, 192, 9, 6, 330, 3, 119, 56, 15, 331, 70, 332, 49, 3, 333, 8, 334, 118, 21, 193, 91, 335, 336, 5, 337, 91, 338, 339, 3, 15, 2, 56, 14, 70, 120, 194, 29, 8, 65, 12, 10, 16, 340, 114, 1, 71, 12, 10, 16, 341, 1, 22, 12, 10, 16, 90, 24, 27, 195, 1, 342, 2, 1, 67, 72, 2, 121, 42, 92, 196, 42, 122, 8, 6, 4, 343, 344, 1, 345, 68, 2, 15, 197, 39, 3, 8, 346, 5, 84, 10, 18, 123, 347, 1, 348, 349, 67, 26, 198, 124, 7, 8, 73, 125, 8, 6, 1, 33, 126, 46, 24, 47, 350, 32, 1, 351, 2, 127, 93, 199, 352, 10, 18, 353, 3, 17, 354, 7, 1, 33, 355, 200, 39, 356, 1, 357, 2, 358, 359, 34, 8, 33, 73, 125, 201, 1, 94, 202, 3, 360, 1, 128, 95, 29, 10, 361, 1, 33, 126, 2, 203, 1, 362, 363, 2, 8, 125, 57, 364, 32, 1, 365, 199, 366, 96, 367, 368, 369, 370, 371, 372, 373, 129, 130, 131, 132, 374, 375, 376, 377, 378, 379, 380, 381, 382, 383, 384, 1, 33, 83, 46, 74, 58, 385, 120, 386, 26, 1, 171, 2, 1, 172, 173, 201, 1, 204, 387, 166, 2, 1, 36, 388, 205, 58, 389, 390, 391, 8, 83, 184, 28, 4, 185, 3, 1, 116, 117, 34, 1, 95, 31, 392, 32, 1, 36, 69, 97, 393, 8, 83, 40, 74, 206, 75, 394, 7, 1, 395, 2, 396, 28, 48, 397, 16, 47, 4, 133, 398, 399, 207, 8, 14, 1, 134, 2, 42, 2, 1, 400, 208, 2, 401, 209, 1, 11, 135, 402, 127, 4, 93, 403, 404, 5, 405, 406, 4, 23, 65, 407, 1, 408, 65, 34, 59, 76, 75, 409, 31, 410, 1, 88, 95, 9, 31, 98, 411, 2, 412, 46, 413, 414, 97, 415, 416, 5, 417, 210, 34, 211, 37, 136, 212, 2, 1, 41, 418, 7, 1, 419, 7, 4, 137, 77, 11, 24, 47, 1, 213, 2, 4, 138, 420, 421, 422, 2, 69, 97, 423, 424, 32, 60, 214, 48, 16, 47, 425, 426, 19, 163, 165, 5, 1, 427, 428, 2, 1, 41, 16, 429, 430, 11, 34, 1, 95, 31, 431, 9, 432, 4, 192, 2, 99, 139, 5, 433, 14, 15, 140, 434, 11, 50, 435, 3, 141, 7, 66, 142, 9, 6, 4, 93, 143, 2, 186, 187, 188, 46, 40, 436, 437, 144, 2, 1, 36, 19, 1, 134, 2, 11, 92, 25, 24, 215, 78, 438, 5, 216, 8, 11, 112, 24, 90, 217, 218, 439, 1, 440, 441, 15, 1, 442, 443, 1, 211, 444, 19, 11, 16, 445, 219, 446, 5, 447, 448, 3, 86, 220, 2, 1, 61, 100, 221, 222, 24, 449, 1, 223, 2, 15, 2, 224, 79, 450, 1, 451, 452, 19, 1, 122, 91, 453, 454, 3, 15, 79, 197, 8, 455, 43, 8, 456, 15, 20, 18, 457, 3, 458, 459, 28, 59, 40, 87, 35, 99, 169, 2, 101, 11, 6, 7, 4, 77, 6, 96, 38, 102, 19, 60, 5, 62, 460, 99, 145, 7, 78, 461, 225, 9, 462, 463, 464, 26, 1, 60, 226, 103, 9, 6, 465, 2, 1, 88, 102, 1, 73, 466, 146, 18, 467, 15, 189, 1, 20, 5, 59, 468, 1, 60, 19, 1, 469, 2, 1, 62, 11, 6, 1, 94, 2, 78, 470, 22, 7, 1, 41, 34, 147, 62, 5, 60, 40, 17, 471, 472, 68, 7, 1, 33, 71, 10, 40, 17, 473, 2, 8, 474, 22, 14, 227, 3, 475, 28, 11, 6, 4, 228, 476, 46, 6, 477, 3, 104, 1, 36, 43, 478, 144, 29, 11, 112, 105, 78, 479, 202, 5, 11, 76, 17, 229, 7, 4, 480, 225, 37, 87, 481, 1, 482, 483, 230, 50, 24, 484, 485, 5, 29, 10, 18, 148, 106, 486, 9, 24, 47, 4, 138, 85, 48, 31, 149, 51, 28, 50, 231, 487, 1, 20, 105, 488, 7, 232, 52, 19, 216, 5, 149, 51, 10, 63, 489, 4, 490, 233, 105, 234, 12, 233, 491, 492, 493, 1, 494, 11, 85, 107, 44, 495, 6, 140, 496, 3, 17, 497, 42, 63, 498, 9, 19, 499, 5, 149, 51, 63, 10, 500, 34, 10, 235, 501, 48, 57, 133, 207, 236, 150, 20, 44, 9, 31, 27, 14, 129, 130, 131, 132, 3, 237, 151, 150, 20, 502, 76, 16, 47, 1, 503, 504, 2, 25, 29, 121, 28, 129, 130, 131, 132, 123, 25, 32, 238, 69, 150, 20, 505, 239, 4, 240, 506, 1, 11, 13, 141, 66, 507, 44, 10, 104, 239, 508, 1, 509, 20, 1, 241, 510, 511, 1, 241, 53, 2, 1, 62, 5, 1, 512, 53, 2, 1, 20, 5, 69, 45, 53, 14, 45, 513, 1, 514, 2, 53, 515, 55, 3, 4, 516, 2, 236, 29, 15, 64, 53, 13, 17, 517, 518, 3, 16, 42, 36, 42, 30, 519, 37, 520, 3, 521, 5, 37, 522, 3, 523, 74, 524, 525, 98, 526, 527, 105, 234, 12, 1, 204, 528, 529, 3, 530, 7, 8, 531, 6, 532, 30, 21, 31, 533, 44, 80, 31, 534, 84, 242, 535, 80, 76, 16, 536, 537, 26, 1, 168, 2, 53, 5, 10, 16, 195, 12, 538, 48, 6, 27, 539, 2, 4, 540, 7, 1, 541, 2, 542, 52, 34, 1, 108, 543, 243, 10, 63, 119, 1, 544, 89, 3, 45, 30, 244, 2, 45, 20, 1, 33, 108, 13, 16, 45, 545, 7, 546, 81, 245, 5, 246, 46, 18, 115, 547, 548, 549, 8, 6, 72, 550, 81, 5, 551, 552, 16, 45, 30, 244, 28, 4, 213, 2, 151, 553, 4, 554, 555, 12, 44, 21, 75, 3, 245, 21, 35, 1, 108, 26, 42, 152, 44, 21, 75, 3, 81, 21, 35, 1, 33, 108, 14, 4, 45, 152, 5, 44, 21, 75, 3, 246, 21, 35, 9, 14, 103, 556, 152, 48, 31, 557, 7, 558, 232, 1, 559, 560, 561, 3, 17, 562, 109, 45, 218, 7, 45, 20, 29, 10, 18, 148, 247, 3, 35, 248, 2, 12, 563, 221, 222, 24, 564, 565, 12, 74, 11, 6, 7, 126, 15, 566, 2, 53, 96, 567, 30, 568, 569, 13, 570, 3, 571, 138, 572, 32, 573, 26, 574, 575, 13, 576, 577, 578, 579, 2, 580, 18, 581, 5, 12, 582, 583, 3, 1, 584, 28, 249, 87, 10, 13, 17, 250, 37, 2, 15, 64, 585, 28, 1, 176, 41, 13, 16, 4, 137, 30, 209, 251, 231, 586, 587, 1, 588, 589, 12, 57, 590, 3, 591, 592, 593, 7, 49, 57, 594, 72, 2, 1, 49, 595, 14, 596, 5, 9, 597, 7, 598, 26, 147, 252, 29, 10, 18, 599, 248, 2, 15, 12, 1, 41, 6, 148, 4, 253, 106, 43, 4, 600, 54, 22, 8, 6, 4, 22, 12, 6, 601, 133, 602, 9, 13, 254, 39, 603, 604, 605, 5, 255, 5, 606, 607, 9, 13, 608, 609, 5, 610, 3, 179, 153, 611, 9, 13, 141, 7, 4, 23, 612, 2, 613, 10, 16, 15, 614, 30, 615, 5, 616, 617, 29, 89, 3, 1, 618, 2, 11, 89, 3, 619, 215, 620, 621, 622, 18, 623, 11, 24, 98, 624, 208, 2, 625, 1, 626, 2, 627, 628, 629, 630, 32, 1, 146, 154, 19, 4, 256, 55, 3, 257, 631, 258, 18, 632, 633, 37, 8, 154, 19, 4, 256, 55, 3, 257, 634, 258, 18, 50, 635, 127, 636, 8, 6, 259, 12, 174, 260, 16, 47, 261, 14, 8, 23, 22, 52, 64, 260, 18, 26, 637, 226, 5, 1, 240, 638, 13, 27, 17, 639, 19, 1, 23, 22, 640, 11, 6, 27, 262, 3, 1, 641, 2, 1, 642, 7, 643, 1, 22, 6, 14, 1, 220, 2, 1, 61, 107, 644, 645, 97, 2, 646, 10, 16, 27, 47, 155, 3, 647, 3, 1, 61, 648, 27, 12, 68, 57, 27, 156, 136, 122, 24, 156, 649, 68, 7, 8, 71, 52, 650, 1, 262, 157, 235, 4, 651, 7, 1, 652, 2, 1, 653, 2, 38, 128, 61, 28, 10, 654, 655, 10, 263, 3, 86, 656, 144, 28, 249, 1, 51, 7, 12, 71, 13, 657, 658, 5, 21, 180, 12, 659, 154, 13, 158, 660, 5, 661, 1, 662, 2, 1, 264, 3, 1, 61, 159, 12, 1, 61, 6, 663, 251, 10, 18, 664, 109, 665, 666, 23, 667, 9, 13, 51, 243, 196, 27, 14, 143, 34, 14, 1, 94, 49, 100, 265, 5, 266, 668, 669, 670, 1, 22, 671, 1, 672, 67, 1, 673, 2, 1, 674, 31, 8, 140, 675, 107, 29, 10, 676, 109, 217, 677, 9, 6, 259, 12, 160, 6, 27, 678, 679, 680, 44, 681, 682, 24, 4, 100, 265, 266, 267, 80, 76, 158, 683, 109, 684, 11, 6, 159, 161, 12, 4, 100, 198, 267, 63, 254, 685, 686, 687, 21, 268, 64, 79, 16, 688, 3, 689, 224, 56, 35, 70, 690, 691, 55, 261, 32, 70, 692, 693, 80, 694, 56, 695, 14, 70, 269, 56, 35, 1, 162, 156, 34, 56, 35, 64, 162, 9, 696, 697, 270, 210, 3, 35, 698, 1, 699, 2, 1, 700, 6, 12, 107, 242, 1, 269, 263, 3, 271, 3, 23, 162, 701, 44, 10, 702, 3, 271, 3, 1, 23, 22, 10, 13, 158, 17, 155, 3, 237, 703, 19, 9, 9, 6, 49, 3, 704, 1, 705, 706, 9, 6, 4, 49, 10, 707, 58, 1, 101, 5, 14, 1, 708, 2, 8, 41, 200, 1, 11, 17, 709, 106, 272, 1, 710, 9, 24, 711, 273, 58, 1, 712, 181, 11, 6, 4, 22, 12, 252, 1, 713, 7, 1, 128, 714, 9, 50, 715, 1, 716, 2, 1, 41, 8, 22, 27, 182, 274, 717, 3, 718, 90, 20, 52, 50, 274, 1, 139, 3, 1, 719, 20, 3, 720, 38, 20, 18, 721, 19, 275, 157, 276, 26, 722, 723, 55, 724, 725, 1, 726, 727, 728, 59, 18, 15, 729, 19, 275, 157, 34, 59, 13, 35, 4, 730, 30, 175, 21, 63, 119, 731, 12, 732, 733, 6, 48, 64, 13, 17, 734, 5, 8, 735, 2, 1, 41, 13, 736, 247, 15, 1, 20, 2, 25, 13, 35, 99, 139, 14, 101, 11, 6, 96, 38, 102, 737, 6, 738, 32, 1, 62, 5, 1, 20, 113, 103, 10, 276, 26, 9, 28, 88, 102, 1, 146, 2, 73, 277, 18, 739, 147, 26, 1, 62, 5, 7, 1, 20, 103, 59, 51, 7, 740, 14, 25, 190, 11, 14, 1, 94, 49, 1, 73, 5, 1, 60, 214, 13, 51, 113, 43, 1, 33, 71, 8, 6, 98, 143, 2, 741, 742, 743, 744, 78, 273, 13, 17, 745, 32, 1, 746, 227, 19, 4, 93, 203, 7, 747, 25, 13, 748, 1, 749, 750, 751, 2, 752, 205, 10, 16, 753, 114, 4, 278, 3, 754, 4, 23, 25, 1, 23, 25, 46, 6, 1, 755, 2, 38, 177, 115, 756, 757, 758, 759, 5, 760, 11, 40, 761, 4, 762, 145, 7, 238, 39, 763, 1, 25, 2, 38, 170, 1, 764, 279, 2, 765, 766, 230, 767, 768, 769, 1, 770, 2, 1, 77, 1, 11, 92, 24, 771, 3, 772, 9, 1, 279, 37, 1, 280, 773, 3, 774, 39, 272, 29, 9, 775, 280, 9, 776, 12, 10, 15, 777, 16, 137, 778, 779, 5, 780, 38, 781, 782, 17, 58, 1, 33, 783, 159, 12, 160, 784, 5, 785, 43, 33, 786, 11, 6, 1, 65, 167, 787, 14, 23, 25, 4, 788, 54, 22, 14, 1, 281, 25, 11, 6, 1, 54, 22, 2, 23, 25, 2, 1, 281, 25, 9, 6, 27, 789, 790, 2, 282, 153, 9, 6, 791, 77, 2, 282, 153, 11, 6, 27, 121, 4, 30, 135, 52, 9, 6, 4, 228, 253, 43, 66, 142, 219, 1, 54, 792, 9, 6, 50, 793, 1, 77, 43, 794, 142, 9, 6, 4, 795, 14, 255, 250, 54, 22, 7, 796, 797, 11, 798, 17, 799, 28, 800, 5, 277, 30, 52, 1, 264, 2, 11, 13, 801, 86, 9, 3, 17, 283, 5, 161, 30, 14, 1, 178, 2, 25, 283, 72, 9, 802, 39, 37, 803, 2, 54, 161, 72, 9, 6, 804, 229, 805, 25, 48, 13, 17, 42, 36, 42, 30, 5, 30, 22, 40, 17, 806, 7, 4, 807, 284, 7, 15, 1, 20, 21, 124, 808, 12, 10, 15, 13, 17, 155, 3, 104, 9, 106, 7, 4, 123, 284, 270, 809, 58, 8, 183, 118, 21, 810, 3, 811, 1, 145, 2, 1, 111, 82, 79, 812, 1, 813, 814, 80, 24, 815, 816, 817, 26, 136, 818, 2, 1, 819, 2, 8, 54, 135, 5, 820, 1, 92, 19, 110, 821, 223, 43, 8, 116, 67, 110, 822, 823, 160, 824, 825, 1, 278, 21, 124, 826, 827, 3, 828, 14, 110, 191, 5, 110, 120, 194, 829, 1, 134, 117, 2, 11, 19, 23, 830, 5, 831, 10, 40, 104, 1, 36, 43, 832, 66, 101, 19, 151, 833, 21, 74, 206, 193, 91, 834, 3, 15, 79, 57, 4, 212, 2, 8, 835, 5, 268, 1, 111, 82, 3, 836, 39, 837, 37, 84]\n"
     ]
    }
   ],
   "source": [
    "# vector representation \n",
    "tokenizer = Tokenizer()\n",
    "tokenizer.fit_on_texts([x])\n",
    "encoded = tokenizer.texts_to_sequences([x])[0]\n",
    "print(\"\\n\\n\" , len(encoded))\n",
    "print(\"\\n\\n\" , encoded)\n",
    "\n"
   ]
  },
  {
   "cell_type": "code",
   "execution_count": 32,
   "metadata": {},
   "outputs": [
    {
     "name": "stdout",
     "output_type": "stream",
     "text": [
      "Vocabulary Size: 838\n"
     ]
    }
   ],
   "source": [
    "# retrieve vocabulary size\n",
    "vocab_size = len(tokenizer.word_index) + 1\n",
    "print('Vocabulary Size: %d' % vocab_size)"
   ]
  },
  {
   "cell_type": "code",
   "execution_count": 33,
   "metadata": {
    "scrolled": true
   },
   "outputs": [
    {
     "name": "stdout",
     "output_type": "stream",
     "text": [
      "Total Sequences: 2414\n",
      "\n",
      " [[23, 81, 111], [81, 111, 82], [111, 82, 285], [82, 285, 286], [285, 286, 82], [286, 82, 287], [82, 287, 288], [287, 288, 2], [288, 2, 289], [2, 289, 290], [289, 290, 38], [290, 38, 163], [38, 163, 291], [163, 291, 292], [291, 292, 293], [292, 293, 294], [293, 294, 164], [294, 164, 2], [164, 2, 1], [2, 1, 112], [1, 112, 2], [112, 2, 165], [2, 165, 15], [165, 15, 1], [15, 1, 295], [1, 295, 164], [295, 164, 2], [164, 2, 1], [2, 1, 83], [1, 83, 5], [83, 5, 1], [5, 1, 296], [1, 296, 297], [296, 297, 298], [297, 298, 84], [298, 84, 299], [84, 299, 300], [299, 300, 301], [300, 301, 7], [301, 7, 1], [7, 1, 85], [1, 85, 2], [85, 2, 36], [2, 36, 302], [36, 302, 10], [302, 10, 303], [10, 303, 304], [303, 304, 26], [304, 26, 4], [26, 4, 166], [4, 166, 46], [166, 46, 305], [46, 305, 39], [305, 39, 3], [39, 3, 4], [3, 4, 65], [4, 65, 167], [65, 167, 306], [167, 306, 5], [306, 5, 307], [5, 307, 55], [307, 55, 4], [55, 4, 168], [4, 168, 2], [168, 2, 169], [2, 169, 308], [169, 308, 39], [308, 39, 3], [39, 3, 309], [3, 309, 14], [309, 14, 23], [14, 23, 170], [23, 170, 26], [170, 26, 1], [26, 1, 171], [1, 171, 2], [171, 2, 1], [2, 1, 172], [1, 172, 173], [172, 173, 29], [173, 29, 113], [29, 113, 10], [113, 10, 40], [10, 40, 86], [40, 86, 4], [86, 4, 310], [4, 310, 311], [310, 311, 2], [311, 2, 1], [2, 1, 36], [1, 36, 312], [36, 312, 4], [312, 4, 174], [4, 174, 313], [174, 313, 37], [313, 37, 87], [37, 87, 38], [87, 38, 36], [38, 36, 13], [36, 13, 314], [13, 314, 114], [314, 114, 4], [114, 4, 23], [4, 23, 66], [23, 66, 175], [66, 175, 1], [175, 1, 176], [1, 176, 177], [176, 177, 115], [177, 115, 315], [115, 315, 178], [315, 178, 2], [178, 2, 1], [2, 1, 41], [1, 41, 18], [41, 18, 4], [18, 4, 316], [4, 316, 3], [316, 3, 8], [3, 8, 116], [8, 116, 117], [116, 117, 21], [117, 21, 179], [21, 179, 27], [179, 27, 180], [27, 180, 12], [180, 12, 8], [12, 8, 85], [8, 85, 2], [85, 2, 11], [2, 11, 6], [11, 6, 317], [6, 317, 3], [317, 3, 1], [3, 1, 318], [1, 318, 2], [318, 2, 181], [2, 181, 182], [181, 182, 8], [182, 8, 183], [8, 183, 118], [183, 118, 184], [118, 184, 29], [184, 29, 28], [29, 28, 4], [28, 4, 185], [4, 185, 3], [185, 3, 1], [3, 1, 319], [1, 319, 2], [319, 2, 186], [2, 186, 187], [186, 187, 188], [187, 188, 7], [188, 7, 88], [7, 88, 320], [88, 320, 8], [320, 8, 321], [8, 321, 67], [321, 67, 31], [67, 31, 322], [31, 322, 89], [322, 89, 3], [89, 3, 1], [3, 1, 323], [1, 323, 68], [323, 68, 324], [68, 324, 7], [324, 7, 189], [7, 189, 325], [189, 325, 32], [325, 32, 69], [32, 69, 326], [69, 326, 190], [326, 190, 327], [190, 327, 191], [327, 191, 328], [191, 328, 329], [328, 329, 90], [329, 90, 8], [90, 8, 11], [8, 11, 192], [11, 192, 9], [192, 9, 6], [9, 6, 330], [6, 330, 3], [330, 3, 119], [3, 119, 56], [119, 56, 15], [56, 15, 331], [15, 331, 70], [331, 70, 332], [70, 332, 49], [332, 49, 3], [49, 3, 333], [3, 333, 8], [333, 8, 334], [8, 334, 118], [334, 118, 21], [118, 21, 193], [21, 193, 91], [193, 91, 335], [91, 335, 336], [335, 336, 5], [336, 5, 337], [5, 337, 91], [337, 91, 338], [91, 338, 339], [338, 339, 3], [339, 3, 15], [3, 15, 2], [15, 2, 56], [2, 56, 14], [56, 14, 70], [14, 70, 120], [70, 120, 194], [120, 194, 29], [194, 29, 8], [29, 8, 65], [8, 65, 12], [65, 12, 10], [12, 10, 16], [10, 16, 340], [16, 340, 114], [340, 114, 1], [114, 1, 71], [1, 71, 12], [71, 12, 10], [12, 10, 16], [10, 16, 341], [16, 341, 1], [341, 1, 22], [1, 22, 12], [22, 12, 10], [12, 10, 16], [10, 16, 90], [16, 90, 24], [90, 24, 27], [24, 27, 195], [27, 195, 1], [195, 1, 342], [1, 342, 2], [342, 2, 1], [2, 1, 67], [1, 67, 72], [67, 72, 2], [72, 2, 121], [2, 121, 42], [121, 42, 92], [42, 92, 196], [92, 196, 42], [196, 42, 122], [42, 122, 8], [122, 8, 6], [8, 6, 4], [6, 4, 343], [4, 343, 344], [343, 344, 1], [344, 1, 345], [1, 345, 68], [345, 68, 2], [68, 2, 15], [2, 15, 197], [15, 197, 39], [197, 39, 3], [39, 3, 8], [3, 8, 346], [8, 346, 5], [346, 5, 84], [5, 84, 10], [84, 10, 18], [10, 18, 123], [18, 123, 347], [123, 347, 1], [347, 1, 348], [1, 348, 349], [348, 349, 67], [349, 67, 26], [67, 26, 198], [26, 198, 124], [198, 124, 7], [124, 7, 8], [7, 8, 73], [8, 73, 125], [73, 125, 8], [125, 8, 6], [8, 6, 1], [6, 1, 33], [1, 33, 126], [33, 126, 46], [126, 46, 24], [46, 24, 47], [24, 47, 350], [47, 350, 32], [350, 32, 1], [32, 1, 351], [1, 351, 2], [351, 2, 127], [2, 127, 93], [127, 93, 199], [93, 199, 352], [199, 352, 10], [352, 10, 18], [10, 18, 353], [18, 353, 3], [353, 3, 17], [3, 17, 354], [17, 354, 7], [354, 7, 1], [7, 1, 33], [1, 33, 355], [33, 355, 200], [355, 200, 39], [200, 39, 356], [39, 356, 1], [356, 1, 357], [1, 357, 2], [357, 2, 358], [2, 358, 359], [358, 359, 34], [359, 34, 8], [34, 8, 33], [8, 33, 73], [33, 73, 125], [73, 125, 201], [125, 201, 1], [201, 1, 94], [1, 94, 202], [94, 202, 3], [202, 3, 360], [3, 360, 1], [360, 1, 128], [1, 128, 95], [128, 95, 29], [95, 29, 10], [29, 10, 361], [10, 361, 1], [361, 1, 33], [1, 33, 126], [33, 126, 2], [126, 2, 203], [2, 203, 1], [203, 1, 362], [1, 362, 363], [362, 363, 2], [363, 2, 8], [2, 8, 125], [8, 125, 57], [125, 57, 364], [57, 364, 32], [364, 32, 1], [32, 1, 365], [1, 365, 199], [365, 199, 366], [199, 366, 96], [366, 96, 367], [96, 367, 368], [367, 368, 369], [368, 369, 370], [369, 370, 371], [370, 371, 372], [371, 372, 373], [372, 373, 129], [373, 129, 130], [129, 130, 131], [130, 131, 132], [131, 132, 374], [132, 374, 375], [374, 375, 376], [375, 376, 377], [376, 377, 378], [377, 378, 379], [378, 379, 380], [379, 380, 381], [380, 381, 382], [381, 382, 383], [382, 383, 384], [383, 384, 1], [384, 1, 33], [1, 33, 83], [33, 83, 46], [83, 46, 74], [46, 74, 58], [74, 58, 385], [58, 385, 120], [385, 120, 386], [120, 386, 26], [386, 26, 1], [26, 1, 171], [1, 171, 2], [171, 2, 1], [2, 1, 172], [1, 172, 173], [172, 173, 201], [173, 201, 1], [201, 1, 204], [1, 204, 387], [204, 387, 166], [387, 166, 2], [166, 2, 1], [2, 1, 36], [1, 36, 388], [36, 388, 205], [388, 205, 58], [205, 58, 389], [58, 389, 390], [389, 390, 391], [390, 391, 8], [391, 8, 83], [8, 83, 184], [83, 184, 28], [184, 28, 4], [28, 4, 185], [4, 185, 3], [185, 3, 1], [3, 1, 116], [1, 116, 117], [116, 117, 34], [117, 34, 1], [34, 1, 95], [1, 95, 31], [95, 31, 392], [31, 392, 32], [392, 32, 1], [32, 1, 36], [1, 36, 69], [36, 69, 97], [69, 97, 393], [97, 393, 8], [393, 8, 83], [8, 83, 40], [83, 40, 74], [40, 74, 206], [74, 206, 75], [206, 75, 394], [75, 394, 7], [394, 7, 1], [7, 1, 395], [1, 395, 2], [395, 2, 396], [2, 396, 28], [396, 28, 48], [28, 48, 397], [48, 397, 16], [397, 16, 47], [16, 47, 4], [47, 4, 133], [4, 133, 398], [133, 398, 399], [398, 399, 207], [399, 207, 8], [207, 8, 14], [8, 14, 1], [14, 1, 134], [1, 134, 2], [134, 2, 42], [2, 42, 2], [42, 2, 1], [2, 1, 400], [1, 400, 208], [400, 208, 2], [208, 2, 401], [2, 401, 209], [401, 209, 1], [209, 1, 11], [1, 11, 135], [11, 135, 402], [135, 402, 127], [402, 127, 4], [127, 4, 93], [4, 93, 403], [93, 403, 404], [403, 404, 5], [404, 5, 405], [5, 405, 406], [405, 406, 4], [406, 4, 23], [4, 23, 65], [23, 65, 407], [65, 407, 1], [407, 1, 408], [1, 408, 65], [408, 65, 34], [65, 34, 59], [34, 59, 76], [59, 76, 75], [76, 75, 409], [75, 409, 31], [409, 31, 410], [31, 410, 1], [410, 1, 88], [1, 88, 95], [88, 95, 9], [95, 9, 31], [9, 31, 98], [31, 98, 411], [98, 411, 2], [411, 2, 412], [2, 412, 46], [412, 46, 413], [46, 413, 414], [413, 414, 97], [414, 97, 415], [97, 415, 416], [415, 416, 5], [416, 5, 417], [5, 417, 210], [417, 210, 34], [210, 34, 211], [34, 211, 37], [211, 37, 136], [37, 136, 212], [136, 212, 2], [212, 2, 1], [2, 1, 41], [1, 41, 418], [41, 418, 7], [418, 7, 1], [7, 1, 419], [1, 419, 7], [419, 7, 4], [7, 4, 137], [4, 137, 77], [137, 77, 11], [77, 11, 24], [11, 24, 47], [24, 47, 1], [47, 1, 213], [1, 213, 2], [213, 2, 4], [2, 4, 138], [4, 138, 420], [138, 420, 421], [420, 421, 422], [421, 422, 2], [422, 2, 69], [2, 69, 97], [69, 97, 423], [97, 423, 424], [423, 424, 32], [424, 32, 60], [32, 60, 214], [60, 214, 48], [214, 48, 16], [48, 16, 47], [16, 47, 425], [47, 425, 426], [425, 426, 19], [426, 19, 163], [19, 163, 165], [163, 165, 5], [165, 5, 1], [5, 1, 427], [1, 427, 428], [427, 428, 2], [428, 2, 1], [2, 1, 41], [1, 41, 16], [41, 16, 429], [16, 429, 430], [429, 430, 11], [430, 11, 34], [11, 34, 1], [34, 1, 95], [1, 95, 31], [95, 31, 431], [31, 431, 9], [431, 9, 432], [9, 432, 4], [432, 4, 192], [4, 192, 2], [192, 2, 99], [2, 99, 139], [99, 139, 5], [139, 5, 433], [5, 433, 14], [433, 14, 15], [14, 15, 140], [15, 140, 434], [140, 434, 11], [434, 11, 50], [11, 50, 435], [50, 435, 3], [435, 3, 141], [3, 141, 7], [141, 7, 66], [7, 66, 142], [66, 142, 9], [142, 9, 6], [9, 6, 4], [6, 4, 93], [4, 93, 143], [93, 143, 2], [143, 2, 186], [2, 186, 187], [186, 187, 188], [187, 188, 46], [188, 46, 40], [46, 40, 436], [40, 436, 437], [436, 437, 144], [437, 144, 2], [144, 2, 1], [2, 1, 36], [1, 36, 19], [36, 19, 1], [19, 1, 134], [1, 134, 2], [134, 2, 11], [2, 11, 92], [11, 92, 25], [92, 25, 24], [25, 24, 215], [24, 215, 78], [215, 78, 438], [78, 438, 5], [438, 5, 216], [5, 216, 8], [216, 8, 11], [8, 11, 112], [11, 112, 24], [112, 24, 90], [24, 90, 217], [90, 217, 218], [217, 218, 439], [218, 439, 1], [439, 1, 440], [1, 440, 441], [440, 441, 15], [441, 15, 1], [15, 1, 442], [1, 442, 443], [442, 443, 1], [443, 1, 211], [1, 211, 444], [211, 444, 19], [444, 19, 11], [19, 11, 16], [11, 16, 445], [16, 445, 219], [445, 219, 446], [219, 446, 5], [446, 5, 447], [5, 447, 448], [447, 448, 3], [448, 3, 86], [3, 86, 220], [86, 220, 2], [220, 2, 1], [2, 1, 61], [1, 61, 100], [61, 100, 221], [100, 221, 222], [221, 222, 24], [222, 24, 449], [24, 449, 1], [449, 1, 223], [1, 223, 2], [223, 2, 15], [2, 15, 2], [15, 2, 224], [2, 224, 79], [224, 79, 450], [79, 450, 1], [450, 1, 451], [1, 451, 452], [451, 452, 19], [452, 19, 1], [19, 1, 122], [1, 122, 91], [122, 91, 453], [91, 453, 454], [453, 454, 3], [454, 3, 15], [3, 15, 79], [15, 79, 197], [79, 197, 8], [197, 8, 455], [8, 455, 43], [455, 43, 8], [43, 8, 456], [8, 456, 15], [456, 15, 20], [15, 20, 18], [20, 18, 457], [18, 457, 3], [457, 3, 458], [3, 458, 459], [458, 459, 28], [459, 28, 59], [28, 59, 40], [59, 40, 87], [40, 87, 35], [87, 35, 99], [35, 99, 169], [99, 169, 2], [169, 2, 101], [2, 101, 11], [101, 11, 6], [11, 6, 7], [6, 7, 4], [7, 4, 77], [4, 77, 6], [77, 6, 96], [6, 96, 38], [96, 38, 102], [38, 102, 19], [102, 19, 60], [19, 60, 5], [60, 5, 62], [5, 62, 460], [62, 460, 99], [460, 99, 145], [99, 145, 7], [145, 7, 78], [7, 78, 461], [78, 461, 225], [461, 225, 9], [225, 9, 462], [9, 462, 463], [462, 463, 464], [463, 464, 26], [464, 26, 1], [26, 1, 60], [1, 60, 226], [60, 226, 103], [226, 103, 9], [103, 9, 6], [9, 6, 465], [6, 465, 2], [465, 2, 1], [2, 1, 88], [1, 88, 102], [88, 102, 1], [102, 1, 73], [1, 73, 466], [73, 466, 146], [466, 146, 18], [146, 18, 467], [18, 467, 15], [467, 15, 189], [15, 189, 1], [189, 1, 20], [1, 20, 5], [20, 5, 59], [5, 59, 468], [59, 468, 1], [468, 1, 60], [1, 60, 19], [60, 19, 1], [19, 1, 469], [1, 469, 2], [469, 2, 1], [2, 1, 62], [1, 62, 11], [62, 11, 6], [11, 6, 1], [6, 1, 94], [1, 94, 2], [94, 2, 78], [2, 78, 470], [78, 470, 22], [470, 22, 7], [22, 7, 1], [7, 1, 41], [1, 41, 34], [41, 34, 147], [34, 147, 62], [147, 62, 5], [62, 5, 60], [5, 60, 40], [60, 40, 17], [40, 17, 471], [17, 471, 472], [471, 472, 68], [472, 68, 7], [68, 7, 1], [7, 1, 33], [1, 33, 71], [33, 71, 10], [71, 10, 40], [10, 40, 17], [40, 17, 473], [17, 473, 2], [473, 2, 8], [2, 8, 474], [8, 474, 22], [474, 22, 14], [22, 14, 227], [14, 227, 3], [227, 3, 475], [3, 475, 28], [475, 28, 11], [28, 11, 6], [11, 6, 4], [6, 4, 228], [4, 228, 476], [228, 476, 46], [476, 46, 6], [46, 6, 477], [6, 477, 3], [477, 3, 104], [3, 104, 1], [104, 1, 36], [1, 36, 43], [36, 43, 478], [43, 478, 144], [478, 144, 29], [144, 29, 11], [29, 11, 112], [11, 112, 105], [112, 105, 78], [105, 78, 479], [78, 479, 202], [479, 202, 5], [202, 5, 11], [5, 11, 76], [11, 76, 17], [76, 17, 229], [17, 229, 7], [229, 7, 4], [7, 4, 480], [4, 480, 225], [480, 225, 37], [225, 37, 87], [37, 87, 481], [87, 481, 1], [481, 1, 482], [1, 482, 483], [482, 483, 230], [483, 230, 50], [230, 50, 24], [50, 24, 484], [24, 484, 485], [484, 485, 5], [485, 5, 29], [5, 29, 10], [29, 10, 18], [10, 18, 148], [18, 148, 106], [148, 106, 486], [106, 486, 9], [486, 9, 24], [9, 24, 47], [24, 47, 4], [47, 4, 138], [4, 138, 85], [138, 85, 48], [85, 48, 31], [48, 31, 149], [31, 149, 51], [149, 51, 28], [51, 28, 50], [28, 50, 231], [50, 231, 487], [231, 487, 1], [487, 1, 20], [1, 20, 105], [20, 105, 488], [105, 488, 7], [488, 7, 232], [7, 232, 52], [232, 52, 19], [52, 19, 216], [19, 216, 5], [216, 5, 149], [5, 149, 51], [149, 51, 10], [51, 10, 63], [10, 63, 489], [63, 489, 4], [489, 4, 490], [4, 490, 233], [490, 233, 105], [233, 105, 234], [105, 234, 12], [234, 12, 233], [12, 233, 491], [233, 491, 492], [491, 492, 493], [492, 493, 1], [493, 1, 494], [1, 494, 11], [494, 11, 85], [11, 85, 107], [85, 107, 44], [107, 44, 495], [44, 495, 6], [495, 6, 140], [6, 140, 496], [140, 496, 3], [496, 3, 17], [3, 17, 497], [17, 497, 42], [497, 42, 63], [42, 63, 498], [63, 498, 9], [498, 9, 19], [9, 19, 499], [19, 499, 5], [499, 5, 149], [5, 149, 51], [149, 51, 63], [51, 63, 10], [63, 10, 500], [10, 500, 34], [500, 34, 10], [34, 10, 235], [10, 235, 501], [235, 501, 48], [501, 48, 57], [48, 57, 133], [57, 133, 207], [133, 207, 236], [207, 236, 150], [236, 150, 20], [150, 20, 44], [20, 44, 9], [44, 9, 31], [9, 31, 27], [31, 27, 14], [27, 14, 129], [14, 129, 130], [129, 130, 131], [130, 131, 132], [131, 132, 3], [132, 3, 237], [3, 237, 151], [237, 151, 150], [151, 150, 20], [150, 20, 502], [20, 502, 76], [502, 76, 16], [76, 16, 47], [16, 47, 1], [47, 1, 503], [1, 503, 504], [503, 504, 2], [504, 2, 25], [2, 25, 29], [25, 29, 121], [29, 121, 28], [121, 28, 129], [28, 129, 130], [129, 130, 131], [130, 131, 132], [131, 132, 123], [132, 123, 25], [123, 25, 32], [25, 32, 238], [32, 238, 69], [238, 69, 150], [69, 150, 20], [150, 20, 505], [20, 505, 239], [505, 239, 4], [239, 4, 240], [4, 240, 506], [240, 506, 1], [506, 1, 11], [1, 11, 13], [11, 13, 141], [13, 141, 66], [141, 66, 507], [66, 507, 44], [507, 44, 10], [44, 10, 104], [10, 104, 239], [104, 239, 508], [239, 508, 1], [508, 1, 509], [1, 509, 20], [509, 20, 1], [20, 1, 241], [1, 241, 510], [241, 510, 511], [510, 511, 1], [511, 1, 241], [1, 241, 53], [241, 53, 2], [53, 2, 1], [2, 1, 62], [1, 62, 5], [62, 5, 1], [5, 1, 512], [1, 512, 53], [512, 53, 2], [53, 2, 1], [2, 1, 20], [1, 20, 5], [20, 5, 69], [5, 69, 45], [69, 45, 53], [45, 53, 14], [53, 14, 45], [14, 45, 513], [45, 513, 1], [513, 1, 514], [1, 514, 2], [514, 2, 53], [2, 53, 515], [53, 515, 55], [515, 55, 3], [55, 3, 4], [3, 4, 516], [4, 516, 2], [516, 2, 236], [2, 236, 29], [236, 29, 15], [29, 15, 64], [15, 64, 53], [64, 53, 13], [53, 13, 17], [13, 17, 517], [17, 517, 518], [517, 518, 3], [518, 3, 16], [3, 16, 42], [16, 42, 36], [42, 36, 42], [36, 42, 30], [42, 30, 519], [30, 519, 37], [519, 37, 520], [37, 520, 3], [520, 3, 521], [3, 521, 5], [521, 5, 37], [5, 37, 522], [37, 522, 3], [522, 3, 523], [3, 523, 74], [523, 74, 524], [74, 524, 525], [524, 525, 98], [525, 98, 526], [98, 526, 527], [526, 527, 105], [527, 105, 234], [105, 234, 12], [234, 12, 1], [12, 1, 204], [1, 204, 528], [204, 528, 529], [528, 529, 3], [529, 3, 530], [3, 530, 7], [530, 7, 8], [7, 8, 531], [8, 531, 6], [531, 6, 532], [6, 532, 30], [532, 30, 21], [30, 21, 31], [21, 31, 533], [31, 533, 44], [533, 44, 80], [44, 80, 31], [80, 31, 534], [31, 534, 84], [534, 84, 242], [84, 242, 535], [242, 535, 80], [535, 80, 76], [80, 76, 16], [76, 16, 536], [16, 536, 537], [536, 537, 26], [537, 26, 1], [26, 1, 168], [1, 168, 2], [168, 2, 53], [2, 53, 5], [53, 5, 10], [5, 10, 16], [10, 16, 195], [16, 195, 12], [195, 12, 538], [12, 538, 48], [538, 48, 6], [48, 6, 27], [6, 27, 539], [27, 539, 2], [539, 2, 4], [2, 4, 540], [4, 540, 7], [540, 7, 1], [7, 1, 541], [1, 541, 2], [541, 2, 542], [2, 542, 52], [542, 52, 34], [52, 34, 1], [34, 1, 108], [1, 108, 543], [108, 543, 243], [543, 243, 10], [243, 10, 63], [10, 63, 119], [63, 119, 1], [119, 1, 544], [1, 544, 89], [544, 89, 3], [89, 3, 45], [3, 45, 30], [45, 30, 244], [30, 244, 2], [244, 2, 45], [2, 45, 20], [45, 20, 1], [20, 1, 33], [1, 33, 108], [33, 108, 13], [108, 13, 16], [13, 16, 45], [16, 45, 545], [45, 545, 7], [545, 7, 546], [7, 546, 81], [546, 81, 245], [81, 245, 5], [245, 5, 246], [5, 246, 46], [246, 46, 18], [46, 18, 115], [18, 115, 547], [115, 547, 548], [547, 548, 549], [548, 549, 8], [549, 8, 6], [8, 6, 72], [6, 72, 550], [72, 550, 81], [550, 81, 5], [81, 5, 551], [5, 551, 552], [551, 552, 16], [552, 16, 45], [16, 45, 30], [45, 30, 244], [30, 244, 28], [244, 28, 4], [28, 4, 213], [4, 213, 2], [213, 2, 151], [2, 151, 553], [151, 553, 4], [553, 4, 554], [4, 554, 555], [554, 555, 12], [555, 12, 44], [12, 44, 21], [44, 21, 75], [21, 75, 3], [75, 3, 245], [3, 245, 21], [245, 21, 35], [21, 35, 1], [35, 1, 108], [1, 108, 26], [108, 26, 42], [26, 42, 152], [42, 152, 44], [152, 44, 21], [44, 21, 75], [21, 75, 3], [75, 3, 81], [3, 81, 21], [81, 21, 35], [21, 35, 1], [35, 1, 33], [1, 33, 108], [33, 108, 14], [108, 14, 4], [14, 4, 45], [4, 45, 152], [45, 152, 5], [152, 5, 44], [5, 44, 21], [44, 21, 75], [21, 75, 3], [75, 3, 246], [3, 246, 21], [246, 21, 35], [21, 35, 9], [35, 9, 14], [9, 14, 103], [14, 103, 556], [103, 556, 152], [556, 152, 48], [152, 48, 31], [48, 31, 557], [31, 557, 7], [557, 7, 558], [7, 558, 232], [558, 232, 1], [232, 1, 559], [1, 559, 560], [559, 560, 561], [560, 561, 3], [561, 3, 17], [3, 17, 562], [17, 562, 109], [562, 109, 45], [109, 45, 218], [45, 218, 7], [218, 7, 45], [7, 45, 20], [45, 20, 29], [20, 29, 10], [29, 10, 18], [10, 18, 148], [18, 148, 247], [148, 247, 3], [247, 3, 35], [3, 35, 248], [35, 248, 2], [248, 2, 12], [2, 12, 563], [12, 563, 221], [563, 221, 222], [221, 222, 24], [222, 24, 564], [24, 564, 565], [564, 565, 12], [565, 12, 74], [12, 74, 11], [74, 11, 6], [11, 6, 7], [6, 7, 126], [7, 126, 15], [126, 15, 566], [15, 566, 2], [566, 2, 53], [2, 53, 96], [53, 96, 567], [96, 567, 30], [567, 30, 568], [30, 568, 569], [568, 569, 13], [569, 13, 570], [13, 570, 3], [570, 3, 571], [3, 571, 138], [571, 138, 572], [138, 572, 32], [572, 32, 573], [32, 573, 26], [573, 26, 574], [26, 574, 575], [574, 575, 13], [575, 13, 576], [13, 576, 577], [576, 577, 578], [577, 578, 579], [578, 579, 2], [579, 2, 580], [2, 580, 18], [580, 18, 581], [18, 581, 5], [581, 5, 12], [5, 12, 582], [12, 582, 583], [582, 583, 3], [583, 3, 1], [3, 1, 584], [1, 584, 28], [584, 28, 249], [28, 249, 87], [249, 87, 10], [87, 10, 13], [10, 13, 17], [13, 17, 250], [17, 250, 37], [250, 37, 2], [37, 2, 15], [2, 15, 64], [15, 64, 585], [64, 585, 28], [585, 28, 1], [28, 1, 176], [1, 176, 41], [176, 41, 13], [41, 13, 16], [13, 16, 4], [16, 4, 137], [4, 137, 30], [137, 30, 209], [30, 209, 251], [209, 251, 231], [251, 231, 586], [231, 586, 587], [586, 587, 1], [587, 1, 588], [1, 588, 589], [588, 589, 12], [589, 12, 57], [12, 57, 590], [57, 590, 3], [590, 3, 591], [3, 591, 592], [591, 592, 593], [592, 593, 7], [593, 7, 49], [7, 49, 57], [49, 57, 594], [57, 594, 72], [594, 72, 2], [72, 2, 1], [2, 1, 49], [1, 49, 595], [49, 595, 14], [595, 14, 596], [14, 596, 5], [596, 5, 9], [5, 9, 597], [9, 597, 7], [597, 7, 598], [7, 598, 26], [598, 26, 147], [26, 147, 252], [147, 252, 29], [252, 29, 10], [29, 10, 18], [10, 18, 599], [18, 599, 248], [599, 248, 2], [248, 2, 15], [2, 15, 12], [15, 12, 1], [12, 1, 41], [1, 41, 6], [41, 6, 148], [6, 148, 4], [148, 4, 253], [4, 253, 106], [253, 106, 43], [106, 43, 4], [43, 4, 600], [4, 600, 54], [600, 54, 22], [54, 22, 8], [22, 8, 6], [8, 6, 4], [6, 4, 22], [4, 22, 12], [22, 12, 6], [12, 6, 601], [6, 601, 133], [601, 133, 602], [133, 602, 9], [602, 9, 13], [9, 13, 254], [13, 254, 39], [254, 39, 603], [39, 603, 604], [603, 604, 605], [604, 605, 5], [605, 5, 255], [5, 255, 5], [255, 5, 606], [5, 606, 607], [606, 607, 9], [607, 9, 13], [9, 13, 608], [13, 608, 609], [608, 609, 5], [609, 5, 610], [5, 610, 3], [610, 3, 179], [3, 179, 153], [179, 153, 611], [153, 611, 9], [611, 9, 13], [9, 13, 141], [13, 141, 7], [141, 7, 4], [7, 4, 23], [4, 23, 612], [23, 612, 2], [612, 2, 613], [2, 613, 10], [613, 10, 16], [10, 16, 15], [16, 15, 614], [15, 614, 30], [614, 30, 615], [30, 615, 5], [615, 5, 616], [5, 616, 617], [616, 617, 29], [617, 29, 89], [29, 89, 3], [89, 3, 1], [3, 1, 618], [1, 618, 2], [618, 2, 11], [2, 11, 89], [11, 89, 3], [89, 3, 619], [3, 619, 215], [619, 215, 620], [215, 620, 621], [620, 621, 622], [621, 622, 18], [622, 18, 623], [18, 623, 11], [623, 11, 24], [11, 24, 98], [24, 98, 624], [98, 624, 208], [624, 208, 2], [208, 2, 625], [2, 625, 1], [625, 1, 626], [1, 626, 2], [626, 2, 627], [2, 627, 628], [627, 628, 629], [628, 629, 630], [629, 630, 32], [630, 32, 1], [32, 1, 146], [1, 146, 154], [146, 154, 19], [154, 19, 4], [19, 4, 256], [4, 256, 55], [256, 55, 3], [55, 3, 257], [3, 257, 631], [257, 631, 258], [631, 258, 18], [258, 18, 632], [18, 632, 633], [632, 633, 37], [633, 37, 8], [37, 8, 154], [8, 154, 19], [154, 19, 4], [19, 4, 256], [4, 256, 55], [256, 55, 3], [55, 3, 257], [3, 257, 634], [257, 634, 258], [634, 258, 18], [258, 18, 50], [18, 50, 635], [50, 635, 127], [635, 127, 636], [127, 636, 8], [636, 8, 6], [8, 6, 259], [6, 259, 12], [259, 12, 174], [12, 174, 260], [174, 260, 16], [260, 16, 47], [16, 47, 261], [47, 261, 14], [261, 14, 8], [14, 8, 23], [8, 23, 22], [23, 22, 52], [22, 52, 64], [52, 64, 260], [64, 260, 18], [260, 18, 26], [18, 26, 637], [26, 637, 226], [637, 226, 5], [226, 5, 1], [5, 1, 240], [1, 240, 638], [240, 638, 13], [638, 13, 27], [13, 27, 17], [27, 17, 639], [17, 639, 19], [639, 19, 1], [19, 1, 23], [1, 23, 22], [23, 22, 640], [22, 640, 11], [640, 11, 6], [11, 6, 27], [6, 27, 262], [27, 262, 3], [262, 3, 1], [3, 1, 641], [1, 641, 2], [641, 2, 1], [2, 1, 642], [1, 642, 7], [642, 7, 643], [7, 643, 1], [643, 1, 22], [1, 22, 6], [22, 6, 14], [6, 14, 1], [14, 1, 220], [1, 220, 2], [220, 2, 1], [2, 1, 61], [1, 61, 107], [61, 107, 644], [107, 644, 645], [644, 645, 97], [645, 97, 2], [97, 2, 646], [2, 646, 10], [646, 10, 16], [10, 16, 27], [16, 27, 47], [27, 47, 155], [47, 155, 3], [155, 3, 647], [3, 647, 3], [647, 3, 1], [3, 1, 61], [1, 61, 648], [61, 648, 27], [648, 27, 12], [27, 12, 68], [12, 68, 57], [68, 57, 27], [57, 27, 156], [27, 156, 136], [156, 136, 122], [136, 122, 24], [122, 24, 156], [24, 156, 649], [156, 649, 68], [649, 68, 7], [68, 7, 8], [7, 8, 71], [8, 71, 52], [71, 52, 650], [52, 650, 1], [650, 1, 262], [1, 262, 157], [262, 157, 235], [157, 235, 4], [235, 4, 651], [4, 651, 7], [651, 7, 1], [7, 1, 652], [1, 652, 2], [652, 2, 1], [2, 1, 653], [1, 653, 2], [653, 2, 38], [2, 38, 128], [38, 128, 61], [128, 61, 28], [61, 28, 10], [28, 10, 654], [10, 654, 655], [654, 655, 10], [655, 10, 263], [10, 263, 3], [263, 3, 86], [3, 86, 656], [86, 656, 144], [656, 144, 28], [144, 28, 249], [28, 249, 1], [249, 1, 51], [1, 51, 7], [51, 7, 12], [7, 12, 71], [12, 71, 13], [71, 13, 657], [13, 657, 658], [657, 658, 5], [658, 5, 21], [5, 21, 180], [21, 180, 12], [180, 12, 659], [12, 659, 154], [659, 154, 13], [154, 13, 158], [13, 158, 660], [158, 660, 5], [660, 5, 661], [5, 661, 1], [661, 1, 662], [1, 662, 2], [662, 2, 1], [2, 1, 264], [1, 264, 3], [264, 3, 1], [3, 1, 61], [1, 61, 159], [61, 159, 12], [159, 12, 1], [12, 1, 61], [1, 61, 6], [61, 6, 663], [6, 663, 251], [663, 251, 10], [251, 10, 18], [10, 18, 664], [18, 664, 109], [664, 109, 665], [109, 665, 666], [665, 666, 23], [666, 23, 667], [23, 667, 9], [667, 9, 13], [9, 13, 51], [13, 51, 243], [51, 243, 196], [243, 196, 27], [196, 27, 14], [27, 14, 143], [14, 143, 34], [143, 34, 14], [34, 14, 1], [14, 1, 94], [1, 94, 49], [94, 49, 100], [49, 100, 265], [100, 265, 5], [265, 5, 266], [5, 266, 668], [266, 668, 669], [668, 669, 670], [669, 670, 1], [670, 1, 22], [1, 22, 671], [22, 671, 1], [671, 1, 672], [1, 672, 67], [672, 67, 1], [67, 1, 673], [1, 673, 2], [673, 2, 1], [2, 1, 674], [1, 674, 31], [674, 31, 8], [31, 8, 140], [8, 140, 675], [140, 675, 107], [675, 107, 29], [107, 29, 10], [29, 10, 676], [10, 676, 109], [676, 109, 217], [109, 217, 677], [217, 677, 9], [677, 9, 6], [9, 6, 259], [6, 259, 12], [259, 12, 160], [12, 160, 6], [160, 6, 27], [6, 27, 678], [27, 678, 679], [678, 679, 680], [679, 680, 44], [680, 44, 681], [44, 681, 682], [681, 682, 24], [682, 24, 4], [24, 4, 100], [4, 100, 265], [100, 265, 266], [265, 266, 267], [266, 267, 80], [267, 80, 76], [80, 76, 158], [76, 158, 683], [158, 683, 109], [683, 109, 684], [109, 684, 11], [684, 11, 6], [11, 6, 159], [6, 159, 161], [159, 161, 12], [161, 12, 4], [12, 4, 100], [4, 100, 198], [100, 198, 267], [198, 267, 63], [267, 63, 254], [63, 254, 685], [254, 685, 686], [685, 686, 687], [686, 687, 21], [687, 21, 268], [21, 268, 64], [268, 64, 79], [64, 79, 16], [79, 16, 688], [16, 688, 3], [688, 3, 689], [3, 689, 224], [689, 224, 56], [224, 56, 35], [56, 35, 70], [35, 70, 690], [70, 690, 691], [690, 691, 55], [691, 55, 261], [55, 261, 32], [261, 32, 70], [32, 70, 692], [70, 692, 693], [692, 693, 80], [693, 80, 694], [80, 694, 56], [694, 56, 695], [56, 695, 14], [695, 14, 70], [14, 70, 269], [70, 269, 56], [269, 56, 35], [56, 35, 1], [35, 1, 162], [1, 162, 156], [162, 156, 34], [156, 34, 56], [34, 56, 35], [56, 35, 64], [35, 64, 162], [64, 162, 9], [162, 9, 696], [9, 696, 697], [696, 697, 270], [697, 270, 210], [270, 210, 3], [210, 3, 35], [3, 35, 698], [35, 698, 1], [698, 1, 699], [1, 699, 2], [699, 2, 1], [2, 1, 700], [1, 700, 6], [700, 6, 12], [6, 12, 107], [12, 107, 242], [107, 242, 1], [242, 1, 269], [1, 269, 263], [269, 263, 3], [263, 3, 271], [3, 271, 3], [271, 3, 23], [3, 23, 162], [23, 162, 701], [162, 701, 44], [701, 44, 10], [44, 10, 702], [10, 702, 3], [702, 3, 271], [3, 271, 3], [271, 3, 1], [3, 1, 23], [1, 23, 22], [23, 22, 10], [22, 10, 13], [10, 13, 158], [13, 158, 17], [158, 17, 155], [17, 155, 3], [155, 3, 237], [3, 237, 703], [237, 703, 19], [703, 19, 9], [19, 9, 9], [9, 9, 6], [9, 6, 49], [6, 49, 3], [49, 3, 704], [3, 704, 1], [704, 1, 705], [1, 705, 706], [705, 706, 9], [706, 9, 6], [9, 6, 4], [6, 4, 49], [4, 49, 10], [49, 10, 707], [10, 707, 58], [707, 58, 1], [58, 1, 101], [1, 101, 5], [101, 5, 14], [5, 14, 1], [14, 1, 708], [1, 708, 2], [708, 2, 8], [2, 8, 41], [8, 41, 200], [41, 200, 1], [200, 1, 11], [1, 11, 17], [11, 17, 709], [17, 709, 106], [709, 106, 272], [106, 272, 1], [272, 1, 710], [1, 710, 9], [710, 9, 24], [9, 24, 711], [24, 711, 273], [711, 273, 58], [273, 58, 1], [58, 1, 712], [1, 712, 181], [712, 181, 11], [181, 11, 6], [11, 6, 4], [6, 4, 22], [4, 22, 12], [22, 12, 252], [12, 252, 1], [252, 1, 713], [1, 713, 7], [713, 7, 1], [7, 1, 128], [1, 128, 714], [128, 714, 9], [714, 9, 50], [9, 50, 715], [50, 715, 1], [715, 1, 716], [1, 716, 2], [716, 2, 1], [2, 1, 41], [1, 41, 8], [41, 8, 22], [8, 22, 27], [22, 27, 182], [27, 182, 274], [182, 274, 717], [274, 717, 3], [717, 3, 718], [3, 718, 90], [718, 90, 20], [90, 20, 52], [20, 52, 50], [52, 50, 274], [50, 274, 1], [274, 1, 139], [1, 139, 3], [139, 3, 1], [3, 1, 719], [1, 719, 20], [719, 20, 3], [20, 3, 720], [3, 720, 38], [720, 38, 20], [38, 20, 18], [20, 18, 721], [18, 721, 19], [721, 19, 275], [19, 275, 157], [275, 157, 276], [157, 276, 26], [276, 26, 722], [26, 722, 723], [722, 723, 55], [723, 55, 724], [55, 724, 725], [724, 725, 1], [725, 1, 726], [1, 726, 727], [726, 727, 728], [727, 728, 59], [728, 59, 18], [59, 18, 15], [18, 15, 729], [15, 729, 19], [729, 19, 275], [19, 275, 157], [275, 157, 34], [157, 34, 59], [34, 59, 13], [59, 13, 35], [13, 35, 4], [35, 4, 730], [4, 730, 30], [730, 30, 175], [30, 175, 21], [175, 21, 63], [21, 63, 119], [63, 119, 731], [119, 731, 12], [731, 12, 732], [12, 732, 733], [732, 733, 6], [733, 6, 48], [6, 48, 64], [48, 64, 13], [64, 13, 17], [13, 17, 734], [17, 734, 5], [734, 5, 8], [5, 8, 735], [8, 735, 2], [735, 2, 1], [2, 1, 41], [1, 41, 13], [41, 13, 736], [13, 736, 247], [736, 247, 15], [247, 15, 1], [15, 1, 20], [1, 20, 2], [20, 2, 25], [2, 25, 13], [25, 13, 35], [13, 35, 99], [35, 99, 139], [99, 139, 14], [139, 14, 101], [14, 101, 11], [101, 11, 6], [11, 6, 96], [6, 96, 38], [96, 38, 102], [38, 102, 737], [102, 737, 6], [737, 6, 738], [6, 738, 32], [738, 32, 1], [32, 1, 62], [1, 62, 5], [62, 5, 1], [5, 1, 20], [1, 20, 113], [20, 113, 103], [113, 103, 10], [103, 10, 276], [10, 276, 26], [276, 26, 9], [26, 9, 28], [9, 28, 88], [28, 88, 102], [88, 102, 1], [102, 1, 146], [1, 146, 2], [146, 2, 73], [2, 73, 277], [73, 277, 18], [277, 18, 739], [18, 739, 147], [739, 147, 26], [147, 26, 1], [26, 1, 62], [1, 62, 5], [62, 5, 7], [5, 7, 1], [7, 1, 20], [1, 20, 103], [20, 103, 59], [103, 59, 51], [59, 51, 7], [51, 7, 740], [7, 740, 14], [740, 14, 25], [14, 25, 190], [25, 190, 11], [190, 11, 14], [11, 14, 1], [14, 1, 94], [1, 94, 49], [94, 49, 1], [49, 1, 73], [1, 73, 5], [73, 5, 1], [5, 1, 60], [1, 60, 214], [60, 214, 13], [214, 13, 51], [13, 51, 113], [51, 113, 43], [113, 43, 1], [43, 1, 33], [1, 33, 71], [33, 71, 8], [71, 8, 6], [8, 6, 98], [6, 98, 143], [98, 143, 2], [143, 2, 741], [2, 741, 742], [741, 742, 743], [742, 743, 744], [743, 744, 78], [744, 78, 273], [78, 273, 13], [273, 13, 17], [13, 17, 745], [17, 745, 32], [745, 32, 1], [32, 1, 746], [1, 746, 227], [746, 227, 19], [227, 19, 4], [19, 4, 93], [4, 93, 203], [93, 203, 7], [203, 7, 747], [7, 747, 25], [747, 25, 13], [25, 13, 748], [13, 748, 1], [748, 1, 749], [1, 749, 750], [749, 750, 751], [750, 751, 2], [751, 2, 752], [2, 752, 205], [752, 205, 10], [205, 10, 16], [10, 16, 753], [16, 753, 114], [753, 114, 4], [114, 4, 278], [4, 278, 3], [278, 3, 754], [3, 754, 4], [754, 4, 23], [4, 23, 25], [23, 25, 1], [25, 1, 23], [1, 23, 25], [23, 25, 46], [25, 46, 6], [46, 6, 1], [6, 1, 755], [1, 755, 2], [755, 2, 38], [2, 38, 177], [38, 177, 115], [177, 115, 756], [115, 756, 757], [756, 757, 758], [757, 758, 759], [758, 759, 5], [759, 5, 760], [5, 760, 11], [760, 11, 40], [11, 40, 761], [40, 761, 4], [761, 4, 762], [4, 762, 145], [762, 145, 7], [145, 7, 238], [7, 238, 39], [238, 39, 763], [39, 763, 1], [763, 1, 25], [1, 25, 2], [25, 2, 38], [2, 38, 170], [38, 170, 1], [170, 1, 764], [1, 764, 279], [764, 279, 2], [279, 2, 765], [2, 765, 766], [765, 766, 230], [766, 230, 767], [230, 767, 768], [767, 768, 769], [768, 769, 1], [769, 1, 770], [1, 770, 2], [770, 2, 1], [2, 1, 77], [1, 77, 1], [77, 1, 11], [1, 11, 92], [11, 92, 24], [92, 24, 771], [24, 771, 3], [771, 3, 772], [3, 772, 9], [772, 9, 1], [9, 1, 279], [1, 279, 37], [279, 37, 1], [37, 1, 280], [1, 280, 773], [280, 773, 3], [773, 3, 774], [3, 774, 39], [774, 39, 272], [39, 272, 29], [272, 29, 9], [29, 9, 775], [9, 775, 280], [775, 280, 9], [280, 9, 776], [9, 776, 12], [776, 12, 10], [12, 10, 15], [10, 15, 777], [15, 777, 16], [777, 16, 137], [16, 137, 778], [137, 778, 779], [778, 779, 5], [779, 5, 780], [5, 780, 38], [780, 38, 781], [38, 781, 782], [781, 782, 17], [782, 17, 58], [17, 58, 1], [58, 1, 33], [1, 33, 783], [33, 783, 159], [783, 159, 12], [159, 12, 160], [12, 160, 784], [160, 784, 5], [784, 5, 785], [5, 785, 43], [785, 43, 33], [43, 33, 786], [33, 786, 11], [786, 11, 6], [11, 6, 1], [6, 1, 65], [1, 65, 167], [65, 167, 787], [167, 787, 14], [787, 14, 23], [14, 23, 25], [23, 25, 4], [25, 4, 788], [4, 788, 54], [788, 54, 22], [54, 22, 14], [22, 14, 1], [14, 1, 281], [1, 281, 25], [281, 25, 11], [25, 11, 6], [11, 6, 1], [6, 1, 54], [1, 54, 22], [54, 22, 2], [22, 2, 23], [2, 23, 25], [23, 25, 2], [25, 2, 1], [2, 1, 281], [1, 281, 25], [281, 25, 9], [25, 9, 6], [9, 6, 27], [6, 27, 789], [27, 789, 790], [789, 790, 2], [790, 2, 282], [2, 282, 153], [282, 153, 9], [153, 9, 6], [9, 6, 791], [6, 791, 77], [791, 77, 2], [77, 2, 282], [2, 282, 153], [282, 153, 11], [153, 11, 6], [11, 6, 27], [6, 27, 121], [27, 121, 4], [121, 4, 30], [4, 30, 135], [30, 135, 52], [135, 52, 9], [52, 9, 6], [9, 6, 4], [6, 4, 228], [4, 228, 253], [228, 253, 43], [253, 43, 66], [43, 66, 142], [66, 142, 219], [142, 219, 1], [219, 1, 54], [1, 54, 792], [54, 792, 9], [792, 9, 6], [9, 6, 50], [6, 50, 793], [50, 793, 1], [793, 1, 77], [1, 77, 43], [77, 43, 794], [43, 794, 142], [794, 142, 9], [142, 9, 6], [9, 6, 4], [6, 4, 795], [4, 795, 14], [795, 14, 255], [14, 255, 250], [255, 250, 54], [250, 54, 22], [54, 22, 7], [22, 7, 796], [7, 796, 797], [796, 797, 11], [797, 11, 798], [11, 798, 17], [798, 17, 799], [17, 799, 28], [799, 28, 800], [28, 800, 5], [800, 5, 277], [5, 277, 30], [277, 30, 52], [30, 52, 1], [52, 1, 264], [1, 264, 2], [264, 2, 11], [2, 11, 13], [11, 13, 801], [13, 801, 86], [801, 86, 9], [86, 9, 3], [9, 3, 17], [3, 17, 283], [17, 283, 5], [283, 5, 161], [5, 161, 30], [161, 30, 14], [30, 14, 1], [14, 1, 178], [1, 178, 2], [178, 2, 25], [2, 25, 283], [25, 283, 72], [283, 72, 9], [72, 9, 802], [9, 802, 39], [802, 39, 37], [39, 37, 803], [37, 803, 2], [803, 2, 54], [2, 54, 161], [54, 161, 72], [161, 72, 9], [72, 9, 6], [9, 6, 804], [6, 804, 229], [804, 229, 805], [229, 805, 25], [805, 25, 48], [25, 48, 13], [48, 13, 17], [13, 17, 42], [17, 42, 36], [42, 36, 42], [36, 42, 30], [42, 30, 5], [30, 5, 30], [5, 30, 22], [30, 22, 40], [22, 40, 17], [40, 17, 806], [17, 806, 7], [806, 7, 4], [7, 4, 807], [4, 807, 284], [807, 284, 7], [284, 7, 15], [7, 15, 1], [15, 1, 20], [1, 20, 21], [20, 21, 124], [21, 124, 808], [124, 808, 12], [808, 12, 10], [12, 10, 15], [10, 15, 13], [15, 13, 17], [13, 17, 155], [17, 155, 3], [155, 3, 104], [3, 104, 9], [104, 9, 106], [9, 106, 7], [106, 7, 4], [7, 4, 123], [4, 123, 284], [123, 284, 270], [284, 270, 809], [270, 809, 58], [809, 58, 8], [58, 8, 183], [8, 183, 118], [183, 118, 21], [118, 21, 810], [21, 810, 3], [810, 3, 811], [3, 811, 1], [811, 1, 145], [1, 145, 2], [145, 2, 1], [2, 1, 111], [1, 111, 82], [111, 82, 79], [82, 79, 812], [79, 812, 1], [812, 1, 813], [1, 813, 814], [813, 814, 80], [814, 80, 24], [80, 24, 815], [24, 815, 816], [815, 816, 817], [816, 817, 26], [817, 26, 136], [26, 136, 818], [136, 818, 2], [818, 2, 1], [2, 1, 819], [1, 819, 2], [819, 2, 8], [2, 8, 54], [8, 54, 135], [54, 135, 5], [135, 5, 820], [5, 820, 1], [820, 1, 92], [1, 92, 19], [92, 19, 110], [19, 110, 821], [110, 821, 223], [821, 223, 43], [223, 43, 8], [43, 8, 116], [8, 116, 67], [116, 67, 110], [67, 110, 822], [110, 822, 823], [822, 823, 160], [823, 160, 824], [160, 824, 825], [824, 825, 1], [825, 1, 278], [1, 278, 21], [278, 21, 124], [21, 124, 826], [124, 826, 827], [826, 827, 3], [827, 3, 828], [3, 828, 14], [828, 14, 110], [14, 110, 191], [110, 191, 5], [191, 5, 110], [5, 110, 120], [110, 120, 194], [120, 194, 829], [194, 829, 1], [829, 1, 134], [1, 134, 117], [134, 117, 2], [117, 2, 11], [2, 11, 19], [11, 19, 23], [19, 23, 830], [23, 830, 5], [830, 5, 831], [5, 831, 10], [831, 10, 40], [10, 40, 104], [40, 104, 1], [104, 1, 36], [1, 36, 43], [36, 43, 832], [43, 832, 66], [832, 66, 101], [66, 101, 19], [101, 19, 151], [19, 151, 833], [151, 833, 21], [833, 21, 74], [21, 74, 206], [74, 206, 193], [206, 193, 91], [193, 91, 834], [91, 834, 3], [834, 3, 15], [3, 15, 79], [15, 79, 57], [79, 57, 4], [57, 4, 212], [4, 212, 2], [212, 2, 8], [2, 8, 835], [8, 835, 5], [835, 5, 268], [5, 268, 1], [268, 1, 111], [1, 111, 82], [111, 82, 3], [82, 3, 836], [3, 836, 39], [836, 39, 837], [39, 837, 37], [837, 37, 84]]\n"
     ]
    }
   ],
   "source": [
    "sequences = list()\n",
    "for i in range(2, len(encoded)):\n",
    "\tsequence = encoded[i-2:i+1]\n",
    "\tsequences.append(sequence)\n",
    "print('Total Sequences: %d' % len(sequences))\n",
    "print(\"\\n\",sequences)"
   ]
  },
  {
   "cell_type": "code",
   "execution_count": 34,
   "metadata": {},
   "outputs": [
    {
     "name": "stdout",
     "output_type": "stream",
     "text": [
      "3\n",
      "<class 'list'>\n",
      "Max Sequence Length: 3\n"
     ]
    }
   ],
   "source": [
    "# pad sequences\n",
    "max_length = max([len(seq) for seq in sequences])\n",
    "print(max_length)\n",
    "print(type(sequences))\n",
    "\n",
    "import numpy as np\n",
    "sequences = pad_sequences(sequences, maxlen=max_length,padding='pre')\n",
    "\n",
    "print('Max Sequence Length: %d' % max_length)"
   ]
  },
  {
   "cell_type": "code",
   "execution_count": 35,
   "metadata": {
    "collapsed": true
   },
   "outputs": [],
   "source": [
    "# split into input and output elements\n",
    "sequences = array(sequences)\n",
    "X, y = sequences[:,:-1],sequences[:,-1]\n",
    "y = to_categorical(y, num_classes=vocab_size)"
   ]
  },
  {
   "cell_type": "code",
   "execution_count": 36,
   "metadata": {},
   "outputs": [
    {
     "name": "stdout",
     "output_type": "stream",
     "text": [
      "_________________________________________________________________\n",
      "Layer (type)                 Output Shape              Param #   \n",
      "=================================================================\n",
      "embedding_2 (Embedding)      (None, 2, 128)            107264    \n",
      "_________________________________________________________________\n",
      "lstm_2 (LSTM)                (None, 200)               263200    \n",
      "_________________________________________________________________\n",
      "dense_2 (Dense)              (None, 838)               168438    \n",
      "=================================================================\n",
      "Total params: 538,902\n",
      "Trainable params: 538,902\n",
      "Non-trainable params: 0\n",
      "_________________________________________________________________\n",
      "None\n"
     ]
    }
   ],
   "source": [
    "model = Sequential()\n",
    "model.add(Embedding(vocab_size,128, input_length=max_length-1))\n",
    "model.add(LSTM(200))\n",
    "model.add(Dense(vocab_size, activation='softmax'))\n",
    "print(model.summary())"
   ]
  },
  {
   "cell_type": "code",
   "execution_count": 37,
   "metadata": {},
   "outputs": [],
   "source": [
    "model.compile(loss='categorical_crossentropy', optimizer='adam', metrics=['accuracy'])\n"
   ]
  },
  {
   "cell_type": "code",
   "execution_count": 38,
   "metadata": {},
   "outputs": [
    {
     "name": "stdout",
     "output_type": "stream",
     "text": [
      "Train on 2293 samples, validate on 121 samples\n",
      "Epoch 1/150\n",
      "2293/2293 [==============================] - 11s 5ms/step - loss: 6.5720 - acc: 0.0680 - val_loss: 6.3580 - val_acc: 0.0744\n",
      "Epoch 2/150\n",
      "2293/2293 [==============================] - 4s 2ms/step - loss: 5.8465 - acc: 0.0733 - val_loss: 6.4859 - val_acc: 0.0744\n",
      "Epoch 3/150\n",
      "2293/2293 [==============================] - 2s 926us/step - loss: 5.6116 - acc: 0.0754 - val_loss: 6.6328 - val_acc: 0.0826\n",
      "Epoch 4/150\n",
      "2293/2293 [==============================] - 2s 780us/step - loss: 5.4674 - acc: 0.0885 - val_loss: 6.6313 - val_acc: 0.0992\n",
      "Epoch 5/150\n",
      "2293/2293 [==============================] - 2s 755us/step - loss: 5.3064 - acc: 0.0977 - val_loss: 6.5416 - val_acc: 0.1074\n",
      "Epoch 6/150\n",
      "2293/2293 [==============================] - 2s 757us/step - loss: 5.1249 - acc: 0.1108 - val_loss: 6.5100 - val_acc: 0.1074\n",
      "Epoch 7/150\n",
      "2293/2293 [==============================] - 2s 733us/step - loss: 4.9097 - acc: 0.1269 - val_loss: 6.6217 - val_acc: 0.1074\n",
      "Epoch 8/150\n",
      "2293/2293 [==============================] - 2s 780us/step - loss: 4.6996 - acc: 0.1426 - val_loss: 6.7578 - val_acc: 0.0992\n",
      "Epoch 9/150\n",
      "2293/2293 [==============================] - 2s 752us/step - loss: 4.4820 - acc: 0.1596 - val_loss: 6.9208 - val_acc: 0.1074\n",
      "Epoch 10/150\n",
      "2293/2293 [==============================] - 2s 771us/step - loss: 4.2541 - acc: 0.1775 - val_loss: 7.0263 - val_acc: 0.0826\n",
      "Epoch 11/150\n",
      "2293/2293 [==============================] - 2s 740us/step - loss: 4.0063 - acc: 0.2054 - val_loss: 7.1968 - val_acc: 0.0744\n",
      "Epoch 12/150\n",
      "2293/2293 [==============================] - 2s 761us/step - loss: 3.7580 - acc: 0.2386 - val_loss: 7.3775 - val_acc: 0.0744\n",
      "Epoch 13/150\n",
      "2293/2293 [==============================] - 2s 765us/step - loss: 3.4967 - acc: 0.2686 - val_loss: 7.4026 - val_acc: 0.0661\n",
      "Epoch 14/150\n",
      "2293/2293 [==============================] - 2s 765us/step - loss: 3.2320 - acc: 0.3092 - val_loss: 7.6601 - val_acc: 0.0661\n",
      "Epoch 15/150\n",
      "2293/2293 [==============================] - 2s 764us/step - loss: 2.9769 - acc: 0.3428 - val_loss: 7.7163 - val_acc: 0.0496\n",
      "Epoch 16/150\n",
      "2293/2293 [==============================] - 2s 765us/step - loss: 2.7144 - acc: 0.4008 - val_loss: 7.8565 - val_acc: 0.0579\n",
      "Epoch 17/150\n",
      "2293/2293 [==============================] - 2s 795us/step - loss: 2.4707 - acc: 0.4339 - val_loss: 8.0483 - val_acc: 0.0661\n",
      "Epoch 18/150\n",
      "2293/2293 [==============================] - 2s 795us/step - loss: 2.2383 - acc: 0.4867 - val_loss: 8.1306 - val_acc: 0.0413\n",
      "Epoch 19/150\n",
      "2293/2293 [==============================] - 2s 766us/step - loss: 2.0208 - acc: 0.5307 - val_loss: 8.3076 - val_acc: 0.0496\n",
      "Epoch 20/150\n",
      "2293/2293 [==============================] - 2s 787us/step - loss: 1.8247 - acc: 0.5848 - val_loss: 8.4461 - val_acc: 0.0496\n",
      "Epoch 21/150\n",
      "2293/2293 [==============================] - 2s 797us/step - loss: 1.6455 - acc: 0.6206 - val_loss: 8.5265 - val_acc: 0.0331\n",
      "Epoch 22/150\n",
      "2293/2293 [==============================] - 2s 769us/step - loss: 1.4883 - acc: 0.6577 - val_loss: 8.6901 - val_acc: 0.0496\n",
      "Epoch 23/150\n",
      "2293/2293 [==============================] - 2s 838us/step - loss: 1.3495 - acc: 0.6808 - val_loss: 8.7548 - val_acc: 0.0413\n",
      "Epoch 24/150\n",
      "2293/2293 [==============================] - 2s 868us/step - loss: 1.2268 - acc: 0.7139 - val_loss: 8.9078 - val_acc: 0.0413\n",
      "Epoch 25/150\n",
      "2293/2293 [==============================] - 2s 825us/step - loss: 1.1192 - acc: 0.7396 - val_loss: 8.9753 - val_acc: 0.0413\n",
      "Epoch 26/150\n",
      "2293/2293 [==============================] - 2s 757us/step - loss: 1.0243 - acc: 0.7492 - val_loss: 9.0866 - val_acc: 0.0413\n",
      "Epoch 27/150\n",
      "2293/2293 [==============================] - 2s 785us/step - loss: 0.9500 - acc: 0.7619 - val_loss: 9.1320 - val_acc: 0.0496\n",
      "Epoch 28/150\n",
      "2293/2293 [==============================] - 2s 857us/step - loss: 0.8760 - acc: 0.7715 - val_loss: 9.2079 - val_acc: 0.0496\n",
      "Epoch 29/150\n",
      "2293/2293 [==============================] - 2s 781us/step - loss: 0.8146 - acc: 0.7780 - val_loss: 9.3046 - val_acc: 0.0496\n",
      "Epoch 30/150\n",
      "2293/2293 [==============================] - 2s 760us/step - loss: 0.7627 - acc: 0.7889 - val_loss: 9.3859 - val_acc: 0.0496\n",
      "Epoch 31/150\n",
      "2293/2293 [==============================] - 2s 747us/step - loss: 0.7176 - acc: 0.7933 - val_loss: 9.4444 - val_acc: 0.0496\n",
      "Epoch 32/150\n",
      "2293/2293 [==============================] - 2s 752us/step - loss: 0.6791 - acc: 0.7976 - val_loss: 9.4717 - val_acc: 0.0579\n",
      "Epoch 33/150\n",
      "2293/2293 [==============================] - 2s 749us/step - loss: 0.6472 - acc: 0.7972 - val_loss: 9.5499 - val_acc: 0.0579\n",
      "Epoch 34/150\n",
      "2293/2293 [==============================] - 2s 745us/step - loss: 0.6194 - acc: 0.7985 - val_loss: 9.6133 - val_acc: 0.0496\n",
      "Epoch 35/150\n",
      "2293/2293 [==============================] - 2s 748us/step - loss: 0.5965 - acc: 0.8016 - val_loss: 9.6307 - val_acc: 0.0496\n",
      "Epoch 36/150\n",
      "2293/2293 [==============================] - 2s 759us/step - loss: 0.5702 - acc: 0.7998 - val_loss: 9.6513 - val_acc: 0.0579\n",
      "Epoch 37/150\n",
      "2293/2293 [==============================] - 2s 742us/step - loss: 0.5523 - acc: 0.8020 - val_loss: 9.7043 - val_acc: 0.0496\n",
      "Epoch 38/150\n",
      "2293/2293 [==============================] - 2s 783us/step - loss: 0.5414 - acc: 0.8051 - val_loss: 9.7449 - val_acc: 0.0496\n",
      "Epoch 39/150\n",
      "2293/2293 [==============================] - 2s 741us/step - loss: 0.5277 - acc: 0.8064 - val_loss: 9.7843 - val_acc: 0.0496\n",
      "Epoch 40/150\n",
      "2293/2293 [==============================] - 2s 741us/step - loss: 0.5100 - acc: 0.8081 - val_loss: 9.8073 - val_acc: 0.0579\n",
      "Epoch 41/150\n",
      "2293/2293 [==============================] - 2s 720us/step - loss: 0.5020 - acc: 0.8024 - val_loss: 9.8596 - val_acc: 0.0496\n",
      "Epoch 42/150\n",
      "2293/2293 [==============================] - 2s 739us/step - loss: 0.4904 - acc: 0.8099 - val_loss: 9.8859 - val_acc: 0.0579\n",
      "Epoch 43/150\n",
      "2293/2293 [==============================] - 2s 728us/step - loss: 0.4821 - acc: 0.8094 - val_loss: 9.9197 - val_acc: 0.0579\n",
      "Epoch 44/150\n",
      "2293/2293 [==============================] - 2s 731us/step - loss: 0.4766 - acc: 0.8064 - val_loss: 9.9056 - val_acc: 0.0579\n",
      "Epoch 45/150\n",
      "2293/2293 [==============================] - 2s 743us/step - loss: 0.4691 - acc: 0.8116 - val_loss: 9.9315 - val_acc: 0.0661\n",
      "Epoch 46/150\n",
      "2293/2293 [==============================] - 2s 757us/step - loss: 0.4625 - acc: 0.8103 - val_loss: 9.9724 - val_acc: 0.0579\n",
      "Epoch 47/150\n",
      "2293/2293 [==============================] - 2s 738us/step - loss: 0.4571 - acc: 0.8055 - val_loss: 9.9837 - val_acc: 0.0661\n",
      "Epoch 48/150\n",
      "2293/2293 [==============================] - 2s 776us/step - loss: 0.4547 - acc: 0.8046 - val_loss: 10.0139 - val_acc: 0.0579\n",
      "Epoch 49/150\n",
      "2293/2293 [==============================] - 2s 745us/step - loss: 0.4478 - acc: 0.8020 - val_loss: 10.0120 - val_acc: 0.0579\n",
      "Epoch 50/150\n",
      "2293/2293 [==============================] - 2s 743us/step - loss: 0.4445 - acc: 0.8024 - val_loss: 10.0151 - val_acc: 0.0496\n",
      "Epoch 51/150\n",
      "2293/2293 [==============================] - 2s 743us/step - loss: 0.4381 - acc: 0.8046 - val_loss: 10.0757 - val_acc: 0.0579\n",
      "Epoch 52/150\n",
      "2293/2293 [==============================] - 2s 719us/step - loss: 0.4366 - acc: 0.8007 - val_loss: 10.0744 - val_acc: 0.0661\n",
      "Epoch 53/150\n",
      "2293/2293 [==============================] - 2s 741us/step - loss: 0.4337 - acc: 0.8042 - val_loss: 10.0809 - val_acc: 0.0661\n",
      "Epoch 54/150\n",
      "2293/2293 [==============================] - 2s 779us/step - loss: 0.4310 - acc: 0.8042 - val_loss: 10.1257 - val_acc: 0.0496\n",
      "Epoch 55/150\n",
      "2293/2293 [==============================] - 2s 749us/step - loss: 0.4256 - acc: 0.8072 - val_loss: 10.1208 - val_acc: 0.0579\n",
      "Epoch 56/150\n",
      "2293/2293 [==============================] - 2s 740us/step - loss: 0.4206 - acc: 0.8077 - val_loss: 10.1420 - val_acc: 0.0496\n",
      "Epoch 57/150\n",
      "2293/2293 [==============================] - 2s 747us/step - loss: 0.4234 - acc: 0.8064 - val_loss: 10.1583 - val_acc: 0.0579\n",
      "Epoch 58/150\n",
      "2293/2293 [==============================] - 2s 754us/step - loss: 0.4178 - acc: 0.8090 - val_loss: 10.1785 - val_acc: 0.0496\n",
      "Epoch 59/150\n",
      "2293/2293 [==============================] - 2s 751us/step - loss: 0.4163 - acc: 0.8077 - val_loss: 10.1833 - val_acc: 0.0579\n",
      "Epoch 60/150\n",
      "2293/2293 [==============================] - 2s 737us/step - loss: 0.4179 - acc: 0.8007 - val_loss: 10.2026 - val_acc: 0.0496\n",
      "Epoch 61/150\n",
      "2293/2293 [==============================] - 2s 725us/step - loss: 0.4103 - acc: 0.8072 - val_loss: 10.2073 - val_acc: 0.0579\n",
      "Epoch 62/150\n",
      "2293/2293 [==============================] - 2s 726us/step - loss: 0.4106 - acc: 0.8024 - val_loss: 10.2311 - val_acc: 0.0496\n",
      "Epoch 63/150\n",
      "2293/2293 [==============================] - 2s 741us/step - loss: 0.4097 - acc: 0.8112 - val_loss: 10.2249 - val_acc: 0.0579\n",
      "Epoch 64/150\n",
      "2293/2293 [==============================] - 2s 723us/step - loss: 0.4091 - acc: 0.8072 - val_loss: 10.2614 - val_acc: 0.0496\n",
      "Epoch 65/150\n",
      "2293/2293 [==============================] - 2s 725us/step - loss: 0.4036 - acc: 0.8042 - val_loss: 10.2697 - val_acc: 0.0579\n",
      "Epoch 66/150\n",
      "2293/2293 [==============================] - 2s 736us/step - loss: 0.4065 - acc: 0.8081 - val_loss: 10.2734 - val_acc: 0.0579\n",
      "Epoch 67/150\n",
      "2293/2293 [==============================] - 2s 766us/step - loss: 0.4045 - acc: 0.8046 - val_loss: 10.2940 - val_acc: 0.0496\n",
      "Epoch 68/150\n",
      "2293/2293 [==============================] - 2s 735us/step - loss: 0.4023 - acc: 0.8116 - val_loss: 10.2908 - val_acc: 0.0496\n",
      "Epoch 69/150\n",
      "2293/2293 [==============================] - 2s 733us/step - loss: 0.4024 - acc: 0.8029 - val_loss: 10.3076 - val_acc: 0.0496\n",
      "Epoch 70/150\n",
      "2293/2293 [==============================] - 2s 739us/step - loss: 0.4004 - acc: 0.8129 - val_loss: 10.3201 - val_acc: 0.0579\n",
      "Epoch 71/150\n",
      "2293/2293 [==============================] - 2s 738us/step - loss: 0.4003 - acc: 0.8033 - val_loss: 10.3290 - val_acc: 0.0496\n",
      "Epoch 72/150\n",
      "2293/2293 [==============================] - 2s 730us/step - loss: 0.4002 - acc: 0.8068 - val_loss: 10.3331 - val_acc: 0.0496\n",
      "Epoch 73/150\n",
      "2293/2293 [==============================] - 2s 725us/step - loss: 0.3990 - acc: 0.8020 - val_loss: 10.3510 - val_acc: 0.0579\n",
      "Epoch 74/150\n",
      "2293/2293 [==============================] - 2s 737us/step - loss: 0.3964 - acc: 0.8099 - val_loss: 10.3543 - val_acc: 0.0496\n",
      "Epoch 75/150\n",
      "2293/2293 [==============================] - 2s 720us/step - loss: 0.3939 - acc: 0.8085 - val_loss: 10.3417 - val_acc: 0.0579\n",
      "Epoch 76/150\n",
      "2293/2293 [==============================] - 2s 725us/step - loss: 0.3982 - acc: 0.8046 - val_loss: 10.3709 - val_acc: 0.0579\n",
      "Epoch 77/150\n",
      "2293/2293 [==============================] - 2s 742us/step - loss: 0.3938 - acc: 0.8046 - val_loss: 10.3742 - val_acc: 0.0579\n",
      "Epoch 78/150\n",
      "2293/2293 [==============================] - 2s 787us/step - loss: 0.3931 - acc: 0.8029 - val_loss: 10.3807 - val_acc: 0.0496\n",
      "Epoch 79/150\n",
      "2293/2293 [==============================] - 2s 807us/step - loss: 0.3916 - acc: 0.8024 - val_loss: 10.4145 - val_acc: 0.0496\n",
      "Epoch 80/150\n",
      "2293/2293 [==============================] - 2s 739us/step - loss: 0.3908 - acc: 0.8003 - val_loss: 10.4253 - val_acc: 0.0496\n",
      "Epoch 81/150\n",
      "2293/2293 [==============================] - 2s 738us/step - loss: 0.3914 - acc: 0.8081 - val_loss: 10.4166 - val_acc: 0.0579\n",
      "Epoch 82/150\n",
      "2293/2293 [==============================] - 2s 732us/step - loss: 0.3897 - acc: 0.8011 - val_loss: 10.4403 - val_acc: 0.0579\n",
      "Epoch 83/150\n",
      "2293/2293 [==============================] - 2s 724us/step - loss: 0.3902 - acc: 0.8003 - val_loss: 10.4313 - val_acc: 0.0579\n",
      "Epoch 84/150\n",
      "2293/2293 [==============================] - 2s 730us/step - loss: 0.3889 - acc: 0.8007 - val_loss: 10.4413 - val_acc: 0.0661\n",
      "Epoch 85/150\n",
      "2293/2293 [==============================] - 2s 728us/step - loss: 0.3900 - acc: 0.8055 - val_loss: 10.4412 - val_acc: 0.0496\n",
      "Epoch 86/150\n",
      "2293/2293 [==============================] - 2s 731us/step - loss: 0.3886 - acc: 0.8059 - val_loss: 10.4390 - val_acc: 0.0579\n",
      "Epoch 87/150\n",
      "2293/2293 [==============================] - 2s 731us/step - loss: 0.3874 - acc: 0.8007 - val_loss: 10.4634 - val_acc: 0.0579\n",
      "Epoch 88/150\n",
      "2293/2293 [==============================] - 2s 730us/step - loss: 0.3858 - acc: 0.8038 - val_loss: 10.4777 - val_acc: 0.0661\n",
      "Epoch 89/150\n",
      "2293/2293 [==============================] - 2s 731us/step - loss: 0.3839 - acc: 0.8099 - val_loss: 10.4935 - val_acc: 0.0661\n",
      "Epoch 90/150\n",
      "2293/2293 [==============================] - 2s 728us/step - loss: 0.3823 - acc: 0.8046 - val_loss: 10.5195 - val_acc: 0.0496\n",
      "Epoch 91/150\n",
      "2293/2293 [==============================] - 2s 754us/step - loss: 0.3841 - acc: 0.8120 - val_loss: 10.4891 - val_acc: 0.0496\n",
      "Epoch 92/150\n",
      "2293/2293 [==============================] - 2s 729us/step - loss: 0.3830 - acc: 0.8059 - val_loss: 10.5045 - val_acc: 0.0496\n",
      "Epoch 93/150\n",
      "2293/2293 [==============================] - 2s 723us/step - loss: 0.3842 - acc: 0.8016 - val_loss: 10.5170 - val_acc: 0.0496\n",
      "Epoch 94/150\n",
      "2293/2293 [==============================] - 2s 761us/step - loss: 0.3850 - acc: 0.8020 - val_loss: 10.5177 - val_acc: 0.0579\n",
      "Epoch 95/150\n",
      "2293/2293 [==============================] - 2s 748us/step - loss: 0.3812 - acc: 0.8099 - val_loss: 10.5373 - val_acc: 0.0496\n",
      "Epoch 96/150\n",
      "2293/2293 [==============================] - 2s 738us/step - loss: 0.3811 - acc: 0.8059 - val_loss: 10.5315 - val_acc: 0.0496\n",
      "Epoch 97/150\n",
      "2293/2293 [==============================] - 2s 748us/step - loss: 0.3813 - acc: 0.8042 - val_loss: 10.5374 - val_acc: 0.0496\n",
      "Epoch 98/150\n",
      "2293/2293 [==============================] - 2s 754us/step - loss: 0.3823 - acc: 0.8090 - val_loss: 10.5512 - val_acc: 0.0496\n",
      "Epoch 99/150\n",
      "2293/2293 [==============================] - 2s 817us/step - loss: 0.3804 - acc: 0.8042 - val_loss: 10.5519 - val_acc: 0.0579\n",
      "Epoch 100/150\n",
      "2293/2293 [==============================] - 2s 802us/step - loss: 0.3794 - acc: 0.8081 - val_loss: 10.5788 - val_acc: 0.0496\n",
      "Epoch 101/150\n",
      "2293/2293 [==============================] - 2s 843us/step - loss: 0.3790 - acc: 0.8072 - val_loss: 10.5707 - val_acc: 0.0496\n",
      "Epoch 102/150\n",
      "2293/2293 [==============================] - 2s 806us/step - loss: 0.3775 - acc: 0.8064 - val_loss: 10.5611 - val_acc: 0.0579\n",
      "Epoch 103/150\n",
      "2293/2293 [==============================] - 2s 807us/step - loss: 0.3779 - acc: 0.8099 - val_loss: 10.5829 - val_acc: 0.0579\n",
      "Epoch 104/150\n",
      "2293/2293 [==============================] - 2s 810us/step - loss: 0.3821 - acc: 0.7998 - val_loss: 10.5679 - val_acc: 0.0496\n",
      "Epoch 105/150\n",
      "2293/2293 [==============================] - 2s 806us/step - loss: 0.3797 - acc: 0.8094 - val_loss: 10.5923 - val_acc: 0.0496\n",
      "Epoch 106/150\n",
      "2293/2293 [==============================] - 2s 754us/step - loss: 0.3775 - acc: 0.8059 - val_loss: 10.6155 - val_acc: 0.0579\n",
      "Epoch 107/150\n",
      "2293/2293 [==============================] - 2s 732us/step - loss: 0.3773 - acc: 0.8059 - val_loss: 10.6187 - val_acc: 0.0496\n",
      "Epoch 108/150\n",
      "2293/2293 [==============================] - 2s 741us/step - loss: 0.3774 - acc: 0.8072 - val_loss: 10.6151 - val_acc: 0.0579\n",
      "Epoch 109/150\n",
      "2293/2293 [==============================] - 2s 731us/step - loss: 0.3753 - acc: 0.8033 - val_loss: 10.6316 - val_acc: 0.0496\n",
      "Epoch 110/150\n",
      "2293/2293 [==============================] - 2s 752us/step - loss: 0.3789 - acc: 0.8029 - val_loss: 10.6274 - val_acc: 0.0661\n",
      "Epoch 111/150\n",
      "2293/2293 [==============================] - 2s 721us/step - loss: 0.3777 - acc: 0.8042 - val_loss: 10.6175 - val_acc: 0.0496\n",
      "Epoch 112/150\n",
      "2293/2293 [==============================] - 2s 738us/step - loss: 0.3751 - acc: 0.8055 - val_loss: 10.6474 - val_acc: 0.0579\n",
      "Epoch 113/150\n",
      "2293/2293 [==============================] - 2s 755us/step - loss: 0.3753 - acc: 0.8116 - val_loss: 10.6452 - val_acc: 0.0661\n",
      "Epoch 114/150\n",
      "2293/2293 [==============================] - 2s 733us/step - loss: 0.3764 - acc: 0.8007 - val_loss: 10.6543 - val_acc: 0.0496\n",
      "Epoch 115/150\n",
      "2293/2293 [==============================] - 2s 740us/step - loss: 0.3727 - acc: 0.8059 - val_loss: 10.6789 - val_acc: 0.0579\n",
      "Epoch 116/150\n",
      "2293/2293 [==============================] - 2s 744us/step - loss: 0.3764 - acc: 0.8042 - val_loss: 10.6700 - val_acc: 0.0496\n",
      "Epoch 117/150\n",
      "2293/2293 [==============================] - 2s 717us/step - loss: 0.3720 - acc: 0.8090 - val_loss: 10.6783 - val_acc: 0.0579\n",
      "Epoch 118/150\n",
      "2293/2293 [==============================] - 2s 756us/step - loss: 0.3710 - acc: 0.8099 - val_loss: 10.6591 - val_acc: 0.0579\n",
      "Epoch 119/150\n",
      "2293/2293 [==============================] - 2s 754us/step - loss: 0.3715 - acc: 0.8033 - val_loss: 10.6779 - val_acc: 0.0496\n",
      "Epoch 120/150\n",
      "2293/2293 [==============================] - 2s 820us/step - loss: 0.3718 - acc: 0.8099 - val_loss: 10.6891 - val_acc: 0.0579\n",
      "Epoch 121/150\n",
      "2293/2293 [==============================] - 2s 793us/step - loss: 0.3724 - acc: 0.8072 - val_loss: 10.6798 - val_acc: 0.0579\n",
      "Epoch 122/150\n",
      "2293/2293 [==============================] - 2s 796us/step - loss: 0.3739 - acc: 0.8016 - val_loss: 10.7003 - val_acc: 0.0496\n",
      "Epoch 123/150\n",
      "2293/2293 [==============================] - 2s 838us/step - loss: 0.3721 - acc: 0.8068 - val_loss: 10.7077 - val_acc: 0.0496\n",
      "Epoch 124/150\n",
      "2293/2293 [==============================] - 2s 694us/step - loss: 0.3714 - acc: 0.8072 - val_loss: 10.7215 - val_acc: 0.0496\n",
      "Epoch 125/150\n",
      "2293/2293 [==============================] - 2s 737us/step - loss: 0.3714 - acc: 0.8072 - val_loss: 10.7127 - val_acc: 0.0496\n",
      "Epoch 126/150\n",
      "2293/2293 [==============================] - 2s 717us/step - loss: 0.3700 - acc: 0.8090 - val_loss: 10.7084 - val_acc: 0.0496\n",
      "Epoch 127/150\n",
      "2293/2293 [==============================] - 2s 710us/step - loss: 0.3696 - acc: 0.8107 - val_loss: 10.7141 - val_acc: 0.0496\n",
      "Epoch 128/150\n",
      "2293/2293 [==============================] - 2s 707us/step - loss: 0.3707 - acc: 0.8125 - val_loss: 10.7245 - val_acc: 0.0496\n",
      "Epoch 129/150\n",
      "2293/2293 [==============================] - 2s 706us/step - loss: 0.3708 - acc: 0.8042 - val_loss: 10.7156 - val_acc: 0.0496\n",
      "Epoch 130/150\n",
      "2293/2293 [==============================] - 2s 717us/step - loss: 0.3694 - acc: 0.8007 - val_loss: 10.7439 - val_acc: 0.0496\n",
      "Epoch 131/150\n",
      "2293/2293 [==============================] - 2s 800us/step - loss: 0.3691 - acc: 0.8094 - val_loss: 10.7312 - val_acc: 0.0496\n",
      "Epoch 132/150\n",
      "2293/2293 [==============================] - 2s 864us/step - loss: 0.3709 - acc: 0.8029 - val_loss: 10.7642 - val_acc: 0.0579\n",
      "Epoch 133/150\n",
      "2293/2293 [==============================] - 2s 814us/step - loss: 0.3700 - acc: 0.8094 - val_loss: 10.7574 - val_acc: 0.0579\n",
      "Epoch 134/150\n",
      "2293/2293 [==============================] - 2s 801us/step - loss: 0.3670 - acc: 0.8094 - val_loss: 10.7599 - val_acc: 0.0579\n",
      "Epoch 135/150\n",
      "2293/2293 [==============================] - 2s 824us/step - loss: 0.3685 - acc: 0.8072 - val_loss: 10.7688 - val_acc: 0.0496\n",
      "Epoch 136/150\n",
      "2293/2293 [==============================] - 2s 716us/step - loss: 0.3703 - acc: 0.8007 - val_loss: 10.7625 - val_acc: 0.0661\n",
      "Epoch 137/150\n",
      "2293/2293 [==============================] - 2s 766us/step - loss: 0.3683 - acc: 0.8055 - val_loss: 10.7673 - val_acc: 0.0496\n",
      "Epoch 138/150\n",
      "2293/2293 [==============================] - 2s 694us/step - loss: 0.3685 - acc: 0.8033 - val_loss: 10.7563 - val_acc: 0.0661\n",
      "Epoch 139/150\n",
      "2293/2293 [==============================] - 2s 709us/step - loss: 0.3675 - acc: 0.8068 - val_loss: 10.7723 - val_acc: 0.0661\n",
      "Epoch 140/150\n",
      "2293/2293 [==============================] - 2s 690us/step - loss: 0.3669 - acc: 0.8094 - val_loss: 10.7829 - val_acc: 0.0579\n",
      "Epoch 141/150\n",
      "2293/2293 [==============================] - 2s 700us/step - loss: 0.3671 - acc: 0.8033 - val_loss: 10.7766 - val_acc: 0.0661\n",
      "Epoch 142/150\n",
      "2293/2293 [==============================] - 2s 688us/step - loss: 0.3681 - acc: 0.8003 - val_loss: 10.7925 - val_acc: 0.0579\n",
      "Epoch 143/150\n",
      "2293/2293 [==============================] - 2s 705us/step - loss: 0.3636 - acc: 0.8112 - val_loss: 10.7843 - val_acc: 0.0496\n",
      "Epoch 144/150\n",
      "2293/2293 [==============================] - 2s 693us/step - loss: 0.3664 - acc: 0.8029 - val_loss: 10.7838 - val_acc: 0.0579\n",
      "Epoch 145/150\n",
      "2293/2293 [==============================] - 2s 709us/step - loss: 0.3679 - acc: 0.8072 - val_loss: 10.8035 - val_acc: 0.0579\n",
      "Epoch 146/150\n",
      "2293/2293 [==============================] - 2s 691us/step - loss: 0.3670 - acc: 0.8072 - val_loss: 10.7877 - val_acc: 0.0579\n",
      "Epoch 147/150\n",
      "2293/2293 [==============================] - 2s 764us/step - loss: 0.3677 - acc: 0.8099 - val_loss: 10.8030 - val_acc: 0.0496\n",
      "Epoch 148/150\n",
      "2293/2293 [==============================] - 2s 775us/step - loss: 0.3647 - acc: 0.8055 - val_loss: 10.8206 - val_acc: 0.0496\n",
      "Epoch 149/150\n",
      "2293/2293 [==============================] - 2s 836us/step - loss: 0.3656 - acc: 0.8051 - val_loss: 10.8028 - val_acc: 0.0579\n",
      "Epoch 150/150\n",
      "2293/2293 [==============================] - 2s 856us/step - loss: 0.3636 - acc: 0.8033 - val_loss: 10.8044 - val_acc: 0.0661\n"
     ]
    }
   ],
   "source": [
    "history=model.fit(X, y, validation_split=0.05,epochs=150, verbose=1, shuffle = True)"
   ]
  },
  {
   "cell_type": "code",
   "execution_count": 39,
   "metadata": {},
   "outputs": [
    {
     "name": "stdout",
     "output_type": "stream",
     "text": [
      "dict_keys(['acc', 'val_acc', 'val_loss', 'loss'])\n"
     ]
    }
   ],
   "source": [
    "import matplotlib.pyplot as plt\n",
    "import numpy\n",
    "\n",
    "print(history.history.keys())"
   ]
  },
  {
   "cell_type": "code",
   "execution_count": 40,
   "metadata": {
    "collapsed": true
   },
   "outputs": [],
   "source": [
    "# summarize history for accuracy\n",
    "plt.plot(history.history['acc'])\n",
    "plt.plot(history.history['val_acc'])\n",
    "plt.title('model accuracy')\n",
    "plt.ylabel('accuracy')\n",
    "plt.xlabel('epoch')\n",
    "plt.legend(['train', 'test'], loc='upper left')\n",
    "plt.show()"
   ]
  },
  {
   "cell_type": "code",
   "execution_count": 41,
   "metadata": {
    "collapsed": true
   },
   "outputs": [],
   "source": [
    "# summarize history for loss\n",
    "plt.plot(history.history['loss'])\n",
    "plt.plot(history.history['val_loss'])\n",
    "plt.title('model loss')\n",
    "plt.ylabel('loss')\n",
    "plt.xlabel('epoch')\n",
    "plt.legend(['train', 'test'], loc='upper left')\n",
    "plt.show()"
   ]
  },
  {
   "cell_type": "code",
   "execution_count": 15,
   "metadata": {},
   "outputs": [
    {
     "name": "stdout",
     "output_type": "stream",
     "text": [
      "people have to the\n"
     ]
    }
   ],
   "source": [
    "print(generate_seq(model, tokenizer, max_length-1, 'people', 3))"
   ]
  },
  {
   "cell_type": "code",
   "execution_count": 16,
   "metadata": {},
   "outputs": [
    {
     "name": "stdout",
     "output_type": "stream",
     "text": [
      "countries have to the states of the\n"
     ]
    }
   ],
   "source": [
    "print(generate_seq(model, tokenizer, max_length-1, 'countries have', 5))"
   ]
  },
  {
   "cell_type": "code",
   "execution_count": 17,
   "metadata": {},
   "outputs": [
    {
     "name": "stdout",
     "output_type": "stream",
     "text": [
      "as if new of the country of\n"
     ]
    }
   ],
   "source": [
    "print(generate_seq(model, tokenizer, max_length-1, 'as if', 5))"
   ]
  },
  {
   "cell_type": "code",
   "execution_count": 18,
   "metadata": {},
   "outputs": [
    {
     "name": "stdout",
     "output_type": "stream",
     "text": [
      "People are to to the states of the country of the country of the country of the country of the country of the country of the country of the country of the country of the country of the country of the country of the country of the country of the country of\n"
     ]
    }
   ],
   "source": [
    "print(generate_seq(model, tokenizer, max_length-1, 'People are', 50))"
   ]
  },
  {
   "cell_type": "code",
   "execution_count": 19,
   "metadata": {},
   "outputs": [
    {
     "name": "stdout",
     "output_type": "stream",
     "text": [
      "harry to the states of the country of the country of the country of the country of the country of the country of the country of the country of the country of the country of the country of the country of the country of the country of the country of the\n"
     ]
    }
   ],
   "source": [
    "print(generate_seq(model, tokenizer, max_length-1, 'harry', 50))"
   ]
  },
  {
   "cell_type": "code",
   "execution_count": 20,
   "metadata": {},
   "outputs": [
    {
     "name": "stdout",
     "output_type": "stream",
     "text": [
      "Saved model to disk\n"
     ]
    }
   ],
   "source": [
    "# serialize model to JSON\n",
    "model_json = model.to_json()\n",
    "with open(\"modelnamogst3word150.json\", \"w\") as json_file:\n",
    "    json_file.write(model_json)\n",
    "# serialize weights to HDF5\n",
    "model.save_weights(\"modelnamogst3word150.h5\")\n",
    "print(\"Saved model to disk\")"
   ]
  },
  {
   "cell_type": "code",
   "execution_count": 21,
   "metadata": {},
   "outputs": [
    {
     "name": "stdout",
     "output_type": "stream",
     "text": [
      "Loaded model from disk\n"
     ]
    }
   ],
   "source": [
    "# load json and create model\n",
    "from keras.models import model_from_json\n",
    "json_file = open('modelnamogst3word150.json', 'r')\n",
    "loaded_model_json = json_file.read()\n",
    "json_file.close()\n",
    "loaded_model = model_from_json(loaded_model_json)\n",
    "# load weights into new model\n",
    "loaded_model.load_weights(\"modelnamogst3word150.h5\")\n",
    "print(\"Loaded model from disk\")"
   ]
  },
  {
   "cell_type": "code",
   "execution_count": 22,
   "metadata": {
    "collapsed": true
   },
   "outputs": [],
   "source": [
    "# evaluate loaded model on test data\n",
    "loaded_model.compile(loss='binary_crossentropy', optimizer='rmsprop', metrics=['accuracy'])"
   ]
  },
  {
   "cell_type": "code",
   "execution_count": 23,
   "metadata": {},
   "outputs": [
    {
     "name": "stdout",
     "output_type": "stream",
     "text": [
      "important to the states of the country of the country of the country of the country of the country of the country of the country of the country of the country of the country of the country of the country of the country of the country of the country of the\n"
     ]
    }
   ],
   "source": [
    "print(generate_seq(model, tokenizer, max_length-1, 'important', 50))"
   ]
  },
  {
   "cell_type": "code",
   "execution_count": 24,
   "metadata": {},
   "outputs": [
    {
     "name": "stdout",
     "output_type": "stream",
     "text": [
      "United Nations to the states of the country of the country of the country of the country of the country of the country of the country of the country of the country of the country of the country of the country of the country of the country of the country of the country of the country of the country of the country of the country of the country of the country of the country of the country of the country of the country of the country of the country of the country of the country of the country of the country of\n"
     ]
    }
   ],
   "source": [
    "print(generate_seq(model, tokenizer, max_length-1, 'United Nations', 100))"
   ]
  },
  {
   "cell_type": "code",
   "execution_count": null,
   "metadata": {
    "collapsed": true
   },
   "outputs": [],
   "source": []
  }
 ],
 "metadata": {
  "anaconda-cloud": {},
  "kernelspec": {
   "display_name": "Python 3",
   "language": "python",
   "name": "python3"
  },
  "language_info": {
   "codemirror_mode": {
    "name": "ipython",
    "version": 3
   },
   "file_extension": ".py",
   "mimetype": "text/x-python",
   "name": "python",
   "nbconvert_exporter": "python",
   "pygments_lexer": "ipython3",
   "version": "3.5.2"
  }
 },
 "nbformat": 4,
 "nbformat_minor": 2
}
